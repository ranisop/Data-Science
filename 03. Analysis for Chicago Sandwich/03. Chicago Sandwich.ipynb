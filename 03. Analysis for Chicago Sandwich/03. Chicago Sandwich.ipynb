{
 "nbformat": 4,
 "nbformat_minor": 2,
 "metadata": {
  "language_info": {
   "name": "python",
   "codemirror_mode": {
    "name": "ipython",
    "version": 3
   },
   "version": "3.7.3-final"
  },
  "orig_nbformat": 2,
  "file_extension": ".py",
  "mimetype": "text/x-python",
  "name": "python",
  "npconvert_exporter": "python",
  "pygments_lexer": "ipython3",
  "version": 3,
  "kernelspec": {
   "name": "python37364bitbaseconda3a3cc25609b14e9b8eb568e130baf197",
   "display_name": "Python 3.7.3 64-bit ('base': conda)"
  }
 },
 "cells": [
  {
   "cell_type": "markdown",
   "execution_count": null,
   "metadata": {},
   "outputs": [],
   "source": [
    "# 3장. 시카고 샌드위치 맛집 분석"
   ]
  },
  {
   "cell_type": "markdown",
   "execution_count": null,
   "metadata": {},
   "outputs": [],
   "source": [
    "## 1. 실전: 시카고 샌드위치 맛집 소개 사이트에 접근하기\n",
    "\n",
    "https://www.chicagomag.com/Chicago-Magazine/November-2012/Best-Sandwiches-Chicago/"
   ]
  },
  {
   "cell_type": "code",
   "execution_count": 1,
   "metadata": {},
   "outputs": [],
   "source": [
    "from bs4 import BeautifulSoup\n",
    "from urllib.request import urlopen"
   ]
  },
  {
   "cell_type": "code",
   "execution_count": 2,
   "metadata": {},
   "outputs": [
    {
     "data": {
      "text/plain": "\">Comments  are moderated. We review them in an effort to remove foul language, commercial messages, abuse, and irrelevancies.</p>\n<div id=\"disqus_thread\" style=\"max-width: 600px;\"></div>\n<script type=\"text/javascript\">\n</script>\n<noscript>Enable JavaScript to view the <a href=\"http://disqus.com/?ref_noscript\">comments powered by Disqus.</a></noscript>\n</div>\n</div>\n<!-- Begin Sidebar -->\n<aside class=\"article long clearfix\">\n<div class=\"tablet-sidebar-left\">\n<a class=\"edit_from_site\" content_id=\"widget-marketplace-sponsor\" href=\"#\" media_id=\"83\">Edit Module</a>\n<style>\n\n.btn-widget-small {\n margin-bottom: 5px;}\n\n.amp {\ncolor: white;\nwebkit-transition: none .2s ease; \n}\n\nul.menu {\nbackground: black;\n   position:absolute;\n   /*height: 0px;*/\n   visibility: hidden;\n   margin-top: 0px;\n  background-color: black;\n  width: 300px;\n  padding: 0px 0px 10px;\nz-index: 9999999;\n}\n\nul.menu li a {\n   font-size: .75em;\n   font-style: italic;\n   text-align:center;\n}\n#btn-sponsored-features {\nposition: relative;\n}\n\n#btn-sponsored-features:hover .menu {\n  /*position: relative;*/\n  visibility: visible;\n\n  /*height: 80%;*/\n\n}\n\nul.menu a {\n-webkit-transition: none;-moz-transition:none;transition:none;\n}\n#marketing-widget {\nmargin-bottom: 20px;\n}\n</style>\n<div id=\"marketing-widget\">\n<div class=\"btn-widget-small btn-widget-small-reverse\">\n<a href=\"/marketplace\" onclick=\"ga('send',  'event','M&amp;C widget', 'Marketplace');\" style=\"display: inline-block; margin-right: 2px;\">Marketplace</a>\n</div>\n<div class=\"btn-widget-small btn-widget-small-reverse\">\n<a href=\"/Chicago-Magazine/Promotion/Events-and-Party-Pix/\" onclick=\"ga('send',  'event','M&amp;C widget', 'Events and Party Pix');\" style=\"display: inline-block; margin-right: 2px;\">Events <span class=\"new-amp\">&amp;</span> Party Pix</a>\n</div>\n<div class=\"btn-widget-small btn-widget-small-reverse\" id=\"btn-sponsored-features\"><span>Resource Guide</span>\n<ul class=\"menu\">\n<li><a href=\"http://www.chicagomag.com/Chicago-Magazine/Promotion/Chicago-Profiles/\" onclick=\"ga('send',  'event','M&amp;C widget', 'Chicago Profiles');\">Chicago Profiles</a></li>\n<li><a href=\"http://www.chicagomag.com/Chicago-Magazine/Promotion/Dental-Profiles/\" onclick=\"ga('send',  'event','M&amp;C widget', 'Dental Profiles');\">Dental Profiles</a></li>\n<li><a href=\"http://www.chicagomag.com/Chicago-Magazine/Promotion/DIY-My-Wine/\" onclick=\"ga('send',  'event','DIY My Wine', 'Dental Profiles');\">DIY My Wine</a></li>\n<li><a href=\"http://www.chicagomag.com/Chicago-Magazine/Promotion/Experience-Chicago/\" onclick=\"ga('send',  'event','M&amp;C widget', 'Experience Chicago');\">Experience Chicago</a></li>\n<li><a href=\"http://www.chicagomag.com/Chicago-Magazine/Promotion/Guide-to-Summer-Camps/\" onclick=\"ga('send',  'event','M&amp;C widget', '2019 Summer Camps');\">Guide to Summer Camps</a></li>\n<li><a href=\"http://www.chicagomag.com/Chicago-Magazine/Promotion/Give-Chicago\" onclick=\"ga('send',  'event','M&amp;C widget', '2018 Give Chicago');\">Give Chicago</a></li>\n<li><a href=\"http://www.chicagomag.com/Chicago-Magazine/Promotion/2019-Go-West/\" onclick=\"ga('send',  'event','M&amp;C widget', '2018 Go West');\">Go West</a></li>\n<!-- <li><a href=\"http://www.chicagomag.com/Chicago-Magazine/Promotion/Make-it-Lincoln-Park-2018/\" onclick=\"ga('send',  'event','M&C widget', 'Make It Lincoln Park');\">Make it Lincoln Park</a></li>  -->\n<li><a href=\"http://www.chicagomag.com/Chicago-Magazine/Promotion/Prime-of-Your-Life-2018/\" onclick=\"ga('send',  'event','M&amp;C widget', 'Prime of Your Life');\">Prime of Your Life</a></li>\n<li><a href=\"http://www.chicagomag.com/Chicago-Magazine/Promotion/Professional-Profiles/\" onclick=\"ga('send',  'event','M&amp;C widget', 'Professional Profiles');\">Professional Profiles</a></li>\n<li><a href=\"/Chicago-Magazine/Promotion/School-Open-House-Guide/\" onclick=\"ga('send',  'event','M&amp;C widget', 'School Open House Guide');\">School Open House Guide</a></li>\n<li><a href=\"/Chicago-Magazine/Promotion/Top-Producing-Agents/\" onclick=\"ga('send',  'event','M&amp;C widget', 'Top Producing Agents');\">Top Producing Agents</a></li>\n<li><a href=\"/Chicago-Magazine/Promotion/Visit-Sun-Valley/\" onclick=\"ga('send',  'event','M&amp;C widget', 'Visit Sun Valley');\">Visit Sun Valley</a></li>\n</ul>\n</div>\n</div>\n<a class=\"edit_from_site\" content_id=\"cube-1\" href=\"#\" media_id=\"83\">Edit Module</a>\n<div class=\"ad sq\">\n<h2>Advertisement</h2>\n<div id=\"div-gpt-ad-cube-1\" style=\"height: 250px; width: 300px;\"></div>\n<script type=\"text/javascript\">\ngoogletag.cmd.push(function() {\n\t\tgoogletag.display('div-gpt-ad-cube-1');\n});\n\t</script>\n</div>\n<a class=\"edit_from_site\" content_id=\"cube-3\" href=\"#\" media_id=\"83\">Edit Module</a>\n<div class=\"ad sq\">\n<h2>Advertisement</h2>\n<div id=\"div-gpt-ad-cube-3\" style=\"width: 300px; height: 250px; margin: 0 auto;\">\n<script>\ngoogletag.cmd.push(function() {\n    googletag.display('div-gpt-ad-cube-3');\n});\n  </script>\n</div>\n</div>\n</div>\n<div class=\"tablet-sidebar-right\">\n<form action=\"\" method=\"post\" name=\"newsletter\" onsubmit=\"validateNewsletter(); return false;\">\n<section class=\"newsletters widget\" id=\"category-specific-newsletter\">\n<h2 class=\"title red-border\" id=\"newsletterTitle\">Get Our Newsletters</h2>\n<div class=\"newsletter-reveal clearfix\" style=\"display: block;\">\n<p class=\"newsletter-description\"></p>\n<input class=\"clean white\" name=\"email\" placeholder=\"Your email address\" type=\"text\"/>\n<div class=\"form-error\" id=\"error-email\">\n          Please enter your email address\n        </div>\n<label class=\"checkbox\" for=\"over21\"> <input checked=\"\" id=\"over21\" name=\"over21\" type=\"checkbox\" value=\"yes\"/>Are you 21 or older?</label>\n<input name=\"source\" type=\"hidden\" value=\"/Chicago-Magazine/November-2012/Best-Sandwiches-Chicago/\"/>\n<input id=\"newsletterChoice\" name=\"newsletter\" type=\"hidden\" value=\"\"/>\n<br style=\"clear:both;\"/>\n<button type=\"submit\">Subscribe</button>\n</div>\n</section>\n</form>\n<script>\n      var newsletterChoice = \"Dish\";\n  \n  \n\n    var cookieValue = getCookie('subscribe-'+newsletterChoice.replace(' ','-'));\n    if (cookieValue == 'true') {\n      jQuery('#category-specific-newsletter').hide();\n    }\n\n    else {\n      var description = '';\n      switch (newsletterChoice) {\n        case 'Home & Real Estate':\n          description = \"<span class='leadin'>Fridays:</span> Get the latest real estate news, keep an eye on the city’s most beautiful and unique listings, and learn about the best home & design events locally.\";\n          break;\n        case 'The 312':\n          description = \"<span class='leadin'>Tuesdays:</span> Get up to speed on the week’s most important stories and must-reads.\";\n          break;\n        case 'Chicago Guide':\n          description = \"<span class='leadin'>Wednesdays:</span> <em>Chicago</em>’s culture critics bring you a weekly list of the top five events worth your time and money.\";\n          break;\n        case 'Go Travel':\n          description = \"<span class='leadin'>Monthly:</span> Be the first to know about exclusive travel discounts and offers to help you plan your next big adventure, courtesy of our sponsors.\";\n          break;\n        case 'Dish':\n          description = \"<span class='leadin'>Wednesdays:</span> Want the latest news from the Chicagoland dining scene served up fresh in your email inbox? Sign up for the weekly newsletter and get inside access to the city’s most plugged-in food and dining coverage. \";\n          break;\n        case 'Sales Check':\n          description = \"<span class='leadin'>Thursdays:</span> Hear about the great shopping experiences in the Chicago area, plus the latest news about hot store openings, sales, trends, and local retail news. Shop-a-holic? We know just how you feel. \";\n          break;\n        case 'VIP Newsletter':\n          description = \"<span class='leadin'>Mondays, Wednesdays, and Fridays: </span><em>Chicago</em> magazine hosts various events throughout the year. Sign up and join the party!\";\n          break;\n        case 'Special Offers':\n          description = 'Receive special offers and discounts from <em>Chicago</em> magazine’s selected partners.';\n          break;\n        case 'Health & Wellness':\n          description = \"<span class='leadin'>Third Mondays: </span>The top local stories in health care innovation, nutrition, exercise, wellness, and more—plus, local classes and workshops worth attending. Our editors will bring you the latest on how to live life, well.\";\n          break;\n        case 'Select all':\n          description = 'Subscribe to <em>Chicago Guide</em>, <em>Chicago Travel</em>, <em>Dish</em>, <em>Health & Wellness</em>, <em>Sales Check</em>, <em>Home & Real Estate</em>, <em>VIP Newsletter</em>, and <em>Special Offers</em>.'\n      }\n\n\n      jQuery('.newsletter-description').html(description);\n      jQuery('.newsletter-reveal').slideDown();\n      jQuery('#newsletterChoice').val(newsletterChoice);\n      jQuery('#newsletterTitle').html('Subscribe to ' + newsletterChoice);\n    }\n\n</script>\n<div class=\"lazyload\" data-url=\"/lazyloads/most-popular/\" id=\"lazy-popular\"></div>\n<div id=\"fixie-side-position-finder\">\n<div class=\"clearfix\" id=\"fixie-side\">\n<a class=\"edit_from_site\" content_id=\"cube-2\" href=\"#\" media_id=\"83\">Edit Module</a>\n<div class=\"ad sq\">\n<h2>Advertisement</h2>\n<div id=\"div-gpt-ad-cube-2\" style=\"width: 300px; height: 250px; margin: 0 auto;\">\n<script>\ngoogletag.cmd.push(function() {\n    googletag.display('div-gpt-ad-cube-2');\n});\n  </script>\n</div>\n</div>\n<script>\n          // Make the fixed slot refresh every 2 minutes (on desktops; ad is not fixed elsewhere)\n          setInterval(function(){\n            if (jQuery('#fixie-side').css('position') == 'fixed') {\n              googletag.pubads().refresh([cube2]);\n              }\n            }, 120000);\n        </script>\n<a class=\"edit_from_site\" content_id=\"widget-current-issue\" href=\"#\" media_id=\"83\">Edit Module</a>\n<section class=\"subscribe widget\">\n<a class=\"button\" href=\"javascript:void(0);\"><span class=\"title\">Subscribe</span><span class=\"plus\">+</span><span class=\"minus\">-</span></a>\n<div class=\"issue\">\n<a href=\"/Chicago-Magazine/January-2020/\" onclick=\"ga('send',  'event', 'Current issue widget', 'Current issue');\"><img alt=\"Current issue of Chicago magazine\" height=\"145\" src=\"/images/cache/cache_9/cache_4/cache_f/CMAG0120-cover-45cb8f49.jpeg?ver=1577810889&amp;aspectratio=0.75862068965517\" width=\"110\"/></a>\n<a class=\"btn\" href=\"/subscribe\" onclick=\"ga('send',  'event', 'Current issue widget', 'Subscribe (red button)');\">Subscribe</a>\n</div>\n<ul>\n<li>\n<a href=\"/subscribe\" onclick=\"ga('send',  'event', 'Current issue widget', 'Subscribe');\">\n<span class=\"lead\"><span class=\"red\">Subscribe</span> to the</span>\n<span class=\"title\">Print &amp; Tablet Edition</span>\n</a>\n</li>\n<li>\n<a href=\"http://www.chicagomag.com/digitaledition\" onclick=\"ga('send',  'event', 'Current issue widget', 'Digital edition');\">\n<span class=\"lead\"><span class=\"red\">Subscribe</span> to the</span>\n<span class=\"title\">Digital Edition</span>\n</a>\n</li>\n<li>\n<a class=\"ipad\" href=\"/ipad\" onclick=\"ga('send',  'event', 'Current issue widget', 'iPad');\">\n<span class=\"lead\"><span class=\"red\">Download</span> our tablet app for</span>\n<span class=\"title\">iPad</span>\n</a>\n<a class=\"android\" href=\"/android\" onclick=\"ga('send',  'event', 'Current issue widget', 'Android');\">\n<span class=\"title\">Android</span>\n</a>\n</li>\n<li>\n<a class=\"single\" href=\"/single-issues\" onclick=\"ga('send',  'event', 'Current issue widget', 'Single Issues');\">\n<span class=\"lead\"><span class=\"red\">Purchase</span> copies of</span>\n<span class=\"title\">Single Issues</span>\n</a>\n<a class=\"gift\" href=\"/gifts\" onclick=\"ga('send',  'event', 'Current issue widget', 'Gift');\">Give a <span class=\"red\">gift</span> subscription</a>\n</li>\n</ul>\n</section>\n</div>\n</div>\n</div>\n</aside>\n<!-- End Sidebar -->\n</div> <!-- End .content-and-sidebar -->\n</article>\n<!-- End Main Article Container -->\n</div><!--- End Page -->\n<a class=\"edit_from_site\" content_id=\"leaderboard-2\" href=\"#\" media_id=\"83\">Edit Module</a>\n<style type=\"text/css\">\n      @media (max-width:735px) {\n    #div-gpt-ad-leaderboard-2 {\n          display:none !important;\n        }\n   }\n</style>\n<div class=\"ad ban\" id=\"div-gpt-ad-leaderboard-2\">\n<script type=\"text/javascript\">\nif (document.documentElement.clientWidth > 735) {\ngoogletag.cmd.push(function() {\n    googletag.display('div-gpt-ad-leaderboard-2');\n});\n}\n  </script>\n</div>\n</div><!-- End Content Wrap -->\n<div id=\"div-out-of-page\">\n<script>\n  googletag.cmd.push(function() {\n    googletag.display('div-out-of-page');\n  });\n  </script>\n</div>\n<script>(function(d, s, id) {\n  var js, fjs = d.getElementsByTagName(s)[0];\n  if (d.getElementById(id)) return;\n  js = d.createElement(s); js.id = id;\n  js.src = \"//connect.facebook.net/en_US/all.js#xfbml=1&appId=432224116825361\";\n  fjs.parentNode.insertBefore(js, fjs);\n}(document, 'script', 'facebook-jssdk'));</script>\n<!-- LSC tracking pixel -->\n<script>\n    document.write('<script id=\"tbw_pixel\" type=\"text/javascript\" src=\"//d26x5ounzdjojj.cloudfront.net/tbw/tbw_analytics_v1.0.js?' + (new Date()).getHours() + '\" onload=\"tbw_parse(this);\" tbw_site_id=\"Ldd6b4994ab6844a0\" tbw_segment=\"Retargeting\" defer><\\/script>');\n</script>\n<!-- fix for gallery height bug -->\n<script>\njQuery( document ).ready(function() {\n  jQuery('.photoset-grid-basic .photoset-row').css( \"height\", \"initial\" );\n});\n</script>\n<!-- force removal of bottom nav in gallery view -->\n<style>\nbody.gallery.no-nav aside.story-nav-aside {\n  display: none !important;\n}\n</style>\n<footer class=\"page-footer\">\n<nav>\n<a class=\"logo background-logo-svg\" href=\"/\" onclick=\"ga('send', 'event', 'Global footer', 'Logo to home');\">Chicago magazine</a>\n<select class=\"clean wide nav\" id=\"page-nav-mobile\" onchange=\"location = this.options[this.selectedIndex].value;\">\n<option value=\"/Chicago-Magazine/Advertise\">Advertise</option>\n<option value=\"/Chicago-Magazine/Contact-Us\">Contact Us</option>\n<option value=\"/Chicago-Magazine/Classifieds/\">Marketplace</option>\n<option value=\"http://www.tronc.com/privacy-policy/\">Privacy &amp; Terms (Updated)</option>\n<option value=\"/Chicago-Magazine/archive-index-test\">Archive</option>\n<option value=\"/customerservice\">Customer Service</option>\n<option value=\"/newsletters\">Newsletters</option>\n<option value=\"/subscribe\">Subscribe</option>\n</select>\n<section class=\"links\">\n<ul>\n<li><a href=\"/Chicago-Magazine/Advertise\" onclick=\"ga('send', 'event','Global footer', 'Advertise');\">Advertise</a></li>\n<li><a href=\"/Chicago-Magazine/Contact-Us\" onclick=\"ga('send', 'event','Global footer', 'Contact us');\">Contact Us</a></li>\n<li><a href=\"/Chicago-Magazine/Classifieds/\" onclick=\"ga('send', 'event','Global footer', 'Marketplace');\">Marketplace</a></li>\n<li><a href=\"http://www.tronc.com/privacy-policy/\" onclick=\"ga('send', 'event','Global footer', 'Privacy');\">Privacy (Updated)</a></li>\n<li><a href=\"http://www.tronc.com/central-terms-of-service/\" onclick=\"ga('send', 'event','Global footer', 'Terms');\">Terms</a></li>\n</ul>\n<ul>\n<li><a href=\"/Chicago-Magazine/archive-index-test\" onclick=\"ga('send', 'event','Global footer', 'Archive');\">Archive</a></li>\n<li><a href=\"/customerservice\" onclick=\"ga('send', 'event','Global footer', 'Customer service');\">Customer Service</a></li>\n<li><a href=\"/newsletters\" onclick=\"ga('send', 'event','Global footer', 'Newsletters');\">Newsletters</a></li>\n<li><a href=\"/subscribe\" onclick=\"ga('send', 'event','Global footer', 'Subscribe');\">Subscribe</a></li>\n</ul>\n</section>\n<div class=\"credits\">\n<p class=\"copyright\">©<span id=\"copyright-year\"></span> <em>Chicago</em> magazine / A Chicago Tribune Media Group website</p>\n</div>\n</nav>\n</footer>\n<!--[if lt IE 9]>\n<script type=\"text/javascript\" language\"Javascript\">\nconsole.log('Mutha ucking IE8');\njQuery('html').addClass('old-ie');\n</script>\n<![endif]-->\n<script>\ndocument.getElementById('copyright-year').innerHTML = new Date().getFullYear()\n</script>\n<!-- Chartbeat -->\n<script type=\"text/javascript\">\nvar _sf_async_config={uid:3096,domain:\"chicagomag.com\"}; // ,useCanonical: true\n\n  _sf_async_config.sections = \"Dining & Drinking\";\n\n\n(function(){\n  function loadChartbeat() {\n    window._sf_endpt=(new Date()).getTime();\n    var e = document.createElement('script');\n    e.setAttribute('language', 'javascript');\n    e.setAttribute('type', 'text/javascript');\n    e.setAttribute('src',\n       ((\"https:\" == document.location.protocol) ? \"https://a248.e.akamai.net/chartbeat.download.akamai.com/102508/\" : \"http://static.chartbeat.com/\") +\n       \"js/chartbeat.js\");\n    document.body.appendChild(e);\n  }\n  var oldonload = window.onload;\n  window.onload = (typeof window.onload != 'function') ?\n     loadChartbeat : function() { oldonload(); loadChartbeat(); };\n})();\n</script>\n<!-- Google Custom Search Engine -->\n<script type=\"text/javascript\">\n  (function() {\n    var cx = '010330565828956611806:7mfjr5payok'; //PROD\n    // var cx = '012184964769571027538:4alkqopmlde'; // DEV\n    var gcse = document.createElement('script');\n    gcse.type = 'text/javascript';\n    gcse.async = true;\n    gcse.src = (document.location.protocol == 'https:' ? 'https:' : 'http:') +\n        '//www.google.com/cse/cse.js?cx=' + cx;\n    var s = document.getElementsByTagName('script')[0];\n    s.parentNode.insertBefore(gcse, s);\n  })();\n</script>\n<script src=\"https://www.sc.pages05.net/lp/static/js/iMAWebCookie.js?5d52baad-1411358527b-d7c8ec57ae636c7258d3eb0ef0e531f2&amp;h=www.pages05.net\" type=\"text/javascript\"></script>\n<!-- Disqus -->\n<!-- For Citi sponsorship (remove this conditional after Nov 2018) -->\n<!-- -->\n<script>\n  var disqus_shortname = 'chicagomag';\n  var disqus_identifier = '19493';\n  var disqus_title = 'The 50 Best Sandwiches in Chicago';\n  var disqus_url = 'http://www.chicagomag.com/Chicago-Magazine/November-2012/Best-Sandwiches-Chicago/';\n\n  /* * * DON'T EDIT BELOW THIS LINE * * */\n  (function() {\n      var dsq = document.createElement('script'); dsq.type = 'text/javascript'; dsq.async = true;\n      dsq.src = '//' + disqus_shortname + '.disqus.com/embed.js';\n      (document.getElementsByTagName('head')[0] || document.getElementsByTagName('body')[0]).appendChild(dsq);\n  })();\n\n  (function () {\n  var s = document.createElement('script'); s.async = true;\n  s.type = 'text/javascript';\n  s.src = 'http://' + disqus_shortname + '.disqus.com/count.js';\n  (document.getElementsByTagName('HEAD')[0] || document.getElementsByTagName('BODY')[0]).appendChild(s);\n  }());\n</script>\n<!-- -->\n<!-- Clean up the lame Rivista pagination -->\n<script type=\"text/javascript\">\n  var pb = jQuery('.page-break');\n  if (pb.length) {\n    var pagebreak = pb.html();\n    // Remove it from Page 1\n    if (pagebreak.substring(0,10) == \"(page 1 of\") {\n      pb.hide();\n    }\n    else if (pagebreak.substring(0,13) == \"<em>Page 1 of\") {\n       pb.hide();\n    }\n    else {\n      pagebreak = pagebreak.replace(\"(page\",\"<em>Page\");\n      pagebreak = pagebreak.replace(\")\",\"</em>\");\n      pb.html(pagebreak);\n      pb.css('display','inline-block');\n    }\n  }\n</script>\n<!--[if lt IE 9]>\n<script  type=\"text/javascript\" language=\"JavaScript\" src=\"/core/media/themes/Respond/js/respond.js?ver=1473876729\"></script>\n<![endif]-->\n<script language=\"JavaScript\" src=\"/core/media/js/base.js?ver=1473876728\" type=\"text/javascript\"></script>\n<script language=\"JavaScript\" src=\"/core/media/themes/Respond/js/bootstrap.min.js?ver=1473876729\" type=\"text/javascript\"></script>\n<script language=\"JavaScript\" src=\"//maps.googleapis.com/maps/api/js?v=3.exp&amp;sensor=false\" type=\"text/javascript\"></script>\n<script language=\"JavaScript\" src=\"/theme_overrides/Respond/js/interstitial.js?ver=1524154906\" type=\"text/javascript\"></script>\n<script language=\"JavaScript\" src=\"/theme_overrides/Respond/js/newsletter-subscribe.js?ver=1524850607\" type=\"text/javascript\"></script>\n<script language=\"JavaScript\" src=\"/theme_overrides/Respond/js/RivistaGoogleDFP.js?ver=1447178886\" type=\"text/javascript\"></script>\n<!-- godengo-monitor --></body>\n</html>"
     },
     "execution_count": 2,
     "metadata": {},
     "output_type": "execute_result"
    }
   ],
   "source": [
    "url_base = 'https://www.chicagomag.com'\n",
    "url_sub = '/Chicago-Magazine/November-2012/Best-Sandwiches-Chicago/'\n",
    "url = url_base + url_sub\n",
    "\n",
    "html = urlopen(url)\n",
    "soup = BeautifulSoup(html, 'html.parser')\n",
    "\n",
    "soup"
   ]
  },
  {
   "cell_type": "code",
   "execution_count": 3,
   "metadata": {},
   "outputs": [
    {
     "name": "stdout",
     "output_type": "stream",
     "text": "[<div class=\"sammy\" style=\"position: relative;\">\n<div class=\"sammyRank\">1</div>\n<div class=\"sammyListing\"><a href=\"/Chicago-Magazine/November-2012/Best-Sandwiches-in-Chicago-Old-Oak-Tap-BLT/\"><b>BLT</b><br>\nOld Oak Tap<br>\n<em>Read more</em> </br></br></a></div>\n</div>, <div class=\"sammy\" style=\"position: relative;\">\n<div class=\"sammyRank\">2</div>\n<div class=\"sammyListing\"><a href=\"/Chicago-Magazine/November-2012/Best-Sandwiches-in-Chicago-Au-Cheval-Fried-Bologna/\"><b>Fried Bologna</b><br/>\nAu Cheval<br/>\n<em>Read more</em> </a></div>\n</div>, <div class=\"sammy\" style=\"position: relative;\">\n<div class=\"sammyRank\">3</div>\n<div class=\"sammyListing\"><a href=\"/Chicago-Magazine/November-2012/Best-Sandwiches-in-Chicago-Xoco-Woodland-Mushroom/\"><b>Woodland Mushroom</b><br/>\nXoco<br/>\n<em>Read more</em> </a></div>\n</div>, <div class=\"sammy\" style=\"position: relative;\">\n<div class=\"sammyRank\">4</div>\n<div class=\"sammyListing\"><a href=\"/Chicago-Magazine/November-2012/Best-Sandwiches-in-Chicago-Als-Deli-Roast-Beef/\"><b>Roast Beef</b><br/>\nAl’s Deli<br/>\n<em>Read more</em> </a></div>\n</div>, <div class=\"sammy\" style=\"position: relative;\">\n<div class=\"sammyRank\">5</div>\n<div class=\"sammyListing\"><a href=\"/Chicago-Magazine/November-2012/Best-Sandwiches-in-Chicago-Publican-Quality-Meats-PB-L/\"><b>PB&amp;L</b><br/>\nPublican Quality Meats<br/>\n<em>Read more</em> </a></div>\n</div>, <div class=\"sammy\" style=\"position: relative;\">\n<div class=\"sammyRank\">6</div>\n<div class=\"sammyListing\"><a href=\"http://www.chicagomag.com/Chicago-Magazine/November-2012/Best-Sandwiches-in-Chicago-Hendrickx-Belgian-Bread-Crafter-Belgian-Chicken-Curry-Salad/\"><b>Belgian Chicken Curry Salad</b><br/>\nHendrickx Belgian Bread Crafter<br/>\n<em>Read more</em> </a></div>\n</div>, <div class=\"sammy\" style=\"position: relative;\">\n<div class=\"sammyRank\">7</div>\n<div class=\"sammyListing\"><a href=\"/Chicago-Magazine/November-2012/Best-Sandwiches-in-Chicago-Acadia-Lobster-Roll/\"><b>Lobster Roll</b><br/>\nAcadia<br/>\n<em>Read more</em> </a></div>\n</div>, <div class=\"sammy\" style=\"position: relative;\">\n<div class=\"sammyRank\">8</div>\n<div class=\"sammyListing\"><a href=\"/Chicago-Magazine/November-2012/Best-Sandwiches-in-Chicago-Birchwood-Kitchen-Smoked-Salmon-Salad/\"><b>Smoked Salmon Salad</b><br/>\nBirchwood Kitchen<br/>\n<em>Read more</em> </a></div>\n</div>, <div class=\"sammy\" style=\"position: relative;\">\n<div class=\"sammyRank\">9</div>\n<div class=\"sammyListing\"><a href=\"/Chicago-Magazine/November-2012/Best-Sandwiches-in-Chicago-Cemitas-Puebla-Atomica-Cemitas/\"><b>Atomica Cemitas</b><br/>\nCemitas Puebla<br/>\n<em>Read more</em> </a></div>\n</div>, <div class=\"sammy\" style=\"position: relative;\">\n<div class=\"sammyRank\">10</div>\n<div class=\"sammyListing\"><a href=\"/Chicago-Magazine/November-2012/Best-Sandwiches-in-Chicago-Nana-Grilled-Laughing-Bird-Shrimp-and-Fried-Oyster-Po-Boy/\"><b>Grilled Laughing Bird Shrimp and Fried Po’ Boy</b><br/>\nNana<br/>\n<em>Read more</em> </a></div>\n</div>, <div class=\"sammy\" style=\"position: relative;\">\n<div class=\"sammyRank\">11</div>\n<div class=\"sammyListing\"><a href=\"http://www.chicagomag.com/Chicago-Magazine/November-2012/Best-Sandwiches-in-Chicago-Lula-Cafe-Ham-and-Raclette-Panino/\"><b>Ham and Raclette Panino</b><br/>\nLula Cafe<br/>\n<em>Read more</em> </a></div>\n</div>, <div class=\"sammy\" style=\"position: relative;\">\n<div class=\"sammyRank\">12</div>\n<div class=\"sammyListing\"><a href=\"http://www.chicagomag.com/Chicago-Magazine/November-2012/Best-Sandwiches-in-Chicago-Ricobenes-Breaded-Steak/\"><b>Breaded Steak</b><br/>\nRicobene’s<br/>\n<em>Read more</em> </a></div>\n</div>, <div class=\"sammy\" style=\"position: relative;\">\n<div class=\"sammyRank\">13</div>\n<div class=\"sammyListing\"><a href=\"http://www.chicagomag.com/Chicago-Magazine/November-2012/Best-Sandwiches-in-Chicago-Frog-n-Snail-The-Hawkeye/\"><b>The Hawkeye</b><br/>\nFrog n Snail<br/>\n<em>Read more</em> </a></div>\n</div>, <div class=\"sammy\" style=\"position: relative;\">\n<div class=\"sammyRank\">14</div>\n<div class=\"sammyListing\"><a href=\"http://www.chicagomag.com/Chicago-Magazine/November-2012/Best-Sandwiches-in-Chicago-Crosbys-Kitchen-Chicken-Dip/\"><b>Chicken Dip</b><br/>\nCrosby’s Kitchen<br/>\n<em>Read more</em> </a></div>\n</div>, <div class=\"sammy\" style=\"position: relative;\">\n<div class=\"sammyRank\">15</div>\n<div class=\"sammyListing\"><a href=\"http://www.chicagomag.com/Chicago-Magazine/November-2012/Best-Sandwiches-in-Chicago-Longman-and-Eagle-Wild-Boar-Sloppy-Joe/\"><b>Wild Boar Sloppy Joe</b><br/>\nLongman &amp; Eagle<br/>\n<em>Read more</em> </a></div>\n</div>, <div class=\"sammy\" style=\"position: relative;\">\n<div class=\"sammyRank\">16</div>\n<div class=\"sammyListing\"><a href=\"http://www.chicagomag.com/Chicago-Magazine/November-2012/Best-Sandwiches-in-Chicago-Bari-Meatball-Sub/\"><b>Meatball Sub</b><br/>\nBari<br/>\n<em>Read more</em> </a></div>\n</div>, <div class=\"sammy\" style=\"position: relative;\">\n<div class=\"sammyRank\">17</div>\n<div class=\"sammyListing\"><a href=\"http://www.chicagomag.com/Chicago-Magazine/November-2012/Best-Sandwiches-in-Chicago-Mannys-Corned-Beef/\"><b>Corned Beef</b><br/>\nManny’s<br/>\n<em>Read more</em> </a></div>\n</div>, <div class=\"sammy\" style=\"position: relative;\">\n<div class=\"sammyRank\">18</div>\n<div class=\"sammyListing\"><a href=\"http://www.chicagomag.com/Chicago-Magazine/November-2012/Best-Sandwiches-in-Chicago-Eggys-Turkey-Club/\"><b>Turkey Club</b><br/>\nEggy’s<br/>\n<em>Read more</em> </a></div>\n</div>, <div class=\"sammy\" style=\"position: relative;\">\n<div class=\"sammyRank\">19</div>\n<div class=\"sammyListing\"><a href=\"http://www.chicagomag.com/Chicago-Magazine/November-2012/Best-Sandwiches-in-Chicago-Old-Jerusalem-Falafel/\"><b>Falafel</b><br/>\nOld Jerusalem<br/>\n<em>Read more</em> </a></div>\n</div>, <div class=\"sammy\" style=\"position: relative;\">\n<div class=\"sammyRank\">20</div>\n<div class=\"sammyListing\"><a href=\"http://www.chicagomag.com/Chicago-Magazine/November-2012/Best-Sandwiches-in-Chicago-Mindys-HotChocolate-Crab-Cake/\"><b>Crab Cake</b><br/>\nMindy’s HotChocolate<br/>\n<em>Read more</em> </a></div>\n</div>, <div class=\"sammy\" style=\"position: relative;\">\n<div class=\"sammyRank\">21</div>\n<div class=\"sammyListing\"><a href=\"http://www.chicagomag.com/Chicago-Magazine/November-2012/Best-Sandwiches-in-Chicago-Olgas-Delicatessen-Chicken-Schnitzel/\"><b>Chicken Schnitzel</b><br/>\nOlga’s Delicatessen<br/>\n<em>Read more</em> </a></div>\n</div>, <div class=\"sammy\" style=\"position: relative;\">\n<div class=\"sammyRank\">22</div>\n<div class=\"sammyListing\"><a href=\"http://www.chicagomag.com/Chicago-Magazine/November-2012/Best-Sandwiches-in-Chicago-Dawali-Mediterranean-Kitchen-Shawarma/\"><b>Shawarma</b><br/>\nDawali Mediterranean Kitchen<br/>\n<em>Read more</em> </a></div>\n</div>, <div class=\"sammy\" style=\"position: relative;\">\n<div class=\"sammyRank\">23</div>\n<div class=\"sammyListing\"><a href=\"http://www.chicagomag.com/Chicago-Magazine/November-2012/Best-Sandwiches-in-Chicago-Big-Jones-Toasted-Pimiento-Cheese/\"><b>Toasted Pimiento Cheese</b><br/>\nBig Jones<br/>\n<em>Read more</em> </a></div>\n</div>, <div class=\"sammy\" style=\"position: relative;\">\n<div class=\"sammyRank\">24</div>\n<div class=\"sammyListing\"><a href=\"http://www.chicagomag.com/Chicago-Magazine/November-2012/Best-Sandwiches-in-Chicago-La-Pane-Vegetarian-Panino/\"><b>Vegetarian Panino</b><br/>\nLa Pane<br/>\n<em>Read more</em> </a></div>\n</div>, <div class=\"sammy\" style=\"position: relative;\">\n<div class=\"sammyRank\">25</div>\n<div class=\"sammyListing\"><a href=\"/Chicago-Magazine/November-2012/Best-Sandwiches-in-Chicago-Pastoral-Cali-Chevre/\"><b>Cali Chèvre</b><br/>\nPastoral<br/>\n<em>Read more</em> </a></div>\n</div>, <div class=\"sammy\" style=\"position: relative;\">\n<div class=\"sammyRank\">26</div>\n<div class=\"sammyListing\"><a href=\"http://www.chicagomag.com/Chicago-Magazine/November-2012/Best-Sandwiches-in-Chicago-Maxs-Deli-Pastrami/\"><b>Pastrami</b><br/>\nMax’s Deli<br/>\n<em>Read more</em> </a></div>\n</div>, <div class=\"sammy\" style=\"position: relative;\">\n<div class=\"sammyRank\">27</div>\n<div class=\"sammyListing\"><a href=\"http://www.chicagomag.com/Chicago-Magazine/November-2012/Best-Sandwiches-in-Chicago-Luckys-Sandwich-Co-The-Fredo/\"><b>The Fredo</b><br/>\nLucky’s Sandwich Co.<br/>\n<em>Read more</em> </a></div>\n</div>, <div class=\"sammy\" style=\"position: relative;\">\n<div class=\"sammyRank\">28</div>\n<div class=\"sammyListing\"><a href=\"http://www.chicagomag.com/Chicago-Magazine/November-2012/Best-Sandwiches-in-Chicago-City-Provisions-Smoked-Ham/\"><b>Smoked Ham</b><br/>\nCity Provisions<br/>\n<em>Read more</em> </a></div>\n</div>, <div class=\"sammy\" style=\"position: relative;\">\n<div class=\"sammyRank\">29</div>\n<div class=\"sammyListing\"><a href=\"http://www.chicagomag.com/Chicago-Magazine/November-2012/Best-Sandwiches-in-Chicago-Papas-Cache-Sabroso-Jibarito/\"><b>Jibarito</b><br/>\nPapa’s Cache Sabroso<br/>\n<em>Read more</em> </a></div>\n</div>, <div class=\"sammy\" style=\"position: relative;\">\n<div class=\"sammyRank\">30</div>\n<div class=\"sammyListing\"><a href=\"http://www.chicagomag.com/Chicago-Magazine/November-2012/Best-Sandwiches-in-Chicago-Bavettes-Bar-and-Boeuf-Shaved-Prime-Rib/\"><b>Shaved Prime Rib</b><br/>\nBavette’s Bar &amp; Boeuf<br/>\n<em>Read more</em> </a></div>\n</div>, <div class=\"sammy\" style=\"position: relative;\">\n<div class=\"sammyRank\">31</div>\n<div class=\"sammyListing\"><a href=\"http://www.chicagomag.com/Chicago-Magazine/November-2012/Best-Sandwiches-in-Chicago-Hannahs-Bretzel-Serrano-Ham-and-Manchego-Cheese/\"><b>Serrano Ham and Manchego Cheese</b><br/>\nHannah’s Bretzel<br/>\n<em>Read more</em> </a></div>\n</div>, <div class=\"sammy\" style=\"position: relative;\">\n<div class=\"sammyRank\">32</div>\n<div class=\"sammyListing\"><a href=\"http://www.chicagomag.com/Chicago-Magazine/November-2012/Best-Sandwiches-in-Chicago-La-Fournette-Tuna-Salad/\"><b>Tuna Salad</b><br/>\nLa Fournette<br/>\n<em>Read more</em> </a></div>\n</div>, <div class=\"sammy\" style=\"position: relative;\">\n<div class=\"sammyRank\">33</div>\n<div class=\"sammyListing\"><a href=\"http://www.chicagomag.com/Chicago-Magazine/November-2012/Best-Sandwiches-in-Chicago-Paramount-Room-Paramount-Reuben/\"><b>Paramount Reuben</b><br/>\nParamount Room<br/>\n<em>Read more</em> </a></div>\n</div>, <div class=\"sammy\" style=\"position: relative;\">\n<div class=\"sammyRank\">34</div>\n<div class=\"sammyListing\"><a href=\"http://www.chicagomag.com/Chicago-Magazine/November-2012/Best-Sandwiches-in-Chicago-Melt-Sandwich-Shoppe-The-Istanbul/\"><b>The Istanbul</b><br/>\nMelt Sandwich Shoppe<br/>\n<em>Read more</em> </a></div>\n</div>, <div class=\"sammy\" style=\"position: relative;\">\n<div class=\"sammyRank\">35</div>\n<div class=\"sammyListing\"><a href=\"http://www.chicagomag.com/Chicago-Magazine/November-2012/Best-Sandwiches-in-Chicago-Floriole-Cafe-and-Bakery-BAD/\"><b>B.A.D.</b><br/>\nFloriole Cafe &amp; Bakery<br/>\n<em>Read more</em> </a></div>\n</div>, <div class=\"sammy\" style=\"position: relative;\">\n<div class=\"sammyRank\">36</div>\n<div class=\"sammyListing\"><a href=\"http://www.chicagomag.com/Chicago-Magazine/November-2012/Best-Sandwiches-in-Chicago-First-Slice-Pie-Cafe-Duck-Confit-and-Mozzarella/\"><b>Duck Confit and Mozzarella</b><br/>\nFirst Slice Pie Café<br/>\n<em>Read more</em> </a></div>\n</div>, <div class=\"sammy\" style=\"position: relative;\">\n<div class=\"sammyRank\">37</div>\n<div class=\"sammyListing\"><a href=\"http://www.chicagomag.com/Chicago-Magazine/November-2012/Best-Sandwiches-in-Chicago-Troquet-Croque-Monsieur/\"><b>Croque Monsieur</b><br/>\nTroquet<br/>\n<em>Read more</em> </a></div>\n</div>, <div class=\"sammy\" style=\"position: relative;\">\n<div class=\"sammyRank\">38</div>\n<div class=\"sammyListing\"><a href=\"http://www.chicagomag.com/Chicago-Magazine/November-2012/Best-Sandwiches-in-Chicago-Grahamwich-Green-Garbanzo/\"><b>Green Garbanzo</b><br/>\nGrahamwich<br/>\n<em>Read more</em> </a></div>\n</div>, <div class=\"sammy\" style=\"position: relative;\">\n<div class=\"sammyRank\">39</div>\n<div class=\"sammyListing\"><a href=\"http://www.chicagomag.com/Chicago-Magazine/November-2012/Best-Sandwiches-in-Chicago-Saigon-Sisters-The-Hen-House/\"><b>The Hen House</b><br/>\nSaigon Sisters<br/>\n<em>Read more</em> </a></div>\n</div>, <div class=\"sammy\" style=\"position: relative;\">\n<div class=\"sammyRank\">40</div>\n<div class=\"sammyListing\"><a href=\"http://www.chicagomag.com/Chicago-Magazine/November-2012/Best-Sandwiches-in-Chicago-Rosalias-Deli-Tuscan-Chicken/\"><b>Tuscan Chicken</b><br/>\nRosalia’s Deli<br/>\n<em>Read more</em> </a></div>\n</div>, <div class=\"sammy\" style=\"position: relative;\">\n<div class=\"sammyRank\">41</div>\n<div class=\"sammyListing\"><a href=\"http://www.chicagomag.com/Chicago-Magazine/November-2012/Best-Sandwiches-in-Chicago-Z-and-H-MarketCafe-The-Marty/\"><b>The Marty </b><br/>\nZ&amp;H MarketCafe<br/>\n<em>Read more</em> </a></div>\n</div>, <div class=\"sammy\" style=\"position: relative;\">\n<div class=\"sammyRank\">42</div>\n<div class=\"sammyListing\"><a href=\"http://www.chicagomag.com/Chicago-Magazine/November-2012/Best-Sandwiches-in-Chicago-Market-House-on-the-Square-Whitefish/\"><b>Whitefish</b><br/>\nMarket House on the Square<br/>\n<em>Read more</em> </a></div>\n</div>, <div class=\"sammy\" style=\"position: relative;\">\n<div class=\"sammyRank\">43</div>\n<div class=\"sammyListing\"><a href=\"http://www.chicagomag.com/Chicago-Magazine/November-2012/Best-Sandwiches-in-Chicago-Elaines-Coffee-Call-Oat-Bread-Pecan-Butter-and-Fruit-Jam/\"><b>Oat Bread, Pecan Butter, and Fruit Jam</b><br/>\nElaine’s Coffee Call<br/>\n<em>Read more</em> </a></div>\n</div>, <div class=\"sammy\" style=\"position: relative;\">\n<div class=\"sammyRank\">44</div>\n<div class=\"sammyListing\"><a href=\"http://www.chicagomag.com/Chicago-Magazine/November-2012/Best-Sandwiches-in-Chicago-Marion-Street-Cheese-Market-Cauliflower-Melt/\"><b>Cauliflower Melt</b><br/>\nMarion Street Cheese Market<br/>\n<em>Read more</em> </a></div>\n</div>, <div class=\"sammy\" style=\"position: relative;\">\n<div class=\"sammyRank\">45</div>\n<div class=\"sammyListing\"><a href=\"http://www.chicagomag.com/Chicago-Magazine/November-2012/Best-Sandwiches-in-Chicago-Cafecito-Cubano/\"><b>Cubana</b><br/>\nCafecito<br/>\n<em>Read more</em> </a></div>\n</div>, <div class=\"sammy\" style=\"position: relative;\">\n<div class=\"sammyRank\">46</div>\n<div class=\"sammyListing\"><a href=\"http://www.chicagomag.com/Chicago-Magazine/November-2012/Best-Sandwiches-in-Chicago-Chickpea-Kufta/\"><b>Kufta</b><br/>\nChickpea<br/>\n<em>Read more</em> </a></div>\n</div>, <div class=\"sammy\" style=\"position: relative;\">\n<div class=\"sammyRank\">47</div>\n<div class=\"sammyListing\"><a href=\"http://www.chicagomag.com/Chicago-Magazine/November-2012/Best-Sandwiches-in-Chicago-The-Goddess-and-Grocer-Debbies-Egg-Salad/\"><b>Debbie’s Egg Salad</b><br/>\nThe Goddess and Grocer<br/>\n<em>Read more</em> </a></div>\n</div>, <div class=\"sammy\" style=\"position: relative;\">\n<div class=\"sammyRank\">48</div>\n<div class=\"sammyListing\"><a href=\"http://www.chicagomag.com/Chicago-Magazine/November-2012/Best-Sandwiches-in-Chicago-Zenwich-Beef-Curry/\"><b>Beef Curry</b><br/>\nZenwich<br/>\n<em>Read more</em> </a></div>\n</div>, <div class=\"sammy\" style=\"position: relative;\">\n<div class=\"sammyRank\">49</div>\n<div class=\"sammyListing\"><a href=\"http://www.chicagomag.com/Chicago-Magazine/November-2012/Best-Sandwiches-in-Chicago-Toni-Patisserie-Le-Vegetarien/\"><b>Le Végétarien</b><br/>\nToni Patisserie<br/>\n<em>Read more</em> </a></div>\n</div>, <div class=\"sammy\" style=\"position: relative; border-bottom: 0\">\n<div class=\"sammyRank\">50</div>\n<div class=\"sammyListing\"><a href=\"http://www.chicagomag.com/Chicago-Magazine/November-2012/Best-Sandwiches-in-Chicago-Phoebes-Bakery-The-Gatsby/\"><b>The Gatsby</b><br/>\nPhoebe’s Bakery<br/>\n<em>Read more</em> </a></div>\n</div>]\n"
    }
   ],
   "source": [
    "print(soup.find_all('div', 'sammy'))"
   ]
  },
  {
   "cell_type": "code",
   "execution_count": 4,
   "metadata": {},
   "outputs": [
    {
     "data": {
      "text/plain": "50"
     },
     "execution_count": 4,
     "metadata": {},
     "output_type": "execute_result"
    }
   ],
   "source": [
    "# 맛집 50개\n",
    "len(soup.find_all('div', 'sammy'))"
   ]
  },
  {
   "cell_type": "code",
   "execution_count": 5,
   "metadata": {},
   "outputs": [
    {
     "name": "stdout",
     "output_type": "stream",
     "text": "<div class=\"sammy\" style=\"position: relative;\">\n<div class=\"sammyRank\">1</div>\n<div class=\"sammyListing\"><a href=\"/Chicago-Magazine/November-2012/Best-Sandwiches-in-Chicago-Old-Oak-Tap-BLT/\"><b>BLT</b><br>\nOld Oak Tap<br>\n<em>Read more</em> </br></br></a></div>\n</div>\n"
    }
   ],
   "source": [
    "# 맛집 50개 중 1번째\n",
    "print(soup.find_all('div', 'sammy')[0])"
   ]
  },
  {
   "cell_type": "markdown",
   "execution_count": null,
   "metadata": {},
   "outputs": [],
   "source": [
    "## 2. 접근한 웹 페이지에서 원하는 데이터 추출하고 정리하기"
   ]
  },
  {
   "cell_type": "code",
   "execution_count": 6,
   "metadata": {},
   "outputs": [
    {
     "data": {
      "text/plain": "bs4.element.Tag"
     },
     "execution_count": 6,
     "metadata": {},
     "output_type": "execute_result"
    }
   ],
   "source": [
    "tmp_one = soup.find_all('div', 'sammy')[0]\n",
    "type(tmp_one)\n",
    "\n",
    "# find_all로 찾은 결과는 bs4.element.Tag라고 하는 형태로 이런 경우\n",
    "# 그 변수에 다시 태그로 찾는(find, find_all) 명령을 사용할 수 있다."
   ]
  },
  {
   "cell_type": "code",
   "execution_count": 7,
   "metadata": {},
   "outputs": [
    {
     "data": {
      "text/plain": "<div class=\"sammyRank\">1</div>"
     },
     "execution_count": 7,
     "metadata": {},
     "output_type": "execute_result"
    }
   ],
   "source": [
    "tmp_one.find(class_='sammyRank')"
   ]
  },
  {
   "cell_type": "code",
   "execution_count": 8,
   "metadata": {},
   "outputs": [
    {
     "data": {
      "text/plain": "'1'"
     },
     "execution_count": 8,
     "metadata": {},
     "output_type": "execute_result"
    }
   ],
   "source": [
    "tmp_one.find(class_='sammyRank').get_text()"
   ]
  },
  {
   "cell_type": "code",
   "execution_count": 9,
   "metadata": {},
   "outputs": [
    {
     "data": {
      "text/plain": "'BLT\\r\\nOld Oak Tap\\nRead more '"
     },
     "execution_count": 9,
     "metadata": {},
     "output_type": "execute_result"
    }
   ],
   "source": [
    "tmp_one.find(class_='sammyListing').get_text()\n",
    "\n",
    "# 메뉴 이름과 가게 이름을 같이 얻음"
   ]
  },
  {
   "cell_type": "code",
   "execution_count": 10,
   "metadata": {},
   "outputs": [
    {
     "name": "stdout",
     "output_type": "stream",
     "text": "BLT\nOld Oak Tap\n"
    }
   ],
   "source": [
    "# 정규식(Regular Express)\n",
    "# stplit : 내가 지정한 특정 패턴이 일치하면 분리\n",
    "import re  # 정규식 쓰기\n",
    "tmp_string = tmp_one.find(class_='sammyListing').get_text()\n",
    "\n",
    "re.split(('\\n|\\r\\n'), tmp_string)\n",
    "\n",
    "print(re.split(('\\n|\\r\\n'), tmp_string)[0])  # 메뉴 이름\n",
    "print(re.split(('\\n|\\r\\n'), tmp_string)[1])  # 가게 이름"
   ]
  },
  {
   "cell_type": "code",
   "execution_count": 11,
   "metadata": {},
   "outputs": [
    {
     "data": {
      "text/plain": "'/Chicago-Magazine/November-2012/Best-Sandwiches-in-Chicago-Old-Oak-Tap-BLT/'"
     },
     "execution_count": 11,
     "metadata": {},
     "output_type": "execute_result"
    }
   ],
   "source": [
    "tmp_one.find('a')['href']\n",
    "\n",
    "# 다른 49개에 적용했을 때 결과가 항상 동일하지 않음.\n",
    "# 상대경로 or 절대경로"
   ]
  },
  {
   "cell_type": "code",
   "execution_count": 12,
   "metadata": {},
   "outputs": [],
   "source": [
    "# urllib에 있는 urljoin을 사용하면 절대경로로 잡힌 url은 그대로 두고, 상대경로로 잡힌 url은 절대경로로 변경할 수 있다.\n",
    "from urllib.parse import urljoin\n",
    "\n",
    "rank = []  # 순위\n",
    "main_menu = []  # 메인 메뉴 이름\n",
    "cafe_name = []  # 카페 이름\n",
    "url_add = []  # 접근 주소\n",
    "\n",
    "list_soup = soup.find_all('div', 'sammy')  # 50개의 정보를 찾음\n",
    "\n",
    "# 빈 리스트에 하나씩 저장\n",
    "for item in list_soup:\n",
    "    rank.append(item.find(class_='sammyRank').get_text())\n",
    "    tmp_string = item.find(class_='sammyListing').get_text()\n",
    "    main_menu.append(re.split(('\\n|\\r\\n'), tmp_string)[0])\n",
    "    cafe_name.append(re.split(('\\n|\\r\\n'), tmp_string)[1])\n",
    "\n",
    "    url_add.append(urljoin(url_base, item.find('a')['href']))"
   ]
  },
  {
   "cell_type": "code",
   "execution_count": 13,
   "metadata": {},
   "outputs": [
    {
     "data": {
      "text/plain": "['1', '2', '3', '4', '5']"
     },
     "execution_count": 13,
     "metadata": {},
     "output_type": "execute_result"
    }
   ],
   "source": [
    "rank[:5]"
   ]
  },
  {
   "cell_type": "code",
   "execution_count": 14,
   "metadata": {},
   "outputs": [
    {
     "data": {
      "text/plain": "['BLT', 'Fried Bologna', 'Woodland Mushroom', 'Roast Beef', 'PB&L']"
     },
     "execution_count": 14,
     "metadata": {},
     "output_type": "execute_result"
    }
   ],
   "source": [
    "main_menu[:5]"
   ]
  },
  {
   "cell_type": "code",
   "execution_count": 15,
   "metadata": {},
   "outputs": [
    {
     "data": {
      "text/plain": "['Old Oak Tap', 'Au Cheval', 'Xoco', 'Al’s Deli', 'Publican Quality Meats']"
     },
     "execution_count": 15,
     "metadata": {},
     "output_type": "execute_result"
    }
   ],
   "source": [
    "cafe_name[:5]"
   ]
  },
  {
   "cell_type": "code",
   "execution_count": 16,
   "metadata": {},
   "outputs": [
    {
     "data": {
      "text/plain": "['https://www.chicagomag.com/Chicago-Magazine/November-2012/Best-Sandwiches-in-Chicago-Old-Oak-Tap-BLT/',\n 'https://www.chicagomag.com/Chicago-Magazine/November-2012/Best-Sandwiches-in-Chicago-Au-Cheval-Fried-Bologna/',\n 'https://www.chicagomag.com/Chicago-Magazine/November-2012/Best-Sandwiches-in-Chicago-Xoco-Woodland-Mushroom/',\n 'https://www.chicagomag.com/Chicago-Magazine/November-2012/Best-Sandwiches-in-Chicago-Als-Deli-Roast-Beef/',\n 'https://www.chicagomag.com/Chicago-Magazine/November-2012/Best-Sandwiches-in-Chicago-Publican-Quality-Meats-PB-L/']"
     },
     "execution_count": 16,
     "metadata": {},
     "output_type": "execute_result"
    }
   ],
   "source": [
    "url_add[:5]"
   ]
  },
  {
   "cell_type": "code",
   "execution_count": 17,
   "metadata": {},
   "outputs": [
    {
     "data": {
      "text/plain": "(50, 50, 50, 50)"
     },
     "execution_count": 17,
     "metadata": {},
     "output_type": "execute_result"
    }
   ],
   "source": [
    "len(rank), len(main_menu), len(cafe_name), len(url_add)"
   ]
  },
  {
   "cell_type": "code",
   "execution_count": 18,
   "metadata": {},
   "outputs": [
    {
     "data": {
      "text/html": "<div>\n<style scoped>\n    .dataframe tbody tr th:only-of-type {\n        vertical-align: middle;\n    }\n\n    .dataframe tbody tr th {\n        vertical-align: top;\n    }\n\n    .dataframe thead th {\n        text-align: right;\n    }\n</style>\n<table border=\"1\" class=\"dataframe\">\n  <thead>\n    <tr style=\"text-align: right;\">\n      <th></th>\n      <th>Rank</th>\n      <th>Menu</th>\n      <th>Cafe</th>\n      <th>URL</th>\n    </tr>\n  </thead>\n  <tbody>\n    <tr>\n      <th>0</th>\n      <td>1</td>\n      <td>BLT</td>\n      <td>Old Oak Tap</td>\n      <td>https://www.chicagomag.com/Chicago-Magazine/No...</td>\n    </tr>\n    <tr>\n      <th>1</th>\n      <td>2</td>\n      <td>Fried Bologna</td>\n      <td>Au Cheval</td>\n      <td>https://www.chicagomag.com/Chicago-Magazine/No...</td>\n    </tr>\n    <tr>\n      <th>2</th>\n      <td>3</td>\n      <td>Woodland Mushroom</td>\n      <td>Xoco</td>\n      <td>https://www.chicagomag.com/Chicago-Magazine/No...</td>\n    </tr>\n    <tr>\n      <th>3</th>\n      <td>4</td>\n      <td>Roast Beef</td>\n      <td>Al’s Deli</td>\n      <td>https://www.chicagomag.com/Chicago-Magazine/No...</td>\n    </tr>\n    <tr>\n      <th>4</th>\n      <td>5</td>\n      <td>PB&amp;L</td>\n      <td>Publican Quality Meats</td>\n      <td>https://www.chicagomag.com/Chicago-Magazine/No...</td>\n    </tr>\n  </tbody>\n</table>\n</div>",
      "text/plain": "  Rank               Menu                    Cafe  \\\n0    1                BLT             Old Oak Tap   \n1    2      Fried Bologna               Au Cheval   \n2    3  Woodland Mushroom                    Xoco   \n3    4         Roast Beef               Al’s Deli   \n4    5               PB&L  Publican Quality Meats   \n\n                                                 URL  \n0  https://www.chicagomag.com/Chicago-Magazine/No...  \n1  https://www.chicagomag.com/Chicago-Magazine/No...  \n2  https://www.chicagomag.com/Chicago-Magazine/No...  \n3  https://www.chicagomag.com/Chicago-Magazine/No...  \n4  https://www.chicagomag.com/Chicago-Magazine/No...  "
     },
     "execution_count": 18,
     "metadata": {},
     "output_type": "execute_result"
    }
   ],
   "source": [
    "# 각 데이터들을 한 곳에 모아서 저장하기\n",
    "import pandas as pd\n",
    "\n",
    "data = {'Rank':rank, 'Menu':main_menu, 'Cafe':cafe_name, 'URL':url_add}\n",
    "df = pd.DataFrame(data)\n",
    "df.head()"
   ]
  },
  {
   "cell_type": "code",
   "execution_count": 19,
   "metadata": {},
   "outputs": [
    {
     "data": {
      "text/html": "<div>\n<style scoped>\n    .dataframe tbody tr th:only-of-type {\n        vertical-align: middle;\n    }\n\n    .dataframe tbody tr th {\n        vertical-align: top;\n    }\n\n    .dataframe thead th {\n        text-align: right;\n    }\n</style>\n<table border=\"1\" class=\"dataframe\">\n  <thead>\n    <tr style=\"text-align: right;\">\n      <th></th>\n      <th>Rank</th>\n      <th>Cafe</th>\n      <th>Menu</th>\n      <th>URL</th>\n    </tr>\n  </thead>\n  <tbody>\n    <tr>\n      <th>0</th>\n      <td>1</td>\n      <td>Old Oak Tap</td>\n      <td>BLT</td>\n      <td>https://www.chicagomag.com/Chicago-Magazine/No...</td>\n    </tr>\n    <tr>\n      <th>1</th>\n      <td>2</td>\n      <td>Au Cheval</td>\n      <td>Fried Bologna</td>\n      <td>https://www.chicagomag.com/Chicago-Magazine/No...</td>\n    </tr>\n    <tr>\n      <th>2</th>\n      <td>3</td>\n      <td>Xoco</td>\n      <td>Woodland Mushroom</td>\n      <td>https://www.chicagomag.com/Chicago-Magazine/No...</td>\n    </tr>\n    <tr>\n      <th>3</th>\n      <td>4</td>\n      <td>Al’s Deli</td>\n      <td>Roast Beef</td>\n      <td>https://www.chicagomag.com/Chicago-Magazine/No...</td>\n    </tr>\n    <tr>\n      <th>4</th>\n      <td>5</td>\n      <td>Publican Quality Meats</td>\n      <td>PB&amp;L</td>\n      <td>https://www.chicagomag.com/Chicago-Magazine/No...</td>\n    </tr>\n  </tbody>\n</table>\n</div>",
      "text/plain": "  Rank                    Cafe               Menu  \\\n0    1             Old Oak Tap                BLT   \n1    2               Au Cheval      Fried Bologna   \n2    3                    Xoco  Woodland Mushroom   \n3    4               Al’s Deli         Roast Beef   \n4    5  Publican Quality Meats               PB&L   \n\n                                                 URL  \n0  https://www.chicagomag.com/Chicago-Magazine/No...  \n1  https://www.chicagomag.com/Chicago-Magazine/No...  \n2  https://www.chicagomag.com/Chicago-Magazine/No...  \n3  https://www.chicagomag.com/Chicago-Magazine/No...  \n4  https://www.chicagomag.com/Chicago-Magazine/No...  "
     },
     "execution_count": 19,
     "metadata": {},
     "output_type": "execute_result"
    }
   ],
   "source": [
    "# 컬럼 순서 정리\n",
    "df = pd.DataFrame(data, columns=['Rank', 'Cafe', 'Menu', 'URL'])\n",
    "df.head()"
   ]
  },
  {
   "cell_type": "code",
   "execution_count": 20,
   "metadata": {},
   "outputs": [],
   "source": [
    "# 저장하기\n",
    "df.to_csv('/Users/nani/Desktop/GitHub/DataScience/data/03. best_sandwiches_list_chicago.csv', sep=',')"
   ]
  },
  {
   "cell_type": "markdown",
   "execution_count": null,
   "metadata": {},
   "outputs": [],
   "source": [
    "## 3. 다수의 웹 페이지에 자동으로 접근해서 원하는 정보 가져오기"
   ]
  },
  {
   "cell_type": "code",
   "execution_count": 21,
   "metadata": {},
   "outputs": [
    {
     "data": {
      "text/html": "<div>\n<style scoped>\n    .dataframe tbody tr th:only-of-type {\n        vertical-align: middle;\n    }\n\n    .dataframe tbody tr th {\n        vertical-align: top;\n    }\n\n    .dataframe thead th {\n        text-align: right;\n    }\n</style>\n<table border=\"1\" class=\"dataframe\">\n  <thead>\n    <tr style=\"text-align: right;\">\n      <th></th>\n      <th>Rank</th>\n      <th>Cafe</th>\n      <th>Menu</th>\n      <th>URL</th>\n    </tr>\n  </thead>\n  <tbody>\n    <tr>\n      <th>0</th>\n      <td>1</td>\n      <td>Old Oak Tap</td>\n      <td>BLT</td>\n      <td>https://www.chicagomag.com/Chicago-Magazine/No...</td>\n    </tr>\n    <tr>\n      <th>1</th>\n      <td>2</td>\n      <td>Au Cheval</td>\n      <td>Fried Bologna</td>\n      <td>https://www.chicagomag.com/Chicago-Magazine/No...</td>\n    </tr>\n    <tr>\n      <th>2</th>\n      <td>3</td>\n      <td>Xoco</td>\n      <td>Woodland Mushroom</td>\n      <td>https://www.chicagomag.com/Chicago-Magazine/No...</td>\n    </tr>\n    <tr>\n      <th>3</th>\n      <td>4</td>\n      <td>Al’s Deli</td>\n      <td>Roast Beef</td>\n      <td>https://www.chicagomag.com/Chicago-Magazine/No...</td>\n    </tr>\n    <tr>\n      <th>4</th>\n      <td>5</td>\n      <td>Publican Quality Meats</td>\n      <td>PB&amp;L</td>\n      <td>https://www.chicagomag.com/Chicago-Magazine/No...</td>\n    </tr>\n  </tbody>\n</table>\n</div>",
      "text/plain": "   Rank                    Cafe               Menu  \\\n0     1             Old Oak Tap                BLT   \n1     2               Au Cheval      Fried Bologna   \n2     3                    Xoco  Woodland Mushroom   \n3     4               Al’s Deli         Roast Beef   \n4     5  Publican Quality Meats               PB&L   \n\n                                                 URL  \n0  https://www.chicagomag.com/Chicago-Magazine/No...  \n1  https://www.chicagomag.com/Chicago-Magazine/No...  \n2  https://www.chicagomag.com/Chicago-Magazine/No...  \n3  https://www.chicagomag.com/Chicago-Magazine/No...  \n4  https://www.chicagomag.com/Chicago-Magazine/No...  "
     },
     "execution_count": 21,
     "metadata": {},
     "output_type": "execute_result"
    }
   ],
   "source": [
    "df = pd.read_csv('/Users/nani/Desktop/GitHub/DataScience/data/03. best_sandwiches_list_chicago.csv', index_col=0)\n",
    "df.head()"
   ]
  },
  {
   "cell_type": "code",
   "execution_count": 22,
   "metadata": {},
   "outputs": [
    {
     "data": {
      "text/plain": "'https://www.chicagomag.com/Chicago-Magazine/November-2012/Best-Sandwiches-in-Chicago-Old-Oak-Tap-BLT/'"
     },
     "execution_count": 22,
     "metadata": {},
     "output_type": "execute_result"
    }
   ],
   "source": [
    "df['URL'][0]"
   ]
  },
  {
   "cell_type": "code",
   "execution_count": 23,
   "metadata": {},
   "outputs": [
    {
     "data": {
      "text/plain": "ed. We review them in an effort to remove foul language, commercial messages, abuse, and irrelevancies.</p>\n<div id=\"disqus_thread\" style=\"max-width: 600px;\"></div>\n<script type=\"text/javascript\">\n</script>\n<noscript>Enable JavaScript to view the <a href=\"http://disqus.com/?ref_noscript\">comments powered by Disqus.</a></noscript>\n</div>\n</div>\n<!-- Begin Sidebar -->\n<aside class=\"article long clearfix\">\n<div class=\"tablet-sidebar-left\">\n<a class=\"edit_from_site\" content_id=\"widget-marketplace-sponsor\" href=\"#\" media_id=\"83\">Edit Module</a>\n<style>\n\n.btn-widget-small {\n margin-bottom: 5px;}\n\n.amp {\ncolor: white;\nwebkit-transition: none .2s ease; \n}\n\nul.menu {\nbackground: black;\n   position:absolute;\n   /*height: 0px;*/\n   visibility: hidden;\n   margin-top: 0px;\n  background-color: black;\n  width: 300px;\n  padding: 0px 0px 10px;\nz-index: 9999999;\n}\n\nul.menu li a {\n   font-size: .75em;\n   font-style: italic;\n   text-align:center;\n}\n#btn-sponsored-features {\nposition: relative;\n}\n\n#btn-sponsored-features:hover .menu {\n  /*position: relative;*/\n  visibility: visible;\n\n  /*height: 80%;*/\n\n}\n\nul.menu a {\n-webkit-transition: none;-moz-transition:none;transition:none;\n}\n#marketing-widget {\nmargin-bottom: 20px;\n}\n</style>\n<div id=\"marketing-widget\">\n<div class=\"btn-widget-small btn-widget-small-reverse\">\n<a href=\"/marketplace\" onclick=\"ga('send',  'event','M&amp;C widget', 'Marketplace');\" style=\"display: inline-block; margin-right: 2px;\">Marketplace</a>\n</div>\n<div class=\"btn-widget-small btn-widget-small-reverse\">\n<a href=\"/Chicago-Magazine/Promotion/Events-and-Party-Pix/\" onclick=\"ga('send',  'event','M&amp;C widget', 'Events and Party Pix');\" style=\"display: inline-block; margin-right: 2px;\">Events <span class=\"new-amp\">&amp;</span> Party Pix</a>\n</div>\n<div class=\"btn-widget-small btn-widget-small-reverse\" id=\"btn-sponsored-features\"><span>Resource Guide</span>\n<ul class=\"menu\">\n<li><a href=\"http://www.chicagomag.com/Chicago-Magazine/Promotion/Chicago-Profiles/\" onclick=\"ga('send',  'event','M&amp;C widget', 'Chicago Profiles');\">Chicago Profiles</a></li>\n<li><a href=\"http://www.chicagomag.com/Chicago-Magazine/Promotion/Dental-Profiles/\" onclick=\"ga('send',  'event','M&amp;C widget', 'Dental Profiles');\">Dental Profiles</a></li>\n<li><a href=\"http://www.chicagomag.com/Chicago-Magazine/Promotion/DIY-My-Wine/\" onclick=\"ga('send',  'event','DIY My Wine', 'Dental Profiles');\">DIY My Wine</a></li>\n<li><a href=\"http://www.chicagomag.com/Chicago-Magazine/Promotion/Experience-Chicago/\" onclick=\"ga('send',  'event','M&amp;C widget', 'Experience Chicago');\">Experience Chicago</a></li>\n<li><a href=\"http://www.chicagomag.com/Chicago-Magazine/Promotion/Guide-to-Summer-Camps/\" onclick=\"ga('send',  'event','M&amp;C widget', '2019 Summer Camps');\">Guide to Summer Camps</a></li>\n<li><a href=\"http://www.chicagomag.com/Chicago-Magazine/Promotion/Give-Chicago\" onclick=\"ga('send',  'event','M&amp;C widget', '2018 Give Chicago');\">Give Chicago</a></li>\n<li><a href=\"http://www.chicagomag.com/Chicago-Magazine/Promotion/2019-Go-West/\" onclick=\"ga('send',  'event','M&amp;C widget', '2018 Go West');\">Go West</a></li>\n<!-- <li><a href=\"http://www.chicagomag.com/Chicago-Magazine/Promotion/Make-it-Lincoln-Park-2018/\" onclick=\"ga('send',  'event','M&C widget', 'Make It Lincoln Park');\">Make it Lincoln Park</a></li>  -->\n<li><a href=\"http://www.chicagomag.com/Chicago-Magazine/Promotion/Prime-of-Your-Life-2018/\" onclick=\"ga('send',  'event','M&amp;C widget', 'Prime of Your Life');\">Prime of Your Life</a></li>\n<li><a href=\"http://www.chicagomag.com/Chicago-Magazine/Promotion/Professional-Profiles/\" onclick=\"ga('send',  'event','M&amp;C widget', 'Professional Profiles');\">Professional Profiles</a></li>\n<li><a href=\"/Chicago-Magazine/Promotion/School-Open-House-Guide/\" onclick=\"ga('send',  'event','M&amp;C widget', 'School Open House Guide');\">School Open House Guide</a></li>\n<li><a href=\"/Chicago-Magazine/Promotion/Top-Producing-Agents/\" onclick=\"ga('send',  'event','M&amp;C widget', 'Top Producing Agents');\">Top Producing Agents</a></li>\n<li><a href=\"/Chicago-Magazine/Promotion/Visit-Sun-Valley/\" onclick=\"ga('send',  'event','M&amp;C widget', 'Visit Sun Valley');\">Visit Sun Valley</a></li>\n</ul>\n</div>\n</div>\n<a class=\"edit_from_site\" content_id=\"cube-1\" href=\"#\" media_id=\"83\">Edit Module</a>\n<div class=\"ad sq\">\n<h2>Advertisement</h2>\n<div id=\"div-gpt-ad-cube-1\" style=\"height: 250px; width: 300px;\"></div>\n<script type=\"text/javascript\">\ngoogletag.cmd.push(function() {\n\t\tgoogletag.display('div-gpt-ad-cube-1');\n});\n\t</script>\n</div>\n<a class=\"edit_from_site\" content_id=\"cube-3\" href=\"#\" media_id=\"83\">Edit Module</a>\n<div class=\"ad sq\">\n<h2>Advertisement</h2>\n<div id=\"div-gpt-ad-cube-3\" style=\"width: 300px; height: 250px; margin: 0 auto;\">\n<script>\ngoogletag.cmd.push(function() {\n    googletag.display('div-gpt-ad-cube-3');\n});\n  </script>\n</div>\n</div>\n</div>\n<div class=\"tablet-sidebar-right\">\n<form action=\"\" method=\"post\" name=\"newsletter\" onsubmit=\"validateNewsletter(); return false;\">\n<section class=\"newsletters widget\" id=\"category-specific-newsletter\">\n<h2 class=\"title red-border\" id=\"newsletterTitle\">Get Our Newsletters</h2>\n<div class=\"newsletter-reveal clearfix\" style=\"display: block;\">\n<p class=\"newsletter-description\"></p>\n<input class=\"clean white\" name=\"email\" placeholder=\"Your email address\" type=\"text\"/>\n<div class=\"form-error\" id=\"error-email\">\n          Please enter your email address\n        </div>\n<label class=\"checkbox\" for=\"over21\"> <input checked=\"\" id=\"over21\" name=\"over21\" type=\"checkbox\" value=\"yes\"/>Are you 21 or older?</label>\n<input name=\"source\" type=\"hidden\" value=\"/Chicago-Magazine/November-2012/Best-Sandwiches-in-Chicago-Old-Oak-Tap-BLT/\"/>\n<input id=\"newsletterChoice\" name=\"newsletter\" type=\"hidden\" value=\"\"/>\n<br style=\"clear:both;\"/>\n<button type=\"submit\">Subscribe</button>\n</div>\n</section>\n</form>\n<script>\n      var newsletterChoice = \"Dish\";\n  \n  \n\n    var cookieValue = getCookie('subscribe-'+newsletterChoice.replace(' ','-'));\n    if (cookieValue == 'true') {\n      jQuery('#category-specific-newsletter').hide();\n    }\n\n    else {\n      var description = '';\n      switch (newsletterChoice) {\n        case 'Home & Real Estate':\n          description = \"<span class='leadin'>Fridays:</span> Get the latest real estate news, keep an eye on the city’s most beautiful and unique listings, and learn about the best home & design events locally.\";\n          break;\n        case 'The 312':\n          description = \"<span class='leadin'>Tuesdays:</span> Get up to speed on the week’s most important stories and must-reads.\";\n          break;\n        case 'Chicago Guide':\n          description = \"<span class='leadin'>Wednesdays:</span> <em>Chicago</em>’s culture critics bring you a weekly list of the top five events worth your time and money.\";\n          break;\n        case 'Go Travel':\n          description = \"<span class='leadin'>Monthly:</span> Be the first to know about exclusive travel discounts and offers to help you plan your next big adventure, courtesy of our sponsors.\";\n          break;\n        case 'Dish':\n          description = \"<span class='leadin'>Wednesdays:</span> Want the latest news from the Chicagoland dining scene served up fresh in your email inbox? Sign up for the weekly newsletter and get inside access to the city’s most plugged-in food and dining coverage. \";\n          break;\n        case 'Sales Check':\n          description = \"<span class='leadin'>Thursdays:</span> Hear about the great shopping experiences in the Chicago area, plus the latest news about hot store openings, sales, trends, and local retail news. Shop-a-holic? We know just how you feel. \";\n          break;\n        case 'VIP Newsletter':\n          description = \"<span class='leadin'>Mondays, Wednesdays, and Fridays: </span><em>Chicago</em> magazine hosts various events throughout the year. Sign up and join the party!\";\n          break;\n        case 'Special Offers':\n          description = 'Receive special offers and discounts from <em>Chicago</em> magazine’s selected partners.';\n          break;\n        case 'Health & Wellness':\n          description = \"<span class='leadin'>Third Mondays: </span>The top local stories in health care innovation, nutrition, exercise, wellness, and more—plus, local classes and workshops worth attending. Our editors will bring you the latest on how to live life, well.\";\n          break;\n        case 'Select all':\n          description = 'Subscribe to <em>Chicago Guide</em>, <em>Chicago Travel</em>, <em>Dish</em>, <em>Health & Wellness</em>, <em>Sales Check</em>, <em>Home & Real Estate</em>, <em>VIP Newsletter</em>, and <em>Special Offers</em>.'\n      }\n\n\n      jQuery('.newsletter-description').html(description);\n      jQuery('.newsletter-reveal').slideDown();\n      jQuery('#newsletterChoice').val(newsletterChoice);\n      jQuery('#newsletterTitle').html('Subscribe to ' + newsletterChoice);\n    }\n\n</script>\n<div class=\"lazyload\" data-url=\"/lazyloads/most-popular/\" id=\"lazy-popular\"></div>\n<div id=\"fixie-side-position-finder\">\n<div class=\"clearfix\" id=\"fixie-side\">\n<a class=\"edit_from_site\" content_id=\"cube-2\" href=\"#\" media_id=\"83\">Edit Module</a>\n<div class=\"ad sq\">\n<h2>Advertisement</h2>\n<div id=\"div-gpt-ad-cube-2\" style=\"width: 300px; height: 250px; margin: 0 auto;\">\n<script>\ngoogletag.cmd.push(function() {\n    googletag.display('div-gpt-ad-cube-2');\n});\n  </script>\n</div>\n</div>\n<script>\n          // Make the fixed slot refresh every 2 minutes (on desktops; ad is not fixed elsewhere)\n          setInterval(function(){\n            if (jQuery('#fixie-side').css('position') == 'fixed') {\n              googletag.pubads().refresh([cube2]);\n              }\n            }, 120000);\n        </script>\n<a class=\"edit_from_site\" content_id=\"widget-current-issue\" href=\"#\" media_id=\"83\">Edit Module</a>\n<section class=\"subscribe widget\">\n<a class=\"button\" href=\"javascript:void(0);\"><span class=\"title\">Subscribe</span><span class=\"plus\">+</span><span class=\"minus\">-</span></a>\n<div class=\"issue\">\n<a href=\"/Chicago-Magazine/January-2020/\" onclick=\"ga('send',  'event', 'Current issue widget', 'Current issue');\"><img alt=\"Current issue of Chicago magazine\" height=\"145\" src=\"/images/cache/cache_9/cache_4/cache_f/CMAG0120-cover-45cb8f49.jpeg?ver=1577810889&amp;aspectratio=0.75862068965517\" width=\"110\"/></a>\n<a class=\"btn\" href=\"/subscribe\" onclick=\"ga('send',  'event', 'Current issue widget', 'Subscribe (red button)');\">Subscribe</a>\n</div>\n<ul>\n<li>\n<a href=\"/subscribe\" onclick=\"ga('send',  'event', 'Current issue widget', 'Subscribe');\">\n<span class=\"lead\"><span class=\"red\">Subscribe</span> to the</span>\n<span class=\"title\">Print &amp; Tablet Edition</span>\n</a>\n</li>\n<li>\n<a href=\"http://www.chicagomag.com/digitaledition\" onclick=\"ga('send',  'event', 'Current issue widget', 'Digital edition');\">\n<span class=\"lead\"><span class=\"red\">Subscribe</span> to the</span>\n<span class=\"title\">Digital Edition</span>\n</a>\n</li>\n<li>\n<a class=\"ipad\" href=\"/ipad\" onclick=\"ga('send',  'event', 'Current issue widget', 'iPad');\">\n<span class=\"lead\"><span class=\"red\">Download</span> our tablet app for</span>\n<span class=\"title\">iPad</span>\n</a>\n<a class=\"android\" href=\"/android\" onclick=\"ga('send',  'event', 'Current issue widget', 'Android');\">\n<span class=\"title\">Android</span>\n</a>\n</li>\n<li>\n<a class=\"single\" href=\"/single-issues\" onclick=\"ga('send',  'event', 'Current issue widget', 'Single Issues');\">\n<span class=\"lead\"><span class=\"red\">Purchase</span> copies of</span>\n<span class=\"title\">Single Issues</span>\n</a>\n<a class=\"gift\" href=\"/gifts\" onclick=\"ga('send',  'event', 'Current issue widget', 'Gift');\">Give a <span class=\"red\">gift</span> subscription</a>\n</li>\n</ul>\n</section>\n</div>\n</div>\n</div>\n</aside>\n<!-- End Sidebar -->\n</div> <!-- End .content-and-sidebar -->\n</article>\n<!-- End Main Article Container -->\n</div><!--- End Page -->\n<a class=\"edit_from_site\" content_id=\"leaderboard-2\" href=\"#\" media_id=\"83\">Edit Module</a>\n<style type=\"text/css\">\n      @media (max-width:735px) {\n    #div-gpt-ad-leaderboard-2 {\n          display:none !important;\n        }\n   }\n</style>\n<div class=\"ad ban\" id=\"div-gpt-ad-leaderboard-2\">\n<script type=\"text/javascript\">\nif (document.documentElement.clientWidth > 735) {\ngoogletag.cmd.push(function() {\n    googletag.display('div-gpt-ad-leaderboard-2');\n});\n}\n  </script>\n</div>\n</div><!-- End Content Wrap -->\n<div id=\"div-out-of-page\">\n<script>\n  googletag.cmd.push(function() {\n    googletag.display('div-out-of-page');\n  });\n  </script>\n</div>\n<script>(function(d, s, id) {\n  var js, fjs = d.getElementsByTagName(s)[0];\n  if (d.getElementById(id)) return;\n  js = d.createElement(s); js.id = id;\n  js.src = \"//connect.facebook.net/en_US/all.js#xfbml=1&appId=432224116825361\";\n  fjs.parentNode.insertBefore(js, fjs);\n}(document, 'script', 'facebook-jssdk'));</script>\n<!-- LSC tracking pixel -->\n<script>\n    document.write('<script id=\"tbw_pixel\" type=\"text/javascript\" src=\"//d26x5ounzdjojj.cloudfront.net/tbw/tbw_analytics_v1.0.js?' + (new Date()).getHours() + '\" onload=\"tbw_parse(this);\" tbw_site_id=\"Ldd6b4994ab6844a0\" tbw_segment=\"Retargeting\" defer><\\/script>');\n</script>\n<!-- fix for gallery height bug -->\n<script>\njQuery( document ).ready(function() {\n  jQuery('.photoset-grid-basic .photoset-row').css( \"height\", \"initial\" );\n});\n</script>\n<!-- force removal of bottom nav in gallery view -->\n<style>\nbody.gallery.no-nav aside.story-nav-aside {\n  display: none !important;\n}\n</style>\n<footer class=\"page-footer\">\n<nav>\n<a class=\"logo background-logo-svg\" href=\"/\" onclick=\"ga('send', 'event', 'Global footer', 'Logo to home');\">Chicago magazine</a>\n<select class=\"clean wide nav\" id=\"page-nav-mobile\" onchange=\"location = this.options[this.selectedIndex].value;\">\n<option value=\"/Chicago-Magazine/Advertise\">Advertise</option>\n<option value=\"/Chicago-Magazine/Contact-Us\">Contact Us</option>\n<option value=\"/Chicago-Magazine/Classifieds/\">Marketplace</option>\n<option value=\"http://www.tronc.com/privacy-policy/\">Privacy &amp; Terms (Updated)</option>\n<option value=\"/Chicago-Magazine/archive-index-test\">Archive</option>\n<option value=\"/customerservice\">Customer Service</option>\n<option value=\"/newsletters\">Newsletters</option>\n<option value=\"/subscribe\">Subscribe</option>\n</select>\n<section class=\"links\">\n<ul>\n<li><a href=\"/Chicago-Magazine/Advertise\" onclick=\"ga('send', 'event','Global footer', 'Advertise');\">Advertise</a></li>\n<li><a href=\"/Chicago-Magazine/Contact-Us\" onclick=\"ga('send', 'event','Global footer', 'Contact us');\">Contact Us</a></li>\n<li><a href=\"/Chicago-Magazine/Classifieds/\" onclick=\"ga('send', 'event','Global footer', 'Marketplace');\">Marketplace</a></li>\n<li><a href=\"http://www.tronc.com/privacy-policy/\" onclick=\"ga('send', 'event','Global footer', 'Privacy');\">Privacy (Updated)</a></li>\n<li><a href=\"http://www.tronc.com/central-terms-of-service/\" onclick=\"ga('send', 'event','Global footer', 'Terms');\">Terms</a></li>\n</ul>\n<ul>\n<li><a href=\"/Chicago-Magazine/archive-index-test\" onclick=\"ga('send', 'event','Global footer', 'Archive');\">Archive</a></li>\n<li><a href=\"/customerservice\" onclick=\"ga('send', 'event','Global footer', 'Customer service');\">Customer Service</a></li>\n<li><a href=\"/newsletters\" onclick=\"ga('send', 'event','Global footer', 'Newsletters');\">Newsletters</a></li>\n<li><a href=\"/subscribe\" onclick=\"ga('send', 'event','Global footer', 'Subscribe');\">Subscribe</a></li>\n</ul>\n</section>\n<div class=\"credits\">\n<p class=\"copyright\">©<span id=\"copyright-year\"></span> <em>Chicago</em> magazine / A Chicago Tribune Media Group website</p>\n</div>\n</nav>\n</footer>\n<!--[if lt IE 9]>\n<script type=\"text/javascript\" language\"Javascript\">\nconsole.log('Mutha ucking IE8');\njQuery('html').addClass('old-ie');\n</script>\n<![endif]-->\n<script>\ndocument.getElementById('copyright-year').innerHTML = new Date().getFullYear()\n</script>\n<!-- Chartbeat -->\n<script type=\"text/javascript\">\nvar _sf_async_config={uid:3096,domain:\"chicagomag.com\"}; // ,useCanonical: true\n\n  _sf_async_config.sections = \"Dining & Drinking\";\n\n\n(function(){\n  function loadChartbeat() {\n    window._sf_endpt=(new Date()).getTime();\n    var e = document.createElement('script');\n    e.setAttribute('language', 'javascript');\n    e.setAttribute('type', 'text/javascript');\n    e.setAttribute('src',\n       ((\"https:\" == document.location.protocol) ? \"https://a248.e.akamai.net/chartbeat.download.akamai.com/102508/\" : \"http://static.chartbeat.com/\") +\n       \"js/chartbeat.js\");\n    document.body.appendChild(e);\n  }\n  var oldonload = window.onload;\n  window.onload = (typeof window.onload != 'function') ?\n     loadChartbeat : function() { oldonload(); loadChartbeat(); };\n})();\n</script>\n<!-- Google Custom Search Engine -->\n<script type=\"text/javascript\">\n  (function() {\n    var cx = '010330565828956611806:7mfjr5payok'; //PROD\n    // var cx = '012184964769571027538:4alkqopmlde'; // DEV\n    var gcse = document.createElement('script');\n    gcse.type = 'text/javascript';\n    gcse.async = true;\n    gcse.src = (document.location.protocol == 'https:' ? 'https:' : 'http:') +\n        '//www.google.com/cse/cse.js?cx=' + cx;\n    var s = document.getElementsByTagName('script')[0];\n    s.parentNode.insertBefore(gcse, s);\n  })();\n</script>\n<script src=\"https://www.sc.pages05.net/lp/static/js/iMAWebCookie.js?5d52baad-1411358527b-d7c8ec57ae636c7258d3eb0ef0e531f2&amp;h=www.pages05.net\" type=\"text/javascript\"></script>\n<!-- Disqus -->\n<!-- For Citi sponsorship (remove this conditional after Nov 2018) -->\n<!-- -->\n<script>\n  var disqus_shortname = 'chicagomag';\n  var disqus_identifier = '19495';\n  var disqus_title = '1. Old Oak Tap BLT';\n  var disqus_url = 'http://www.chicagomag.com/Chicago-Magazine/November-2012/Best-Sandwiches-in-Chicago-Old-Oak-Tap-BLT/';\n\n  /* * * DON'T EDIT BELOW THIS LINE * * */\n  (function() {\n      var dsq = document.createElement('script'); dsq.type = 'text/javascript'; dsq.async = true;\n      dsq.src = '//' + disqus_shortname + '.disqus.com/embed.js';\n      (document.getElementsByTagName('head')[0] || document.getElementsByTagName('body')[0]).appendChild(dsq);\n  })();\n\n  (function () {\n  var s = document.createElement('script'); s.async = true;\n  s.type = 'text/javascript';\n  s.src = 'http://' + disqus_shortname + '.disqus.com/count.js';\n  (document.getElementsByTagName('HEAD')[0] || document.getElementsByTagName('BODY')[0]).appendChild(s);\n  }());\n</script>\n<!-- -->\n<!-- Clean up the lame Rivista pagination -->\n<script type=\"text/javascript\">\n  var pb = jQuery('.page-break');\n  if (pb.length) {\n    var pagebreak = pb.html();\n    // Remove it from Page 1\n    if (pagebreak.substring(0,10) == \"(page 1 of\") {\n      pb.hide();\n    }\n    else if (pagebreak.substring(0,13) == \"<em>Page 1 of\") {\n       pb.hide();\n    }\n    else {\n      pagebreak = pagebreak.replace(\"(page\",\"<em>Page\");\n      pagebreak = pagebreak.replace(\")\",\"</em>\");\n      pb.html(pagebreak);\n      pb.css('display','inline-block');\n    }\n  }\n</script>\n<!--[if lt IE 9]>\n<script  type=\"text/javascript\" language=\"JavaScript\" src=\"/core/media/themes/Respond/js/respond.js?ver=1473876729\"></script>\n<![endif]-->\n<script language=\"JavaScript\" src=\"/core/media/js/base.js?ver=1473876728\" type=\"text/javascript\"></script>\n<script language=\"JavaScript\" src=\"/core/media/themes/Respond/js/bootstrap.min.js?ver=1473876729\" type=\"text/javascript\"></script>\n<script language=\"JavaScript\" src=\"//maps.googleapis.com/maps/api/js?v=3.exp&amp;sensor=false\" type=\"text/javascript\"></script>\n<script language=\"JavaScript\" src=\"/theme_overrides/Respond/js/interstitial.js?ver=1524154906\" type=\"text/javascript\"></script>\n<script language=\"JavaScript\" src=\"/theme_overrides/Respond/js/newsletter-subscribe.js?ver=1524850607\" type=\"text/javascript\"></script>\n<script language=\"JavaScript\" src=\"/theme_overrides/Respond/js/RivistaGoogleDFP.js?ver=1447178886\" type=\"text/javascript\"></script>\n<!-- godengo-monitor --></body>\n</html>"
     },
     "execution_count": 23,
     "metadata": {},
     "output_type": "execute_result"
    }
   ],
   "source": [
    "# 상세페이지로 이동\n",
    "html = urlopen(df['URL'][0])\n",
    "soup_tmp = BeautifulSoup(html, 'html.parser')\n",
    "soup_tmp"
   ]
  },
  {
   "cell_type": "code",
   "execution_count": 24,
   "metadata": {},
   "outputs": [
    {
     "name": "stdout",
     "output_type": "stream",
     "text": "<p class=\"addy\">\n<em>$10. 2109 W. Chicago Ave., 773-772-0406, <a href=\"http://www.theoldoaktap.com/\">theoldoaktap.com</a></em></p>\n"
    }
   ],
   "source": [
    "# 상세정보\n",
    "print(soup_tmp.find('p', 'addy'))"
   ]
  },
  {
   "cell_type": "code",
   "execution_count": 25,
   "metadata": {},
   "outputs": [
    {
     "data": {
      "text/plain": "'\\n$10. 2109 W. Chicago Ave., 773-772-0406, theoldoaktap.com'"
     },
     "execution_count": 25,
     "metadata": {},
     "output_type": "execute_result"
    }
   ],
   "source": [
    "price_tmp = soup_tmp.find('p', 'addy').get_text()\n",
    "price_tmp"
   ]
  },
  {
   "cell_type": "code",
   "execution_count": 26,
   "metadata": {},
   "outputs": [
    {
     "data": {
      "text/plain": "['$10.', '2109', 'W.', 'Chicago', 'Ave.,', '773-772-0406,', 'theoldoaktap.com']"
     },
     "execution_count": 26,
     "metadata": {},
     "output_type": "execute_result"
    }
   ],
   "source": [
    "price_tmp.split()"
   ]
  },
  {
   "cell_type": "code",
   "execution_count": 27,
   "metadata": {},
   "outputs": [
    {
     "data": {
      "text/plain": "'$10.'"
     },
     "execution_count": 27,
     "metadata": {},
     "output_type": "execute_result"
    }
   ],
   "source": [
    "price_tmp.split()[0]"
   ]
  },
  {
   "cell_type": "code",
   "execution_count": 28,
   "metadata": {},
   "outputs": [
    {
     "data": {
      "text/plain": "'$10'"
     },
     "execution_count": 28,
     "metadata": {},
     "output_type": "execute_result"
    }
   ],
   "source": [
    "price_tmp.split()[0][:-1]  # 가격"
   ]
  },
  {
   "cell_type": "code",
   "execution_count": 29,
   "metadata": {},
   "outputs": [
    {
     "data": {
      "text/plain": "'2109 W. Chicago Ave.,'"
     },
     "execution_count": 29,
     "metadata": {},
     "output_type": "execute_result"
    }
   ],
   "source": [
    "' '.join(price_tmp.split()[1:-2])  # 주소"
   ]
  },
  {
   "cell_type": "code",
   "execution_count": 30,
   "metadata": {},
   "outputs": [
    {
     "data": {
      "text/plain": "Int64Index([0, 1, 2], dtype='int64')"
     },
     "execution_count": 30,
     "metadata": {},
     "output_type": "execute_result"
    }
   ],
   "source": [
    "df.index[:3]"
   ]
  },
  {
   "cell_type": "code",
   "execution_count": 31,
   "metadata": {},
   "outputs": [],
   "source": [
    "price = []\n",
    "address = []\n",
    "\n",
    "for n in df.index[:3]:  # 예시로 50개 중 3개만 돌려봄\n",
    "    html = urlopen(df['URL'][n])\n",
    "    soup_tmp = BeautifulSoup(html, 'lxml')\n",
    "    \n",
    "    gettings = soup_tmp.find('p', 'addy').get_text()\n",
    "\n",
    "    price.append(gettings.split()[0][:-1])\n",
    "    address.append(' '.join(gettings.split()[1:-2]))"
   ]
  },
  {
   "cell_type": "code",
   "execution_count": 32,
   "metadata": {},
   "outputs": [
    {
     "data": {
      "text/plain": "['$10', '$9', '$9.50']"
     },
     "execution_count": 32,
     "metadata": {},
     "output_type": "execute_result"
    }
   ],
   "source": [
    "price"
   ]
  },
  {
   "cell_type": "code",
   "execution_count": 33,
   "metadata": {},
   "outputs": [
    {
     "data": {
      "text/plain": "['2109 W. Chicago Ave.,', '800 W. Randolph St.,', '445 N. Clark St.,']"
     },
     "execution_count": 33,
     "metadata": {},
     "output_type": "execute_result"
    }
   ],
   "source": [
    "address"
   ]
  },
  {
   "cell_type": "code",
   "execution_count": 34,
   "metadata": {},
   "outputs": [
    {
     "name": "stderr",
     "output_type": "stream",
     "text": "100%|██████████| 50/50 [03:26<00:00,  4.12s/it]\n"
    }
   ],
   "source": [
    "# tqdm 설치 후 50개 돌리기\n",
    "from tqdm import tqdm\n",
    "\n",
    "price = []\n",
    "address = []\n",
    "\n",
    "for n in tqdm(df.index):\n",
    "    html = urlopen(df['URL'][n])\n",
    "    soup_tmp = BeautifulSoup(html, 'lxml')\n",
    "    \n",
    "    gettings = soup_tmp.find('p', 'addy').get_text()\n",
    "\n",
    "    price.append(gettings.split()[0][:-1])\n",
    "    address.append(' '.join(gettings.split()[1:-2]))"
   ]
  },
  {
   "cell_type": "code",
   "execution_count": 35,
   "metadata": {},
   "outputs": [
    {
     "data": {
      "text/plain": "['$10',\n '$9',\n '$9.50',\n '$9.40',\n '$10',\n '$7.25',\n '$16',\n '$10',\n '$9',\n '$17',\n '$11',\n '$5.49',\n '$14',\n '$10',\n '$13',\n '$4.50',\n '$11.95',\n '$11.50',\n '$6.25',\n '$15',\n '$5',\n '$6',\n '$8',\n '$5.99',\n '$7.52',\n '$11.95',\n '$7.50',\n '$12.95',\n '$7',\n '$21',\n '$9.79',\n '$9.75',\n '$13',\n '$7.95',\n '$9',\n '$9',\n '$8',\n '$8',\n '$7',\n '$6',\n '$7.25',\n '$11',\n '$6',\n '$9',\n '$5.49',\n '$8',\n '$6.50',\n '$7.50',\n '$8.75',\n '$6.85']"
     },
     "execution_count": 35,
     "metadata": {},
     "output_type": "execute_result"
    }
   ],
   "source": [
    "price"
   ]
  },
  {
   "cell_type": "code",
   "execution_count": 36,
   "metadata": {},
   "outputs": [
    {
     "data": {
      "text/plain": "['2109 W. Chicago Ave.,',\n '800 W. Randolph St.,',\n '445 N. Clark St.,',\n '914 Noyes St., Evanston,',\n '825 W. Fulton Mkt.,',\n '100 E. Walton',\n '1639 S. Wabash Ave.,',\n '2211 W. North Ave.,',\n '3619 W. North Ave.,',\n '3267 S. Halsted St.,',\n '2537 N. Kedzie Blvd.,',\n 'Multiple',\n '3124 N. Broadway,',\n '3455 N. Southport Ave.,',\n '2657 N. Kedzie Ave.,',\n '1120 W. Grand Ave.,',\n '1141 S. Jefferson St.,',\n '333 E. Benton Pl.,',\n '1411 N. Wells St.,',\n '1747 N. Damen Ave.,',\n '3209 W. Irving Park',\n 'Multiple',\n '5347 N. Clark St.,',\n '2954 W. Irving Park Rd.,',\n 'Multiple',\n '191 Skokie Valley Rd., Highland Park,',\n 'Multiple',\n '1818 W. Wilson Ave.,',\n '2517 W. Division St.,',\n '218 W. Kinzie',\n 'Multiple',\n '1547 N. Wells St.,',\n '415 N. Milwaukee Ave.,',\n '1840 N. Damen Ave.,',\n '1220 W. Webster Ave.,',\n '5357 N. Ashland Ave.,',\n '1834 W. Montrose Ave.,',\n '615 N. State St.,',\n 'Multiple',\n '241 N. York Rd., Elmhurst,',\n '1323 E. 57th St.,',\n '655 Forest Ave., Lake Forest,',\n 'Hotel Lincoln, 1816 N. Clark St.,',\n '100 S. Marion St., Oak Park,',\n '26 E. Congress Pkwy.,',\n '2018 W. Chicago Ave.,',\n '25 E. Delaware Pl.,',\n '416 N. York St., Elmhurst,',\n '65 E. Washington St.,',\n '3351 N. Broadway,']"
     },
     "execution_count": 36,
     "metadata": {},
     "output_type": "execute_result"
    }
   ],
   "source": [
    "address"
   ]
  },
  {
   "cell_type": "code",
   "execution_count": 37,
   "metadata": {},
   "outputs": [
    {
     "data": {
      "text/plain": "(50, 50, 50)"
     },
     "execution_count": 37,
     "metadata": {},
     "output_type": "execute_result"
    }
   ],
   "source": [
    "len(price), len(address), len(df)"
   ]
  },
  {
   "cell_type": "code",
   "execution_count": 38,
   "metadata": {},
   "outputs": [
    {
     "data": {
      "text/html": "<div>\n<style scoped>\n    .dataframe tbody tr th:only-of-type {\n        vertical-align: middle;\n    }\n\n    .dataframe tbody tr th {\n        vertical-align: top;\n    }\n\n    .dataframe thead th {\n        text-align: right;\n    }\n</style>\n<table border=\"1\" class=\"dataframe\">\n  <thead>\n    <tr style=\"text-align: right;\">\n      <th></th>\n      <th>Cafe</th>\n      <th>Menu</th>\n      <th>Price</th>\n      <th>Address</th>\n    </tr>\n    <tr>\n      <th>Rank</th>\n      <th></th>\n      <th></th>\n      <th></th>\n      <th></th>\n    </tr>\n  </thead>\n  <tbody>\n    <tr>\n      <th>1</th>\n      <td>Old Oak Tap</td>\n      <td>BLT</td>\n      <td>$10</td>\n      <td>2109 W. Chicago Ave.,</td>\n    </tr>\n    <tr>\n      <th>2</th>\n      <td>Au Cheval</td>\n      <td>Fried Bologna</td>\n      <td>$9</td>\n      <td>800 W. Randolph St.,</td>\n    </tr>\n    <tr>\n      <th>3</th>\n      <td>Xoco</td>\n      <td>Woodland Mushroom</td>\n      <td>$9.50</td>\n      <td>445 N. Clark St.,</td>\n    </tr>\n    <tr>\n      <th>4</th>\n      <td>Al’s Deli</td>\n      <td>Roast Beef</td>\n      <td>$9.40</td>\n      <td>914 Noyes St., Evanston,</td>\n    </tr>\n    <tr>\n      <th>5</th>\n      <td>Publican Quality Meats</td>\n      <td>PB&amp;L</td>\n      <td>$10</td>\n      <td>825 W. Fulton Mkt.,</td>\n    </tr>\n  </tbody>\n</table>\n</div>",
      "text/plain": "                        Cafe               Menu  Price  \\\nRank                                                     \n1                Old Oak Tap                BLT    $10   \n2                  Au Cheval      Fried Bologna     $9   \n3                       Xoco  Woodland Mushroom  $9.50   \n4                  Al’s Deli         Roast Beef  $9.40   \n5     Publican Quality Meats               PB&L    $10   \n\n                       Address  \nRank                            \n1        2109 W. Chicago Ave.,  \n2         800 W. Randolph St.,  \n3            445 N. Clark St.,  \n4     914 Noyes St., Evanston,  \n5          825 W. Fulton Mkt.,  "
     },
     "execution_count": 38,
     "metadata": {},
     "output_type": "execute_result"
    }
   ],
   "source": [
    "# df에 price, address 추가하기\n",
    "df['Price'] = price\n",
    "df['Address'] = address\n",
    "\n",
    "df = df.loc[:, ['Rank', 'Cafe', 'Menu', 'Price', 'Address']]\n",
    "df.set_index('Rank', inplace=True)\n",
    "df.head()"
   ]
  },
  {
   "cell_type": "code",
   "execution_count": 39,
   "metadata": {},
   "outputs": [],
   "source": [
    "df.to_csv('/Users/nani/Desktop/GitHub/DataScience/data/03. best_sandwiches_list_chicago2.csv', sep=',')"
   ]
  },
  {
   "cell_type": "markdown",
   "execution_count": null,
   "metadata": {},
   "outputs": [],
   "source": [
    "## 4. 맛집 위치를 지도에 표기하기"
   ]
  },
  {
   "cell_type": "code",
   "execution_count": 40,
   "metadata": {},
   "outputs": [],
   "source": [
    "import folium\n",
    "import pandas as pd\n",
    "import googlemaps\n",
    "import numpy as np"
   ]
  },
  {
   "cell_type": "code",
   "execution_count": 41,
   "metadata": {},
   "outputs": [
    {
     "data": {
      "text/html": "<div>\n<style scoped>\n    .dataframe tbody tr th:only-of-type {\n        vertical-align: middle;\n    }\n\n    .dataframe tbody tr th {\n        vertical-align: top;\n    }\n\n    .dataframe thead th {\n        text-align: right;\n    }\n</style>\n<table border=\"1\" class=\"dataframe\">\n  <thead>\n    <tr style=\"text-align: right;\">\n      <th></th>\n      <th>Cafe</th>\n      <th>Menu</th>\n      <th>Price</th>\n      <th>Address</th>\n    </tr>\n    <tr>\n      <th>Rank</th>\n      <th></th>\n      <th></th>\n      <th></th>\n      <th></th>\n    </tr>\n  </thead>\n  <tbody>\n    <tr>\n      <th>1</th>\n      <td>Old Oak Tap</td>\n      <td>BLT</td>\n      <td>$10</td>\n      <td>2109 W. Chicago Ave.,</td>\n    </tr>\n    <tr>\n      <th>2</th>\n      <td>Au Cheval</td>\n      <td>Fried Bologna</td>\n      <td>$9</td>\n      <td>800 W. Randolph St.,</td>\n    </tr>\n    <tr>\n      <th>3</th>\n      <td>Xoco</td>\n      <td>Woodland Mushroom</td>\n      <td>$9.50</td>\n      <td>445 N. Clark St.,</td>\n    </tr>\n    <tr>\n      <th>4</th>\n      <td>Al’s Deli</td>\n      <td>Roast Beef</td>\n      <td>$9.40</td>\n      <td>914 Noyes St., Evanston,</td>\n    </tr>\n    <tr>\n      <th>5</th>\n      <td>Publican Quality Meats</td>\n      <td>PB&amp;L</td>\n      <td>$10</td>\n      <td>825 W. Fulton Mkt.,</td>\n    </tr>\n  </tbody>\n</table>\n</div>",
      "text/plain": "                        Cafe               Menu  Price  \\\nRank                                                     \n1                Old Oak Tap                BLT    $10   \n2                  Au Cheval      Fried Bologna     $9   \n3                       Xoco  Woodland Mushroom  $9.50   \n4                  Al’s Deli         Roast Beef  $9.40   \n5     Publican Quality Meats               PB&L    $10   \n\n                       Address  \nRank                            \n1        2109 W. Chicago Ave.,  \n2         800 W. Randolph St.,  \n3            445 N. Clark St.,  \n4     914 Noyes St., Evanston,  \n5          825 W. Fulton Mkt.,  "
     },
     "execution_count": 41,
     "metadata": {},
     "output_type": "execute_result"
    }
   ],
   "source": [
    "df = pd.read_csv('/Users/nani/Desktop/GitHub/DataScience/data/03. best_sandwiches_list_chicago2.csv', index_col=0)\n",
    "df.head()"
   ]
  },
  {
   "cell_type": "code",
   "execution_count": 42,
   "metadata": {},
   "outputs": [],
   "source": [
    "gmaps_key = '*********************'\n",
    "gmaps = googlemaps.Client(key=gmaps_key)"
   ]
  },
  {
   "cell_type": "code",
   "execution_count": 54,
   "metadata": {},
   "outputs": [
    {
     "name": "stderr",
     "output_type": "stream",
     "text": "100%|██████████| 50/50 [00:24<00:00,  2.05it/s]\n"
    }
   ],
   "source": [
    "# 주소에 Multiple이 나타나지 않는 경우만 주소를 검색\n",
    "lat = []\n",
    "lng = []\n",
    "\n",
    "for n in tqdm(df.index):\n",
    "    if df['Address'][n] != 'Multiple':\n",
    "        target_name = df['Address'][n] + ', ' + 'Cicago'\n",
    "        gmaps_output = gmaps.geocode(target_name)\n",
    "        location_output = gmaps_output[0].get('geometry')\n",
    "        lat.append(location_output['location']['lat'])\n",
    "        lng.append(location_output['location']['lng'])\n",
    "    else:\n",
    "        lat.append(np.nan)\n",
    "        lng.append(np.nan)"
   ]
  },
  {
   "cell_type": "code",
   "execution_count": 55,
   "metadata": {},
   "outputs": [
    {
     "data": {
      "text/html": "<div>\n<style scoped>\n    .dataframe tbody tr th:only-of-type {\n        vertical-align: middle;\n    }\n\n    .dataframe tbody tr th {\n        vertical-align: top;\n    }\n\n    .dataframe thead th {\n        text-align: right;\n    }\n</style>\n<table border=\"1\" class=\"dataframe\">\n  <thead>\n    <tr style=\"text-align: right;\">\n      <th></th>\n      <th>Cafe</th>\n      <th>Menu</th>\n      <th>Price</th>\n      <th>Address</th>\n      <th>lat</th>\n      <th>lng</th>\n    </tr>\n    <tr>\n      <th>Rank</th>\n      <th></th>\n      <th></th>\n      <th></th>\n      <th></th>\n      <th></th>\n      <th></th>\n    </tr>\n  </thead>\n  <tbody>\n    <tr>\n      <th>1</th>\n      <td>Old Oak Tap</td>\n      <td>BLT</td>\n      <td>$10</td>\n      <td>2109 W. Chicago Ave.,</td>\n      <td>41.895605</td>\n      <td>-87.679961</td>\n    </tr>\n    <tr>\n      <th>2</th>\n      <td>Au Cheval</td>\n      <td>Fried Bologna</td>\n      <td>$9</td>\n      <td>800 W. Randolph St.,</td>\n      <td>41.884658</td>\n      <td>-87.647667</td>\n    </tr>\n    <tr>\n      <th>3</th>\n      <td>Xoco</td>\n      <td>Woodland Mushroom</td>\n      <td>$9.50</td>\n      <td>445 N. Clark St.,</td>\n      <td>41.890523</td>\n      <td>-87.630783</td>\n    </tr>\n    <tr>\n      <th>4</th>\n      <td>Al’s Deli</td>\n      <td>Roast Beef</td>\n      <td>$9.40</td>\n      <td>914 Noyes St., Evanston,</td>\n      <td>42.058322</td>\n      <td>-87.683748</td>\n    </tr>\n    <tr>\n      <th>5</th>\n      <td>Publican Quality Meats</td>\n      <td>PB&amp;L</td>\n      <td>$10</td>\n      <td>825 W. Fulton Mkt.,</td>\n      <td>41.886600</td>\n      <td>-87.648451</td>\n    </tr>\n    <tr>\n      <th>6</th>\n      <td>Hendrickx Belgian Bread Crafter</td>\n      <td>Belgian Chicken Curry Salad</td>\n      <td>$7.25</td>\n      <td>100 E. Walton</td>\n      <td>41.900246</td>\n      <td>-87.625163</td>\n    </tr>\n    <tr>\n      <th>7</th>\n      <td>Acadia</td>\n      <td>Lobster Roll</td>\n      <td>$16</td>\n      <td>1639 S. Wabash Ave.,</td>\n      <td>41.859054</td>\n      <td>-87.625201</td>\n    </tr>\n    <tr>\n      <th>8</th>\n      <td>Birchwood Kitchen</td>\n      <td>Smoked Salmon Salad</td>\n      <td>$10</td>\n      <td>2211 W. North Ave.,</td>\n      <td>41.910203</td>\n      <td>-87.682875</td>\n    </tr>\n    <tr>\n      <th>9</th>\n      <td>Cemitas Puebla</td>\n      <td>Atomica Cemitas</td>\n      <td>$9</td>\n      <td>3619 W. North Ave.,</td>\n      <td>41.909756</td>\n      <td>-87.717673</td>\n    </tr>\n    <tr>\n      <th>10</th>\n      <td>Nana</td>\n      <td>Grilled Laughing Bird Shrimp and Fried Po’ Boy</td>\n      <td>$17</td>\n      <td>3267 S. Halsted St.,</td>\n      <td>41.834530</td>\n      <td>-87.645649</td>\n    </tr>\n    <tr>\n      <th>11</th>\n      <td>Lula Cafe</td>\n      <td>Ham and Raclette Panino</td>\n      <td>$11</td>\n      <td>2537 N. Kedzie Blvd.,</td>\n      <td>41.927621</td>\n      <td>-87.706792</td>\n    </tr>\n    <tr>\n      <th>12</th>\n      <td>Ricobene’s</td>\n      <td>Breaded Steak</td>\n      <td>$5.49</td>\n      <td>Multiple</td>\n      <td>NaN</td>\n      <td>NaN</td>\n    </tr>\n    <tr>\n      <th>13</th>\n      <td>Frog n Snail</td>\n      <td>The Hawkeye</td>\n      <td>$14</td>\n      <td>3124 N. Broadway,</td>\n      <td>41.938442</td>\n      <td>-87.644644</td>\n    </tr>\n    <tr>\n      <th>14</th>\n      <td>Crosby’s Kitchen</td>\n      <td>Chicken Dip</td>\n      <td>$10</td>\n      <td>3455 N. Southport Ave.,</td>\n      <td>41.945104</td>\n      <td>-87.663681</td>\n    </tr>\n    <tr>\n      <th>15</th>\n      <td>Longman &amp; Eagle</td>\n      <td>Wild Boar Sloppy Joe</td>\n      <td>$13</td>\n      <td>2657 N. Kedzie Ave.,</td>\n      <td>41.930111</td>\n      <td>-87.707241</td>\n    </tr>\n    <tr>\n      <th>16</th>\n      <td>Bari</td>\n      <td>Meatball Sub</td>\n      <td>$4.50</td>\n      <td>1120 W. Grand Ave.,</td>\n      <td>41.891290</td>\n      <td>-87.655557</td>\n    </tr>\n    <tr>\n      <th>17</th>\n      <td>Manny’s</td>\n      <td>Corned Beef</td>\n      <td>$11.95</td>\n      <td>1141 S. Jefferson St.,</td>\n      <td>41.867853</td>\n      <td>-87.641929</td>\n    </tr>\n    <tr>\n      <th>18</th>\n      <td>Eggy’s</td>\n      <td>Turkey Club</td>\n      <td>$11.50</td>\n      <td>333 E. Benton Pl.,</td>\n      <td>41.885269</td>\n      <td>-87.618484</td>\n    </tr>\n    <tr>\n      <th>19</th>\n      <td>Old Jerusalem</td>\n      <td>Falafel</td>\n      <td>$6.25</td>\n      <td>1411 N. Wells St.,</td>\n      <td>41.908054</td>\n      <td>-87.634311</td>\n    </tr>\n    <tr>\n      <th>20</th>\n      <td>Mindy’s HotChocolate</td>\n      <td>Crab Cake</td>\n      <td>$15</td>\n      <td>1747 N. Damen Ave.,</td>\n      <td>41.913695</td>\n      <td>-87.677127</td>\n    </tr>\n    <tr>\n      <th>21</th>\n      <td>Olga’s Delicatessen</td>\n      <td>Chicken Schnitzel</td>\n      <td>$5</td>\n      <td>3209 W. Irving Park</td>\n      <td>41.953705</td>\n      <td>-87.708450</td>\n    </tr>\n    <tr>\n      <th>22</th>\n      <td>Dawali Mediterranean Kitchen</td>\n      <td>Shawarma</td>\n      <td>$6</td>\n      <td>Multiple</td>\n      <td>NaN</td>\n      <td>NaN</td>\n    </tr>\n    <tr>\n      <th>23</th>\n      <td>Big Jones</td>\n      <td>Toasted Pimiento Cheese</td>\n      <td>$8</td>\n      <td>5347 N. Clark St.,</td>\n      <td>41.979450</td>\n      <td>-87.667957</td>\n    </tr>\n    <tr>\n      <th>24</th>\n      <td>La Pane</td>\n      <td>Vegetarian Panino</td>\n      <td>$5.99</td>\n      <td>2954 W. Irving Park Rd.,</td>\n      <td>41.954162</td>\n      <td>-87.702711</td>\n    </tr>\n    <tr>\n      <th>25</th>\n      <td>Pastoral</td>\n      <td>Cali Chèvre</td>\n      <td>$7.52</td>\n      <td>Multiple</td>\n      <td>NaN</td>\n      <td>NaN</td>\n    </tr>\n    <tr>\n      <th>26</th>\n      <td>Max’s Deli</td>\n      <td>Pastrami</td>\n      <td>$11.95</td>\n      <td>191 Skokie Valley Rd., Highland Park,</td>\n      <td>42.156707</td>\n      <td>-87.803635</td>\n    </tr>\n    <tr>\n      <th>27</th>\n      <td>Lucky’s Sandwich Co.</td>\n      <td>The Fredo</td>\n      <td>$7.50</td>\n      <td>Multiple</td>\n      <td>NaN</td>\n      <td>NaN</td>\n    </tr>\n    <tr>\n      <th>28</th>\n      <td>City Provisions</td>\n      <td>Smoked Ham</td>\n      <td>$12.95</td>\n      <td>1818 W. Wilson Ave.,</td>\n      <td>41.965299</td>\n      <td>-87.675580</td>\n    </tr>\n    <tr>\n      <th>29</th>\n      <td>Papa’s Cache Sabroso</td>\n      <td>Jibarito</td>\n      <td>$7</td>\n      <td>2517 W. Division St.,</td>\n      <td>41.902722</td>\n      <td>-87.690213</td>\n    </tr>\n    <tr>\n      <th>30</th>\n      <td>Bavette’s Bar &amp; Boeuf</td>\n      <td>Shaved Prime Rib</td>\n      <td>$21</td>\n      <td>218 W. Kinzie</td>\n      <td>41.889368</td>\n      <td>-87.634949</td>\n    </tr>\n    <tr>\n      <th>31</th>\n      <td>Hannah’s Bretzel</td>\n      <td>Serrano Ham and Manchego Cheese</td>\n      <td>$9.79</td>\n      <td>Multiple</td>\n      <td>NaN</td>\n      <td>NaN</td>\n    </tr>\n    <tr>\n      <th>32</th>\n      <td>La Fournette</td>\n      <td>Tuna Salad</td>\n      <td>$9.75</td>\n      <td>1547 N. Wells St.,</td>\n      <td>41.910526</td>\n      <td>-87.634377</td>\n    </tr>\n    <tr>\n      <th>33</th>\n      <td>Paramount Room</td>\n      <td>Paramount Reuben</td>\n      <td>$13</td>\n      <td>415 N. Milwaukee Ave.,</td>\n      <td>41.889619</td>\n      <td>-87.644843</td>\n    </tr>\n    <tr>\n      <th>34</th>\n      <td>Melt Sandwich Shoppe</td>\n      <td>The Istanbul</td>\n      <td>$7.95</td>\n      <td>1840 N. Damen Ave.,</td>\n      <td>41.915050</td>\n      <td>-87.677805</td>\n    </tr>\n    <tr>\n      <th>35</th>\n      <td>Floriole Cafe &amp; Bakery</td>\n      <td>B.A.D.</td>\n      <td>$9</td>\n      <td>1220 W. Webster Ave.,</td>\n      <td>41.921852</td>\n      <td>-87.659212</td>\n    </tr>\n    <tr>\n      <th>36</th>\n      <td>First Slice Pie Café</td>\n      <td>Duck Confit and Mozzarella</td>\n      <td>$9</td>\n      <td>5357 N. Ashland Ave.,</td>\n      <td>41.979710</td>\n      <td>-87.669344</td>\n    </tr>\n    <tr>\n      <th>37</th>\n      <td>Troquet</td>\n      <td>Croque Monsieur</td>\n      <td>$8</td>\n      <td>1834 W. Montrose Ave.,</td>\n      <td>41.961712</td>\n      <td>-87.675816</td>\n    </tr>\n    <tr>\n      <th>38</th>\n      <td>Grahamwich</td>\n      <td>Green Garbanzo</td>\n      <td>$8</td>\n      <td>615 N. State St.,</td>\n      <td>41.892961</td>\n      <td>-87.627821</td>\n    </tr>\n    <tr>\n      <th>39</th>\n      <td>Saigon Sisters</td>\n      <td>The Hen House</td>\n      <td>$7</td>\n      <td>Multiple</td>\n      <td>NaN</td>\n      <td>NaN</td>\n    </tr>\n    <tr>\n      <th>40</th>\n      <td>Rosalia’s Deli</td>\n      <td>Tuscan Chicken</td>\n      <td>$6</td>\n      <td>241 N. York Rd., Elmhurst,</td>\n      <td>41.904755</td>\n      <td>-87.939646</td>\n    </tr>\n    <tr>\n      <th>41</th>\n      <td>Z&amp;H MarketCafe</td>\n      <td>The Marty</td>\n      <td>$7.25</td>\n      <td>1323 E. 57th St.,</td>\n      <td>41.791319</td>\n      <td>-87.593846</td>\n    </tr>\n    <tr>\n      <th>42</th>\n      <td>Market House on the Square</td>\n      <td>Whitefish</td>\n      <td>$11</td>\n      <td>655 Forest Ave., Lake Forest,</td>\n      <td>42.251784</td>\n      <td>-87.841353</td>\n    </tr>\n    <tr>\n      <th>43</th>\n      <td>Elaine’s Coffee Call</td>\n      <td>Oat Bread, Pecan Butter, and Fruit Jam</td>\n      <td>$6</td>\n      <td>Hotel Lincoln, 1816 N. Clark St.,</td>\n      <td>41.915287</td>\n      <td>-87.634389</td>\n    </tr>\n    <tr>\n      <th>44</th>\n      <td>Marion Street Cheese Market</td>\n      <td>Cauliflower Melt</td>\n      <td>$9</td>\n      <td>100 S. Marion St., Oak Park,</td>\n      <td>41.886362</td>\n      <td>-87.802230</td>\n    </tr>\n    <tr>\n      <th>45</th>\n      <td>Cafecito</td>\n      <td>Cubana</td>\n      <td>$5.49</td>\n      <td>26 E. Congress Pkwy.,</td>\n      <td>41.875810</td>\n      <td>-87.626449</td>\n    </tr>\n    <tr>\n      <th>46</th>\n      <td>Chickpea</td>\n      <td>Kufta</td>\n      <td>$8</td>\n      <td>2018 W. Chicago Ave.,</td>\n      <td>41.896074</td>\n      <td>-87.677819</td>\n    </tr>\n    <tr>\n      <th>47</th>\n      <td>The Goddess and Grocer</td>\n      <td>Debbie’s Egg Salad</td>\n      <td>$6.50</td>\n      <td>25 E. Delaware Pl.,</td>\n      <td>41.898979</td>\n      <td>-87.627393</td>\n    </tr>\n    <tr>\n      <th>48</th>\n      <td>Zenwich</td>\n      <td>Beef Curry</td>\n      <td>$7.50</td>\n      <td>416 N. York St., Elmhurst,</td>\n      <td>41.910583</td>\n      <td>-87.940488</td>\n    </tr>\n    <tr>\n      <th>49</th>\n      <td>Toni Patisserie</td>\n      <td>Le Végétarien</td>\n      <td>$8.75</td>\n      <td>65 E. Washington St.,</td>\n      <td>41.883106</td>\n      <td>-87.625438</td>\n    </tr>\n    <tr>\n      <th>50</th>\n      <td>Phoebe’s Bakery</td>\n      <td>The Gatsby</td>\n      <td>$6.85</td>\n      <td>3351 N. Broadway,</td>\n      <td>41.943163</td>\n      <td>-87.644507</td>\n    </tr>\n  </tbody>\n</table>\n</div>",
      "text/plain": "                                 Cafe  \\\nRank                                    \n1                         Old Oak Tap   \n2                           Au Cheval   \n3                                Xoco   \n4                           Al’s Deli   \n5              Publican Quality Meats   \n6     Hendrickx Belgian Bread Crafter   \n7                              Acadia   \n8                   Birchwood Kitchen   \n9                      Cemitas Puebla   \n10                               Nana   \n11                          Lula Cafe   \n12                         Ricobene’s   \n13                       Frog n Snail   \n14                   Crosby’s Kitchen   \n15                    Longman & Eagle   \n16                               Bari   \n17                            Manny’s   \n18                             Eggy’s   \n19                      Old Jerusalem   \n20               Mindy’s HotChocolate   \n21                Olga’s Delicatessen   \n22       Dawali Mediterranean Kitchen   \n23                          Big Jones   \n24                            La Pane   \n25                           Pastoral   \n26                         Max’s Deli   \n27               Lucky’s Sandwich Co.   \n28                    City Provisions   \n29               Papa’s Cache Sabroso   \n30              Bavette’s Bar & Boeuf   \n31                   Hannah’s Bretzel   \n32                       La Fournette   \n33                     Paramount Room   \n34               Melt Sandwich Shoppe   \n35             Floriole Cafe & Bakery   \n36               First Slice Pie Café   \n37                            Troquet   \n38                         Grahamwich   \n39                     Saigon Sisters   \n40                     Rosalia’s Deli   \n41                     Z&H MarketCafe   \n42         Market House on the Square   \n43               Elaine’s Coffee Call   \n44        Marion Street Cheese Market   \n45                           Cafecito   \n46                           Chickpea   \n47             The Goddess and Grocer   \n48                            Zenwich   \n49                    Toni Patisserie   \n50                    Phoebe’s Bakery   \n\n                                                Menu   Price  \\\nRank                                                           \n1                                                BLT     $10   \n2                                      Fried Bologna      $9   \n3                                  Woodland Mushroom   $9.50   \n4                                         Roast Beef   $9.40   \n5                                               PB&L     $10   \n6                        Belgian Chicken Curry Salad   $7.25   \n7                                       Lobster Roll     $16   \n8                                Smoked Salmon Salad     $10   \n9                                    Atomica Cemitas      $9   \n10    Grilled Laughing Bird Shrimp and Fried Po’ Boy     $17   \n11                           Ham and Raclette Panino     $11   \n12                                     Breaded Steak   $5.49   \n13                                       The Hawkeye     $14   \n14                                       Chicken Dip     $10   \n15                              Wild Boar Sloppy Joe     $13   \n16                                      Meatball Sub   $4.50   \n17                                       Corned Beef  $11.95   \n18                                       Turkey Club  $11.50   \n19                                           Falafel   $6.25   \n20                                         Crab Cake     $15   \n21                                 Chicken Schnitzel      $5   \n22                                          Shawarma      $6   \n23                           Toasted Pimiento Cheese      $8   \n24                                 Vegetarian Panino   $5.99   \n25                                       Cali Chèvre   $7.52   \n26                                          Pastrami  $11.95   \n27                                         The Fredo   $7.50   \n28                                        Smoked Ham  $12.95   \n29                                          Jibarito      $7   \n30                                  Shaved Prime Rib     $21   \n31                   Serrano Ham and Manchego Cheese   $9.79   \n32                                        Tuna Salad   $9.75   \n33                                  Paramount Reuben     $13   \n34                                      The Istanbul   $7.95   \n35                                            B.A.D.      $9   \n36                        Duck Confit and Mozzarella      $9   \n37                                   Croque Monsieur      $8   \n38                                    Green Garbanzo      $8   \n39                                     The Hen House      $7   \n40                                    Tuscan Chicken      $6   \n41                                        The Marty    $7.25   \n42                                         Whitefish     $11   \n43            Oat Bread, Pecan Butter, and Fruit Jam      $6   \n44                                  Cauliflower Melt      $9   \n45                                            Cubana   $5.49   \n46                                             Kufta      $8   \n47                                Debbie’s Egg Salad   $6.50   \n48                                        Beef Curry   $7.50   \n49                                     Le Végétarien   $8.75   \n50                                        The Gatsby   $6.85   \n\n                                    Address        lat        lng  \nRank                                                               \n1                     2109 W. Chicago Ave.,  41.895605 -87.679961  \n2                      800 W. Randolph St.,  41.884658 -87.647667  \n3                         445 N. Clark St.,  41.890523 -87.630783  \n4                  914 Noyes St., Evanston,  42.058322 -87.683748  \n5                       825 W. Fulton Mkt.,  41.886600 -87.648451  \n6                             100 E. Walton  41.900246 -87.625163  \n7                      1639 S. Wabash Ave.,  41.859054 -87.625201  \n8                       2211 W. North Ave.,  41.910203 -87.682875  \n9                       3619 W. North Ave.,  41.909756 -87.717673  \n10                     3267 S. Halsted St.,  41.834530 -87.645649  \n11                    2537 N. Kedzie Blvd.,  41.927621 -87.706792  \n12                                 Multiple        NaN        NaN  \n13                        3124 N. Broadway,  41.938442 -87.644644  \n14                  3455 N. Southport Ave.,  41.945104 -87.663681  \n15                     2657 N. Kedzie Ave.,  41.930111 -87.707241  \n16                      1120 W. Grand Ave.,  41.891290 -87.655557  \n17                   1141 S. Jefferson St.,  41.867853 -87.641929  \n18                       333 E. Benton Pl.,  41.885269 -87.618484  \n19                       1411 N. Wells St.,  41.908054 -87.634311  \n20                      1747 N. Damen Ave.,  41.913695 -87.677127  \n21                      3209 W. Irving Park  41.953705 -87.708450  \n22                                 Multiple        NaN        NaN  \n23                       5347 N. Clark St.,  41.979450 -87.667957  \n24                 2954 W. Irving Park Rd.,  41.954162 -87.702711  \n25                                 Multiple        NaN        NaN  \n26    191 Skokie Valley Rd., Highland Park,  42.156707 -87.803635  \n27                                 Multiple        NaN        NaN  \n28                     1818 W. Wilson Ave.,  41.965299 -87.675580  \n29                    2517 W. Division St.,  41.902722 -87.690213  \n30                            218 W. Kinzie  41.889368 -87.634949  \n31                                 Multiple        NaN        NaN  \n32                       1547 N. Wells St.,  41.910526 -87.634377  \n33                   415 N. Milwaukee Ave.,  41.889619 -87.644843  \n34                      1840 N. Damen Ave.,  41.915050 -87.677805  \n35                    1220 W. Webster Ave.,  41.921852 -87.659212  \n36                    5357 N. Ashland Ave.,  41.979710 -87.669344  \n37                   1834 W. Montrose Ave.,  41.961712 -87.675816  \n38                        615 N. State St.,  41.892961 -87.627821  \n39                                 Multiple        NaN        NaN  \n40               241 N. York Rd., Elmhurst,  41.904755 -87.939646  \n41                        1323 E. 57th St.,  41.791319 -87.593846  \n42            655 Forest Ave., Lake Forest,  42.251784 -87.841353  \n43        Hotel Lincoln, 1816 N. Clark St.,  41.915287 -87.634389  \n44             100 S. Marion St., Oak Park,  41.886362 -87.802230  \n45                    26 E. Congress Pkwy.,  41.875810 -87.626449  \n46                    2018 W. Chicago Ave.,  41.896074 -87.677819  \n47                      25 E. Delaware Pl.,  41.898979 -87.627393  \n48               416 N. York St., Elmhurst,  41.910583 -87.940488  \n49                    65 E. Washington St.,  41.883106 -87.625438  \n50                        3351 N. Broadway,  41.943163 -87.644507  "
     },
     "execution_count": 55,
     "metadata": {},
     "output_type": "execute_result"
    }
   ],
   "source": [
    "df['lat'] = lat\n",
    "df['lng'] = lng\n",
    "df"
   ]
  },
  {
   "cell_type": "code",
   "execution_count": 56,
   "metadata": {},
   "outputs": [
    {
     "data": {
      "text/html": "<div style=\"width:100%;\"><div style=\"position:relative;width:100%;height:0;padding-bottom:60%;\"><iframe src=\"data:text/html;charset=utf-8;base64,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\" style=\"position:absolute;width:100%;height:100%;left:0;top:0;border:none !important;\" allowfullscreen webkitallowfullscreen mozallowfullscreen></iframe></div></div>",
      "text/plain": "<folium.folium.Map at 0x10c4fdba8>"
     },
     "execution_count": 56,
     "metadata": {},
     "output_type": "execute_result"
    }
   ],
   "source": [
    "# 50개 맛집의 위도, 경도의 평균값을 중앙에 둔다.\n",
    "\n",
    "mapping = folium.Map(location=[df['lat'].mean(), df['lng'].mean()], zoom_start=11)\n",
    "folium.Marker([df['lat'].mean(), df['lng'].mean()], popup='center').add_to(mapping)\n",
    "\n",
    "mapping"
   ]
  },
  {
   "cell_type": "code",
   "execution_count": 57,
   "metadata": {},
   "outputs": [
    {
     "data": {
      "text/plain": "Int64Index([ 1,  2,  3,  4,  5,  6,  7,  8,  9, 10, 11, 12, 13, 14, 15, 16, 17,\n            18, 19, 20, 21, 22, 23, 24, 25, 26, 27, 28, 29, 30, 31, 32, 33, 34,\n            35, 36, 37, 38, 39, 40, 41, 42, 43, 44, 45, 46, 47, 48, 49, 50],\n           dtype='int64', name='Rank')"
     },
     "execution_count": 57,
     "metadata": {},
     "output_type": "execute_result"
    }
   ],
   "source": [
    "df.index"
   ]
  },
  {
   "cell_type": "code",
   "execution_count": 60,
   "metadata": {},
   "outputs": [
    {
     "name": "stderr",
     "output_type": "stream",
     "text": "100%|██████████| 50/50 [00:00<00:00, 2241.74it/s]\n"
    },
    {
     "data": {
      "text/html": "<div style=\"width:100%;\"><div style=\"position:relative;width:100%;height:0;padding-bottom:60%;\"><iframe src=\"data:text/html;charset=utf-8;base64,PCFET0NUWVBFIGh0bWw+CjxoZWFkPiAgICAKICAgIDxtZXRhIGh0dHAtZXF1aXY9ImNvbnRlbnQtdHlwZSIgY29udGVudD0idGV4dC9odG1sOyBjaGFyc2V0PVVURi04IiAvPgogICAgCiAgICAgICAgPHNjcmlwdD4KICAgICAgICAgICAgTF9OT19UT1VDSCA9IGZhbHNlOwogICAgICAgICAgICBMX0RJU0FCTEVfM0QgPSBmYWxzZTsKICAgICAgICA8L3NjcmlwdD4KICAgIAogICAgPHNjcmlwdCBzcmM9Imh0dHBzOi8vY2RuLmpzZGVsaXZyLm5ldC9ucG0vbGVhZmxldEAxLjUuMS9kaXN0L2xlYWZsZXQuanMiPjwvc2NyaXB0PgogICAgPHNjcmlwdCBzcmM9Imh0dHBzOi8vY29kZS5qcXVlcnkuY29tL2pxdWVyeS0xLjEyLjQubWluLmpzIj48L3NjcmlwdD4KICAgIDxzY3JpcHQgc3JjPSJodHRwczovL21heGNkbi5ib290c3RyYXBjZG4uY29tL2Jvb3RzdHJhcC8zLjIuMC9qcy9ib290c3RyYXAubWluLmpzIj48L3NjcmlwdD4KICAgIDxzY3JpcHQgc3JjPSJodHRwczovL2NkbmpzLmNsb3VkZmxhcmUuY29tL2FqYXgvbGlicy9MZWFmbGV0LmF3ZXNvbWUtbWFya2Vycy8yLjAuMi9sZWFmbGV0LmF3ZXNvbWUtbWFya2Vycy5qcyI+PC9zY3JpcHQ+CiAgICA8bGluayByZWw9InN0eWxlc2hlZXQiIGhyZWY9Imh0dHBzOi8vY2RuLmpzZGVsaXZyLm5ldC9ucG0vbGVhZmxldEAxLjUuMS9kaXN0L2xlYWZsZXQuY3NzIi8+CiAgICA8bGluayByZWw9InN0eWxlc2hlZXQiIGhyZWY9Imh0dHBzOi8vbWF4Y2RuLmJvb3RzdHJhcGNkbi5jb20vYm9vdHN0cmFwLzMuMi4wL2Nzcy9ib290c3RyYXAubWluLmNzcyIvPgogICAgPGxpbmsgcmVsPSJzdHlsZXNoZWV0IiBocmVmPSJodHRwczovL21heGNkbi5ib290c3RyYXBjZG4uY29tL2Jvb3RzdHJhcC8zLjIuMC9jc3MvYm9vdHN0cmFwLXRoZW1lLm1pbi5jc3MiLz4KICAgIDxsaW5rIHJlbD0ic3R5bGVzaGVldCIgaHJlZj0iaHR0cHM6Ly9tYXhjZG4uYm9vdHN0cmFwY2RuLmNvbS9mb250LWF3ZXNvbWUvNC42LjMvY3NzL2ZvbnQtYXdlc29tZS5taW4uY3NzIi8+CiAgICA8bGluayByZWw9InN0eWxlc2hlZXQiIGhyZWY9Imh0dHBzOi8vY2RuanMuY2xvdWRmbGFyZS5jb20vYWpheC9saWJzL0xlYWZsZXQuYXdlc29tZS1tYXJrZXJzLzIuMC4yL2xlYWZsZXQuYXdlc29tZS1tYXJrZXJzLmNzcyIvPgogICAgPGxpbmsgcmVsPSJzdHlsZXNoZWV0IiBocmVmPSJodHRwczovL3Jhd2Nkbi5naXRoYWNrLmNvbS9weXRob24tdmlzdWFsaXphdGlvbi9mb2xpdW0vbWFzdGVyL2ZvbGl1bS90ZW1wbGF0ZXMvbGVhZmxldC5hd2Vzb21lLnJvdGF0ZS5jc3MiLz4KICAgIDxzdHlsZT5odG1sLCBib2R5IHt3aWR0aDogMTAwJTtoZWlnaHQ6IDEwMCU7bWFyZ2luOiAwO3BhZGRpbmc6IDA7fTwvc3R5bGU+CiAgICA8c3R5bGU+I21hcCB7cG9zaXRpb246YWJzb2x1dGU7dG9wOjA7Ym90dG9tOjA7cmlnaHQ6MDtsZWZ0OjA7fTwvc3R5bGU+CiAgICAKICAgICAgICAgICAgPG1ldGEgbmFtZT0idmlld3BvcnQiIGNvbnRlbnQ9IndpZHRoPWRldmljZS13aWR0aCwKICAgICAgICAgICAgICAgIGluaXRpYWwtc2NhbGU9MS4wLCBtYXhpbXVtLXNjYWxlPTEuMCwgdXNlci1zY2FsYWJsZT1ubyIgLz4KICAgICAgICAgICAgPHN0eWxlPgogICAgICAgICAgICAgICAgI21hcF8zYzhiZGQzZWU0N2M0MGU2YTVlMDAyODYyMTFlMzc5MyB7CiAgICAgICAgICAgICAgICAgICAgcG9zaXRpb246IHJlbGF0aXZlOwogICAgICAgICAgICAgICAgICAgIHdpZHRoOiAxMDAuMCU7CiAgICAgICAgICAgICAgICAgICAgaGVpZ2h0OiAxMDAuMCU7CiAgICAgICAgICAgICAgICAgICAgbGVmdDogMC4wJTsKICAgICAgICAgICAgICAgICAgICB0b3A6IDAuMCU7CiAgICAgICAgICAgICAgICB9CiAgICAgICAgICAgIDwvc3R5bGU+CiAgICAgICAgCjwvaGVhZD4KPGJvZHk+ICAgIAogICAgCiAgICAgICAgICAgIDxkaXYgY2xhc3M9ImZvbGl1bS1tYXAiIGlkPSJtYXBfM2M4YmRkM2VlNDdjNDBlNmE1ZTAwMjg2MjExZTM3OTMiID48L2Rpdj4KICAgICAgICAKPC9ib2R5Pgo8c2NyaXB0PiAgICAKICAgIAogICAgICAgICAgICB2YXIgbWFwXzNjOGJkZDNlZTQ3YzQwZTZhNWUwMDI4NjIxMWUzNzkzID0gTC5tYXAoCiAgICAgICAgICAgICAgICAibWFwXzNjOGJkZDNlZTQ3YzQwZTZhNWUwMDI4NjIxMWUzNzkzIiwKICAgICAgICAgICAgICAgIHsKICAgICAgICAgICAgICAgICAgICBjZW50ZXI6IFs0MS45MjQyNTAwMTgxODE4MTYsIC04Ny42ODA5ODIwMTU5MDkwN10sCiAgICAgICAgICAgICAgICAgICAgY3JzOiBMLkNSUy5FUFNHMzg1NywKICAgICAgICAgICAgICAgICAgICB6b29tOiAxMSwKICAgICAgICAgICAgICAgICAgICB6b29tQ29udHJvbDogdHJ1ZSwKICAgICAgICAgICAgICAgICAgICBwcmVmZXJDYW52YXM6IGZhbHNlLAogICAgICAgICAgICAgICAgfQogICAgICAgICAgICApOwoKICAgICAgICAgICAgCgogICAgICAgIAogICAgCiAgICAgICAgICAgIHZhciB0aWxlX2xheWVyXzU5MzkxYWQyYWI0ODRkMDk4YTZlZDJiMGM4OGQxNTNkID0gTC50aWxlTGF5ZXIoCiAgICAgICAgICAgICAgICAiaHR0cHM6Ly97c30udGlsZS5vcGVuc3RyZWV0bWFwLm9yZy97en0ve3h9L3t5fS5wbmciLAogICAgICAgICAgICAgICAgeyJhdHRyaWJ1dGlvbiI6ICJEYXRhIGJ5IFx1MDAyNmNvcHk7IFx1MDAzY2EgaHJlZj1cImh0dHA6Ly9vcGVuc3RyZWV0bWFwLm9yZ1wiXHUwMDNlT3BlblN0cmVldE1hcFx1MDAzYy9hXHUwMDNlLCB1bmRlciBcdTAwM2NhIGhyZWY9XCJodHRwOi8vd3d3Lm9wZW5zdHJlZXRtYXAub3JnL2NvcHlyaWdodFwiXHUwMDNlT0RiTFx1MDAzYy9hXHUwMDNlLiIsICJkZXRlY3RSZXRpbmEiOiBmYWxzZSwgIm1heE5hdGl2ZVpvb20iOiAxOCwgIm1heFpvb20iOiAxOCwgIm1pblpvb20iOiAwLCAibm9XcmFwIjogZmFsc2UsICJvcGFjaXR5IjogMSwgInN1YmRvbWFpbnMiOiAiYWJjIiwgInRtcyI6IGZhbHNlfQogICAgICAgICAgICApLmFkZFRvKG1hcF8zYzhiZGQzZWU0N2M0MGU2YTVlMDAyODYyMTFlMzc5Myk7CiAgICAgICAgCiAgICAKICAgICAgICAgICAgdmFyIG1hcmtlcl9kZThhNWU3YjcxMjQ0OTNkYTYyZGQwYmYzNjYwZWY2MSA9IEwubWFya2VyKAogICAgICAgICAgICAgICAgWzQxLjg5NTYwNDksIC04Ny42Nzk5NjE0OTk5OTk5OV0sCiAgICAgICAgICAgICAgICB7fQogICAgICAgICAgICApLmFkZFRvKG1hcF8zYzhiZGQzZWU0N2M0MGU2YTVlMDAyODYyMTFlMzc5Myk7CiAgICAgICAgCiAgICAKICAgICAgICB2YXIgcG9wdXBfZjgxYTFiYjQ2YTg0NDZhYjllOGY4ZWU5ZDgwNmY2Y2IgPSBMLnBvcHVwKHsibWF4V2lkdGgiOiAiMTAwJSJ9KTsKCiAgICAgICAgCiAgICAgICAgICAgIHZhciBodG1sXzUxNmJiOWU3MjMxZjQ0ZjFiMWQzZWUzNjZjYjRkNzg3ID0gJChgPGRpdiBpZD0iaHRtbF81MTZiYjllNzIzMWY0NGYxYjFkM2VlMzY2Y2I0ZDc4NyIgc3R5bGU9IndpZHRoOiAxMDAuMCU7IGhlaWdodDogMTAwLjAlOyI+T2xkIE9hayBUYXA8L2Rpdj5gKVswXTsKICAgICAgICAgICAgcG9wdXBfZjgxYTFiYjQ2YTg0NDZhYjllOGY4ZWU5ZDgwNmY2Y2Iuc2V0Q29udGVudChodG1sXzUxNmJiOWU3MjMxZjQ0ZjFiMWQzZWUzNjZjYjRkNzg3KTsKICAgICAgICAKCiAgICAgICAgbWFya2VyX2RlOGE1ZTdiNzEyNDQ5M2RhNjJkZDBiZjM2NjBlZjYxLmJpbmRQb3B1cChwb3B1cF9mODFhMWJiNDZhODQ0NmFiOWU4ZjhlZTlkODA2ZjZjYikKICAgICAgICA7CgogICAgICAgIAogICAgCiAgICAKICAgICAgICAgICAgdmFyIG1hcmtlcl8zOWU3M2IwNDczNWE0ZTBlODNlODIwNGE0ZmI1ZTQwZiA9IEwubWFya2VyKAogICAgICAgICAgICAgICAgWzQxLjg4NDY1ODIsIC04Ny42NDc2NjY4XSwKICAgICAgICAgICAgICAgIHt9CiAgICAgICAgICAgICkuYWRkVG8obWFwXzNjOGJkZDNlZTQ3YzQwZTZhNWUwMDI4NjIxMWUzNzkzKTsKICAgICAgICAKICAgIAogICAgICAgIHZhciBwb3B1cF80MWVkMzg5MGIyMTk0YjU5YmFkZWZmMzI2YjYyYjE1OSA9IEwucG9wdXAoeyJtYXhXaWR0aCI6ICIxMDAlIn0pOwoKICAgICAgICAKICAgICAgICAgICAgdmFyIGh0bWxfZTljZTBlYzVmOTZiNGMwZTg5YjI4NDdjZjZiZTEyNWYgPSAkKGA8ZGl2IGlkPSJodG1sX2U5Y2UwZWM1Zjk2YjRjMGU4OWIyODQ3Y2Y2YmUxMjVmIiBzdHlsZT0id2lkdGg6IDEwMC4wJTsgaGVpZ2h0OiAxMDAuMCU7Ij5BdSBDaGV2YWw8L2Rpdj5gKVswXTsKICAgICAgICAgICAgcG9wdXBfNDFlZDM4OTBiMjE5NGI1OWJhZGVmZjMyNmI2MmIxNTkuc2V0Q29udGVudChodG1sX2U5Y2UwZWM1Zjk2YjRjMGU4OWIyODQ3Y2Y2YmUxMjVmKTsKICAgICAgICAKCiAgICAgICAgbWFya2VyXzM5ZTczYjA0NzM1YTRlMGU4M2U4MjA0YTRmYjVlNDBmLmJpbmRQb3B1cChwb3B1cF80MWVkMzg5MGIyMTk0YjU5YmFkZWZmMzI2YjYyYjE1OSkKICAgICAgICA7CgogICAgICAgIAogICAgCiAgICAKICAgICAgICAgICAgdmFyIG1hcmtlcl9jNTFmOGY2NDQ3ZjA0ZTkyODZmOTQ3YjE1ZjI4ZDY4ZSA9IEwubWFya2VyKAogICAgICAgICAgICAgICAgWzQxLjg5MDUyMjYsIC04Ny42MzA3ODM0XSwKICAgICAgICAgICAgICAgIHt9CiAgICAgICAgICAgICkuYWRkVG8obWFwXzNjOGJkZDNlZTQ3YzQwZTZhNWUwMDI4NjIxMWUzNzkzKTsKICAgICAgICAKICAgIAogICAgICAgIHZhciBwb3B1cF8wNDcxOTk0ZjdkNjk0MDBjOGU1M2EzN2ZhMjUwY2Q4MSA9IEwucG9wdXAoeyJtYXhXaWR0aCI6ICIxMDAlIn0pOwoKICAgICAgICAKICAgICAgICAgICAgdmFyIGh0bWxfNDJiZTg2YjY3Mzc4NDEyZWE5MWM4Yzc2NTMyODUwZTYgPSAkKGA8ZGl2IGlkPSJodG1sXzQyYmU4NmI2NzM3ODQxMmVhOTFjOGM3NjUzMjg1MGU2IiBzdHlsZT0id2lkdGg6IDEwMC4wJTsgaGVpZ2h0OiAxMDAuMCU7Ij5Yb2NvPC9kaXY+YClbMF07CiAgICAgICAgICAgIHBvcHVwXzA0NzE5OTRmN2Q2OTQwMGM4ZTUzYTM3ZmEyNTBjZDgxLnNldENvbnRlbnQoaHRtbF80MmJlODZiNjczNzg0MTJlYTkxYzhjNzY1MzI4NTBlNik7CiAgICAgICAgCgogICAgICAgIG1hcmtlcl9jNTFmOGY2NDQ3ZjA0ZTkyODZmOTQ3YjE1ZjI4ZDY4ZS5iaW5kUG9wdXAocG9wdXBfMDQ3MTk5NGY3ZDY5NDAwYzhlNTNhMzdmYTI1MGNkODEpCiAgICAgICAgOwoKICAgICAgICAKICAgIAogICAgCiAgICAgICAgICAgIHZhciBtYXJrZXJfYzA4ZWVmMTU1YTE4NDk2NDljMDRmZjRiYzY2ODZlNGQgPSBMLm1hcmtlcigKICAgICAgICAgICAgICAgIFs0Mi4wNTgzMjE3LCAtODcuNjgzNzQ3OV0sCiAgICAgICAgICAgICAgICB7fQogICAgICAgICAgICApLmFkZFRvKG1hcF8zYzhiZGQzZWU0N2M0MGU2YTVlMDAyODYyMTFlMzc5Myk7CiAgICAgICAgCiAgICAKICAgICAgICB2YXIgcG9wdXBfZDFlNDE4YTg4NGJhNDU5N2I3MTQ1ZTcxNmZmNjRlMmUgPSBMLnBvcHVwKHsibWF4V2lkdGgiOiAiMTAwJSJ9KTsKCiAgICAgICAgCiAgICAgICAgICAgIHZhciBodG1sXzQ5NjA4NTRkM2NiZTRhNTNhNzEzYTUwMTI2MzllZTgxID0gJChgPGRpdiBpZD0iaHRtbF80OTYwODU0ZDNjYmU0YTUzYTcxM2E1MDEyNjM5ZWU4MSIgc3R5bGU9IndpZHRoOiAxMDAuMCU7IGhlaWdodDogMTAwLjAlOyI+QWzigJlzIERlbGk8L2Rpdj5gKVswXTsKICAgICAgICAgICAgcG9wdXBfZDFlNDE4YTg4NGJhNDU5N2I3MTQ1ZTcxNmZmNjRlMmUuc2V0Q29udGVudChodG1sXzQ5NjA4NTRkM2NiZTRhNTNhNzEzYTUwMTI2MzllZTgxKTsKICAgICAgICAKCiAgICAgICAgbWFya2VyX2MwOGVlZjE1NWExODQ5NjQ5YzA0ZmY0YmM2Njg2ZTRkLmJpbmRQb3B1cChwb3B1cF9kMWU0MThhODg0YmE0NTk3YjcxNDVlNzE2ZmY2NGUyZSkKICAgICAgICA7CgogICAgICAgIAogICAgCiAgICAKICAgICAgICAgICAgdmFyIG1hcmtlcl9lOWMxNWMxMDU5NWE0MWQxOTFlM2MyMWM3MTkyZjkyNyA9IEwubWFya2VyKAogICAgICAgICAgICAgICAgWzQxLjg4NjU5OTgsIC04Ny42NDg0NTE0XSwKICAgICAgICAgICAgICAgIHt9CiAgICAgICAgICAgICkuYWRkVG8obWFwXzNjOGJkZDNlZTQ3YzQwZTZhNWUwMDI4NjIxMWUzNzkzKTsKICAgICAgICAKICAgIAogICAgICAgIHZhciBwb3B1cF9iN2Q3NGI0ZGE2M2E0ZTNkYjdhM2ZhNDgzMzllYjJjYyA9IEwucG9wdXAoeyJtYXhXaWR0aCI6ICIxMDAlIn0pOwoKICAgICAgICAKICAgICAgICAgICAgdmFyIGh0bWxfZGU1MDJkZTAyNDQ1NGJiZmIyOTRlNzA5Yjg2YmZiYWEgPSAkKGA8ZGl2IGlkPSJodG1sX2RlNTAyZGUwMjQ0NTRiYmZiMjk0ZTcwOWI4NmJmYmFhIiBzdHlsZT0id2lkdGg6IDEwMC4wJTsgaGVpZ2h0OiAxMDAuMCU7Ij5QdWJsaWNhbiBRdWFsaXR5IE1lYXRzPC9kaXY+YClbMF07CiAgICAgICAgICAgIHBvcHVwX2I3ZDc0YjRkYTYzYTRlM2RiN2EzZmE0ODMzOWViMmNjLnNldENvbnRlbnQoaHRtbF9kZTUwMmRlMDI0NDU0YmJmYjI5NGU3MDliODZiZmJhYSk7CiAgICAgICAgCgogICAgICAgIG1hcmtlcl9lOWMxNWMxMDU5NWE0MWQxOTFlM2MyMWM3MTkyZjkyNy5iaW5kUG9wdXAocG9wdXBfYjdkNzRiNGRhNjNhNGUzZGI3YTNmYTQ4MzM5ZWIyY2MpCiAgICAgICAgOwoKICAgICAgICAKICAgIAogICAgCiAgICAgICAgICAgIHZhciBtYXJrZXJfMzk3NjBjMTAzNTg1NDQ4ZGE3NzkzNTI1ZWFiYTI5NjIgPSBMLm1hcmtlcigKICAgICAgICAgICAgICAgIFs0MS45MDAyNDYsIC04Ny42MjUxNjMzOTk5OTk5OV0sCiAgICAgICAgICAgICAgICB7fQogICAgICAgICAgICApLmFkZFRvKG1hcF8zYzhiZGQzZWU0N2M0MGU2YTVlMDAyODYyMTFlMzc5Myk7CiAgICAgICAgCiAgICAKICAgICAgICB2YXIgcG9wdXBfNTUwODQ2YzE2OGYwNDhhYmFmM2Y5MjljNTVhMDFmZWQgPSBMLnBvcHVwKHsibWF4V2lkdGgiOiAiMTAwJSJ9KTsKCiAgICAgICAgCiAgICAgICAgICAgIHZhciBodG1sXzg2YjZlZWZjMDg5NDQxNTY4MGUyNjE1ZmNmNGQyZjIxID0gJChgPGRpdiBpZD0iaHRtbF84NmI2ZWVmYzA4OTQ0MTU2ODBlMjYxNWZjZjRkMmYyMSIgc3R5bGU9IndpZHRoOiAxMDAuMCU7IGhlaWdodDogMTAwLjAlOyI+SGVuZHJpY2t4IEJlbGdpYW4gQnJlYWQgQ3JhZnRlcjwvZGl2PmApWzBdOwogICAgICAgICAgICBwb3B1cF81NTA4NDZjMTY4ZjA0OGFiYWYzZjkyOWM1NWEwMWZlZC5zZXRDb250ZW50KGh0bWxfODZiNmVlZmMwODk0NDE1NjgwZTI2MTVmY2Y0ZDJmMjEpOwogICAgICAgIAoKICAgICAgICBtYXJrZXJfMzk3NjBjMTAzNTg1NDQ4ZGE3NzkzNTI1ZWFiYTI5NjIuYmluZFBvcHVwKHBvcHVwXzU1MDg0NmMxNjhmMDQ4YWJhZjNmOTI5YzU1YTAxZmVkKQogICAgICAgIDsKCiAgICAgICAgCiAgICAKICAgIAogICAgICAgICAgICB2YXIgbWFya2VyXzgwYTU1YTJiMmY3YjQ0ZDdiMTQ3NDFjOTE0OWQwMTg3ID0gTC5tYXJrZXIoCiAgICAgICAgICAgICAgICBbNDEuODU5MDU0MSwgLTg3LjYyNTIwMDddLAogICAgICAgICAgICAgICAge30KICAgICAgICAgICAgKS5hZGRUbyhtYXBfM2M4YmRkM2VlNDdjNDBlNmE1ZTAwMjg2MjExZTM3OTMpOwogICAgICAgIAogICAgCiAgICAgICAgdmFyIHBvcHVwXzYyNGQ5Mjc2MzFhZDRhOGFiZmUyOGM5ZGY5ODVkMDNhID0gTC5wb3B1cCh7Im1heFdpZHRoIjogIjEwMCUifSk7CgogICAgICAgIAogICAgICAgICAgICB2YXIgaHRtbF9jNGNjYjgyODc0Mjc0ZmE4YmNjNjgyOGI5YTM1YTlkOSA9ICQoYDxkaXYgaWQ9Imh0bWxfYzRjY2I4Mjg3NDI3NGZhOGJjYzY4MjhiOWEzNWE5ZDkiIHN0eWxlPSJ3aWR0aDogMTAwLjAlOyBoZWlnaHQ6IDEwMC4wJTsiPkFjYWRpYTwvZGl2PmApWzBdOwogICAgICAgICAgICBwb3B1cF82MjRkOTI3NjMxYWQ0YThhYmZlMjhjOWRmOTg1ZDAzYS5zZXRDb250ZW50KGh0bWxfYzRjY2I4Mjg3NDI3NGZhOGJjYzY4MjhiOWEzNWE5ZDkpOwogICAgICAgIAoKICAgICAgICBtYXJrZXJfODBhNTVhMmIyZjdiNDRkN2IxNDc0MWM5MTQ5ZDAxODcuYmluZFBvcHVwKHBvcHVwXzYyNGQ5Mjc2MzFhZDRhOGFiZmUyOGM5ZGY5ODVkMDNhKQogICAgICAgIDsKCiAgICAgICAgCiAgICAKICAgIAogICAgICAgICAgICB2YXIgbWFya2VyXzZiMzU3YWUyMGY5MzQwNDY5Y2Y3OTdmMGExZDEyNThiID0gTC5tYXJrZXIoCiAgICAgICAgICAgICAgICBbNDEuOTEwMjAzMSwgLTg3LjY4Mjg3NTI5OTk5OTk5XSwKICAgICAgICAgICAgICAgIHt9CiAgICAgICAgICAgICkuYWRkVG8obWFwXzNjOGJkZDNlZTQ3YzQwZTZhNWUwMDI4NjIxMWUzNzkzKTsKICAgICAgICAKICAgIAogICAgICAgIHZhciBwb3B1cF8yY2E0MWQ2ZDAzYmE0MzlmOTc3Mjk2ZDJhOWVjODNmYiA9IEwucG9wdXAoeyJtYXhXaWR0aCI6ICIxMDAlIn0pOwoKICAgICAgICAKICAgICAgICAgICAgdmFyIGh0bWxfODA3MGYyYWE4YmJkNGIwOWJhZjY1NjA1N2QxNDc1M2MgPSAkKGA8ZGl2IGlkPSJodG1sXzgwNzBmMmFhOGJiZDRiMDliYWY2NTYwNTdkMTQ3NTNjIiBzdHlsZT0id2lkdGg6IDEwMC4wJTsgaGVpZ2h0OiAxMDAuMCU7Ij5CaXJjaHdvb2QgS2l0Y2hlbjwvZGl2PmApWzBdOwogICAgICAgICAgICBwb3B1cF8yY2E0MWQ2ZDAzYmE0MzlmOTc3Mjk2ZDJhOWVjODNmYi5zZXRDb250ZW50KGh0bWxfODA3MGYyYWE4YmJkNGIwOWJhZjY1NjA1N2QxNDc1M2MpOwogICAgICAgIAoKICAgICAgICBtYXJrZXJfNmIzNTdhZTIwZjkzNDA0NjljZjc5N2YwYTFkMTI1OGIuYmluZFBvcHVwKHBvcHVwXzJjYTQxZDZkMDNiYTQzOWY5NzcyOTZkMmE5ZWM4M2ZiKQogICAgICAgIDsKCiAgICAgICAgCiAgICAKICAgIAogICAgICAgICAgICB2YXIgbWFya2VyX2FmOTQ5NjBiMjFmZjRhMDA5MWZkZGEwODUxMmJkYjNkID0gTC5tYXJrZXIoCiAgICAgICAgICAgICAgICBbNDEuOTA5NzU1OCwgLTg3LjcxNzY3MjddLAogICAgICAgICAgICAgICAge30KICAgICAgICAgICAgKS5hZGRUbyhtYXBfM2M4YmRkM2VlNDdjNDBlNmE1ZTAwMjg2MjExZTM3OTMpOwogICAgICAgIAogICAgCiAgICAgICAgdmFyIHBvcHVwXzg4MWI0ZWJiMmQxODQ1YzQ5MjRmNDA5MTBlNWNhODY4ID0gTC5wb3B1cCh7Im1heFdpZHRoIjogIjEwMCUifSk7CgogICAgICAgIAogICAgICAgICAgICB2YXIgaHRtbF9hMmIwZjFmNDQ0NmE0ZjFiODE4MDQ1NjcwZDVhYTAyMCA9ICQoYDxkaXYgaWQ9Imh0bWxfYTJiMGYxZjQ0NDZhNGYxYjgxODA0NTY3MGQ1YWEwMjAiIHN0eWxlPSJ3aWR0aDogMTAwLjAlOyBoZWlnaHQ6IDEwMC4wJTsiPkNlbWl0YXMgUHVlYmxhPC9kaXY+YClbMF07CiAgICAgICAgICAgIHBvcHVwXzg4MWI0ZWJiMmQxODQ1YzQ5MjRmNDA5MTBlNWNhODY4LnNldENvbnRlbnQoaHRtbF9hMmIwZjFmNDQ0NmE0ZjFiODE4MDQ1NjcwZDVhYTAyMCk7CiAgICAgICAgCgogICAgICAgIG1hcmtlcl9hZjk0OTYwYjIxZmY0YTAwOTFmZGRhMDg1MTJiZGIzZC5iaW5kUG9wdXAocG9wdXBfODgxYjRlYmIyZDE4NDVjNDkyNGY0MDkxMGU1Y2E4NjgpCiAgICAgICAgOwoKICAgICAgICAKICAgIAogICAgCiAgICAgICAgICAgIHZhciBtYXJrZXJfZGMxYWZhZjc2NDdkNGZhZGI1YTJiNzIxOWY5ZTUxY2YgPSBMLm1hcmtlcigKICAgICAgICAgICAgICAgIFs0MS44MzQ1MzAyLCAtODcuNjQ1NjQ5Ml0sCiAgICAgICAgICAgICAgICB7fQogICAgICAgICAgICApLmFkZFRvKG1hcF8zYzhiZGQzZWU0N2M0MGU2YTVlMDAyODYyMTFlMzc5Myk7CiAgICAgICAgCiAgICAKICAgICAgICB2YXIgcG9wdXBfYTk5ZmZmMDI0MzdjNDQ4YWJhYTliODliOTM0NWI1OTkgPSBMLnBvcHVwKHsibWF4V2lkdGgiOiAiMTAwJSJ9KTsKCiAgICAgICAgCiAgICAgICAgICAgIHZhciBodG1sX2Y1NGM3MDEzNTRkYTRlNmE4NmMyMjM1NzhmNzJhYmNhID0gJChgPGRpdiBpZD0iaHRtbF9mNTRjNzAxMzU0ZGE0ZTZhODZjMjIzNTc4ZjcyYWJjYSIgc3R5bGU9IndpZHRoOiAxMDAuMCU7IGhlaWdodDogMTAwLjAlOyI+TmFuYTwvZGl2PmApWzBdOwogICAgICAgICAgICBwb3B1cF9hOTlmZmYwMjQzN2M0NDhhYmFhOWI4OWI5MzQ1YjU5OS5zZXRDb250ZW50KGh0bWxfZjU0YzcwMTM1NGRhNGU2YTg2YzIyMzU3OGY3MmFiY2EpOwogICAgICAgIAoKICAgICAgICBtYXJrZXJfZGMxYWZhZjc2NDdkNGZhZGI1YTJiNzIxOWY5ZTUxY2YuYmluZFBvcHVwKHBvcHVwX2E5OWZmZjAyNDM3YzQ0OGFiYWE5Yjg5YjkzNDViNTk5KQogICAgICAgIDsKCiAgICAgICAgCiAgICAKICAgIAogICAgICAgICAgICB2YXIgbWFya2VyX2Q2ZjQ2YzhjNmY3NzQ3NzdiMTEwNWIxNDY1OWJkMGQ1ID0gTC5tYXJrZXIoCiAgICAgICAgICAgICAgICBbNDEuOTI3NjIwNywgLTg3LjcwNjc5Ml0sCiAgICAgICAgICAgICAgICB7fQogICAgICAgICAgICApLmFkZFRvKG1hcF8zYzhiZGQzZWU0N2M0MGU2YTVlMDAyODYyMTFlMzc5Myk7CiAgICAgICAgCiAgICAKICAgICAgICB2YXIgcG9wdXBfMzMyZTNkMTA4ZWM4NDRlNzliMWQ2MjY0YjljZTQ1MGEgPSBMLnBvcHVwKHsibWF4V2lkdGgiOiAiMTAwJSJ9KTsKCiAgICAgICAgCiAgICAgICAgICAgIHZhciBodG1sXzM4YzA4MzMwNTJjNjRiNzY4MzU0M2M2ZGI4MTgyY2Y4ID0gJChgPGRpdiBpZD0iaHRtbF8zOGMwODMzMDUyYzY0Yjc2ODM1NDNjNmRiODE4MmNmOCIgc3R5bGU9IndpZHRoOiAxMDAuMCU7IGhlaWdodDogMTAwLjAlOyI+THVsYSBDYWZlPC9kaXY+YClbMF07CiAgICAgICAgICAgIHBvcHVwXzMzMmUzZDEwOGVjODQ0ZTc5YjFkNjI2NGI5Y2U0NTBhLnNldENvbnRlbnQoaHRtbF8zOGMwODMzMDUyYzY0Yjc2ODM1NDNjNmRiODE4MmNmOCk7CiAgICAgICAgCgogICAgICAgIG1hcmtlcl9kNmY0NmM4YzZmNzc0Nzc3YjExMDViMTQ2NTliZDBkNS5iaW5kUG9wdXAocG9wdXBfMzMyZTNkMTA4ZWM4NDRlNzliMWQ2MjY0YjljZTQ1MGEpCiAgICAgICAgOwoKICAgICAgICAKICAgIAogICAgCiAgICAgICAgICAgIHZhciBtYXJrZXJfNWEyNTlhMWRjMzUxNDYyY2JiYTlmMTU1NGI4ODM1M2IgPSBMLm1hcmtlcigKICAgICAgICAgICAgICAgIFs0MS45Mzg0NDE5LCAtODcuNjQ0NjQzNjk5OTk5OTldLAogICAgICAgICAgICAgICAge30KICAgICAgICAgICAgKS5hZGRUbyhtYXBfM2M4YmRkM2VlNDdjNDBlNmE1ZTAwMjg2MjExZTM3OTMpOwogICAgICAgIAogICAgCiAgICAgICAgdmFyIHBvcHVwX2MxNjc5ZWRjMTc2ZjQzYzRhMzcyMWM2MDUzMmJjNjlkID0gTC5wb3B1cCh7Im1heFdpZHRoIjogIjEwMCUifSk7CgogICAgICAgIAogICAgICAgICAgICB2YXIgaHRtbF81YzkwZjA1ZGE2YzY0MTRlODZmYmM5ZmVkOWUyODAxOCA9ICQoYDxkaXYgaWQ9Imh0bWxfNWM5MGYwNWRhNmM2NDE0ZTg2ZmJjOWZlZDllMjgwMTgiIHN0eWxlPSJ3aWR0aDogMTAwLjAlOyBoZWlnaHQ6IDEwMC4wJTsiPkZyb2cgbiBTbmFpbDwvZGl2PmApWzBdOwogICAgICAgICAgICBwb3B1cF9jMTY3OWVkYzE3NmY0M2M0YTM3MjFjNjA1MzJiYzY5ZC5zZXRDb250ZW50KGh0bWxfNWM5MGYwNWRhNmM2NDE0ZTg2ZmJjOWZlZDllMjgwMTgpOwogICAgICAgIAoKICAgICAgICBtYXJrZXJfNWEyNTlhMWRjMzUxNDYyY2JiYTlmMTU1NGI4ODM1M2IuYmluZFBvcHVwKHBvcHVwX2MxNjc5ZWRjMTc2ZjQzYzRhMzcyMWM2MDUzMmJjNjlkKQogICAgICAgIDsKCiAgICAgICAgCiAgICAKICAgIAogICAgICAgICAgICB2YXIgbWFya2VyXzk5YTI4MGQ2MWU1ODRlMjE4ZTQyNmExODAzN2U5ZDgyID0gTC5tYXJrZXIoCiAgICAgICAgICAgICAgICBbNDEuOTQ1MTA0NCwgLTg3LjY2MzY4MTJdLAogICAgICAgICAgICAgICAge30KICAgICAgICAgICAgKS5hZGRUbyhtYXBfM2M4YmRkM2VlNDdjNDBlNmE1ZTAwMjg2MjExZTM3OTMpOwogICAgICAgIAogICAgCiAgICAgICAgdmFyIHBvcHVwX2I5NjhmZmQ1ZTEyZTQwYzliMmQ3ZTEwM2U0YzFjYjNlID0gTC5wb3B1cCh7Im1heFdpZHRoIjogIjEwMCUifSk7CgogICAgICAgIAogICAgICAgICAgICB2YXIgaHRtbF8zMDc5N2U2MDMzMDY0MzVlOTI3ODJhZDVkNWI2ZDhlOSA9ICQoYDxkaXYgaWQ9Imh0bWxfMzA3OTdlNjAzMzA2NDM1ZTkyNzgyYWQ1ZDViNmQ4ZTkiIHN0eWxlPSJ3aWR0aDogMTAwLjAlOyBoZWlnaHQ6IDEwMC4wJTsiPkNyb3NieeKAmXMgS2l0Y2hlbjwvZGl2PmApWzBdOwogICAgICAgICAgICBwb3B1cF9iOTY4ZmZkNWUxMmU0MGM5YjJkN2UxMDNlNGMxY2IzZS5zZXRDb250ZW50KGh0bWxfMzA3OTdlNjAzMzA2NDM1ZTkyNzgyYWQ1ZDViNmQ4ZTkpOwogICAgICAgIAoKICAgICAgICBtYXJrZXJfOTlhMjgwZDYxZTU4NGUyMThlNDI2YTE4MDM3ZTlkODIuYmluZFBvcHVwKHBvcHVwX2I5NjhmZmQ1ZTEyZTQwYzliMmQ3ZTEwM2U0YzFjYjNlKQogICAgICAgIDsKCiAgICAgICAgCiAgICAKICAgIAogICAgICAgICAgICB2YXIgbWFya2VyX2YzNTQ5NzU5MGVlYjRhMWY4MjJmYTZmMTBhZWQwOGFlID0gTC5tYXJrZXIoCiAgICAgICAgICAgICAgICBbNDEuOTMwMTEwNywgLTg3LjcwNzI0MDhdLAogICAgICAgICAgICAgICAge30KICAgICAgICAgICAgKS5hZGRUbyhtYXBfM2M4YmRkM2VlNDdjNDBlNmE1ZTAwMjg2MjExZTM3OTMpOwogICAgICAgIAogICAgCiAgICAgICAgdmFyIHBvcHVwXzFlNjkyNTJhNmZmYjRiMTRhN2RhNjk5ZjUzMTc5MWE0ID0gTC5wb3B1cCh7Im1heFdpZHRoIjogIjEwMCUifSk7CgogICAgICAgIAogICAgICAgICAgICB2YXIgaHRtbF8yNWRiNTMzMzBlMTQ0YjJjOWE2OWUzMGMzM2Y3OTU2OCA9ICQoYDxkaXYgaWQ9Imh0bWxfMjVkYjUzMzMwZTE0NGIyYzlhNjllMzBjMzNmNzk1NjgiIHN0eWxlPSJ3aWR0aDogMTAwLjAlOyBoZWlnaHQ6IDEwMC4wJTsiPkxvbmdtYW4gJiBFYWdsZTwvZGl2PmApWzBdOwogICAgICAgICAgICBwb3B1cF8xZTY5MjUyYTZmZmI0YjE0YTdkYTY5OWY1MzE3OTFhNC5zZXRDb250ZW50KGh0bWxfMjVkYjUzMzMwZTE0NGIyYzlhNjllMzBjMzNmNzk1NjgpOwogICAgICAgIAoKICAgICAgICBtYXJrZXJfZjM1NDk3NTkwZWViNGExZjgyMmZhNmYxMGFlZDA4YWUuYmluZFBvcHVwKHBvcHVwXzFlNjkyNTJhNmZmYjRiMTRhN2RhNjk5ZjUzMTc5MWE0KQogICAgICAgIDsKCiAgICAgICAgCiAgICAKICAgIAogICAgICAgICAgICB2YXIgbWFya2VyXzU4NTZkMWFmYTU3MDRkMDdiZTZjYmVjMmFjMDgzZTQyID0gTC5tYXJrZXIoCiAgICAgICAgICAgICAgICBbNDEuODkxMjkwMDAwMDAwMDEsIC04Ny42NTU1NTddLAogICAgICAgICAgICAgICAge30KICAgICAgICAgICAgKS5hZGRUbyhtYXBfM2M4YmRkM2VlNDdjNDBlNmE1ZTAwMjg2MjExZTM3OTMpOwogICAgICAgIAogICAgCiAgICAgICAgdmFyIHBvcHVwX2FmZGY2NDBmNzUxZTQyMmRhMjQ1NjIyNzJmOGQ0OTAxID0gTC5wb3B1cCh7Im1heFdpZHRoIjogIjEwMCUifSk7CgogICAgICAgIAogICAgICAgICAgICB2YXIgaHRtbF9kMjQ2ZTNkMzhiMmU0NTJmYTY3OWY5ZDQxOWFmZTY4ZCA9ICQoYDxkaXYgaWQ9Imh0bWxfZDI0NmUzZDM4YjJlNDUyZmE2NzlmOWQ0MTlhZmU2OGQiIHN0eWxlPSJ3aWR0aDogMTAwLjAlOyBoZWlnaHQ6IDEwMC4wJTsiPkJhcmk8L2Rpdj5gKVswXTsKICAgICAgICAgICAgcG9wdXBfYWZkZjY0MGY3NTFlNDIyZGEyNDU2MjI3MmY4ZDQ5MDEuc2V0Q29udGVudChodG1sX2QyNDZlM2QzOGIyZTQ1MmZhNjc5ZjlkNDE5YWZlNjhkKTsKICAgICAgICAKCiAgICAgICAgbWFya2VyXzU4NTZkMWFmYTU3MDRkMDdiZTZjYmVjMmFjMDgzZTQyLmJpbmRQb3B1cChwb3B1cF9hZmRmNjQwZjc1MWU0MjJkYTI0NTYyMjcyZjhkNDkwMSkKICAgICAgICA7CgogICAgICAgIAogICAgCiAgICAKICAgICAgICAgICAgdmFyIG1hcmtlcl80NTcyZjIxMTVhYWI0MDhkOWEzM2YwMTIwZDdjZmY2ZCA9IEwubWFya2VyKAogICAgICAgICAgICAgICAgWzQxLjg2Nzg1MjksIC04Ny42NDE5Mjg5XSwKICAgICAgICAgICAgICAgIHt9CiAgICAgICAgICAgICkuYWRkVG8obWFwXzNjOGJkZDNlZTQ3YzQwZTZhNWUwMDI4NjIxMWUzNzkzKTsKICAgICAgICAKICAgIAogICAgICAgIHZhciBwb3B1cF81NDU4NTVhMjkyYTE0NmI3OWQyMjEyYTIwOGM2MTc2MCA9IEwucG9wdXAoeyJtYXhXaWR0aCI6ICIxMDAlIn0pOwoKICAgICAgICAKICAgICAgICAgICAgdmFyIGh0bWxfY2Y5ZDk4NDViMDU0NDI4ZmJjNzViN2MzNzc1YTNkMDAgPSAkKGA8ZGl2IGlkPSJodG1sX2NmOWQ5ODQ1YjA1NDQyOGZiYzc1YjdjMzc3NWEzZDAwIiBzdHlsZT0id2lkdGg6IDEwMC4wJTsgaGVpZ2h0OiAxMDAuMCU7Ij5NYW5ueeKAmXM8L2Rpdj5gKVswXTsKICAgICAgICAgICAgcG9wdXBfNTQ1ODU1YTI5MmExNDZiNzlkMjIxMmEyMDhjNjE3NjAuc2V0Q29udGVudChodG1sX2NmOWQ5ODQ1YjA1NDQyOGZiYzc1YjdjMzc3NWEzZDAwKTsKICAgICAgICAKCiAgICAgICAgbWFya2VyXzQ1NzJmMjExNWFhYjQwOGQ5YTMzZjAxMjBkN2NmZjZkLmJpbmRQb3B1cChwb3B1cF81NDU4NTVhMjkyYTE0NmI3OWQyMjEyYTIwOGM2MTc2MCkKICAgICAgICA7CgogICAgICAgIAogICAgCiAgICAKICAgICAgICAgICAgdmFyIG1hcmtlcl8wMGM2ODhjY2QxMzU0MTBhYWMzZDc1ODVjNDBkZjdiNyA9IEwubWFya2VyKAogICAgICAgICAgICAgICAgWzQxLjg4NTI2OTEsIC04Ny42MTg0ODM3XSwKICAgICAgICAgICAgICAgIHt9CiAgICAgICAgICAgICkuYWRkVG8obWFwXzNjOGJkZDNlZTQ3YzQwZTZhNWUwMDI4NjIxMWUzNzkzKTsKICAgICAgICAKICAgIAogICAgICAgIHZhciBwb3B1cF9iMTc2ZmU0NWQ4ODc0NWY3YjIzNGY2YjAwOGMyMzcyYiA9IEwucG9wdXAoeyJtYXhXaWR0aCI6ICIxMDAlIn0pOwoKICAgICAgICAKICAgICAgICAgICAgdmFyIGh0bWxfMTQ4ODY4OWI2NjA3NGMyMGJjNzU2MmY1NjExNTRhZTkgPSAkKGA8ZGl2IGlkPSJodG1sXzE0ODg2ODliNjYwNzRjMjBiYzc1NjJmNTYxMTU0YWU5IiBzdHlsZT0id2lkdGg6IDEwMC4wJTsgaGVpZ2h0OiAxMDAuMCU7Ij5FZ2d54oCZczwvZGl2PmApWzBdOwogICAgICAgICAgICBwb3B1cF9iMTc2ZmU0NWQ4ODc0NWY3YjIzNGY2YjAwOGMyMzcyYi5zZXRDb250ZW50KGh0bWxfMTQ4ODY4OWI2NjA3NGMyMGJjNzU2MmY1NjExNTRhZTkpOwogICAgICAgIAoKICAgICAgICBtYXJrZXJfMDBjNjg4Y2NkMTM1NDEwYWFjM2Q3NTg1YzQwZGY3YjcuYmluZFBvcHVwKHBvcHVwX2IxNzZmZTQ1ZDg4NzQ1ZjdiMjM0ZjZiMDA4YzIzNzJiKQogICAgICAgIDsKCiAgICAgICAgCiAgICAKICAgIAogICAgICAgICAgICB2YXIgbWFya2VyX2JmZDIyODM3MzM1ZDRjZDk4YjYwMThiNmEwM2JhMTEyID0gTC5tYXJrZXIoCiAgICAgICAgICAgICAgICBbNDEuOTA4MDUzOSwgLTg3LjYzNDMxMTNdLAogICAgICAgICAgICAgICAge30KICAgICAgICAgICAgKS5hZGRUbyhtYXBfM2M4YmRkM2VlNDdjNDBlNmE1ZTAwMjg2MjExZTM3OTMpOwogICAgICAgIAogICAgCiAgICAgICAgdmFyIHBvcHVwXzA4M2NjZGQ2ZDM2NTRkMjU4YjlkODU1OGJkNWI2N2JmID0gTC5wb3B1cCh7Im1heFdpZHRoIjogIjEwMCUifSk7CgogICAgICAgIAogICAgICAgICAgICB2YXIgaHRtbF80YjFmZDMxODUzYWY0NzU4ODUwMjhiNjc0ZWNkZmRjNiA9ICQoYDxkaXYgaWQ9Imh0bWxfNGIxZmQzMTg1M2FmNDc1ODg1MDI4YjY3NGVjZGZkYzYiIHN0eWxlPSJ3aWR0aDogMTAwLjAlOyBoZWlnaHQ6IDEwMC4wJTsiPk9sZCBKZXJ1c2FsZW08L2Rpdj5gKVswXTsKICAgICAgICAgICAgcG9wdXBfMDgzY2NkZDZkMzY1NGQyNThiOWQ4NTU4YmQ1YjY3YmYuc2V0Q29udGVudChodG1sXzRiMWZkMzE4NTNhZjQ3NTg4NTAyOGI2NzRlY2RmZGM2KTsKICAgICAgICAKCiAgICAgICAgbWFya2VyX2JmZDIyODM3MzM1ZDRjZDk4YjYwMThiNmEwM2JhMTEyLmJpbmRQb3B1cChwb3B1cF8wODNjY2RkNmQzNjU0ZDI1OGI5ZDg1NThiZDViNjdiZikKICAgICAgICA7CgogICAgICAgIAogICAgCiAgICAKICAgICAgICAgICAgdmFyIG1hcmtlcl9kZDlkOTZlOTkxMGY0ZTAzYjI0MTA3NGUxYmFmNjQ5MSA9IEwubWFya2VyKAogICAgICAgICAgICAgICAgWzQxLjkxMzY5NTM5OTk5OTk5LCAtODcuNjc3MTI3M10sCiAgICAgICAgICAgICAgICB7fQogICAgICAgICAgICApLmFkZFRvKG1hcF8zYzhiZGQzZWU0N2M0MGU2YTVlMDAyODYyMTFlMzc5Myk7CiAgICAgICAgCiAgICAKICAgICAgICB2YXIgcG9wdXBfODgwOWQ2ZDk3ZGNiNDQxYmI1NmNkMzY1MDVjMDg0ZWYgPSBMLnBvcHVwKHsibWF4V2lkdGgiOiAiMTAwJSJ9KTsKCiAgICAgICAgCiAgICAgICAgICAgIHZhciBodG1sX2Q4NmRjNDA3NDBjMzQzMGNhMWY1ZWY5YTFlMjNlZTg3ID0gJChgPGRpdiBpZD0iaHRtbF9kODZkYzQwNzQwYzM0MzBjYTFmNWVmOWExZTIzZWU4NyIgc3R5bGU9IndpZHRoOiAxMDAuMCU7IGhlaWdodDogMTAwLjAlOyI+TWluZHnigJlzIEhvdENob2NvbGF0ZTwvZGl2PmApWzBdOwogICAgICAgICAgICBwb3B1cF84ODA5ZDZkOTdkY2I0NDFiYjU2Y2QzNjUwNWMwODRlZi5zZXRDb250ZW50KGh0bWxfZDg2ZGM0MDc0MGMzNDMwY2ExZjVlZjlhMWUyM2VlODcpOwogICAgICAgIAoKICAgICAgICBtYXJrZXJfZGQ5ZDk2ZTk5MTBmNGUwM2IyNDEwNzRlMWJhZjY0OTEuYmluZFBvcHVwKHBvcHVwXzg4MDlkNmQ5N2RjYjQ0MWJiNTZjZDM2NTA1YzA4NGVmKQogICAgICAgIDsKCiAgICAgICAgCiAgICAKICAgIAogICAgICAgICAgICB2YXIgbWFya2VyXzg0ODYyOGZkY2ZhMjRiYjRhMzk0ODY4OGM2MzUxODIwID0gTC5tYXJrZXIoCiAgICAgICAgICAgICAgICBbNDEuOTUzNzA1NCwgLTg3LjcwODQ1MDJdLAogICAgICAgICAgICAgICAge30KICAgICAgICAgICAgKS5hZGRUbyhtYXBfM2M4YmRkM2VlNDdjNDBlNmE1ZTAwMjg2MjExZTM3OTMpOwogICAgICAgIAogICAgCiAgICAgICAgdmFyIHBvcHVwX2QxNTU0NDViNzM5MTQwZjA4YzA2YmNmNTE4NjMzODM3ID0gTC5wb3B1cCh7Im1heFdpZHRoIjogIjEwMCUifSk7CgogICAgICAgIAogICAgICAgICAgICB2YXIgaHRtbF9lMjUyZTY3ZTg1Nzk0ZjQ0YTQ3ZDcwNTYxN2MzMGUyZCA9ICQoYDxkaXYgaWQ9Imh0bWxfZTI1MmU2N2U4NTc5NGY0NGE0N2Q3MDU2MTdjMzBlMmQiIHN0eWxlPSJ3aWR0aDogMTAwLjAlOyBoZWlnaHQ6IDEwMC4wJTsiPk9sZ2HigJlzIERlbGljYXRlc3NlbjwvZGl2PmApWzBdOwogICAgICAgICAgICBwb3B1cF9kMTU1NDQ1YjczOTE0MGYwOGMwNmJjZjUxODYzMzgzNy5zZXRDb250ZW50KGh0bWxfZTI1MmU2N2U4NTc5NGY0NGE0N2Q3MDU2MTdjMzBlMmQpOwogICAgICAgIAoKICAgICAgICBtYXJrZXJfODQ4NjI4ZmRjZmEyNGJiNGEzOTQ4Njg4YzYzNTE4MjAuYmluZFBvcHVwKHBvcHVwX2QxNTU0NDViNzM5MTQwZjA4YzA2YmNmNTE4NjMzODM3KQogICAgICAgIDsKCiAgICAgICAgCiAgICAKICAgIAogICAgICAgICAgICB2YXIgbWFya2VyXzc2YjY0NmQ2NDJlMDQ0YzU4OGU2NzI4YjQ4Nzc3ZmE2ID0gTC5tYXJrZXIoCiAgICAgICAgICAgICAgICBbNDEuOTc5NDQ5NiwgLTg3LjY2Nzk1NzE5OTk5OTk5XSwKICAgICAgICAgICAgICAgIHt9CiAgICAgICAgICAgICkuYWRkVG8obWFwXzNjOGJkZDNlZTQ3YzQwZTZhNWUwMDI4NjIxMWUzNzkzKTsKICAgICAgICAKICAgIAogICAgICAgIHZhciBwb3B1cF9iZWE3NjZhODdjZmQ0ZGRiYTY2NjE2ZjE2MTU1MDIzMSA9IEwucG9wdXAoeyJtYXhXaWR0aCI6ICIxMDAlIn0pOwoKICAgICAgICAKICAgICAgICAgICAgdmFyIGh0bWxfMzQwNTRjYjczZDFiNDllMGFjMTQwNTdjODlkMjc3NmEgPSAkKGA8ZGl2IGlkPSJodG1sXzM0MDU0Y2I3M2QxYjQ5ZTBhYzE0MDU3Yzg5ZDI3NzZhIiBzdHlsZT0id2lkdGg6IDEwMC4wJTsgaGVpZ2h0OiAxMDAuMCU7Ij5CaWcgSm9uZXM8L2Rpdj5gKVswXTsKICAgICAgICAgICAgcG9wdXBfYmVhNzY2YTg3Y2ZkNGRkYmE2NjYxNmYxNjE1NTAyMzEuc2V0Q29udGVudChodG1sXzM0MDU0Y2I3M2QxYjQ5ZTBhYzE0MDU3Yzg5ZDI3NzZhKTsKICAgICAgICAKCiAgICAgICAgbWFya2VyXzc2YjY0NmQ2NDJlMDQ0YzU4OGU2NzI4YjQ4Nzc3ZmE2LmJpbmRQb3B1cChwb3B1cF9iZWE3NjZhODdjZmQ0ZGRiYTY2NjE2ZjE2MTU1MDIzMSkKICAgICAgICA7CgogICAgICAgIAogICAgCiAgICAKICAgICAgICAgICAgdmFyIG1hcmtlcl9mM2VkMTFmNmNmZjA0MTQwOWI2MTc1NjIxYzdjMzRmMyA9IEwubWFya2VyKAogICAgICAgICAgICAgICAgWzQxLjk1NDE2MiwgLTg3LjcwMjcxMDc5OTk5OTk5XSwKICAgICAgICAgICAgICAgIHt9CiAgICAgICAgICAgICkuYWRkVG8obWFwXzNjOGJkZDNlZTQ3YzQwZTZhNWUwMDI4NjIxMWUzNzkzKTsKICAgICAgICAKICAgIAogICAgICAgIHZhciBwb3B1cF9mNzdkNzUzNmVmYjQ0ZjZmYWY2YzQ4MjkxM2Q2MGI0NSA9IEwucG9wdXAoeyJtYXhXaWR0aCI6ICIxMDAlIn0pOwoKICAgICAgICAKICAgICAgICAgICAgdmFyIGh0bWxfNTAyMTJiNWNiZDM3NDVlNDg2OGJhZTQyODM5MzE4ZjggPSAkKGA8ZGl2IGlkPSJodG1sXzUwMjEyYjVjYmQzNzQ1ZTQ4NjhiYWU0MjgzOTMxOGY4IiBzdHlsZT0id2lkdGg6IDEwMC4wJTsgaGVpZ2h0OiAxMDAuMCU7Ij5MYSBQYW5lPC9kaXY+YClbMF07CiAgICAgICAgICAgIHBvcHVwX2Y3N2Q3NTM2ZWZiNDRmNmZhZjZjNDgyOTEzZDYwYjQ1LnNldENvbnRlbnQoaHRtbF81MDIxMmI1Y2JkMzc0NWU0ODY4YmFlNDI4MzkzMThmOCk7CiAgICAgICAgCgogICAgICAgIG1hcmtlcl9mM2VkMTFmNmNmZjA0MTQwOWI2MTc1NjIxYzdjMzRmMy5iaW5kUG9wdXAocG9wdXBfZjc3ZDc1MzZlZmI0NGY2ZmFmNmM0ODI5MTNkNjBiNDUpCiAgICAgICAgOwoKICAgICAgICAKICAgIAogICAgCiAgICAgICAgICAgIHZhciBtYXJrZXJfN2U4ZjlkZWE4ZmYyNGExYjhjYzk1MWIxNjI3ZmNlYmUgPSBMLm1hcmtlcigKICAgICAgICAgICAgICAgIFs0Mi4xNTY3MDczLCAtODcuODAzNjM0NV0sCiAgICAgICAgICAgICAgICB7fQogICAgICAgICAgICApLmFkZFRvKG1hcF8zYzhiZGQzZWU0N2M0MGU2YTVlMDAyODYyMTFlMzc5Myk7CiAgICAgICAgCiAgICAKICAgICAgICB2YXIgcG9wdXBfOWRkOTAzMmVlMjQ2NDZiMjhhYTlhMDQ0NGUzZjQwMmQgPSBMLnBvcHVwKHsibWF4V2lkdGgiOiAiMTAwJSJ9KTsKCiAgICAgICAgCiAgICAgICAgICAgIHZhciBodG1sX2JmMjczNGUzZTA2YzRiODdiNGVjMDM1YjkxYzlkM2ZiID0gJChgPGRpdiBpZD0iaHRtbF9iZjI3MzRlM2UwNmM0Yjg3YjRlYzAzNWI5MWM5ZDNmYiIgc3R5bGU9IndpZHRoOiAxMDAuMCU7IGhlaWdodDogMTAwLjAlOyI+TWF44oCZcyBEZWxpPC9kaXY+YClbMF07CiAgICAgICAgICAgIHBvcHVwXzlkZDkwMzJlZTI0NjQ2YjI4YWE5YTA0NDRlM2Y0MDJkLnNldENvbnRlbnQoaHRtbF9iZjI3MzRlM2UwNmM0Yjg3YjRlYzAzNWI5MWM5ZDNmYik7CiAgICAgICAgCgogICAgICAgIG1hcmtlcl83ZThmOWRlYThmZjI0YTFiOGNjOTUxYjE2MjdmY2ViZS5iaW5kUG9wdXAocG9wdXBfOWRkOTAzMmVlMjQ2NDZiMjhhYTlhMDQ0NGUzZjQwMmQpCiAgICAgICAgOwoKICAgICAgICAKICAgIAogICAgCiAgICAgICAgICAgIHZhciBtYXJrZXJfOTlhMzVhNmMzZmVjNGQ4NjllY2QyZGJlYjFmMzljYWYgPSBMLm1hcmtlcigKICAgICAgICAgICAgICAgIFs0MS45NjUyOTg3LCAtODcuNjc1NTc5NTk5OTk5OTldLAogICAgICAgICAgICAgICAge30KICAgICAgICAgICAgKS5hZGRUbyhtYXBfM2M4YmRkM2VlNDdjNDBlNmE1ZTAwMjg2MjExZTM3OTMpOwogICAgICAgIAogICAgCiAgICAgICAgdmFyIHBvcHVwXzY2MGRkYmNkZDZlOTQxNTU5NDRhMmNhZWRhZjc3MzAwID0gTC5wb3B1cCh7Im1heFdpZHRoIjogIjEwMCUifSk7CgogICAgICAgIAogICAgICAgICAgICB2YXIgaHRtbF9jYWExMTY2YjcxY2I0NDhiOWFjZmIzZGUzYWU4NDNmMSA9ICQoYDxkaXYgaWQ9Imh0bWxfY2FhMTE2NmI3MWNiNDQ4YjlhY2ZiM2RlM2FlODQzZjEiIHN0eWxlPSJ3aWR0aDogMTAwLjAlOyBoZWlnaHQ6IDEwMC4wJTsiPkNpdHkgUHJvdmlzaW9uczwvZGl2PmApWzBdOwogICAgICAgICAgICBwb3B1cF82NjBkZGJjZGQ2ZTk0MTU1OTQ0YTJjYWVkYWY3NzMwMC5zZXRDb250ZW50KGh0bWxfY2FhMTE2NmI3MWNiNDQ4YjlhY2ZiM2RlM2FlODQzZjEpOwogICAgICAgIAoKICAgICAgICBtYXJrZXJfOTlhMzVhNmMzZmVjNGQ4NjllY2QyZGJlYjFmMzljYWYuYmluZFBvcHVwKHBvcHVwXzY2MGRkYmNkZDZlOTQxNTU5NDRhMmNhZWRhZjc3MzAwKQogICAgICAgIDsKCiAgICAgICAgCiAgICAKICAgIAogICAgICAgICAgICB2YXIgbWFya2VyX2FhMTc2YTZjODE2YjRjOTViYjY5YTAwODBkMGY4MGJhID0gTC5tYXJrZXIoCiAgICAgICAgICAgICAgICBbNDEuOTAyNzIxNzk5OTk5OTksIC04Ny42OTAyMTM1XSwKICAgICAgICAgICAgICAgIHt9CiAgICAgICAgICAgICkuYWRkVG8obWFwXzNjOGJkZDNlZTQ3YzQwZTZhNWUwMDI4NjIxMWUzNzkzKTsKICAgICAgICAKICAgIAogICAgICAgIHZhciBwb3B1cF9iODAwMjgxYTljMjI0ZGIwYjJmZmJhNGZkYWJmODI3MyA9IEwucG9wdXAoeyJtYXhXaWR0aCI6ICIxMDAlIn0pOwoKICAgICAgICAKICAgICAgICAgICAgdmFyIGh0bWxfYmI5NzdhZjRhMTc2NGMxMjk3NTFhMzI3Y2UyYThmZGIgPSAkKGA8ZGl2IGlkPSJodG1sX2JiOTc3YWY0YTE3NjRjMTI5NzUxYTMyN2NlMmE4ZmRiIiBzdHlsZT0id2lkdGg6IDEwMC4wJTsgaGVpZ2h0OiAxMDAuMCU7Ij5QYXBh4oCZcyBDYWNoZSBTYWJyb3NvPC9kaXY+YClbMF07CiAgICAgICAgICAgIHBvcHVwX2I4MDAyODFhOWMyMjRkYjBiMmZmYmE0ZmRhYmY4MjczLnNldENvbnRlbnQoaHRtbF9iYjk3N2FmNGExNzY0YzEyOTc1MWEzMjdjZTJhOGZkYik7CiAgICAgICAgCgogICAgICAgIG1hcmtlcl9hYTE3NmE2YzgxNmI0Yzk1YmI2OWEwMDgwZDBmODBiYS5iaW5kUG9wdXAocG9wdXBfYjgwMDI4MWE5YzIyNGRiMGIyZmZiYTRmZGFiZjgyNzMpCiAgICAgICAgOwoKICAgICAgICAKICAgIAogICAgCiAgICAgICAgICAgIHZhciBtYXJrZXJfNTBhZmRkZWZmZTNjNGNmZWIwN2M3YTYxNjhjYWM4ODkgPSBMLm1hcmtlcigKICAgICAgICAgICAgICAgIFs0MS44ODkzNjgzLCAtODcuNjM0OTQ4N10sCiAgICAgICAgICAgICAgICB7fQogICAgICAgICAgICApLmFkZFRvKG1hcF8zYzhiZGQzZWU0N2M0MGU2YTVlMDAyODYyMTFlMzc5Myk7CiAgICAgICAgCiAgICAKICAgICAgICB2YXIgcG9wdXBfYTgxMTRhZjg2MDZkNGZhMDlmNmVjMzI2M2Y3YjU0OTggPSBMLnBvcHVwKHsibWF4V2lkdGgiOiAiMTAwJSJ9KTsKCiAgICAgICAgCiAgICAgICAgICAgIHZhciBodG1sXzQzOTk3NTc4NTYwYzRmMzA5ZmUwY2Q4MzQ1OGQ2YzhhID0gJChgPGRpdiBpZD0iaHRtbF80Mzk5NzU3ODU2MGM0ZjMwOWZlMGNkODM0NThkNmM4YSIgc3R5bGU9IndpZHRoOiAxMDAuMCU7IGhlaWdodDogMTAwLjAlOyI+QmF2ZXR0ZeKAmXMgQmFyICYgQm9ldWY8L2Rpdj5gKVswXTsKICAgICAgICAgICAgcG9wdXBfYTgxMTRhZjg2MDZkNGZhMDlmNmVjMzI2M2Y3YjU0OTguc2V0Q29udGVudChodG1sXzQzOTk3NTc4NTYwYzRmMzA5ZmUwY2Q4MzQ1OGQ2YzhhKTsKICAgICAgICAKCiAgICAgICAgbWFya2VyXzUwYWZkZGVmZmUzYzRjZmViMDdjN2E2MTY4Y2FjODg5LmJpbmRQb3B1cChwb3B1cF9hODExNGFmODYwNmQ0ZmEwOWY2ZWMzMjYzZjdiNTQ5OCkKICAgICAgICA7CgogICAgICAgIAogICAgCiAgICAKICAgICAgICAgICAgdmFyIG1hcmtlcl9kODE2NGRmZmY2M2I0YzlhOTA0MTE2NWJhNmFiZDUxZCA9IEwubWFya2VyKAogICAgICAgICAgICAgICAgWzQxLjkxMDUyNTgsIC04Ny42MzQzNzc1XSwKICAgICAgICAgICAgICAgIHt9CiAgICAgICAgICAgICkuYWRkVG8obWFwXzNjOGJkZDNlZTQ3YzQwZTZhNWUwMDI4NjIxMWUzNzkzKTsKICAgICAgICAKICAgIAogICAgICAgIHZhciBwb3B1cF80ZmQzMzRlNTgyZmI0YWY0ODFmMjJhOWMxOGI3YmJiMSA9IEwucG9wdXAoeyJtYXhXaWR0aCI6ICIxMDAlIn0pOwoKICAgICAgICAKICAgICAgICAgICAgdmFyIGh0bWxfZDJlZTNkMzdkNWQxNDcyNWEzODNlZDhmNzdkOWM3ZWIgPSAkKGA8ZGl2IGlkPSJodG1sX2QyZWUzZDM3ZDVkMTQ3MjVhMzgzZWQ4Zjc3ZDljN2ViIiBzdHlsZT0id2lkdGg6IDEwMC4wJTsgaGVpZ2h0OiAxMDAuMCU7Ij5MYSBGb3VybmV0dGU8L2Rpdj5gKVswXTsKICAgICAgICAgICAgcG9wdXBfNGZkMzM0ZTU4MmZiNGFmNDgxZjIyYTljMThiN2JiYjEuc2V0Q29udGVudChodG1sX2QyZWUzZDM3ZDVkMTQ3MjVhMzgzZWQ4Zjc3ZDljN2ViKTsKICAgICAgICAKCiAgICAgICAgbWFya2VyX2Q4MTY0ZGZmZjYzYjRjOWE5MDQxMTY1YmE2YWJkNTFkLmJpbmRQb3B1cChwb3B1cF80ZmQzMzRlNTgyZmI0YWY0ODFmMjJhOWMxOGI3YmJiMSkKICAgICAgICA7CgogICAgICAgIAogICAgCiAgICAKICAgICAgICAgICAgdmFyIG1hcmtlcl8wZmJlYzFkM2E5MjQ0MDQ3ODY5OWQ5OGZhN2Y0OGE0YiA9IEwubWFya2VyKAogICAgICAgICAgICAgICAgWzQxLjg4OTYxODgsIC04Ny42NDQ4NDI1OTk5OTk5OV0sCiAgICAgICAgICAgICAgICB7fQogICAgICAgICAgICApLmFkZFRvKG1hcF8zYzhiZGQzZWU0N2M0MGU2YTVlMDAyODYyMTFlMzc5Myk7CiAgICAgICAgCiAgICAKICAgICAgICB2YXIgcG9wdXBfMWQ2ODBmZDJhOWYyNDgyZjg2ZjY4OGIyYzNkMTQ0OGIgPSBMLnBvcHVwKHsibWF4V2lkdGgiOiAiMTAwJSJ9KTsKCiAgICAgICAgCiAgICAgICAgICAgIHZhciBodG1sXzUwYmRhYTU1Njk4YjRiMzdiODA5NDNhNzc3Y2E5ODcwID0gJChgPGRpdiBpZD0iaHRtbF81MGJkYWE1NTY5OGI0YjM3YjgwOTQzYTc3N2NhOTg3MCIgc3R5bGU9IndpZHRoOiAxMDAuMCU7IGhlaWdodDogMTAwLjAlOyI+UGFyYW1vdW50IFJvb208L2Rpdj5gKVswXTsKICAgICAgICAgICAgcG9wdXBfMWQ2ODBmZDJhOWYyNDgyZjg2ZjY4OGIyYzNkMTQ0OGIuc2V0Q29udGVudChodG1sXzUwYmRhYTU1Njk4YjRiMzdiODA5NDNhNzc3Y2E5ODcwKTsKICAgICAgICAKCiAgICAgICAgbWFya2VyXzBmYmVjMWQzYTkyNDQwNDc4Njk5ZDk4ZmE3ZjQ4YTRiLmJpbmRQb3B1cChwb3B1cF8xZDY4MGZkMmE5ZjI0ODJmODZmNjg4YjJjM2QxNDQ4YikKICAgICAgICA7CgogICAgICAgIAogICAgCiAgICAKICAgICAgICAgICAgdmFyIG1hcmtlcl81OWIyMDgyYmExM2Q0YTgxODBkNjlmMzE4NjFmMDE3NSA9IEwubWFya2VyKAogICAgICAgICAgICAgICAgWzQxLjkxNTA0OTkwMDAwMDAxLCAtODcuNjc3ODA0N10sCiAgICAgICAgICAgICAgICB7fQogICAgICAgICAgICApLmFkZFRvKG1hcF8zYzhiZGQzZWU0N2M0MGU2YTVlMDAyODYyMTFlMzc5Myk7CiAgICAgICAgCiAgICAKICAgICAgICB2YXIgcG9wdXBfNjkzMGQ5NTJiMjEyNDY5YjlhOWM5NWQ4MTRkYzgyNmEgPSBMLnBvcHVwKHsibWF4V2lkdGgiOiAiMTAwJSJ9KTsKCiAgICAgICAgCiAgICAgICAgICAgIHZhciBodG1sXzQxNDJlMzI2ODllZjQ2NzA5YWRmMmE5NGI5ZDczZTZlID0gJChgPGRpdiBpZD0iaHRtbF80MTQyZTMyNjg5ZWY0NjcwOWFkZjJhOTRiOWQ3M2U2ZSIgc3R5bGU9IndpZHRoOiAxMDAuMCU7IGhlaWdodDogMTAwLjAlOyI+TWVsdCBTYW5kd2ljaCBTaG9wcGU8L2Rpdj5gKVswXTsKICAgICAgICAgICAgcG9wdXBfNjkzMGQ5NTJiMjEyNDY5YjlhOWM5NWQ4MTRkYzgyNmEuc2V0Q29udGVudChodG1sXzQxNDJlMzI2ODllZjQ2NzA5YWRmMmE5NGI5ZDczZTZlKTsKICAgICAgICAKCiAgICAgICAgbWFya2VyXzU5YjIwODJiYTEzZDRhODE4MGQ2OWYzMTg2MWYwMTc1LmJpbmRQb3B1cChwb3B1cF82OTMwZDk1MmIyMTI0NjliOWE5Yzk1ZDgxNGRjODI2YSkKICAgICAgICA7CgogICAgICAgIAogICAgCiAgICAKICAgICAgICAgICAgdmFyIG1hcmtlcl84MjU5ZDQwMmY5N2M0NWI4OTMyMmE5OTJkMDJiZWZiNyA9IEwubWFya2VyKAogICAgICAgICAgICAgICAgWzQxLjkyMTg1MjEsIC04Ny42NTkyMTI0XSwKICAgICAgICAgICAgICAgIHt9CiAgICAgICAgICAgICkuYWRkVG8obWFwXzNjOGJkZDNlZTQ3YzQwZTZhNWUwMDI4NjIxMWUzNzkzKTsKICAgICAgICAKICAgIAogICAgICAgIHZhciBwb3B1cF9hMTc2Y2RhOTI1YzI0ZmRjYWYzODQyNDgzMjZmMjY1MyA9IEwucG9wdXAoeyJtYXhXaWR0aCI6ICIxMDAlIn0pOwoKICAgICAgICAKICAgICAgICAgICAgdmFyIGh0bWxfMjc4YTU5NWZiNjMyNDU4MTg0OTU5MGU0Yjc1YTk3Y2MgPSAkKGA8ZGl2IGlkPSJodG1sXzI3OGE1OTVmYjYzMjQ1ODE4NDk1OTBlNGI3NWE5N2NjIiBzdHlsZT0id2lkdGg6IDEwMC4wJTsgaGVpZ2h0OiAxMDAuMCU7Ij5GbG9yaW9sZSBDYWZlICYgQmFrZXJ5PC9kaXY+YClbMF07CiAgICAgICAgICAgIHBvcHVwX2ExNzZjZGE5MjVjMjRmZGNhZjM4NDI0ODMyNmYyNjUzLnNldENvbnRlbnQoaHRtbF8yNzhhNTk1ZmI2MzI0NTgxODQ5NTkwZTRiNzVhOTdjYyk7CiAgICAgICAgCgogICAgICAgIG1hcmtlcl84MjU5ZDQwMmY5N2M0NWI4OTMyMmE5OTJkMDJiZWZiNy5iaW5kUG9wdXAocG9wdXBfYTE3NmNkYTkyNWMyNGZkY2FmMzg0MjQ4MzI2ZjI2NTMpCiAgICAgICAgOwoKICAgICAgICAKICAgIAogICAgCiAgICAgICAgICAgIHZhciBtYXJrZXJfYTRiOTdkN2Q1ZmM0NGVmZjg4MmFiNjcwNTdiYTgxMWMgPSBMLm1hcmtlcigKICAgICAgICAgICAgICAgIFs0MS45Nzk3MDk5LCAtODcuNjY5MzQ0MDk5OTk5OTldLAogICAgICAgICAgICAgICAge30KICAgICAgICAgICAgKS5hZGRUbyhtYXBfM2M4YmRkM2VlNDdjNDBlNmE1ZTAwMjg2MjExZTM3OTMpOwogICAgICAgIAogICAgCiAgICAgICAgdmFyIHBvcHVwXzM2ZTM0NDVhOGY0ZDRmZTViNTA3ODI5MDhlNTA4MzA5ID0gTC5wb3B1cCh7Im1heFdpZHRoIjogIjEwMCUifSk7CgogICAgICAgIAogICAgICAgICAgICB2YXIgaHRtbF9jZDgwMTg5ODNhYzY0NDkwYTg1NDBmZGU4ZTQyNmEwYyA9ICQoYDxkaXYgaWQ9Imh0bWxfY2Q4MDE4OTgzYWM2NDQ5MGE4NTQwZmRlOGU0MjZhMGMiIHN0eWxlPSJ3aWR0aDogMTAwLjAlOyBoZWlnaHQ6IDEwMC4wJTsiPkZpcnN0IFNsaWNlIFBpZSBDYWbDqTwvZGl2PmApWzBdOwogICAgICAgICAgICBwb3B1cF8zNmUzNDQ1YThmNGQ0ZmU1YjUwNzgyOTA4ZTUwODMwOS5zZXRDb250ZW50KGh0bWxfY2Q4MDE4OTgzYWM2NDQ5MGE4NTQwZmRlOGU0MjZhMGMpOwogICAgICAgIAoKICAgICAgICBtYXJrZXJfYTRiOTdkN2Q1ZmM0NGVmZjg4MmFiNjcwNTdiYTgxMWMuYmluZFBvcHVwKHBvcHVwXzM2ZTM0NDVhOGY0ZDRmZTViNTA3ODI5MDhlNTA4MzA5KQogICAgICAgIDsKCiAgICAgICAgCiAgICAKICAgIAogICAgICAgICAgICB2YXIgbWFya2VyXzMzYWQ3YjJlZDBiNTQ5NjhiNTViYmJmOTMxMzJiMThkID0gTC5tYXJrZXIoCiAgICAgICAgICAgICAgICBbNDEuOTYxNzEyMiwgLTg3LjY3NTgxNjIwMDAwMDAxXSwKICAgICAgICAgICAgICAgIHt9CiAgICAgICAgICAgICkuYWRkVG8obWFwXzNjOGJkZDNlZTQ3YzQwZTZhNWUwMDI4NjIxMWUzNzkzKTsKICAgICAgICAKICAgIAogICAgICAgIHZhciBwb3B1cF82ZTlkM2YwZTk2YzI0MjZiYTE0YjVkMTE2Y2UzOWNmZiA9IEwucG9wdXAoeyJtYXhXaWR0aCI6ICIxMDAlIn0pOwoKICAgICAgICAKICAgICAgICAgICAgdmFyIGh0bWxfMGQwODZlNzM3OWJiNGNhNDk2NGYyODYzNzJjZDdjMDggPSAkKGA8ZGl2IGlkPSJodG1sXzBkMDg2ZTczNzliYjRjYTQ5NjRmMjg2MzcyY2Q3YzA4IiBzdHlsZT0id2lkdGg6IDEwMC4wJTsgaGVpZ2h0OiAxMDAuMCU7Ij5Ucm9xdWV0PC9kaXY+YClbMF07CiAgICAgICAgICAgIHBvcHVwXzZlOWQzZjBlOTZjMjQyNmJhMTRiNWQxMTZjZTM5Y2ZmLnNldENvbnRlbnQoaHRtbF8wZDA4NmU3Mzc5YmI0Y2E0OTY0ZjI4NjM3MmNkN2MwOCk7CiAgICAgICAgCgogICAgICAgIG1hcmtlcl8zM2FkN2IyZWQwYjU0OTY4YjU1YmJiZjkzMTMyYjE4ZC5iaW5kUG9wdXAocG9wdXBfNmU5ZDNmMGU5NmMyNDI2YmExNGI1ZDExNmNlMzljZmYpCiAgICAgICAgOwoKICAgICAgICAKICAgIAogICAgCiAgICAgICAgICAgIHZhciBtYXJrZXJfYjNlMDFmMjIzNjkxNGRlODgzZGQyYTJmMzIxMmYwOWUgPSBMLm1hcmtlcigKICAgICAgICAgICAgICAgIFs0MS44OTI5NjExOTk5OTk5OSwgLTg3LjYyNzgyMTRdLAogICAgICAgICAgICAgICAge30KICAgICAgICAgICAgKS5hZGRUbyhtYXBfM2M4YmRkM2VlNDdjNDBlNmE1ZTAwMjg2MjExZTM3OTMpOwogICAgICAgIAogICAgCiAgICAgICAgdmFyIHBvcHVwXzk4NGQwMmM0YjE1NTRmZDFiMTBlMWQwYTUwZmFlZGQwID0gTC5wb3B1cCh7Im1heFdpZHRoIjogIjEwMCUifSk7CgogICAgICAgIAogICAgICAgICAgICB2YXIgaHRtbF9iMDBlNTQxNzZhYmY0MGE2YTcwMjc4OThjZGVmN2I2YiA9ICQoYDxkaXYgaWQ9Imh0bWxfYjAwZTU0MTc2YWJmNDBhNmE3MDI3ODk4Y2RlZjdiNmIiIHN0eWxlPSJ3aWR0aDogMTAwLjAlOyBoZWlnaHQ6IDEwMC4wJTsiPkdyYWhhbXdpY2g8L2Rpdj5gKVswXTsKICAgICAgICAgICAgcG9wdXBfOTg0ZDAyYzRiMTU1NGZkMWIxMGUxZDBhNTBmYWVkZDAuc2V0Q29udGVudChodG1sX2IwMGU1NDE3NmFiZjQwYTZhNzAyNzg5OGNkZWY3YjZiKTsKICAgICAgICAKCiAgICAgICAgbWFya2VyX2IzZTAxZjIyMzY5MTRkZTg4M2RkMmEyZjMyMTJmMDllLmJpbmRQb3B1cChwb3B1cF85ODRkMDJjNGIxNTU0ZmQxYjEwZTFkMGE1MGZhZWRkMCkKICAgICAgICA7CgogICAgICAgIAogICAgCiAgICAKICAgICAgICAgICAgdmFyIG1hcmtlcl9mMDUyZWM2OWNkM2Q0ZWZjOWQ4ZjA5ZDdkNmFiNjE3YiA9IEwubWFya2VyKAogICAgICAgICAgICAgICAgWzQxLjkwNDc1NTEsIC04Ny45Mzk2NDU5XSwKICAgICAgICAgICAgICAgIHt9CiAgICAgICAgICAgICkuYWRkVG8obWFwXzNjOGJkZDNlZTQ3YzQwZTZhNWUwMDI4NjIxMWUzNzkzKTsKICAgICAgICAKICAgIAogICAgICAgIHZhciBwb3B1cF8zYjA4OTBkYjBmZjM0YjM4YmM4M2FlM2M5YmU2OGRlZiA9IEwucG9wdXAoeyJtYXhXaWR0aCI6ICIxMDAlIn0pOwoKICAgICAgICAKICAgICAgICAgICAgdmFyIGh0bWxfZTI1MDI1NTYxZTQxNDcyOWIxOTU1YjI1ZGQ4N2I0ZDUgPSAkKGA8ZGl2IGlkPSJodG1sX2UyNTAyNTU2MWU0MTQ3MjliMTk1NWIyNWRkODdiNGQ1IiBzdHlsZT0id2lkdGg6IDEwMC4wJTsgaGVpZ2h0OiAxMDAuMCU7Ij5Sb3NhbGlh4oCZcyBEZWxpPC9kaXY+YClbMF07CiAgICAgICAgICAgIHBvcHVwXzNiMDg5MGRiMGZmMzRiMzhiYzgzYWUzYzliZTY4ZGVmLnNldENvbnRlbnQoaHRtbF9lMjUwMjU1NjFlNDE0NzI5YjE5NTViMjVkZDg3YjRkNSk7CiAgICAgICAgCgogICAgICAgIG1hcmtlcl9mMDUyZWM2OWNkM2Q0ZWZjOWQ4ZjA5ZDdkNmFiNjE3Yi5iaW5kUG9wdXAocG9wdXBfM2IwODkwZGIwZmYzNGIzOGJjODNhZTNjOWJlNjhkZWYpCiAgICAgICAgOwoKICAgICAgICAKICAgIAogICAgCiAgICAgICAgICAgIHZhciBtYXJrZXJfMDI4M2Q2ZWQxZDA4NDYzMmE4NDI3NmQxMTQ1MjZlNDAgPSBMLm1hcmtlcigKICAgICAgICAgICAgICAgIFs0MS43OTEzMTg1LCAtODcuNTkzODQ1Nl0sCiAgICAgICAgICAgICAgICB7fQogICAgICAgICAgICApLmFkZFRvKG1hcF8zYzhiZGQzZWU0N2M0MGU2YTVlMDAyODYyMTFlMzc5Myk7CiAgICAgICAgCiAgICAKICAgICAgICB2YXIgcG9wdXBfMGIxMWE2YzBkNDU3NGY5MjgwNmVlYTI4YzNhOGM3ODMgPSBMLnBvcHVwKHsibWF4V2lkdGgiOiAiMTAwJSJ9KTsKCiAgICAgICAgCiAgICAgICAgICAgIHZhciBodG1sXzg2YTJhZjE0YmQ3NjQzNzQ4YjY2M2Y0ODE4MWI5MjI1ID0gJChgPGRpdiBpZD0iaHRtbF84NmEyYWYxNGJkNzY0Mzc0OGI2NjNmNDgxODFiOTIyNSIgc3R5bGU9IndpZHRoOiAxMDAuMCU7IGhlaWdodDogMTAwLjAlOyI+WiZIIE1hcmtldENhZmU8L2Rpdj5gKVswXTsKICAgICAgICAgICAgcG9wdXBfMGIxMWE2YzBkNDU3NGY5MjgwNmVlYTI4YzNhOGM3ODMuc2V0Q29udGVudChodG1sXzg2YTJhZjE0YmQ3NjQzNzQ4YjY2M2Y0ODE4MWI5MjI1KTsKICAgICAgICAKCiAgICAgICAgbWFya2VyXzAyODNkNmVkMWQwODQ2MzJhODQyNzZkMTE0NTI2ZTQwLmJpbmRQb3B1cChwb3B1cF8wYjExYTZjMGQ0NTc0ZjkyODA2ZWVhMjhjM2E4Yzc4MykKICAgICAgICA7CgogICAgICAgIAogICAgCiAgICAKICAgICAgICAgICAgdmFyIG1hcmtlcl80OTA0MjYwYTdlYTk0YjhiOGZjOTljMTBjZjA5MzcwOCA9IEwubWFya2VyKAogICAgICAgICAgICAgICAgWzQyLjI1MTc4NDA5OTk5OTk5LCAtODcuODQxMzUzNV0sCiAgICAgICAgICAgICAgICB7fQogICAgICAgICAgICApLmFkZFRvKG1hcF8zYzhiZGQzZWU0N2M0MGU2YTVlMDAyODYyMTFlMzc5Myk7CiAgICAgICAgCiAgICAKICAgICAgICB2YXIgcG9wdXBfMjU4YThlZjBlYWIwNGQwNjhkNTFmYWIzZDkzNzA4ODEgPSBMLnBvcHVwKHsibWF4V2lkdGgiOiAiMTAwJSJ9KTsKCiAgICAgICAgCiAgICAgICAgICAgIHZhciBodG1sXzc1YjJkNjdhYTIwYjQwZjg5ZmJmMjE4NTlhY2FmM2UzID0gJChgPGRpdiBpZD0iaHRtbF83NWIyZDY3YWEyMGI0MGY4OWZiZjIxODU5YWNhZjNlMyIgc3R5bGU9IndpZHRoOiAxMDAuMCU7IGhlaWdodDogMTAwLjAlOyI+TWFya2V0IEhvdXNlIG9uIHRoZSBTcXVhcmU8L2Rpdj5gKVswXTsKICAgICAgICAgICAgcG9wdXBfMjU4YThlZjBlYWIwNGQwNjhkNTFmYWIzZDkzNzA4ODEuc2V0Q29udGVudChodG1sXzc1YjJkNjdhYTIwYjQwZjg5ZmJmMjE4NTlhY2FmM2UzKTsKICAgICAgICAKCiAgICAgICAgbWFya2VyXzQ5MDQyNjBhN2VhOTRiOGI4ZmM5OWMxMGNmMDkzNzA4LmJpbmRQb3B1cChwb3B1cF8yNThhOGVmMGVhYjA0ZDA2OGQ1MWZhYjNkOTM3MDg4MSkKICAgICAgICA7CgogICAgICAgIAogICAgCiAgICAKICAgICAgICAgICAgdmFyIG1hcmtlcl82YWJhODNiMWRhMWM0NjQ0YWM4ZWNlM2E1ZWFjNmI3MiA9IEwubWFya2VyKAogICAgICAgICAgICAgICAgWzQxLjkxNTI4NzUsIC04Ny42MzQzODg4XSwKICAgICAgICAgICAgICAgIHt9CiAgICAgICAgICAgICkuYWRkVG8obWFwXzNjOGJkZDNlZTQ3YzQwZTZhNWUwMDI4NjIxMWUzNzkzKTsKICAgICAgICAKICAgIAogICAgICAgIHZhciBwb3B1cF8zMWNjMWMyZWJkZjI0ODhhYjcwOTRhNDMxMzlmYmY3NiA9IEwucG9wdXAoeyJtYXhXaWR0aCI6ICIxMDAlIn0pOwoKICAgICAgICAKICAgICAgICAgICAgdmFyIGh0bWxfNmFiZjEwZGFiMjY5NDk0ZTlkMmU4ODBhM2MzZTYxMWQgPSAkKGA8ZGl2IGlkPSJodG1sXzZhYmYxMGRhYjI2OTQ5NGU5ZDJlODgwYTNjM2U2MTFkIiBzdHlsZT0id2lkdGg6IDEwMC4wJTsgaGVpZ2h0OiAxMDAuMCU7Ij5FbGFpbmXigJlzIENvZmZlZSBDYWxsPC9kaXY+YClbMF07CiAgICAgICAgICAgIHBvcHVwXzMxY2MxYzJlYmRmMjQ4OGFiNzA5NGE0MzEzOWZiZjc2LnNldENvbnRlbnQoaHRtbF82YWJmMTBkYWIyNjk0OTRlOWQyZTg4MGEzYzNlNjExZCk7CiAgICAgICAgCgogICAgICAgIG1hcmtlcl82YWJhODNiMWRhMWM0NjQ0YWM4ZWNlM2E1ZWFjNmI3Mi5iaW5kUG9wdXAocG9wdXBfMzFjYzFjMmViZGYyNDg4YWI3MDk0YTQzMTM5ZmJmNzYpCiAgICAgICAgOwoKICAgICAgICAKICAgIAogICAgCiAgICAgICAgICAgIHZhciBtYXJrZXJfYjVkOWEwOWY2ZmE2NDkwNzkyYzEyYmU1NGViYWY1ZDUgPSBMLm1hcmtlcigKICAgICAgICAgICAgICAgIFs0MS44ODYzNjIyLCAtODcuODAyMjI5N10sCiAgICAgICAgICAgICAgICB7fQogICAgICAgICAgICApLmFkZFRvKG1hcF8zYzhiZGQzZWU0N2M0MGU2YTVlMDAyODYyMTFlMzc5Myk7CiAgICAgICAgCiAgICAKICAgICAgICB2YXIgcG9wdXBfMTlmZmQxZjg1YTQ0NGUzNGI1ZjA0NDNmZGNlZWRlNWEgPSBMLnBvcHVwKHsibWF4V2lkdGgiOiAiMTAwJSJ9KTsKCiAgICAgICAgCiAgICAgICAgICAgIHZhciBodG1sXzg1Y2ViYzBiZThkYzRjOWY5ZTU1YmNmYWM0NTM3YWUyID0gJChgPGRpdiBpZD0iaHRtbF84NWNlYmMwYmU4ZGM0YzlmOWU1NWJjZmFjNDUzN2FlMiIgc3R5bGU9IndpZHRoOiAxMDAuMCU7IGhlaWdodDogMTAwLjAlOyI+TWFyaW9uIFN0cmVldCBDaGVlc2UgTWFya2V0PC9kaXY+YClbMF07CiAgICAgICAgICAgIHBvcHVwXzE5ZmZkMWY4NWE0NDRlMzRiNWYwNDQzZmRjZWVkZTVhLnNldENvbnRlbnQoaHRtbF84NWNlYmMwYmU4ZGM0YzlmOWU1NWJjZmFjNDUzN2FlMik7CiAgICAgICAgCgogICAgICAgIG1hcmtlcl9iNWQ5YTA5ZjZmYTY0OTA3OTJjMTJiZTU0ZWJhZjVkNS5iaW5kUG9wdXAocG9wdXBfMTlmZmQxZjg1YTQ0NGUzNGI1ZjA0NDNmZGNlZWRlNWEpCiAgICAgICAgOwoKICAgICAgICAKICAgIAogICAgCiAgICAgICAgICAgIHZhciBtYXJrZXJfMGI0Nzk2N2JiNTgxNGZmZmI4YTgwNDMyNmJmNDRlYjMgPSBMLm1hcmtlcigKICAgICAgICAgICAgICAgIFs0MS44NzU4MTAyLCAtODcuNjI2NDQ4OV0sCiAgICAgICAgICAgICAgICB7fQogICAgICAgICAgICApLmFkZFRvKG1hcF8zYzhiZGQzZWU0N2M0MGU2YTVlMDAyODYyMTFlMzc5Myk7CiAgICAgICAgCiAgICAKICAgICAgICB2YXIgcG9wdXBfZTQ3NzBjNWRlYmQzNDU5M2FlNThjMDZhY2EyMTM0ZTAgPSBMLnBvcHVwKHsibWF4V2lkdGgiOiAiMTAwJSJ9KTsKCiAgICAgICAgCiAgICAgICAgICAgIHZhciBodG1sXzQxMzUwNDU3OTVmOTQzODNhZWZjZjUzYmM1NDY1ODNjID0gJChgPGRpdiBpZD0iaHRtbF80MTM1MDQ1Nzk1Zjk0MzgzYWVmY2Y1M2JjNTQ2NTgzYyIgc3R5bGU9IndpZHRoOiAxMDAuMCU7IGhlaWdodDogMTAwLjAlOyI+Q2FmZWNpdG88L2Rpdj5gKVswXTsKICAgICAgICAgICAgcG9wdXBfZTQ3NzBjNWRlYmQzNDU5M2FlNThjMDZhY2EyMTM0ZTAuc2V0Q29udGVudChodG1sXzQxMzUwNDU3OTVmOTQzODNhZWZjZjUzYmM1NDY1ODNjKTsKICAgICAgICAKCiAgICAgICAgbWFya2VyXzBiNDc5NjdiYjU4MTRmZmZiOGE4MDQzMjZiZjQ0ZWIzLmJpbmRQb3B1cChwb3B1cF9lNDc3MGM1ZGViZDM0NTkzYWU1OGMwNmFjYTIxMzRlMCkKICAgICAgICA7CgogICAgICAgIAogICAgCiAgICAKICAgICAgICAgICAgdmFyIG1hcmtlcl9iZTlkZjUwYTA3ZTA0NjFlYmE0ZTEyZDc0MzQ3ZTRmYyA9IEwubWFya2VyKAogICAgICAgICAgICAgICAgWzQxLjg5NjA3MzgsIC04Ny42Nzc4MTg1XSwKICAgICAgICAgICAgICAgIHt9CiAgICAgICAgICAgICkuYWRkVG8obWFwXzNjOGJkZDNlZTQ3YzQwZTZhNWUwMDI4NjIxMWUzNzkzKTsKICAgICAgICAKICAgIAogICAgICAgIHZhciBwb3B1cF9lZDM0ZTU5N2FhMWY0OTY0OGY3YjRlZTg0M2RiZjVjMCA9IEwucG9wdXAoeyJtYXhXaWR0aCI6ICIxMDAlIn0pOwoKICAgICAgICAKICAgICAgICAgICAgdmFyIGh0bWxfZmRkOGY0ZjliNzEwNDMxZDhiZjU0NGJiODBiYTg2YTQgPSAkKGA8ZGl2IGlkPSJodG1sX2ZkZDhmNGY5YjcxMDQzMWQ4YmY1NDRiYjgwYmE4NmE0IiBzdHlsZT0id2lkdGg6IDEwMC4wJTsgaGVpZ2h0OiAxMDAuMCU7Ij5DaGlja3BlYTwvZGl2PmApWzBdOwogICAgICAgICAgICBwb3B1cF9lZDM0ZTU5N2FhMWY0OTY0OGY3YjRlZTg0M2RiZjVjMC5zZXRDb250ZW50KGh0bWxfZmRkOGY0ZjliNzEwNDMxZDhiZjU0NGJiODBiYTg2YTQpOwogICAgICAgIAoKICAgICAgICBtYXJrZXJfYmU5ZGY1MGEwN2UwNDYxZWJhNGUxMmQ3NDM0N2U0ZmMuYmluZFBvcHVwKHBvcHVwX2VkMzRlNTk3YWExZjQ5NjQ4ZjdiNGVlODQzZGJmNWMwKQogICAgICAgIDsKCiAgICAgICAgCiAgICAKICAgIAogICAgICAgICAgICB2YXIgbWFya2VyXzE3NTQxYWI2YWE0YTQ4NThhYTM5YmNjOTZiYmU0YjdhID0gTC5tYXJrZXIoCiAgICAgICAgICAgICAgICBbNDEuODk4OTc4NTAwMDAwMDEsIC04Ny42MjczOTI2XSwKICAgICAgICAgICAgICAgIHt9CiAgICAgICAgICAgICkuYWRkVG8obWFwXzNjOGJkZDNlZTQ3YzQwZTZhNWUwMDI4NjIxMWUzNzkzKTsKICAgICAgICAKICAgIAogICAgICAgIHZhciBwb3B1cF80ZjhmNjQwOGUwMWM0ZTE0OWQ0ZWYwYmQ3MGRjNzk3MiA9IEwucG9wdXAoeyJtYXhXaWR0aCI6ICIxMDAlIn0pOwoKICAgICAgICAKICAgICAgICAgICAgdmFyIGh0bWxfM2U0ZTQyZTE1OGVlNDYwMWE0ODdkYTZlN2FmY2U0MzMgPSAkKGA8ZGl2IGlkPSJodG1sXzNlNGU0MmUxNThlZTQ2MDFhNDg3ZGE2ZTdhZmNlNDMzIiBzdHlsZT0id2lkdGg6IDEwMC4wJTsgaGVpZ2h0OiAxMDAuMCU7Ij5UaGUgR29kZGVzcyBhbmQgR3JvY2VyPC9kaXY+YClbMF07CiAgICAgICAgICAgIHBvcHVwXzRmOGY2NDA4ZTAxYzRlMTQ5ZDRlZjBiZDcwZGM3OTcyLnNldENvbnRlbnQoaHRtbF8zZTRlNDJlMTU4ZWU0NjAxYTQ4N2RhNmU3YWZjZTQzMyk7CiAgICAgICAgCgogICAgICAgIG1hcmtlcl8xNzU0MWFiNmFhNGE0ODU4YWEzOWJjYzk2YmJlNGI3YS5iaW5kUG9wdXAocG9wdXBfNGY4ZjY0MDhlMDFjNGUxNDlkNGVmMGJkNzBkYzc5NzIpCiAgICAgICAgOwoKICAgICAgICAKICAgIAogICAgCiAgICAgICAgICAgIHZhciBtYXJrZXJfNDRhNjhmOTYyODkyNGU5YzlkNDQwZWNmZjY0MDI2MmMgPSBMLm1hcmtlcigKICAgICAgICAgICAgICAgIFs0MS45MTA1ODMyLCAtODcuOTQwNDg4Mzk5OTk5OTldLAogICAgICAgICAgICAgICAge30KICAgICAgICAgICAgKS5hZGRUbyhtYXBfM2M4YmRkM2VlNDdjNDBlNmE1ZTAwMjg2MjExZTM3OTMpOwogICAgICAgIAogICAgCiAgICAgICAgdmFyIHBvcHVwXzMzZWFiNjc5OGU2ZDQ3NGFiMDUzYWMzZDc3ZTNhNmNiID0gTC5wb3B1cCh7Im1heFdpZHRoIjogIjEwMCUifSk7CgogICAgICAgIAogICAgICAgICAgICB2YXIgaHRtbF9iM2IzOWI0MTA5Zjc0YzYxYjRiOGI0MDdjMWRjMmUyOCA9ICQoYDxkaXYgaWQ9Imh0bWxfYjNiMzliNDEwOWY3NGM2MWI0YjhiNDA3YzFkYzJlMjgiIHN0eWxlPSJ3aWR0aDogMTAwLjAlOyBoZWlnaHQ6IDEwMC4wJTsiPlplbndpY2g8L2Rpdj5gKVswXTsKICAgICAgICAgICAgcG9wdXBfMzNlYWI2Nzk4ZTZkNDc0YWIwNTNhYzNkNzdlM2E2Y2Iuc2V0Q29udGVudChodG1sX2IzYjM5YjQxMDlmNzRjNjFiNGI4YjQwN2MxZGMyZTI4KTsKICAgICAgICAKCiAgICAgICAgbWFya2VyXzQ0YTY4Zjk2Mjg5MjRlOWM5ZDQ0MGVjZmY2NDAyNjJjLmJpbmRQb3B1cChwb3B1cF8zM2VhYjY3OThlNmQ0NzRhYjA1M2FjM2Q3N2UzYTZjYikKICAgICAgICA7CgogICAgICAgIAogICAgCiAgICAKICAgICAgICAgICAgdmFyIG1hcmtlcl9kYjhhYzMxZTM3MTc0ODViYTBjMzNmYzU1Nzc4MzEyMSA9IEwubWFya2VyKAogICAgICAgICAgICAgICAgWzQxLjg4MzEwNjEsIC04Ny42MjU0MzgxXSwKICAgICAgICAgICAgICAgIHt9CiAgICAgICAgICAgICkuYWRkVG8obWFwXzNjOGJkZDNlZTQ3YzQwZTZhNWUwMDI4NjIxMWUzNzkzKTsKICAgICAgICAKICAgIAogICAgICAgIHZhciBwb3B1cF9kZmZiNmJlNDM5NzM0NmM0YTViMWUwMmRlODBhNTgzMiA9IEwucG9wdXAoeyJtYXhXaWR0aCI6ICIxMDAlIn0pOwoKICAgICAgICAKICAgICAgICAgICAgdmFyIGh0bWxfODJmYjg3NjMxNmIwNGJmOTgyMDYyYTQyM2YyNTQ1NTAgPSAkKGA8ZGl2IGlkPSJodG1sXzgyZmI4NzYzMTZiMDRiZjk4MjA2MmE0MjNmMjU0NTUwIiBzdHlsZT0id2lkdGg6IDEwMC4wJTsgaGVpZ2h0OiAxMDAuMCU7Ij5Ub25pIFBhdGlzc2VyaWU8L2Rpdj5gKVswXTsKICAgICAgICAgICAgcG9wdXBfZGZmYjZiZTQzOTczNDZjNGE1YjFlMDJkZTgwYTU4MzIuc2V0Q29udGVudChodG1sXzgyZmI4NzYzMTZiMDRiZjk4MjA2MmE0MjNmMjU0NTUwKTsKICAgICAgICAKCiAgICAgICAgbWFya2VyX2RiOGFjMzFlMzcxNzQ4NWJhMGMzM2ZjNTU3NzgzMTIxLmJpbmRQb3B1cChwb3B1cF9kZmZiNmJlNDM5NzM0NmM0YTViMWUwMmRlODBhNTgzMikKICAgICAgICA7CgogICAgICAgIAogICAgCiAgICAKICAgICAgICAgICAgdmFyIG1hcmtlcl9kMzM1NTdhMDRhN2Y0YmM1YjI4NTVlMjAxZjc1YmNiOSA9IEwubWFya2VyKAogICAgICAgICAgICAgICAgWzQxLjk0MzE2MzIsIC04Ny42NDQ1MDcxXSwKICAgICAgICAgICAgICAgIHt9CiAgICAgICAgICAgICkuYWRkVG8obWFwXzNjOGJkZDNlZTQ3YzQwZTZhNWUwMDI4NjIxMWUzNzkzKTsKICAgICAgICAKICAgIAogICAgICAgIHZhciBwb3B1cF85ZDFhMjM4NmE0MTc0NWE0YjNkOWNkYWMyZjdlODJkZiA9IEwucG9wdXAoeyJtYXhXaWR0aCI6ICIxMDAlIn0pOwoKICAgICAgICAKICAgICAgICAgICAgdmFyIGh0bWxfY2FiZWI5MTRhZGZjNDE5Mjk2MTI4NTc5ZmQ5Njc1ZmMgPSAkKGA8ZGl2IGlkPSJodG1sX2NhYmViOTE0YWRmYzQxOTI5NjEyODU3OWZkOTY3NWZjIiBzdHlsZT0id2lkdGg6IDEwMC4wJTsgaGVpZ2h0OiAxMDAuMCU7Ij5QaG9lYmXigJlzIEJha2VyeTwvZGl2PmApWzBdOwogICAgICAgICAgICBwb3B1cF85ZDFhMjM4NmE0MTc0NWE0YjNkOWNkYWMyZjdlODJkZi5zZXRDb250ZW50KGh0bWxfY2FiZWI5MTRhZGZjNDE5Mjk2MTI4NTc5ZmQ5Njc1ZmMpOwogICAgICAgIAoKICAgICAgICBtYXJrZXJfZDMzNTU3YTA0YTdmNGJjNWIyODU1ZTIwMWY3NWJjYjkuYmluZFBvcHVwKHBvcHVwXzlkMWEyMzg2YTQxNzQ1YTRiM2Q5Y2RhYzJmN2U4MmRmKQogICAgICAgIDsKCiAgICAgICAgCiAgICAKPC9zY3JpcHQ+\" style=\"position:absolute;width:100%;height:100%;left:0;top:0;border:none !important;\" allowfullscreen webkitallowfullscreen mozallowfullscreen></iframe></div></div>",
      "text/plain": "<folium.folium.Map at 0x121bfa5c0>"
     },
     "execution_count": 60,
     "metadata": {},
     "output_type": "execute_result"
    }
   ],
   "source": [
    "mapping = folium.Map(location=[df['lat'].mean(), df['lng'].mean()], zoom_start=11)\n",
    "\n",
    "for n in tqdm(df.index):\n",
    "    if df['Address'][n] != 'Multiple':\n",
    "        folium.Marker([df['lat'][n], df['lng'][n]], popup=df['Cafe'][n]).add_to(mapping)\n",
    "     \n",
    "mapping"
   ]
  }
 ]
}