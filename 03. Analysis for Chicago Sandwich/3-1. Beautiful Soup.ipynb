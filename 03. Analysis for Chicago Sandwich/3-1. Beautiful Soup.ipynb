{
 "nbformat": 4,
 "nbformat_minor": 2,
 "metadata": {
  "language_info": {
   "name": "python",
   "codemirror_mode": {
    "name": "ipython",
    "version": 3
   },
   "version": "3.7.3-final"
  },
  "orig_nbformat": 2,
  "file_extension": ".py",
  "mimetype": "text/x-python",
  "name": "python",
  "npconvert_exporter": "python",
  "pygments_lexer": "ipython3",
  "version": 3,
  "kernelspec": {
   "name": "python37364bitbaseconda3a3cc25609b14e9b8eb568e130baf197",
   "display_name": "Python 3.7.3 64-bit ('base': conda)"
  }
 },
 "cells": [
  {
   "cell_type": "markdown",
   "execution_count": null,
   "metadata": {},
   "outputs": [],
   "source": [
    "## 3-1. 웹 데이터를 가져오는 Beautiful Soup 익히기"
   ]
  },
  {
   "cell_type": "code",
   "execution_count": 1,
   "metadata": {},
   "outputs": [],
   "source": [
    "from bs4 import BeautifulSoup"
   ]
  },
  {
   "cell_type": "code",
   "execution_count": 2,
   "metadata": {},
   "outputs": [
    {
     "name": "stdout",
     "output_type": "stream",
     "text": "<!DOCTYPE html>\n<html>\n <head>\n  <title>\n   Very Simple HTML Code by PinkWink\n  </title>\n </head>\n <body>\n  <div>\n   <p class=\"inner-text first-item\" id=\"first\">\n    Happy PinkWink.\n    <a href=\"http://www.pinkwink.kr\" id=\"pw-link\">\n     PinkWink\n    </a>\n   </p>\n   <p class=\"inner-text second-item\">\n    Happy Data Science.\n    <a href=\"https://www.python.org\" id=\"py-link\">\n     Python\n    </a>\n   </p>\n  </div>\n  <p class=\"outer-text first-item\" id=\"second\">\n   <b>\n    Data Science is funny.\n   </b>\n  </p>\n  <p class=\"outer-text\">\n   <b>\n    All I need is Love.\n   </b>\n  </p>\n </body>\n</html>\n"
    }
   ],
   "source": [
    "page = open('/Users/nani/Desktop/GitHub/DataScience/data/03. test_first.html','r').read()\n",
    "soup = BeautifulSoup(page, 'html.parser')\n",
    "print(soup.prettify())  # prettify : 들여쓰기가 되어 보기 좋게 나타남"
   ]
  },
  {
   "cell_type": "code",
   "execution_count": 3,
   "metadata": {},
   "outputs": [
    {
     "data": {
      "text/plain": "['html', '\\n', <html>\n <head>\n <title>Very Simple HTML Code by PinkWink</title>\n </head>\n <body>\n <div>\n <p class=\"inner-text first-item\" id=\"first\">\n                 Happy PinkWink.\n                 <a href=\"http://www.pinkwink.kr\" id=\"pw-link\">PinkWink</a>\n </p>\n <p class=\"inner-text second-item\">\n                 Happy Data Science.\n                 <a href=\"https://www.python.org\" id=\"py-link\">Python</a>\n </p>\n </div>\n <p class=\"outer-text first-item\" id=\"second\">\n <b>\n                 Data Science is funny.\n             </b>\n </p>\n <p class=\"outer-text\">\n <b>\n                 All I need is Love.\n             </b>\n </p>\n </body>\n </html>]"
     },
     "execution_count": 3,
     "metadata": {},
     "output_type": "execute_result"
    }
   ],
   "source": [
    "# children : soup이라는 변수에서 한 단계 아래에서 포함된 태그들을 알고 싶을 때 children이라는 속성을 사용한다.\n",
    "list(soup.children)  "
   ]
  },
  {
   "cell_type": "code",
   "execution_count": 4,
   "metadata": {},
   "outputs": [
    {
     "data": {
      "text/plain": "<html>\n<head>\n<title>Very Simple HTML Code by PinkWink</title>\n</head>\n<body>\n<div>\n<p class=\"inner-text first-item\" id=\"first\">\n                Happy PinkWink.\n                <a href=\"http://www.pinkwink.kr\" id=\"pw-link\">PinkWink</a>\n</p>\n<p class=\"inner-text second-item\">\n                Happy Data Science.\n                <a href=\"https://www.python.org\" id=\"py-link\">Python</a>\n</p>\n</div>\n<p class=\"outer-text first-item\" id=\"second\">\n<b>\n                Data Science is funny.\n            </b>\n</p>\n<p class=\"outer-text\">\n<b>\n                All I need is Love.\n            </b>\n</p>\n</body>\n</html>"
     },
     "execution_count": 4,
     "metadata": {},
     "output_type": "execute_result"
    }
   ],
   "source": [
    "html = list(soup.children)[2]\n",
    "html"
   ]
  },
  {
   "cell_type": "code",
   "execution_count": 5,
   "metadata": {},
   "outputs": [
    {
     "data": {
      "text/plain": "['\\n', <head>\n <title>Very Simple HTML Code by PinkWink</title>\n </head>, '\\n', <body>\n <div>\n <p class=\"inner-text first-item\" id=\"first\">\n                 Happy PinkWink.\n                 <a href=\"http://www.pinkwink.kr\" id=\"pw-link\">PinkWink</a>\n </p>\n <p class=\"inner-text second-item\">\n                 Happy Data Science.\n                 <a href=\"https://www.python.org\" id=\"py-link\">Python</a>\n </p>\n </div>\n <p class=\"outer-text first-item\" id=\"second\">\n <b>\n                 Data Science is funny.\n             </b>\n </p>\n <p class=\"outer-text\">\n <b>\n                 All I need is Love.\n             </b>\n </p>\n </body>, '\\n']"
     },
     "execution_count": 5,
     "metadata": {},
     "output_type": "execute_result"
    }
   ],
   "source": [
    "list(html.children)"
   ]
  },
  {
   "cell_type": "code",
   "execution_count": 6,
   "metadata": {},
   "outputs": [
    {
     "data": {
      "text/plain": "<body>\n<div>\n<p class=\"inner-text first-item\" id=\"first\">\n                Happy PinkWink.\n                <a href=\"http://www.pinkwink.kr\" id=\"pw-link\">PinkWink</a>\n</p>\n<p class=\"inner-text second-item\">\n                Happy Data Science.\n                <a href=\"https://www.python.org\" id=\"py-link\">Python</a>\n</p>\n</div>\n<p class=\"outer-text first-item\" id=\"second\">\n<b>\n                Data Science is funny.\n            </b>\n</p>\n<p class=\"outer-text\">\n<b>\n                All I need is Love.\n            </b>\n</p>\n</body>"
     },
     "execution_count": 6,
     "metadata": {},
     "output_type": "execute_result"
    }
   ],
   "source": [
    "body = list(html.children)[3]\n",
    "body"
   ]
  },
  {
   "cell_type": "code",
   "execution_count": 7,
   "metadata": {},
   "outputs": [
    {
     "data": {
      "text/plain": "<body>\n<div>\n<p class=\"inner-text first-item\" id=\"first\">\n                Happy PinkWink.\n                <a href=\"http://www.pinkwink.kr\" id=\"pw-link\">PinkWink</a>\n</p>\n<p class=\"inner-text second-item\">\n                Happy Data Science.\n                <a href=\"https://www.python.org\" id=\"py-link\">Python</a>\n</p>\n</div>\n<p class=\"outer-text first-item\" id=\"second\">\n<b>\n                Data Science is funny.\n            </b>\n</p>\n<p class=\"outer-text\">\n<b>\n                All I need is Love.\n            </b>\n</p>\n</body>"
     },
     "execution_count": 7,
     "metadata": {},
     "output_type": "execute_result"
    }
   ],
   "source": [
    "soup.body"
   ]
  },
  {
   "cell_type": "code",
   "execution_count": 8,
   "metadata": {},
   "outputs": [
    {
     "data": {
      "text/plain": "['\\n', <div>\n <p class=\"inner-text first-item\" id=\"first\">\n                 Happy PinkWink.\n                 <a href=\"http://www.pinkwink.kr\" id=\"pw-link\">PinkWink</a>\n </p>\n <p class=\"inner-text second-item\">\n                 Happy Data Science.\n                 <a href=\"https://www.python.org\" id=\"py-link\">Python</a>\n </p>\n </div>, '\\n', <p class=\"outer-text first-item\" id=\"second\">\n <b>\n                 Data Science is funny.\n             </b>\n </p>, '\\n', <p class=\"outer-text\">\n <b>\n                 All I need is Love.\n             </b>\n </p>, '\\n']"
     },
     "execution_count": 8,
     "metadata": {},
     "output_type": "execute_result"
    }
   ],
   "source": [
    "list(body.children)"
   ]
  },
  {
   "cell_type": "code",
   "execution_count": 9,
   "metadata": {},
   "outputs": [
    {
     "data": {
      "text/plain": "[<p class=\"inner-text first-item\" id=\"first\">\n                 Happy PinkWink.\n                 <a href=\"http://www.pinkwink.kr\" id=\"pw-link\">PinkWink</a>\n </p>, <p class=\"inner-text second-item\">\n                 Happy Data Science.\n                 <a href=\"https://www.python.org\" id=\"py-link\">Python</a>\n </p>, <p class=\"outer-text first-item\" id=\"second\">\n <b>\n                 Data Science is funny.\n             </b>\n </p>, <p class=\"outer-text\">\n <b>\n                 All I need is Love.\n             </b>\n </p>]"
     },
     "execution_count": 9,
     "metadata": {},
     "output_type": "execute_result"
    }
   ],
   "source": [
    "# find_all : 모든 p태그 찾기\n",
    "soup.find_all('p')"
   ]
  },
  {
   "cell_type": "code",
   "execution_count": 10,
   "metadata": {},
   "outputs": [
    {
     "data": {
      "text/plain": "<p class=\"inner-text first-item\" id=\"first\">\n                Happy PinkWink.\n                <a href=\"http://www.pinkwink.kr\" id=\"pw-link\">PinkWink</a>\n</p>"
     },
     "execution_count": 10,
     "metadata": {},
     "output_type": "execute_result"
    }
   ],
   "source": [
    "# find : p태그 하나만 찾기 - 제일 첫 번째 p태그 찾아줌\n",
    "soup.find('p')"
   ]
  },
  {
   "cell_type": "code",
   "execution_count": 11,
   "metadata": {},
   "outputs": [
    {
     "data": {
      "text/plain": "[<p class=\"outer-text first-item\" id=\"second\">\n <b>\n                 Data Science is funny.\n             </b>\n </p>, <p class=\"outer-text\">\n <b>\n                 All I need is Love.\n             </b>\n </p>]"
     },
     "execution_count": 11,
     "metadata": {},
     "output_type": "execute_result"
    }
   ],
   "source": [
    "soup.find_all('p', class_='outer-text')"
   ]
  },
  {
   "cell_type": "code",
   "execution_count": 12,
   "metadata": {},
   "outputs": [
    {
     "data": {
      "text/plain": "[<p class=\"outer-text first-item\" id=\"second\">\n <b>\n                 Data Science is funny.\n             </b>\n </p>, <p class=\"outer-text\">\n <b>\n                 All I need is Love.\n             </b>\n </p>]"
     },
     "execution_count": 12,
     "metadata": {},
     "output_type": "execute_result"
    }
   ],
   "source": [
    "soup.find_all(class_='outer-text')"
   ]
  },
  {
   "cell_type": "code",
   "execution_count": 13,
   "metadata": {},
   "outputs": [
    {
     "data": {
      "text/plain": "[<p class=\"inner-text first-item\" id=\"first\">\n                 Happy PinkWink.\n                 <a href=\"http://www.pinkwink.kr\" id=\"pw-link\">PinkWink</a>\n </p>]"
     },
     "execution_count": 13,
     "metadata": {},
     "output_type": "execute_result"
    }
   ],
   "source": [
    "soup.find_all(id='first')"
   ]
  },
  {
   "cell_type": "code",
   "execution_count": 14,
   "metadata": {},
   "outputs": [
    {
     "data": {
      "text/plain": "<p class=\"inner-text first-item\" id=\"first\">\n                Happy PinkWink.\n                <a href=\"http://www.pinkwink.kr\" id=\"pw-link\">PinkWink</a>\n</p>"
     },
     "execution_count": 14,
     "metadata": {},
     "output_type": "execute_result"
    }
   ],
   "source": [
    "soup.find('p')"
   ]
  },
  {
   "cell_type": "code",
   "execution_count": 15,
   "metadata": {},
   "outputs": [
    {
     "data": {
      "text/plain": "<head>\n<title>Very Simple HTML Code by PinkWink</title>\n</head>"
     },
     "execution_count": 15,
     "metadata": {},
     "output_type": "execute_result"
    }
   ],
   "source": [
    "soup.head"
   ]
  },
  {
   "cell_type": "code",
   "execution_count": 16,
   "metadata": {},
   "outputs": [
    {
     "data": {
      "text/plain": "'\\n'"
     },
     "execution_count": 16,
     "metadata": {},
     "output_type": "execute_result"
    }
   ],
   "source": [
    "soup.head.next_sibling"
   ]
  },
  {
   "cell_type": "code",
   "execution_count": 17,
   "metadata": {},
   "outputs": [
    {
     "data": {
      "text/plain": "<body>\n<div>\n<p class=\"inner-text first-item\" id=\"first\">\n                Happy PinkWink.\n                <a href=\"http://www.pinkwink.kr\" id=\"pw-link\">PinkWink</a>\n</p>\n<p class=\"inner-text second-item\">\n                Happy Data Science.\n                <a href=\"https://www.python.org\" id=\"py-link\">Python</a>\n</p>\n</div>\n<p class=\"outer-text first-item\" id=\"second\">\n<b>\n                Data Science is funny.\n            </b>\n</p>\n<p class=\"outer-text\">\n<b>\n                All I need is Love.\n            </b>\n</p>\n</body>"
     },
     "execution_count": 17,
     "metadata": {},
     "output_type": "execute_result"
    }
   ],
   "source": [
    "soup.head.next_sibling.next_sibling"
   ]
  },
  {
   "cell_type": "code",
   "execution_count": 18,
   "metadata": {},
   "outputs": [
    {
     "data": {
      "text/plain": "<p class=\"inner-text first-item\" id=\"first\">\n                Happy PinkWink.\n                <a href=\"http://www.pinkwink.kr\" id=\"pw-link\">PinkWink</a>\n</p>"
     },
     "execution_count": 18,
     "metadata": {},
     "output_type": "execute_result"
    }
   ],
   "source": [
    "body.p"
   ]
  },
  {
   "cell_type": "code",
   "execution_count": 19,
   "metadata": {},
   "outputs": [
    {
     "data": {
      "text/plain": "<p class=\"inner-text second-item\">\n                Happy Data Science.\n                <a href=\"https://www.python.org\" id=\"py-link\">Python</a>\n</p>"
     },
     "execution_count": 19,
     "metadata": {},
     "output_type": "execute_result"
    }
   ],
   "source": [
    "# next_sibling을 두 번 걸면 그 다음 p태그로 이동\n",
    "body.p.next_sibling.next_sibling"
   ]
  },
  {
   "cell_type": "code",
   "execution_count": 20,
   "metadata": {},
   "outputs": [
    {
     "name": "stdout",
     "output_type": "stream",
     "text": "\n                Happy PinkWink.\n                PinkWink\n\n\n                Happy Data Science.\n                Python\n\n\n\n                Data Science is funny.\n            \n\n\n\n                All I need is Love.\n            \n\n"
    }
   ],
   "source": [
    "# get_text : 태그 안에 있는 텍스트만 가지고 올 수 있다.\n",
    "for each_tag in soup.find_all('p'):\n",
    "    print(each_tag.get_text())"
   ]
  },
  {
   "cell_type": "code",
   "execution_count": 21,
   "metadata": {},
   "outputs": [
    {
     "data": {
      "text/plain": "'\\n\\n\\n                Happy PinkWink.\\n                PinkWink\\n\\n\\n                Happy Data Science.\\n                Python\\n\\n\\n\\n\\n                Data Science is funny.\\n            \\n\\n\\n\\n                All I need is Love.\\n            \\n\\n'"
     },
     "execution_count": 21,
     "metadata": {},
     "output_type": "execute_result"
    }
   ],
   "source": [
    "body.get_text()"
   ]
  },
  {
   "cell_type": "code",
   "execution_count": 22,
   "metadata": {},
   "outputs": [
    {
     "data": {
      "text/plain": "[<a href=\"http://www.pinkwink.kr\" id=\"pw-link\">PinkWink</a>,\n <a href=\"https://www.python.org\" id=\"py-link\">Python</a>]"
     },
     "execution_count": 22,
     "metadata": {},
     "output_type": "execute_result"
    }
   ],
   "source": [
    "links = soup.find_all('a')\n",
    "links"
   ]
  },
  {
   "cell_type": "code",
   "execution_count": 23,
   "metadata": {},
   "outputs": [
    {
     "name": "stdout",
     "output_type": "stream",
     "text": "PinkWink->http://www.pinkwink.kr\nPython->https://www.python.org\n"
    }
   ],
   "source": [
    "for each in links:\n",
    "    href = each['href']\n",
    "    text = each.string\n",
    "    print(text + '->' + href)"
   ]
  },
  {
   "cell_type": "markdown",
   "execution_count": null,
   "metadata": {},
   "outputs": [],
   "source": [
    "## 네이버 환율 페이지에서 달러 환율 가져오기"
   ]
  },
  {
   "cell_type": "code",
   "execution_count": 5,
   "metadata": {},
   "outputs": [],
   "source": [
    "from urllib.request import urlopen\n",
    "from bs4 import BeautifulSoup"
   ]
  },
  {
   "cell_type": "code",
   "execution_count": 3,
   "metadata": {},
   "outputs": [
    {
     "name": "stdout",
     "output_type": "stream",
     "text": ".1.0.1.js?20200107172122\" type=\"text/javascript\">\n  </script>\n  <script charset=\"euckr\" language=\"javascript\" src=\"/js/jindoComponent/jindo.Formatter.1.1.0.js?20200107172122\" type=\"text/javascript\">\n  </script>\n  <script charset=\"euckr\" language=\"javascript\" src=\"/js/jindoComponent/jindo.NumberFormatter.1.0.1.js?20200107172122\" type=\"text/javascript\">\n  </script>\n  <script language=\"javascript\" src=\"/js/exchange.js?20200107172122\" type=\"text/javascript\">\n  </script>\n  <script type=\"text/javascript\">\n   // exchangeDetail.jsp에도 동일 스크립트 있음 - 로딩시 디자인이 0.5초간 디자인이 안뜬다는 이슈로 include하지 않고 같은 스크립트를 두벌로 관리함\n\n//환율 계산\nfunction calcExchange(str1, str2, cssOn, event) {\n\tvar oEvent = event || window.event;\n    var sKeyCode = (undefined === oEvent) ? undefined : jindo.$Event(oEvent).key().keyCode;\n\t\n\tif (sKeyCode != 13 && sKeyCode != 27 && sKeyCode != 37 && sKeyCode != 38 && sKeyCode != 110 && sKeyCode != 229) {\n\t\tif (str1 == '' && str2 == '') {\n\t\t\tif (jindo.$('input_to').className == 'input_area') {\n\t\t\t\tstr1 = 'from';\n\t\t\t\tstr2 = 'to';\n\t\t\t} else {\n\t\t\t\tstr1 = 'to';\n\t\t\t\tstr2 = 'from';\n\t\t\t}\n\t\t}\n\t\t\n\t\tvar regExp = new RegExp(\"[^0-9\\.\\,]\");\n\t    var sInputValue = jindo.$('input_' + str1 + '_money').value;\n\t\t\n\t    if(regExp.test(sInputValue)){\n\t\t\talert('숫자, 소수점(.)만 입력하실 수 있습니다.');\n\t\t\tjindo.$('input_' + str1 + '_money').value = revertInputText(sInputValue);\n\t\t\treturn false;\n\t\t}\n\t\t\n\t\t// 사용자가 입력한 콤마(,) 제거\n\t    if (sInputValue.substr(sInputValue.length - 1, 1) == ',') {\n\t    \tjindo.$('input_' + str1 + '_money').value = revertInputText(sInputValue);\n\t    \treturn false;\n\t    }\n\t\t\n\t\t// 맨 앞에 있는 숫자 0 없애기\n\t\tif (sInputValue == '0' || sInputValue == '.' || sInputValue == ',') {\n\t\t\tjindo.$('input_' + str1 + '_money').value = revertInputText(sInputValue);\n\t\t\treturn false;\n\t\t}\n\t\t\n\t\t// 소수점 2개가 없도록\n\t\tvar match = sInputValue.match(/\\./g);\n\t\tif (match != null && match.length >= 2) {\n\t\t\tjindo.$('input_' + str1 + '_money').value = revertInputText(sInputValue);\n\t\t\treturn false;\n\t\t}\n\t\t\n\t\t// 소수점을 입력한 경우, 일단 대기\n\t\tvar pointPosIndex = sInputValue.indexOf('.');\n\t\tif (pointPosIndex != -1 && pointPosIndex == sInputValue.length - 1) {\n\t\t\treturn false;\n\t\t}\n\t\t\n\t\t// 소수점 2자리 유지\n\t\tif (pointPosIndex != -1 && sInputValue.substring(pointPosIndex + 1, sInputValue.length).length > 2) {\n\t\t\tjindo.$('input_' + str1 + '_money').value = revertInputText(sInputValue);\n\t\t\treturn false;\n\t\t}\n\t\t\n\t\tvar e_select_from\t= jindo.$('select_'+str1);\n\t\tvar e_select_to\t= jindo.$('select_'+str2);\n\t\n\t\tvar input_from_money\t= jindo.$('input_'+str1+'_money').value ;\n\t\tvar input_from\t\t= e_select_from.options[e_select_from.selectedIndex].value ;\n\t\tvar input_to\t\t= e_select_to.options[e_select_to.selectedIndex].value ;\n\t\tvar unit_from\t= e_select_from.options[e_select_from.selectedIndex].text ;\n\t\tvar unit_to\t\t= e_select_to.options[e_select_to.selectedIndex].text ;\n\t\tinput_from_money = input_from_money.replace(/ |,|\\t/g, \"\") ;\n\t\tinput_from\t= input_from.replace(/ |,|\\t/g, \"\") ;\n\t\tinput_to\t= input_to.replace(/ |,|\\t/g, \"\") ;\n\t\tunit_from = unit_from.substr(unit_from.length-3, 3);\n\t\tunit_to = unit_to.substr(unit_to.length-3, 3);\n\t\n\t\tvar str1_result = input_from_money * 1 ;\n\t\tvar str1_str\t= str1_result.toFixed(0) ;\n\t\tvar str1_len = str1_str.length ;\n\t\tvar str1_result_str = new String(\"\") ;\n\t\n\t\tif(str1_str > str1_result)\n\t\t\tstr1_str = new String(str1_str-1) ;\n\t\n\t\tif (str1_len >= 3) {\n\t\t\tfor (i = str1_len - 3; i > 0; i-=3)\n\t\t\t\tstr1_result_str = \",\" + str1_str.substr(i, 3) + str1_result_str ;\n\t\n\t\t\tstr1_result_str = str1_str.substr(0, 3+i) + str1_result_str ;\n\t\n\t\t\tfor (var i=0; i<input_from_money.length; i++) {\n\t\t\t\tif (input_from_money.substr(i,1) != '0') {\n\t\t\t\t\tinput_from_money = input_from_money.substring(i,input_from_money.length) ;\n\t\t\t\t\tbreak;\n\t\t\t\t}\n\t\t\t}\n\t\n\t\t\tif (str1_str != input_from_money) {\n\t\t\t\tstr1_result_str += str1_result.toFixed(input_from_money.split(\".\")[1].length).substr(str1_len, input_from_money.split(\".\")[1].length + 1) ;\n\t\t\t}\n\t\t} else\n\t\t\tstr1_result_str = input_from_money ;\n\t\n\t\tvar str2_result = input_from_money * input_from / input_to ;\n\t\tvar str2_str\t= str2_result.toFixed(0) ;\n\t\tvar str2_len = str2_str.length ;\n\t\tvar str2_result_str = new String(\"\") ;\n\t\n\t\tif (str2_str > str2_result)\n\t\t\tstr2_str = new String(str2_str-1) ;\n\t\n\t\tif (str2_len >= 3) {\n\t\t\tfor (i = str2_len - 3; i > 0; i-=3)\n\t\t\t\tstr2_result_str = \",\" + str2_str.substr(i, 3) + str2_result_str ;\n\t\n\t\t\tstr2_result_str = str2_str.substr(0, 3+i) + str2_result_str ;\n\t\t\tstr2_result_str += str2_result.toFixed(2).substr(str2_len, 3) ;\n\t\t} else\n\t\t\tstr2_result_str = str2_result.toFixed(2) ;\n\t\n\t\tjindo.$('input_'+str1+'_money').value = str1_result_str;\n\t\tjindo.$('input_'+str2+'_money').value = str2_result_str;\n\t\tjindo.$('img_'+str1+'_monetary').src = \"https://ssl.pstatic.net/static/nfinance/img_money_\"+unit_from+\".gif\";\n\t\tjindo.$('img_'+str2+'_monetary').src = \"https://ssl.pstatic.net/static/nfinance/img_money_\"+unit_to+\".gif\";\n\t\tjindo.$Element(jindo.$('input_'+str1)).addClass(\"on\");\n\t\tjindo.$Element(jindo.$('input_'+str2)).removeClass(\"on\");\n\t\tif (cssOn == \"off\"){\n\t\t\tjindo.$Element(jindo.$('input_'+str1)).removeClass(\"on\");\n\t\t}\n\t}\n}\n\nfunction revertInputText(sOrgText) {\n\tvar sResult = sOrgText;\n\t\n\tif (sOrgText != '') {\n\t\tsResult = sOrgText.substr(0, sOrgText.length - 1);\n\t}\n\t\n\treturn sResult;\n}\n\njindo.$Fn(function(){\n\tchartMouseOverEvent('exchangeList');\t\t\n   }).attach(document, \"domready\");\n  </script>\n </div>\n <script language=\"javascript\" src=\"/js/jindo_ellipse.js?20200107172122\">\n </script>\n <script language=\"javascript\" src=\"/js/util.js?20200107172122\">\n </script>\n <script type=\"text/javascript\">\n  function ellipseTopNewsTitle() {\n\tjindo.EllipseText.factory(jindo.$$(\".news_list ul li\"), {nAssistWidth: 10});\n}\n\n\nvar basicDates;\n\nfunction initDate() {\n\tbasicDates = jindo.$H();\n\tbasicDates.add('', '');\n\tbasicDates.add('', '');\n\tbasicDates.add('', '');\n\tbasicDates.add('', '');\n\tbasicDates.add('', '');\n\tbasicDates.add('', '');\n}\n\nvar basicDescriptions;\n\nfunction initDescription() {\n\tbasicDescriptions = jindo.$H();\n\tbasicDescriptions.add('CMDT_CDY','<em></em>  기준<span>단위:</span>');\n\tbasicDescriptions.add('CMDT_PDY','<em></em>  기준<span>단위:</span>');\n\tbasicDescriptions.add('CMDT_NG','<em></em>  기준<span>단위:</span>');\n\tbasicDescriptions.add('CMDT_S','<em></em>  기준<span>단위:</span>');\n\tbasicDescriptions.add('CMDT_C','<em></em>  기준<span>단위:</span>');\n\tbasicDescriptions.add('CMDT_SB','<em></em>  기준<span>단위:</span>');\n}\n\nfunction setEvent(num, imgChartUrl){\t\n\tvar parentElemnt = jindo.$$('.tbl_market')[num];\n\tvar elementList = jindo.$$('tr',parentElemnt);\n\t\n\tjindo.$Fn(function(e){\t\n\t\tvar elementListSize = elementList.length;\n\t\t\n\t\tfor(var i = 0 ; i < elementListSize ; i ++)\n\t\t{\n\t\t\tvar selectedElement = jindo.$Element(elementList[i]);\n\t\t\tvar selectedClassName = selectedElement.className();\n\t\t\tif (selectedClassName != \"\") {\n\t\t\t\tselectedElement.removeClass(selectedClassName);\n\t\t\t\tselectedElement.addClass(selectedClassName.replace(\"on\",\"\"));\n\t\t\t}\n\t\t} \n\t\t\n\t\tvar ele = jindo.$Element(jindo.$Event(e).currentElement);\n\t\tvar linkUrl = jindo.$$.getSingle('a' , ele.$value()).href;\n\t\tvar marketindexCd = linkUrl.split('=')[1];\n\t\tvar className = ele.className();\n\t\tele.removeClass(className);\n\t\tele.addClass(className+\" on\");\n\t\tvar graphElement = jindo.$Element(jindo.$$('.thum')[num]);\n\t\tgraphElement.html('<a href=\\\"'+linkUrl+'\\\"><img src=\\\"https://ssl.pstatic.net/imgfinance/chart/marketindex/' + marketindexCd + '.png\\\" width=\\\"295\\\" height=\\\"153\\\" alt=\"\"></a>');\n\t\t\n\t\tif (basicDates.hasKey(marketindexCd)) {\n\t\t\tjindo.$Element(\"basicDate\").text(basicDates.$(marketindexCd));\n\t\t}\n\t\tif (basicDescriptions.hasKey(marketindexCd)) {\n\t\t\tjindo.$Element(\"basicDescription\").html(basicDescriptions.$(marketindexCd));\n\t\t}\n\t\n\t}).attach(elementList, \"mouseover\");\t\n}\n\njindo.$Fn(function(){\n\t\tinitDate();\n\t\tinitDescription();\n\t\tchartMouseOverEvent('exchangeList');\n\t\tchartMouseOverEvent('worldExchangeList');\n\t\tchartMouseOverEvent('oilGoldList');\n\t\t//setEvent(0);\n\t\t//setEvent(1);\n\t\tjindo.$$('title')[0].innerHTML = \"시장지표 : 네이버 금융\";\n}).attach(document, \"domready\");\n </script>\n <div class=\"aside\" id=\"marketindex_aside\">\n  <div class=\"section_aside\">\n   <h3 class=\"h_interest\">\n    <span>\n     국내시장금리\n    </span>\n   </h3>\n   <table class=\"tbl_exchange market\" summary=\"국제시장 환율 리스트\">\n    <caption>\n     국내시장금리\n    </caption>\n    <colgroup>\n     <col width=\"94\"/>\n     <col width=\"50\"/>\n     <col width=\"75\"/>\n    </colgroup>\n    <thead>\n     <tr>\n      <th>\n       구분\n      </th>\n      <th>\n       금리\n      </th>\n      <th>\n       등락율\n      </th>\n     </tr>\n    </thead>\n    <tbody>\n     <tr class=\"same\">\n      <th class=\"th_inter4\">\n       <a href=\"/marketindex/interestDetail.nhn?marketindexCd=IRR_CD91\" onclick=\"clickcr(this, 'rid.local', 'IRR_CD91', '1', event);\">\n        <span>\n         CD금리(91일)\n        </span>\n       </a>\n      </th>\n      <td>\n       1.46\n      </td>\n      <td>\n       <img alt=\"보합\" height=\"6\" src=\"https://ssl.pstatic.net/static/nfinance/ico_same2.gif\" width=\"7\"/>\n       0.00\n      </td>\n     </tr>\n     <tr class=\"up\">\n      <th class=\"th_inter1\">\n       <a href=\"/marketindex/interestDetail.nhn?marketindexCd=IRR_CALL\" onclick=\"clickcr(this, 'met.8', 'IRR_CALL', '2', event);\">\n        <span>\n         콜 금리\n        </span>\n       </a>\n      </th>\n      <td>\n       1.28\n      </td>\n      <td>\n       <img alt=\"상승\" height=\"6\" src=\"https://ssl.pstatic.net/static/nfinance/ico_up.gif\" width=\"7\"/>\n       0.03\n      </td>\n     </tr>\n     <tr class=\"up\">\n      <th class=\"th_inter2\">\n       <a href=\"/marketindex/interestDetail.nhn?marketindexCd=IRR_GOVT03Y\" onclick=\"clickcr(this, 'met.8', 'IRR_GOVT03Y', '3', event);\">\n        <span>\n         국고채 (3년)\n        </span>\n       </a>\n      </th>\n      <td>\n       1.43\n      </td>\n      <td>\n       <img alt=\"상승\" height=\"6\" src=\"https://ssl.pstatic.net/static/nfinance/ico_up.gif\" width=\"7\"/>\n       0.01\n      </td>\n     </tr>\n     <tr class=\"up\">\n      <th class=\"th_inter3\">\n       <a href=\"/marketindex/interestDetail.nhn?marketindexCd=IRR_CORP03Y\" onclick=\"clickcr(this, 'met.8', 'IRR_CORP03Y', '4', event);\">\n        <span>\n         회사채 (3년)\n        </span>\n       </a>\n      </th>\n      <td>\n       1.99\n      </td>\n      <td>\n       <img alt=\"상승\" height=\"6\" src=\"https://ssl.pstatic.net/static/nfinance/ico_up.gif\" width=\"7\"/>\n       0.01\n      </td>\n     </tr>\n     <tr class=\"down\">\n      <th class=\"th_inter5\">\n       <a href=\"/marketindex/interestDetail.nhn?marketindexCd=IRR_COFIXBAL\" onclick=\"clickcr(this, 'met.8', 'IRR_COFIXBAL', '5', event);\">\n        <span>\n         COFIX 잔액\n        </span>\n       </a>\n      </th>\n      <td>\n       1.81\n      </td>\n      <td>\n       <img alt=\"하락\" height=\"6\" src=\"https://ssl.pstatic.net/static/nfinance/ico_down.gif\" width=\"7\"/>\n       0.02\n      </td>\n     </tr>\n     <tr class=\"up\">\n      <th class=\"th_inter6\">\n       <a href=\"/marketindex/interestDetail.nhn?marketindexCd=IRR_COFIXNEW\" onclick=\"clickcr(this, 'met.8', 'IRR_COFIXNEW', '6', event);\">\n        <span>\n         COFIX 신규취급액\n        </span>\n       </a>\n      </th>\n      <td>\n       1.63\n      </td>\n      <td>\n       <img alt=\"상승\" height=\"6\" src=\"https://ssl.pstatic.net/static/nfinance/ico_up.gif\" width=\"7\"/>\n       0.08\n      </td>\n     </tr>\n    </tbody>\n   </table>\n   <table class=\"tbl_exchange tbl_exchange_v1 market\" style=\"margin-top:10px;\" summary=\"달러 인덱스\">\n    <caption>\n     달러 인덱스\n    </caption>\n    <colgroup>\n     <col width=\"88\"/>\n     <col width=\"46\"/>\n     <col width=\"66\"/>\n    </colgroup>\n    <thead>\n     <tr>\n      <th>\n       구분\n      </th>\n      <th>\n       금리\n      </th>\n      <th>\n       등락율\n      </th>\n     </tr>\n    </thead>\n    <tbody>\n     <tr class=\"other_t1 up\">\n      <th class=\"th_inter7\">\n       <a href=\"/marketindex/worldExchangeDetail.nhn?marketindexCd=FX_USDX&amp;fdtc=4\" onclick=\"clickcr(this, 'rid.dollar', 'FX_USDX', '', event);\">\n        <span>\n         달러 인덱스\n        </span>\n       </a>\n      </th>\n      <td>\n       97.1600\n      </td>\n      <td>\n       <img alt=\"상승\" height=\"6\" src=\"https://ssl.pstatic.net/static/nfinance/ico_up.gif\" width=\"7\"/>\n       0.1700\n      </td>\n     </tr>\n    </tbody>\n   </table>\n  </div>\n  <div class=\"section_aside\">\n   <div class=\"tab_search search3\">\n    <a href=\"#\" onclick=\"clickcr(this, 'rch.1', '', '', event); return false;\">\n     <span>\n      최근조회\n     </span>\n    </a>\n    <a href=\"#\" onclick=\"clickcr(this, 'rch.3', '', '', event); return false;\">\n     <span>\n      MY STOCK\n     </span>\n    </a>\n   </div>\n   <h3 class=\"blind\">\n    최근조회\n   </h3>\n   <table class=\"tbl_search\" summary=\"최근조회 리스트\">\n    <caption>\n     최근조회\n    </caption>\n    <colgroup>\n     <col/>\n     <col width=\"55\"/>\n     <col width=\"87\"/>\n    </colgroup>\n    <thead>\n     <tr>\n      <th>\n       업체명\n      </th>\n      <th>\n       거래량\n      </th>\n      <th>\n       전일비\n      </th>\n     </tr>\n    </thead>\n    <tbody>\n    </tbody>\n   </table>\n   <div class=\"more_info\">\n    <span>\n     <a href=\"#\" onclick=\"clickcr(this, 'rch.5', '', '', event); return false;\">\n      <img alt=\"이전\" height=\"15\" src=\"https://ssl.pstatic.net/static/nfinance/btn_prev2.gif\" width=\"17\"/>\n     </a>\n     <a href=\"#\" onclick=\"clickcr(this, 'rch.6', '', '', event); return false;\">\n      <img alt=\"다음\" height=\"15\" src=\"https://ssl.pstatic.net/static/nfinance/btn_next2.gif\" width=\"17\"/>\n     </a>\n    </span>\n    <a class=\"btn_more _mystock_more_info\" href=\"#\" onclick=\"javascript:openMyitemNew('https://finance.naver.com'); clickcr(this, 'rch.7', '', '', event);\">\n     <img alt=\"더보기\" height=\"10\" src=\"https://ssl.pstatic.net/static/nfinance/btn_more5.gif\" width=\"33\"/>\n    </a>\n   </div>\n  </div>\n  <div class=\"section_aside\">\n   <h3 class=\"h_report\">\n    <span>\n     경제분석 리포트\n    </span>\n   </h3>\n   <ul class=\"list_report\">\n    <li>\n     <a href=\"/research/economy_read.nhn?nid=6518\" onclick=\"clickcr(this, 'rer.list', '', '', event);\">\n      국내외 경제이슈\n     </a>\n    </li>\n    <li>\n     <a href=\"/research/economy_read.nhn?nid=6517\" onclick=\"clickcr(this, 'rer.list', '', '', event);\">\n      중동 불안은 진정, 또다른 올해의...\n     </a>\n    </li>\n    <li>\n     <a href=\"/research/economy_read.nhn?nid=6516\" onclick=\"clickcr(this, 'rer.list', '', '', event);\">\n      국내외 경제이슈\n     </a>\n    </li>\n    <li>\n     <a href=\"/research/economy_read.nhn?nid=6515\" onclick=\"clickcr(this, 'rer.list', '', '', event);\">\n      한국 정부, 역대 최고 수준의 조...\n     </a>\n    </li>\n    <li>\n     <a href=\"/research/economy_read.nhn?nid=6514\" onclick=\"clickcr(this, 'rer.list', '', '', event);\">\n      국내외 경제이슈\n     </a>\n    </li>\n   </ul>\n   <a class=\"btn_more\" href=\"/research/economy_list.nhn\" onclick=\"clickcr(this, 'rer.more', '', '', event);\">\n    <img alt=\"경제분석 리포트 더보기\" height=\"18\" src=\"https://ssl.pstatic.net/static/nfinance/btn_more.gif\" width=\"34\"/>\n   </a>\n  </div>\n </div>\n <script language=\"javascript\" src=\"/js/info/myStock.js?20200107172122\" type=\"text/javascript\">\n </script>\n <script language=\"javascript\" src=\"/js/util.js?20200107172122\" type=\"text/javascript\">\n </script>\n <script language=\"javascript\">\n  function toggleTabSearch(e){\n\tvar currentElement = jindo.$Element(jindo.$Event(e).currentElement);\n\tvar parentElement = currentElement.parent();\n\tvar id = currentElement.className();\n\tvar order = parentElement.indexOf(currentElement) + 3;\n\tparentElement.className(\"tab_search search\"+ order);\n\n\t// 페이징을 위해서 order값에 따라 최근조회인지 mystock인지 type을 저장\n\tif (order == 3) {\n\t\tcurrentType = \"recent\";\n\t} else {\n\t\tcurrentType = \"mystock\";\n\t}\n}\n\njindo.$Fn(function(){\n\tif ('true' == 'true') {\n\t\tgetStockRightMenuData('000000', 'recent', 1, 'https://finance.naver.com', 'https://ssl.pstatic.net/static/nfinance');\n\n\t\tvar tabSearchArea = jindo.$$.getSingle('.tab_search');\n\t\tvar moreInfoArea = jindo.$Element(jindo.$$.getSingle('.tbl_search')).next().$value();\n\n\t\tjindo.$Fn(function(e) {toggleTabSearch(e); getStockRightMenuData('000000', 'recent', 1, 'https://finance.naver.com', 'https://ssl.pstatic.net/static/nfinance'); }).attach(jindo.$$.getSingle('a' ,tabSearchArea), 'click');\n\t\tjindo.$Fn(function(e) {toggleTabSearch(e); getStockRightMenuData('000000', 'mystock', 1, 'https://finance.naver.com', 'https://ssl.pstatic.net/static/nfinance'); }).attach(jindo.$$('a' ,tabSearchArea)[1], 'click');\n\t\tjindo.$Fn(function(e) {updatePageForPaging (currentType, 'up', 'https://finance.naver.com', 'https://ssl.pstatic.net/static/nfinance'); }).attach(jindo.$$.getSingle('a', moreInfoArea), 'click');\n\t\tjindo.$Fn(function(e) {updatePageForPaging (currentType, 'down', 'https://finance.naver.com', 'https://ssl.pstatic.net/static/nfinance'); }).attach(jindo.$$('a', moreInfoArea)[1], 'click');\n\t}\n\n}).attach(document,\"domready\");\n\nfunction openMyitemNew(stockHost) {\n\tvar selectedElement = jindo.$Element(jindo.$$.getSingle(\".tab_search\"));\n\tif (selectedElement != null) {\n\t\tif (selectedElement.hasClass(\"search1\")) {\n\t\t\tdocument.location.href = stockHost + '/mystock/recentSearchItemList.nhn';\n\t\t} else {\n\t\t\tdocument.location.href = stockHost + '/mystock/itemList.nhn';\n\t\t}\n\t}\n}\n </script>\n</div>\n<div id=\"footer\">\n <ul>\n  <li class=\"first\">\n   <a href=\"https://www.naver.com/rules/service.html\" onclick=\"clickcr(this, 'fot.service', '', '', event);\" target=\"_blank\">\n    이용약관\n   </a>\n  </li>\n  <li>\n   <a href=\"/rules.nhn\" onclick=\"clickcr(this, 'fot.policy', '', '', event);\" target=\"_blank\">\n    금융게시판 운영원칙\n   </a>\n  </li>\n  <li>\n   <a href=\"https://www.naver.com/rules/privacy.html\" onclick=\"clickcr(this, 'fot.privacy', '', '', event);\" target=\"_blank\">\n    <strong>\n     개인정보처리방침\n    </strong>\n   </a>\n  </li>\n  <li>\n   <a href=\"https://www.naver.com/rules/disclaimer.html\" onclick=\"clickcr(this, 'fot.limit', '', '', event);\" target=\"_blank\">\n    책임의 한계와 법적고지\n   </a>\n  </li>\n  <li>\n   <a href=\"https://help.naver.com/support/alias/contents2/finance/finance_1.naver\" onclick=\"clickcr(this, 'fot.help', '', '', event);\" target=\"_blank\">\n    금융 고객센터\n   </a>\n  </li>\n </ul>\n <p class=\"desc\">\n  네이버(주)에서 제공하는 금융정보는 투자 참고 사항이며, 오류가 발생할 수 있고 지연될 수 있습니다.\n  <br/>\n  네이버(주)는 제공된 정보에 의한 투자결과에 대한 법적인 책임을 지지 않습니다. 또한 게시된 정보를 무단으로 배포할 수 없습니다.\n </p>\n <address>\n  <a class=\"logo\" href=\"https://www.navercorp.com/\" onclick=\"clickcr(this, 'fot.nhn', '', '', event);\" target=\"_blank\">\n   <img alt=\"NAVER\" height=\"11\" src=\"https://ssl.pstatic.net/static/nfinance/2019/02/22/ci_naver.png\" width=\"58\"/>\n  </a>\n  <em>\n   Copyright ©\n  </em>\n  <a href=\"https://www.navercorp.com/\" onclick=\"clickcr(this, 'fot.nhn', '', '', event);\" target=\"_blank\">\n   NAVER Corp.\n  </a>\n  <span>\n   All Rights Reserved.\n  </span>\n </address>\n</div>\n<script type=\"text/javascript\">\n function isVisible(obj) {\n    if (obj == document) return true\n \n    if (!obj) return false\n    if (!obj.parentNode) return false\n    if (obj.style) {\n        if (obj.style.display == 'none') return false\n        if (obj.style.visibility == 'hidden') return false\n    }\n \n    if (window.getComputedStyle) {\n        var style = window.getComputedStyle(obj, \"\")\n        if (style.display == 'none') return false\n        if (style.visibility == 'hidden') return false\n    }\n \n    var style = obj.currentStyle\n    if (style) {\n        if (style['display'] == 'none') return false\n        if (style['visibility'] == 'hidden') return false\n    }\n \n    return isVisible(obj.parentNode)\n}\n\nfunction isChildOf(myobj, containerObj) {\n\twhile(myobj != undefined) {\n\t\tif (myobj == document.body) {\n\t\t\tbreak;\n\t\t} \n\t\tif (myobj == containerObj) {\n\t\t\treturn true;\n\t\t}\n\t\tmyobj = myobj.parentElement;\n\t}\n\treturn false;\t\n}\n\nfunction gnbLayerClose(e){\n\tvar target = e.target ? e.target : e.srcElement;\n\tif (isVisible(document.getElementById('gnb_service_lyr')) || isVisible(document.getElementById('gnb_notice_lyr')) ||isVisible(document.getElementById('gnb_my_lyr')) ) {\n\t\tif (!isChildOf(target, document.getElementById('gnb'))) {\n\t\t\tgnbAllLayerClose();\n\t\t}\n\t}\t\n}\n\nvar isIE = (navigator.userAgent.toLowerCase().indexOf(\"msie\")!=-1 && window.document.all) ? true:false;\nif (isIE) {\n\tdocument.attachEvent('onmousedown', gnbLayerClose);\n} else {\n\twindow.addEventListener('mousedown', gnbLayerClose);\n}\n</script>\n\n"
    }
   ],
   "source": [
    "url = 'https://finance.naver.com/marketindex/?tabSel=exchange#tab_section'\n",
    "page = urlopen(url)\n",
    "\n",
    "soup = BeautifulSoup(page, 'html.parser')\n",
    "print(soup.prettify())"
   ]
  },
  {
   "cell_type": "code",
   "execution_count": 4,
   "metadata": {},
   "outputs": [
    {
     "data": {
      "text/plain": "'1,161.50'"
     },
     "execution_count": 4,
     "metadata": {},
     "output_type": "execute_result"
    }
   ],
   "source": [
    "soup.find_all('span', 'value')[0].string"
   ]
  }
 ]
}