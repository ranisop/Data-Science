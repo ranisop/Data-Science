{
 "nbformat": 4,
 "nbformat_minor": 2,
 "metadata": {
  "language_info": {
   "name": "python",
   "codemirror_mode": {
    "name": "ipython",
    "version": 3
   },
   "version": "3.7.3"
  },
  "orig_nbformat": 2,
  "file_extension": ".py",
  "mimetype": "text/x-python",
  "name": "python",
  "npconvert_exporter": "python",
  "pygments_lexer": "ipython3",
  "version": 3
 },
 "cells": [
  {
   "cell_type": "markdown",
   "execution_count": null,
   "metadata": {},
   "outputs": [],
   "source": [
    "## 1. Basic of Python"
   ]
  },
  {
   "cell_type": "code",
   "execution_count": 1,
   "metadata": {},
   "outputs": [
    {
     "data": {
      "text/plain": "0    1.0\n1    3.0\n2    5.0\n3    NaN\n4    6.0\n5    8.0\ndtype: float64"
     },
     "execution_count": 1,
     "metadata": {},
     "output_type": "execute_result"
    }
   ],
   "source": [
    "# pandas의 데이터 유형 중 기초가 되는 것이 Series이다.\n",
    "# 대괄호로 만들고, list 데이터로 만들 수 있다.\n",
    "\n",
    "import pandas as pd\n",
    "import numpy as np      \n",
    "\n",
    "s = pd.Series([1,3,5,np.nan,6,8])\n",
    "s"
   ]
  },
  {
   "cell_type": "code",
   "execution_count": 2,
   "metadata": {},
   "outputs": [
    {
     "data": {
      "text/plain": "DatetimeIndex(['2020-01-01', '2020-01-02', '2020-01-03', '2020-01-04',\n               '2020-01-05', '2020-01-06'],\n              dtype='datetime64[ns]', freq='D')"
     },
     "execution_count": 2,
     "metadata": {},
     "output_type": "execute_result"
    }
   ],
   "source": [
    "# 날짜형 데이터인 date_range\n",
    "# 기본 날짜를 지정하고 periods 옵션으로 6일간이라고 지정한다.\n",
    "\n",
    "dates = pd.date_range('20200101', periods=6)\n",
    "dates"
   ]
  },
  {
   "cell_type": "code",
   "execution_count": 3,
   "metadata": {},
   "outputs": [
    {
     "data": {
      "text/html": "<div>\n<style scoped>\n    .dataframe tbody tr th:only-of-type {\n        vertical-align: middle;\n    }\n\n    .dataframe tbody tr th {\n        vertical-align: top;\n    }\n\n    .dataframe thead th {\n        text-align: right;\n    }\n</style>\n<table border=\"1\" class=\"dataframe\">\n  <thead>\n    <tr style=\"text-align: right;\">\n      <th></th>\n      <th>A</th>\n      <th>B</th>\n      <th>C</th>\n      <th>D</th>\n    </tr>\n  </thead>\n  <tbody>\n    <tr>\n      <th>2020-01-01</th>\n      <td>0.755522</td>\n      <td>0.424460</td>\n      <td>-0.763249</td>\n      <td>0.312412</td>\n    </tr>\n    <tr>\n      <th>2020-01-02</th>\n      <td>-1.575852</td>\n      <td>-0.436183</td>\n      <td>-0.366291</td>\n      <td>1.185955</td>\n    </tr>\n    <tr>\n      <th>2020-01-03</th>\n      <td>0.947574</td>\n      <td>0.888953</td>\n      <td>1.452142</td>\n      <td>0.227170</td>\n    </tr>\n    <tr>\n      <th>2020-01-04</th>\n      <td>0.830922</td>\n      <td>0.083584</td>\n      <td>-0.948028</td>\n      <td>0.069074</td>\n    </tr>\n    <tr>\n      <th>2020-01-05</th>\n      <td>-1.240142</td>\n      <td>1.383337</td>\n      <td>-0.858488</td>\n      <td>0.381680</td>\n    </tr>\n    <tr>\n      <th>2020-01-06</th>\n      <td>0.686517</td>\n      <td>-0.364972</td>\n      <td>-0.265335</td>\n      <td>0.492926</td>\n    </tr>\n  </tbody>\n</table>\n</div>",
      "text/plain": "                   A         B         C         D\n2020-01-01  0.755522  0.424460 -0.763249  0.312412\n2020-01-02 -1.575852 -0.436183 -0.366291  1.185955\n2020-01-03  0.947574  0.888953  1.452142  0.227170\n2020-01-04  0.830922  0.083584 -0.948028  0.069074\n2020-01-05 -1.240142  1.383337 -0.858488  0.381680\n2020-01-06  0.686517 -0.364972 -0.265335  0.492926"
     },
     "execution_count": 3,
     "metadata": {},
     "output_type": "execute_result"
    }
   ],
   "source": [
    "# DataFrame 유형의 데이터를 만든다.\n",
    "# 6행 4열의 random 변수를 만들고, 컬럼에는 A,B,C,D를 넣고, 인덱스(행)는 dates 만든거를 넣는다.\n",
    "\n",
    "df = pd.DataFrame(np.random.randn(6,4), index=dates, columns=['A','B','C','D'])\n",
    "df"
   ]
  },
  {
   "cell_type": "code",
   "execution_count": 4,
   "metadata": {},
   "outputs": [
    {
     "data": {
      "text/plain": "DatetimeIndex(['2020-01-01', '2020-01-02', '2020-01-03', '2020-01-04',\n               '2020-01-05', '2020-01-06'],\n              dtype='datetime64[ns]', freq='D')"
     },
     "execution_count": 4,
     "metadata": {},
     "output_type": "execute_result"
    }
   ],
   "source": [
    "df.index"
   ]
  },
  {
   "cell_type": "code",
   "execution_count": 5,
   "metadata": {},
   "outputs": [
    {
     "data": {
      "text/plain": "Index(['A', 'B', 'C', 'D'], dtype='object')"
     },
     "execution_count": 5,
     "metadata": {},
     "output_type": "execute_result"
    }
   ],
   "source": [
    "df.columns"
   ]
  },
  {
   "cell_type": "code",
   "execution_count": 6,
   "metadata": {},
   "outputs": [
    {
     "data": {
      "text/plain": "array([[ 0.75552186,  0.42445998, -0.76324934,  0.31241209],\n       [-1.57585205, -0.43618279, -0.36629052,  1.18595453],\n       [ 0.94757358,  0.88895255,  1.45214192,  0.22716969],\n       [ 0.83092223,  0.08358401, -0.94802776,  0.0690736 ],\n       [-1.24014195,  1.3833373 , -0.85848833,  0.3816796 ],\n       [ 0.68651689, -0.36497221, -0.26533468,  0.49292566]])"
     },
     "execution_count": 6,
     "metadata": {},
     "output_type": "execute_result"
    }
   ],
   "source": [
    "df.values"
   ]
  },
  {
   "cell_type": "code",
   "execution_count": 7,
   "metadata": {},
   "outputs": [
    {
     "name": "stdout",
     "output_type": "stream",
     "text": "<class 'pandas.core.frame.DataFrame'>\nDatetimeIndex: 6 entries, 2020-01-01 to 2020-01-06\nFreq: D\nData columns (total 4 columns):\nA    6 non-null float64\nB    6 non-null float64\nC    6 non-null float64\nD    6 non-null float64\ndtypes: float64(4)\nmemory usage: 240.0 bytes\n"
    }
   ],
   "source": [
    "df.info()"
   ]
  },
  {
   "cell_type": "code",
   "execution_count": 8,
   "metadata": {},
   "outputs": [
    {
     "data": {
      "text/html": "<div>\n<style scoped>\n    .dataframe tbody tr th:only-of-type {\n        vertical-align: middle;\n    }\n\n    .dataframe tbody tr th {\n        vertical-align: top;\n    }\n\n    .dataframe thead th {\n        text-align: right;\n    }\n</style>\n<table border=\"1\" class=\"dataframe\">\n  <thead>\n    <tr style=\"text-align: right;\">\n      <th></th>\n      <th>A</th>\n      <th>B</th>\n      <th>C</th>\n      <th>D</th>\n    </tr>\n  </thead>\n  <tbody>\n    <tr>\n      <th>count</th>\n      <td>6.000000</td>\n      <td>6.000000</td>\n      <td>6.000000</td>\n      <td>6.000000</td>\n    </tr>\n    <tr>\n      <th>mean</th>\n      <td>0.067423</td>\n      <td>0.329863</td>\n      <td>-0.291541</td>\n      <td>0.444869</td>\n    </tr>\n    <tr>\n      <th>std</th>\n      <td>1.151037</td>\n      <td>0.715767</td>\n      <td>0.896841</td>\n      <td>0.390300</td>\n    </tr>\n    <tr>\n      <th>min</th>\n      <td>-1.575852</td>\n      <td>-0.436183</td>\n      <td>-0.948028</td>\n      <td>0.069074</td>\n    </tr>\n    <tr>\n      <th>25%</th>\n      <td>-0.758477</td>\n      <td>-0.252833</td>\n      <td>-0.834679</td>\n      <td>0.248480</td>\n    </tr>\n    <tr>\n      <th>50%</th>\n      <td>0.721019</td>\n      <td>0.254022</td>\n      <td>-0.564770</td>\n      <td>0.347046</td>\n    </tr>\n    <tr>\n      <th>75%</th>\n      <td>0.812072</td>\n      <td>0.772829</td>\n      <td>-0.290574</td>\n      <td>0.465114</td>\n    </tr>\n    <tr>\n      <th>max</th>\n      <td>0.947574</td>\n      <td>1.383337</td>\n      <td>1.452142</td>\n      <td>1.185955</td>\n    </tr>\n  </tbody>\n</table>\n</div>",
      "text/plain": "              A         B         C         D\ncount  6.000000  6.000000  6.000000  6.000000\nmean   0.067423  0.329863 -0.291541  0.444869\nstd    1.151037  0.715767  0.896841  0.390300\nmin   -1.575852 -0.436183 -0.948028  0.069074\n25%   -0.758477 -0.252833 -0.834679  0.248480\n50%    0.721019  0.254022 -0.564770  0.347046\n75%    0.812072  0.772829 -0.290574  0.465114\nmax    0.947574  1.383337  1.452142  1.185955"
     },
     "execution_count": 8,
     "metadata": {},
     "output_type": "execute_result"
    }
   ],
   "source": [
    "df.describe()"
   ]
  },
  {
   "cell_type": "code",
   "execution_count": 9,
   "metadata": {},
   "outputs": [
    {
     "data": {
      "text/html": "<div>\n<style scoped>\n    .dataframe tbody tr th:only-of-type {\n        vertical-align: middle;\n    }\n\n    .dataframe tbody tr th {\n        vertical-align: top;\n    }\n\n    .dataframe thead th {\n        text-align: right;\n    }\n</style>\n<table border=\"1\" class=\"dataframe\">\n  <thead>\n    <tr style=\"text-align: right;\">\n      <th></th>\n      <th>A</th>\n      <th>B</th>\n      <th>C</th>\n      <th>D</th>\n    </tr>\n  </thead>\n  <tbody>\n    <tr>\n      <th>2020-01-05</th>\n      <td>-1.240142</td>\n      <td>1.383337</td>\n      <td>-0.858488</td>\n      <td>0.381680</td>\n    </tr>\n    <tr>\n      <th>2020-01-03</th>\n      <td>0.947574</td>\n      <td>0.888953</td>\n      <td>1.452142</td>\n      <td>0.227170</td>\n    </tr>\n    <tr>\n      <th>2020-01-01</th>\n      <td>0.755522</td>\n      <td>0.424460</td>\n      <td>-0.763249</td>\n      <td>0.312412</td>\n    </tr>\n    <tr>\n      <th>2020-01-04</th>\n      <td>0.830922</td>\n      <td>0.083584</td>\n      <td>-0.948028</td>\n      <td>0.069074</td>\n    </tr>\n    <tr>\n      <th>2020-01-06</th>\n      <td>0.686517</td>\n      <td>-0.364972</td>\n      <td>-0.265335</td>\n      <td>0.492926</td>\n    </tr>\n    <tr>\n      <th>2020-01-02</th>\n      <td>-1.575852</td>\n      <td>-0.436183</td>\n      <td>-0.366291</td>\n      <td>1.185955</td>\n    </tr>\n  </tbody>\n</table>\n</div>",
      "text/plain": "                   A         B         C         D\n2020-01-05 -1.240142  1.383337 -0.858488  0.381680\n2020-01-03  0.947574  0.888953  1.452142  0.227170\n2020-01-01  0.755522  0.424460 -0.763249  0.312412\n2020-01-04  0.830922  0.083584 -0.948028  0.069074\n2020-01-06  0.686517 -0.364972 -0.265335  0.492926\n2020-01-02 -1.575852 -0.436183 -0.366291  1.185955"
     },
     "execution_count": 9,
     "metadata": {},
     "output_type": "execute_result"
    }
   ],
   "source": [
    "df.sort_values(by='B', ascending=False)"
   ]
  },
  {
   "cell_type": "code",
   "execution_count": 10,
   "metadata": {},
   "outputs": [
    {
     "data": {
      "text/html": "<div>\n<style scoped>\n    .dataframe tbody tr th:only-of-type {\n        vertical-align: middle;\n    }\n\n    .dataframe tbody tr th {\n        vertical-align: top;\n    }\n\n    .dataframe thead th {\n        text-align: right;\n    }\n</style>\n<table border=\"1\" class=\"dataframe\">\n  <thead>\n    <tr style=\"text-align: right;\">\n      <th></th>\n      <th>A</th>\n      <th>B</th>\n      <th>C</th>\n      <th>D</th>\n    </tr>\n  </thead>\n  <tbody>\n    <tr>\n      <th>2020-01-01</th>\n      <td>0.755522</td>\n      <td>0.424460</td>\n      <td>-0.763249</td>\n      <td>0.312412</td>\n    </tr>\n    <tr>\n      <th>2020-01-02</th>\n      <td>-1.575852</td>\n      <td>-0.436183</td>\n      <td>-0.366291</td>\n      <td>1.185955</td>\n    </tr>\n    <tr>\n      <th>2020-01-03</th>\n      <td>0.947574</td>\n      <td>0.888953</td>\n      <td>1.452142</td>\n      <td>0.227170</td>\n    </tr>\n    <tr>\n      <th>2020-01-04</th>\n      <td>0.830922</td>\n      <td>0.083584</td>\n      <td>-0.948028</td>\n      <td>0.069074</td>\n    </tr>\n    <tr>\n      <th>2020-01-05</th>\n      <td>-1.240142</td>\n      <td>1.383337</td>\n      <td>-0.858488</td>\n      <td>0.381680</td>\n    </tr>\n    <tr>\n      <th>2020-01-06</th>\n      <td>0.686517</td>\n      <td>-0.364972</td>\n      <td>-0.265335</td>\n      <td>0.492926</td>\n    </tr>\n  </tbody>\n</table>\n</div>",
      "text/plain": "                   A         B         C         D\n2020-01-01  0.755522  0.424460 -0.763249  0.312412\n2020-01-02 -1.575852 -0.436183 -0.366291  1.185955\n2020-01-03  0.947574  0.888953  1.452142  0.227170\n2020-01-04  0.830922  0.083584 -0.948028  0.069074\n2020-01-05 -1.240142  1.383337 -0.858488  0.381680\n2020-01-06  0.686517 -0.364972 -0.265335  0.492926"
     },
     "execution_count": 10,
     "metadata": {},
     "output_type": "execute_result"
    }
   ],
   "source": [
    "df"
   ]
  },
  {
   "cell_type": "code",
   "execution_count": 11,
   "metadata": {},
   "outputs": [
    {
     "data": {
      "text/plain": "2020-01-01    0.755522\n2020-01-02   -1.575852\n2020-01-03    0.947574\n2020-01-04    0.830922\n2020-01-05   -1.240142\n2020-01-06    0.686517\nFreq: D, Name: A, dtype: float64"
     },
     "execution_count": 11,
     "metadata": {},
     "output_type": "execute_result"
    }
   ],
   "source": [
    "df['A']"
   ]
  },
  {
   "cell_type": "code",
   "execution_count": 12,
   "metadata": {},
   "outputs": [
    {
     "data": {
      "text/html": "<div>\n<style scoped>\n    .dataframe tbody tr th:only-of-type {\n        vertical-align: middle;\n    }\n\n    .dataframe tbody tr th {\n        vertical-align: top;\n    }\n\n    .dataframe thead th {\n        text-align: right;\n    }\n</style>\n<table border=\"1\" class=\"dataframe\">\n  <thead>\n    <tr style=\"text-align: right;\">\n      <th></th>\n      <th>A</th>\n      <th>B</th>\n      <th>C</th>\n      <th>D</th>\n    </tr>\n  </thead>\n  <tbody>\n    <tr>\n      <th>2020-01-01</th>\n      <td>0.755522</td>\n      <td>0.424460</td>\n      <td>-0.763249</td>\n      <td>0.312412</td>\n    </tr>\n    <tr>\n      <th>2020-01-02</th>\n      <td>-1.575852</td>\n      <td>-0.436183</td>\n      <td>-0.366291</td>\n      <td>1.185955</td>\n    </tr>\n    <tr>\n      <th>2020-01-03</th>\n      <td>0.947574</td>\n      <td>0.888953</td>\n      <td>1.452142</td>\n      <td>0.227170</td>\n    </tr>\n  </tbody>\n</table>\n</div>",
      "text/plain": "                   A         B         C         D\n2020-01-01  0.755522  0.424460 -0.763249  0.312412\n2020-01-02 -1.575852 -0.436183 -0.366291  1.185955\n2020-01-03  0.947574  0.888953  1.452142  0.227170"
     },
     "execution_count": 12,
     "metadata": {},
     "output_type": "execute_result"
    }
   ],
   "source": [
    "df[0:3]"
   ]
  },
  {
   "cell_type": "code",
   "execution_count": 13,
   "metadata": {},
   "outputs": [
    {
     "data": {
      "text/html": "<div>\n<style scoped>\n    .dataframe tbody tr th:only-of-type {\n        vertical-align: middle;\n    }\n\n    .dataframe tbody tr th {\n        vertical-align: top;\n    }\n\n    .dataframe thead th {\n        text-align: right;\n    }\n</style>\n<table border=\"1\" class=\"dataframe\">\n  <thead>\n    <tr style=\"text-align: right;\">\n      <th></th>\n      <th>A</th>\n      <th>B</th>\n      <th>C</th>\n      <th>D</th>\n    </tr>\n  </thead>\n  <tbody>\n    <tr>\n      <th>2020-01-02</th>\n      <td>-1.575852</td>\n      <td>-0.436183</td>\n      <td>-0.366291</td>\n      <td>1.185955</td>\n    </tr>\n    <tr>\n      <th>2020-01-03</th>\n      <td>0.947574</td>\n      <td>0.888953</td>\n      <td>1.452142</td>\n      <td>0.227170</td>\n    </tr>\n    <tr>\n      <th>2020-01-04</th>\n      <td>0.830922</td>\n      <td>0.083584</td>\n      <td>-0.948028</td>\n      <td>0.069074</td>\n    </tr>\n  </tbody>\n</table>\n</div>",
      "text/plain": "                   A         B         C         D\n2020-01-02 -1.575852 -0.436183 -0.366291  1.185955\n2020-01-03  0.947574  0.888953  1.452142  0.227170\n2020-01-04  0.830922  0.083584 -0.948028  0.069074"
     },
     "execution_count": 13,
     "metadata": {},
     "output_type": "execute_result"
    }
   ],
   "source": [
    "df['2020-01-02':'20200104']"
   ]
  },
  {
   "cell_type": "code",
   "execution_count": 14,
   "metadata": {},
   "outputs": [
    {
     "data": {
      "text/plain": "A    0.755522\nB    0.424460\nC   -0.763249\nD    0.312412\nName: 2020-01-01 00:00:00, dtype: float64"
     },
     "execution_count": 14,
     "metadata": {},
     "output_type": "execute_result"
    }
   ],
   "source": [
    "# loc는 location 옵션으로 슬라이싱할 때 loc 옵션을 이용해서 위치 값을 지정할 수 있다.\n",
    "\n",
    "df.loc[dates[0]]"
   ]
  },
  {
   "cell_type": "code",
   "execution_count": 15,
   "metadata": {},
   "outputs": [
    {
     "data": {
      "text/html": "<div>\n<style scoped>\n    .dataframe tbody tr th:only-of-type {\n        vertical-align: middle;\n    }\n\n    .dataframe tbody tr th {\n        vertical-align: top;\n    }\n\n    .dataframe thead th {\n        text-align: right;\n    }\n</style>\n<table border=\"1\" class=\"dataframe\">\n  <thead>\n    <tr style=\"text-align: right;\">\n      <th></th>\n      <th>A</th>\n      <th>B</th>\n    </tr>\n  </thead>\n  <tbody>\n    <tr>\n      <th>2020-01-01</th>\n      <td>0.755522</td>\n      <td>0.424460</td>\n    </tr>\n    <tr>\n      <th>2020-01-02</th>\n      <td>-1.575852</td>\n      <td>-0.436183</td>\n    </tr>\n    <tr>\n      <th>2020-01-03</th>\n      <td>0.947574</td>\n      <td>0.888953</td>\n    </tr>\n    <tr>\n      <th>2020-01-04</th>\n      <td>0.830922</td>\n      <td>0.083584</td>\n    </tr>\n    <tr>\n      <th>2020-01-05</th>\n      <td>-1.240142</td>\n      <td>1.383337</td>\n    </tr>\n    <tr>\n      <th>2020-01-06</th>\n      <td>0.686517</td>\n      <td>-0.364972</td>\n    </tr>\n  </tbody>\n</table>\n</div>",
      "text/plain": "                   A         B\n2020-01-01  0.755522  0.424460\n2020-01-02 -1.575852 -0.436183\n2020-01-03  0.947574  0.888953\n2020-01-04  0.830922  0.083584\n2020-01-05 -1.240142  1.383337\n2020-01-06  0.686517 -0.364972"
     },
     "execution_count": 15,
     "metadata": {},
     "output_type": "execute_result"
    }
   ],
   "source": [
    "df.loc[:,['A','B']]"
   ]
  },
  {
   "cell_type": "code",
   "execution_count": 16,
   "metadata": {},
   "outputs": [
    {
     "data": {
      "text/html": "<div>\n<style scoped>\n    .dataframe tbody tr th:only-of-type {\n        vertical-align: middle;\n    }\n\n    .dataframe tbody tr th {\n        vertical-align: top;\n    }\n\n    .dataframe thead th {\n        text-align: right;\n    }\n</style>\n<table border=\"1\" class=\"dataframe\">\n  <thead>\n    <tr style=\"text-align: right;\">\n      <th></th>\n      <th>A</th>\n      <th>C</th>\n    </tr>\n  </thead>\n  <tbody>\n    <tr>\n      <th>2020-01-02</th>\n      <td>-1.575852</td>\n      <td>-0.366291</td>\n    </tr>\n    <tr>\n      <th>2020-01-03</th>\n      <td>0.947574</td>\n      <td>1.452142</td>\n    </tr>\n    <tr>\n      <th>2020-01-04</th>\n      <td>0.830922</td>\n      <td>-0.948028</td>\n    </tr>\n  </tbody>\n</table>\n</div>",
      "text/plain": "                   A         C\n2020-01-02 -1.575852 -0.366291\n2020-01-03  0.947574  1.452142\n2020-01-04  0.830922 -0.948028"
     },
     "execution_count": 16,
     "metadata": {},
     "output_type": "execute_result"
    }
   ],
   "source": [
    "df.loc['20200102':'20200104',['A','C']]"
   ]
  },
  {
   "cell_type": "code",
   "execution_count": 17,
   "metadata": {},
   "outputs": [
    {
     "data": {
      "text/html": "<div>\n<style scoped>\n    .dataframe tbody tr th:only-of-type {\n        vertical-align: middle;\n    }\n\n    .dataframe tbody tr th {\n        vertical-align: top;\n    }\n\n    .dataframe thead th {\n        text-align: right;\n    }\n</style>\n<table border=\"1\" class=\"dataframe\">\n  <thead>\n    <tr style=\"text-align: right;\">\n      <th></th>\n      <th>A</th>\n      <th>B</th>\n    </tr>\n  </thead>\n  <tbody>\n    <tr>\n      <th>2020-01-02</th>\n      <td>-1.575852</td>\n      <td>-0.436183</td>\n    </tr>\n    <tr>\n      <th>2020-01-03</th>\n      <td>0.947574</td>\n      <td>0.888953</td>\n    </tr>\n    <tr>\n      <th>2020-01-04</th>\n      <td>0.830922</td>\n      <td>0.083584</td>\n    </tr>\n  </tbody>\n</table>\n</div>",
      "text/plain": "                   A         B\n2020-01-02 -1.575852 -0.436183\n2020-01-03  0.947574  0.888953\n2020-01-04  0.830922  0.083584"
     },
     "execution_count": 17,
     "metadata": {},
     "output_type": "execute_result"
    }
   ],
   "source": [
    "df.loc['20200102':'20200104',['A','B']]"
   ]
  },
  {
   "cell_type": "code",
   "execution_count": 18,
   "metadata": {},
   "outputs": [
    {
     "data": {
      "text/plain": "A   -1.575852\nB   -0.436183\nName: 2020-01-02 00:00:00, dtype: float64"
     },
     "execution_count": 18,
     "metadata": {},
     "output_type": "execute_result"
    }
   ],
   "source": [
    "df.loc['20200102',['A','B']]"
   ]
  },
  {
   "cell_type": "code",
   "execution_count": 19,
   "metadata": {},
   "outputs": [
    {
     "data": {
      "text/plain": "0.7555218640502255"
     },
     "execution_count": 19,
     "metadata": {},
     "output_type": "execute_result"
    }
   ],
   "source": [
    "df.loc[dates[0],'A']"
   ]
  },
  {
   "cell_type": "code",
   "execution_count": 20,
   "metadata": {},
   "outputs": [
    {
     "data": {
      "text/plain": "A    0.830922\nB    0.083584\nC   -0.948028\nD    0.069074\nName: 2020-01-04 00:00:00, dtype: float64"
     },
     "execution_count": 20,
     "metadata": {},
     "output_type": "execute_result"
    }
   ],
   "source": [
    "# loc 명령과 달리 행과 열의 번호를 이용해서 데이터에 바로 접근하고 싶을 수 있는데,\n",
    "# 그 명령이 iloc이다.\n",
    "# iloc을 사용하면 행이나 열의 범위를 지정하면 된다.\n",
    "\n",
    "df.iloc[3]"
   ]
  },
  {
   "cell_type": "code",
   "execution_count": 21,
   "metadata": {},
   "outputs": [
    {
     "data": {
      "text/html": "<div>\n<style scoped>\n    .dataframe tbody tr th:only-of-type {\n        vertical-align: middle;\n    }\n\n    .dataframe tbody tr th {\n        vertical-align: top;\n    }\n\n    .dataframe thead th {\n        text-align: right;\n    }\n</style>\n<table border=\"1\" class=\"dataframe\">\n  <thead>\n    <tr style=\"text-align: right;\">\n      <th></th>\n      <th>A</th>\n      <th>B</th>\n    </tr>\n  </thead>\n  <tbody>\n    <tr>\n      <th>2020-01-04</th>\n      <td>0.830922</td>\n      <td>0.083584</td>\n    </tr>\n    <tr>\n      <th>2020-01-05</th>\n      <td>-1.240142</td>\n      <td>1.383337</td>\n    </tr>\n  </tbody>\n</table>\n</div>",
      "text/plain": "                   A         B\n2020-01-04  0.830922  0.083584\n2020-01-05 -1.240142  1.383337"
     },
     "execution_count": 21,
     "metadata": {},
     "output_type": "execute_result"
    }
   ],
   "source": [
    "df.iloc[3:5, 0:2]"
   ]
  },
  {
   "cell_type": "code",
   "execution_count": 22,
   "metadata": {},
   "outputs": [
    {
     "data": {
      "text/html": "<div>\n<style scoped>\n    .dataframe tbody tr th:only-of-type {\n        vertical-align: middle;\n    }\n\n    .dataframe tbody tr th {\n        vertical-align: top;\n    }\n\n    .dataframe thead th {\n        text-align: right;\n    }\n</style>\n<table border=\"1\" class=\"dataframe\">\n  <thead>\n    <tr style=\"text-align: right;\">\n      <th></th>\n      <th>A</th>\n      <th>C</th>\n    </tr>\n  </thead>\n  <tbody>\n    <tr>\n      <th>2020-01-02</th>\n      <td>-1.575852</td>\n      <td>-0.366291</td>\n    </tr>\n    <tr>\n      <th>2020-01-03</th>\n      <td>0.947574</td>\n      <td>1.452142</td>\n    </tr>\n    <tr>\n      <th>2020-01-05</th>\n      <td>-1.240142</td>\n      <td>-0.858488</td>\n    </tr>\n  </tbody>\n</table>\n</div>",
      "text/plain": "                   A         C\n2020-01-02 -1.575852 -0.366291\n2020-01-03  0.947574  1.452142\n2020-01-05 -1.240142 -0.858488"
     },
     "execution_count": 22,
     "metadata": {},
     "output_type": "execute_result"
    }
   ],
   "source": [
    "df.iloc[[1,2,4],[0,2]]"
   ]
  },
  {
   "cell_type": "code",
   "execution_count": 23,
   "metadata": {},
   "outputs": [
    {
     "data": {
      "text/html": "<div>\n<style scoped>\n    .dataframe tbody tr th:only-of-type {\n        vertical-align: middle;\n    }\n\n    .dataframe tbody tr th {\n        vertical-align: top;\n    }\n\n    .dataframe thead th {\n        text-align: right;\n    }\n</style>\n<table border=\"1\" class=\"dataframe\">\n  <thead>\n    <tr style=\"text-align: right;\">\n      <th></th>\n      <th>A</th>\n      <th>B</th>\n      <th>C</th>\n      <th>D</th>\n    </tr>\n  </thead>\n  <tbody>\n    <tr>\n      <th>2020-01-02</th>\n      <td>-1.575852</td>\n      <td>-0.436183</td>\n      <td>-0.366291</td>\n      <td>1.185955</td>\n    </tr>\n    <tr>\n      <th>2020-01-03</th>\n      <td>0.947574</td>\n      <td>0.888953</td>\n      <td>1.452142</td>\n      <td>0.227170</td>\n    </tr>\n  </tbody>\n</table>\n</div>",
      "text/plain": "                   A         B         C         D\n2020-01-02 -1.575852 -0.436183 -0.366291  1.185955\n2020-01-03  0.947574  0.888953  1.452142  0.227170"
     },
     "execution_count": 23,
     "metadata": {},
     "output_type": "execute_result"
    }
   ],
   "source": [
    "df.iloc[1:3,:]"
   ]
  },
  {
   "cell_type": "code",
   "execution_count": 24,
   "metadata": {},
   "outputs": [
    {
     "data": {
      "text/html": "<div>\n<style scoped>\n    .dataframe tbody tr th:only-of-type {\n        vertical-align: middle;\n    }\n\n    .dataframe tbody tr th {\n        vertical-align: top;\n    }\n\n    .dataframe thead th {\n        text-align: right;\n    }\n</style>\n<table border=\"1\" class=\"dataframe\">\n  <thead>\n    <tr style=\"text-align: right;\">\n      <th></th>\n      <th>B</th>\n      <th>C</th>\n    </tr>\n  </thead>\n  <tbody>\n    <tr>\n      <th>2020-01-01</th>\n      <td>0.424460</td>\n      <td>-0.763249</td>\n    </tr>\n    <tr>\n      <th>2020-01-02</th>\n      <td>-0.436183</td>\n      <td>-0.366291</td>\n    </tr>\n    <tr>\n      <th>2020-01-03</th>\n      <td>0.888953</td>\n      <td>1.452142</td>\n    </tr>\n    <tr>\n      <th>2020-01-04</th>\n      <td>0.083584</td>\n      <td>-0.948028</td>\n    </tr>\n    <tr>\n      <th>2020-01-05</th>\n      <td>1.383337</td>\n      <td>-0.858488</td>\n    </tr>\n    <tr>\n      <th>2020-01-06</th>\n      <td>-0.364972</td>\n      <td>-0.265335</td>\n    </tr>\n  </tbody>\n</table>\n</div>",
      "text/plain": "                   B         C\n2020-01-01  0.424460 -0.763249\n2020-01-02 -0.436183 -0.366291\n2020-01-03  0.888953  1.452142\n2020-01-04  0.083584 -0.948028\n2020-01-05  1.383337 -0.858488\n2020-01-06 -0.364972 -0.265335"
     },
     "execution_count": 24,
     "metadata": {},
     "output_type": "execute_result"
    }
   ],
   "source": [
    "df.iloc[:,1:3]"
   ]
  },
  {
   "cell_type": "code",
   "execution_count": 25,
   "metadata": {},
   "outputs": [
    {
     "data": {
      "text/html": "<div>\n<style scoped>\n    .dataframe tbody tr th:only-of-type {\n        vertical-align: middle;\n    }\n\n    .dataframe tbody tr th {\n        vertical-align: top;\n    }\n\n    .dataframe thead th {\n        text-align: right;\n    }\n</style>\n<table border=\"1\" class=\"dataframe\">\n  <thead>\n    <tr style=\"text-align: right;\">\n      <th></th>\n      <th>A</th>\n      <th>B</th>\n      <th>C</th>\n      <th>D</th>\n    </tr>\n  </thead>\n  <tbody>\n    <tr>\n      <th>2020-01-01</th>\n      <td>0.755522</td>\n      <td>0.424460</td>\n      <td>-0.763249</td>\n      <td>0.312412</td>\n    </tr>\n    <tr>\n      <th>2020-01-02</th>\n      <td>-1.575852</td>\n      <td>-0.436183</td>\n      <td>-0.366291</td>\n      <td>1.185955</td>\n    </tr>\n    <tr>\n      <th>2020-01-03</th>\n      <td>0.947574</td>\n      <td>0.888953</td>\n      <td>1.452142</td>\n      <td>0.227170</td>\n    </tr>\n    <tr>\n      <th>2020-01-04</th>\n      <td>0.830922</td>\n      <td>0.083584</td>\n      <td>-0.948028</td>\n      <td>0.069074</td>\n    </tr>\n    <tr>\n      <th>2020-01-05</th>\n      <td>-1.240142</td>\n      <td>1.383337</td>\n      <td>-0.858488</td>\n      <td>0.381680</td>\n    </tr>\n    <tr>\n      <th>2020-01-06</th>\n      <td>0.686517</td>\n      <td>-0.364972</td>\n      <td>-0.265335</td>\n      <td>0.492926</td>\n    </tr>\n  </tbody>\n</table>\n</div>",
      "text/plain": "                   A         B         C         D\n2020-01-01  0.755522  0.424460 -0.763249  0.312412\n2020-01-02 -1.575852 -0.436183 -0.366291  1.185955\n2020-01-03  0.947574  0.888953  1.452142  0.227170\n2020-01-04  0.830922  0.083584 -0.948028  0.069074\n2020-01-05 -1.240142  1.383337 -0.858488  0.381680\n2020-01-06  0.686517 -0.364972 -0.265335  0.492926"
     },
     "execution_count": 25,
     "metadata": {},
     "output_type": "execute_result"
    }
   ],
   "source": [
    "df"
   ]
  },
  {
   "cell_type": "code",
   "execution_count": 26,
   "metadata": {},
   "outputs": [
    {
     "data": {
      "text/html": "<div>\n<style scoped>\n    .dataframe tbody tr th:only-of-type {\n        vertical-align: middle;\n    }\n\n    .dataframe tbody tr th {\n        vertical-align: top;\n    }\n\n    .dataframe thead th {\n        text-align: right;\n    }\n</style>\n<table border=\"1\" class=\"dataframe\">\n  <thead>\n    <tr style=\"text-align: right;\">\n      <th></th>\n      <th>A</th>\n      <th>B</th>\n      <th>C</th>\n      <th>D</th>\n    </tr>\n  </thead>\n  <tbody>\n    <tr>\n      <th>2020-01-01</th>\n      <td>0.755522</td>\n      <td>0.424460</td>\n      <td>-0.763249</td>\n      <td>0.312412</td>\n    </tr>\n    <tr>\n      <th>2020-01-03</th>\n      <td>0.947574</td>\n      <td>0.888953</td>\n      <td>1.452142</td>\n      <td>0.227170</td>\n    </tr>\n    <tr>\n      <th>2020-01-04</th>\n      <td>0.830922</td>\n      <td>0.083584</td>\n      <td>-0.948028</td>\n      <td>0.069074</td>\n    </tr>\n    <tr>\n      <th>2020-01-06</th>\n      <td>0.686517</td>\n      <td>-0.364972</td>\n      <td>-0.265335</td>\n      <td>0.492926</td>\n    </tr>\n  </tbody>\n</table>\n</div>",
      "text/plain": "                   A         B         C         D\n2020-01-01  0.755522  0.424460 -0.763249  0.312412\n2020-01-03  0.947574  0.888953  1.452142  0.227170\n2020-01-04  0.830922  0.083584 -0.948028  0.069074\n2020-01-06  0.686517 -0.364972 -0.265335  0.492926"
     },
     "execution_count": 26,
     "metadata": {},
     "output_type": "execute_result"
    }
   ],
   "source": [
    "# 특정 조건을 만족하는 데이터만 얻을 수 있다.\n",
    "# 컬럼을 지정할 때 df['A']처럼 할 수도 있고, df.A와 같이 할 수도 있다.\n",
    "\n",
    "df[df.A > 0]"
   ]
  },
  {
   "cell_type": "code",
   "execution_count": 27,
   "metadata": {},
   "outputs": [
    {
     "data": {
      "text/html": "<div>\n<style scoped>\n    .dataframe tbody tr th:only-of-type {\n        vertical-align: middle;\n    }\n\n    .dataframe tbody tr th {\n        vertical-align: top;\n    }\n\n    .dataframe thead th {\n        text-align: right;\n    }\n</style>\n<table border=\"1\" class=\"dataframe\">\n  <thead>\n    <tr style=\"text-align: right;\">\n      <th></th>\n      <th>A</th>\n      <th>B</th>\n      <th>C</th>\n      <th>D</th>\n    </tr>\n  </thead>\n  <tbody>\n    <tr>\n      <th>2020-01-01</th>\n      <td>0.755522</td>\n      <td>0.424460</td>\n      <td>NaN</td>\n      <td>0.312412</td>\n    </tr>\n    <tr>\n      <th>2020-01-02</th>\n      <td>NaN</td>\n      <td>NaN</td>\n      <td>NaN</td>\n      <td>1.185955</td>\n    </tr>\n    <tr>\n      <th>2020-01-03</th>\n      <td>0.947574</td>\n      <td>0.888953</td>\n      <td>1.452142</td>\n      <td>0.227170</td>\n    </tr>\n    <tr>\n      <th>2020-01-04</th>\n      <td>0.830922</td>\n      <td>0.083584</td>\n      <td>NaN</td>\n      <td>0.069074</td>\n    </tr>\n    <tr>\n      <th>2020-01-05</th>\n      <td>NaN</td>\n      <td>1.383337</td>\n      <td>NaN</td>\n      <td>0.381680</td>\n    </tr>\n    <tr>\n      <th>2020-01-06</th>\n      <td>0.686517</td>\n      <td>NaN</td>\n      <td>NaN</td>\n      <td>0.492926</td>\n    </tr>\n  </tbody>\n</table>\n</div>",
      "text/plain": "                   A         B         C         D\n2020-01-01  0.755522  0.424460       NaN  0.312412\n2020-01-02       NaN       NaN       NaN  1.185955\n2020-01-03  0.947574  0.888953  1.452142  0.227170\n2020-01-04  0.830922  0.083584       NaN  0.069074\n2020-01-05       NaN  1.383337       NaN  0.381680\n2020-01-06  0.686517       NaN       NaN  0.492926"
     },
     "execution_count": 27,
     "metadata": {},
     "output_type": "execute_result"
    }
   ],
   "source": [
    "# 데이터 전체에서 조건을 걸면 만족하지 않은 곳은 NaN 처리가 된다.\n",
    "\n",
    "df[df > 0]"
   ]
  },
  {
   "cell_type": "code",
   "execution_count": 28,
   "metadata": {},
   "outputs": [],
   "source": [
    "# DataFrame을 복사할 때 그냥 = 기호를 이용해서 복사하면 실제 데이터의 내용이 복사되는 것이 아니라\n",
    "# 데이터 위치만 복사되기 때문에 원본 데이터는 하나만 있게 된다.\n",
    "\n",
    "df2 = df.copy()"
   ]
  },
  {
   "cell_type": "code",
   "execution_count": 29,
   "metadata": {},
   "outputs": [
    {
     "data": {
      "text/html": "<div>\n<style scoped>\n    .dataframe tbody tr th:only-of-type {\n        vertical-align: middle;\n    }\n\n    .dataframe tbody tr th {\n        vertical-align: top;\n    }\n\n    .dataframe thead th {\n        text-align: right;\n    }\n</style>\n<table border=\"1\" class=\"dataframe\">\n  <thead>\n    <tr style=\"text-align: right;\">\n      <th></th>\n      <th>A</th>\n      <th>B</th>\n      <th>C</th>\n      <th>D</th>\n      <th>E</th>\n    </tr>\n  </thead>\n  <tbody>\n    <tr>\n      <th>2020-01-01</th>\n      <td>0.755522</td>\n      <td>0.424460</td>\n      <td>-0.763249</td>\n      <td>0.312412</td>\n      <td>one</td>\n    </tr>\n    <tr>\n      <th>2020-01-02</th>\n      <td>-1.575852</td>\n      <td>-0.436183</td>\n      <td>-0.366291</td>\n      <td>1.185955</td>\n      <td>one</td>\n    </tr>\n    <tr>\n      <th>2020-01-03</th>\n      <td>0.947574</td>\n      <td>0.888953</td>\n      <td>1.452142</td>\n      <td>0.227170</td>\n      <td>two</td>\n    </tr>\n    <tr>\n      <th>2020-01-04</th>\n      <td>0.830922</td>\n      <td>0.083584</td>\n      <td>-0.948028</td>\n      <td>0.069074</td>\n      <td>three</td>\n    </tr>\n    <tr>\n      <th>2020-01-05</th>\n      <td>-1.240142</td>\n      <td>1.383337</td>\n      <td>-0.858488</td>\n      <td>0.381680</td>\n      <td>four</td>\n    </tr>\n    <tr>\n      <th>2020-01-06</th>\n      <td>0.686517</td>\n      <td>-0.364972</td>\n      <td>-0.265335</td>\n      <td>0.492926</td>\n      <td>three</td>\n    </tr>\n  </tbody>\n</table>\n</div>",
      "text/plain": "                   A         B         C         D      E\n2020-01-01  0.755522  0.424460 -0.763249  0.312412    one\n2020-01-02 -1.575852 -0.436183 -0.366291  1.185955    one\n2020-01-03  0.947574  0.888953  1.452142  0.227170    two\n2020-01-04  0.830922  0.083584 -0.948028  0.069074  three\n2020-01-05 -1.240142  1.383337 -0.858488  0.381680   four\n2020-01-06  0.686517 -0.364972 -0.265335  0.492926  three"
     },
     "execution_count": 29,
     "metadata": {},
     "output_type": "execute_result"
    }
   ],
   "source": [
    "# 원래 있는 DataFrame에 새로운 컬럼 추가하기\n",
    "\n",
    "df2['E'] = ['one','one','two','three','four','three']\n",
    "df2"
   ]
  },
  {
   "cell_type": "code",
   "execution_count": 30,
   "metadata": {},
   "outputs": [
    {
     "data": {
      "text/plain": "2020-01-01    False\n2020-01-02    False\n2020-01-03     True\n2020-01-04    False\n2020-01-05     True\n2020-01-06    False\nFreq: D, Name: E, dtype: bool"
     },
     "execution_count": 30,
     "metadata": {},
     "output_type": "execute_result"
    }
   ],
   "source": [
    "# 컬럼에서 데이터 있는지 조건을 걸고 싶을 때 isin 사용\n",
    "\n",
    "df2['E'].isin(['two','four'])"
   ]
  },
  {
   "cell_type": "code",
   "execution_count": 31,
   "metadata": {},
   "outputs": [
    {
     "data": {
      "text/html": "<div>\n<style scoped>\n    .dataframe tbody tr th:only-of-type {\n        vertical-align: middle;\n    }\n\n    .dataframe tbody tr th {\n        vertical-align: top;\n    }\n\n    .dataframe thead th {\n        text-align: right;\n    }\n</style>\n<table border=\"1\" class=\"dataframe\">\n  <thead>\n    <tr style=\"text-align: right;\">\n      <th></th>\n      <th>A</th>\n      <th>B</th>\n      <th>C</th>\n      <th>D</th>\n      <th>E</th>\n    </tr>\n  </thead>\n  <tbody>\n    <tr>\n      <th>2020-01-03</th>\n      <td>0.947574</td>\n      <td>0.888953</td>\n      <td>1.452142</td>\n      <td>0.22717</td>\n      <td>two</td>\n    </tr>\n    <tr>\n      <th>2020-01-05</th>\n      <td>-1.240142</td>\n      <td>1.383337</td>\n      <td>-0.858488</td>\n      <td>0.38168</td>\n      <td>four</td>\n    </tr>\n  </tbody>\n</table>\n</div>",
      "text/plain": "                   A         B         C        D     E\n2020-01-03  0.947574  0.888953  1.452142  0.22717   two\n2020-01-05 -1.240142  1.383337 -0.858488  0.38168  four"
     },
     "execution_count": 31,
     "metadata": {},
     "output_type": "execute_result"
    }
   ],
   "source": [
    "df2[df2['E'].isin(['two','four'])]"
   ]
  },
  {
   "cell_type": "code",
   "execution_count": 32,
   "metadata": {},
   "outputs": [
    {
     "data": {
      "text/html": "<div>\n<style scoped>\n    .dataframe tbody tr th:only-of-type {\n        vertical-align: middle;\n    }\n\n    .dataframe tbody tr th {\n        vertical-align: top;\n    }\n\n    .dataframe thead th {\n        text-align: right;\n    }\n</style>\n<table border=\"1\" class=\"dataframe\">\n  <thead>\n    <tr style=\"text-align: right;\">\n      <th></th>\n      <th>A</th>\n      <th>B</th>\n      <th>C</th>\n      <th>D</th>\n    </tr>\n  </thead>\n  <tbody>\n    <tr>\n      <th>2020-01-01</th>\n      <td>0.755522</td>\n      <td>0.424460</td>\n      <td>-0.763249</td>\n      <td>0.312412</td>\n    </tr>\n    <tr>\n      <th>2020-01-02</th>\n      <td>-1.575852</td>\n      <td>-0.436183</td>\n      <td>-0.366291</td>\n      <td>1.185955</td>\n    </tr>\n    <tr>\n      <th>2020-01-03</th>\n      <td>0.947574</td>\n      <td>0.888953</td>\n      <td>1.452142</td>\n      <td>0.227170</td>\n    </tr>\n    <tr>\n      <th>2020-01-04</th>\n      <td>0.830922</td>\n      <td>0.083584</td>\n      <td>-0.948028</td>\n      <td>0.069074</td>\n    </tr>\n    <tr>\n      <th>2020-01-05</th>\n      <td>-1.240142</td>\n      <td>1.383337</td>\n      <td>-0.858488</td>\n      <td>0.381680</td>\n    </tr>\n    <tr>\n      <th>2020-01-06</th>\n      <td>0.686517</td>\n      <td>-0.364972</td>\n      <td>-0.265335</td>\n      <td>0.492926</td>\n    </tr>\n  </tbody>\n</table>\n</div>",
      "text/plain": "                   A         B         C         D\n2020-01-01  0.755522  0.424460 -0.763249  0.312412\n2020-01-02 -1.575852 -0.436183 -0.366291  1.185955\n2020-01-03  0.947574  0.888953  1.452142  0.227170\n2020-01-04  0.830922  0.083584 -0.948028  0.069074\n2020-01-05 -1.240142  1.383337 -0.858488  0.381680\n2020-01-06  0.686517 -0.364972 -0.265335  0.492926"
     },
     "execution_count": 32,
     "metadata": {},
     "output_type": "execute_result"
    }
   ],
   "source": [
    "df"
   ]
  },
  {
   "cell_type": "code",
   "execution_count": 33,
   "metadata": {},
   "outputs": [
    {
     "data": {
      "text/html": "<div>\n<style scoped>\n    .dataframe tbody tr th:only-of-type {\n        vertical-align: middle;\n    }\n\n    .dataframe tbody tr th {\n        vertical-align: top;\n    }\n\n    .dataframe thead th {\n        text-align: right;\n    }\n</style>\n<table border=\"1\" class=\"dataframe\">\n  <thead>\n    <tr style=\"text-align: right;\">\n      <th></th>\n      <th>A</th>\n      <th>B</th>\n      <th>C</th>\n      <th>D</th>\n    </tr>\n  </thead>\n  <tbody>\n    <tr>\n      <th>2020-01-01</th>\n      <td>0.755522</td>\n      <td>0.424460</td>\n      <td>-0.763249</td>\n      <td>0.312412</td>\n    </tr>\n    <tr>\n      <th>2020-01-02</th>\n      <td>-0.820330</td>\n      <td>-0.011723</td>\n      <td>-1.129540</td>\n      <td>1.498367</td>\n    </tr>\n    <tr>\n      <th>2020-01-03</th>\n      <td>0.127243</td>\n      <td>0.877230</td>\n      <td>0.322602</td>\n      <td>1.725536</td>\n    </tr>\n    <tr>\n      <th>2020-01-04</th>\n      <td>0.958166</td>\n      <td>0.960814</td>\n      <td>-0.625426</td>\n      <td>1.794610</td>\n    </tr>\n    <tr>\n      <th>2020-01-05</th>\n      <td>-0.281976</td>\n      <td>2.344151</td>\n      <td>-1.483914</td>\n      <td>2.176290</td>\n    </tr>\n    <tr>\n      <th>2020-01-06</th>\n      <td>0.404541</td>\n      <td>1.979179</td>\n      <td>-1.749249</td>\n      <td>2.669215</td>\n    </tr>\n  </tbody>\n</table>\n</div>",
      "text/plain": "                   A         B         C         D\n2020-01-01  0.755522  0.424460 -0.763249  0.312412\n2020-01-02 -0.820330 -0.011723 -1.129540  1.498367\n2020-01-03  0.127243  0.877230  0.322602  1.725536\n2020-01-04  0.958166  0.960814 -0.625426  1.794610\n2020-01-05 -0.281976  2.344151 -1.483914  2.176290\n2020-01-06  0.404541  1.979179 -1.749249  2.669215"
     },
     "execution_count": 33,
     "metadata": {},
     "output_type": "execute_result"
    }
   ],
   "source": [
    "# 통계 느낌의 데이터를 볼 때는 특정 함수를 적용시킨다. => apply 명령\n",
    "# 누적합을 알고 싶을 때, numpy의 cumsum 사용\n",
    "\n",
    "df.apply(np.cumsum)"
   ]
  },
  {
   "cell_type": "code",
   "execution_count": 34,
   "metadata": {},
   "outputs": [
    {
     "data": {
      "text/plain": "A    2.523426\nB    1.819520\nC    2.400170\nD    1.116881\ndtype: float64"
     },
     "execution_count": 34,
     "metadata": {},
     "output_type": "execute_result"
    }
   ],
   "source": [
    "# 최대값과 최소값의 차이를 알고 싶다면 one-line 함수인 lambda 사용\n",
    "\n",
    "df.apply(lambda x: x.max() - x.min())"
   ]
  }
 ]
}