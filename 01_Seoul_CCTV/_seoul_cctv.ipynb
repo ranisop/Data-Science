{
 "nbformat": 4,
 "nbformat_minor": 2,
 "metadata": {
  "language_info": {
   "name": "python",
   "codemirror_mode": {
    "name": "ipython",
    "version": 3
   },
   "version": "3.7.3"
  },
  "orig_nbformat": 2,
  "file_extension": ".py",
  "mimetype": "text/x-python",
  "name": "python",
  "npconvert_exporter": "python",
  "pygments_lexer": "ipython3",
  "version": 3
 },
 "cells": [
  {
   "cell_type": "markdown",
   "execution_count": null,
   "metadata": {},
   "outputs": [],
   "source": [
    "## 1. 파일 읽기"
   ]
  },
  {
   "cell_type": "code",
   "execution_count": 40,
   "metadata": {},
   "outputs": [
    {
     "data": {
      "text/html": "<div>\n<style scoped>\n    .dataframe tbody tr th:only-of-type {\n        vertical-align: middle;\n    }\n\n    .dataframe tbody tr th {\n        vertical-align: top;\n    }\n\n    .dataframe thead th {\n        text-align: right;\n    }\n</style>\n<table border=\"1\" class=\"dataframe\">\n  <thead>\n    <tr style=\"text-align: right;\">\n      <th></th>\n      <th>기관명</th>\n      <th>소계</th>\n      <th>2011년 이전</th>\n      <th>2012년</th>\n      <th>2013년</th>\n      <th>2014년</th>\n      <th>2015년</th>\n      <th>2016년</th>\n      <th>2017년</th>\n      <th>2018년</th>\n    </tr>\n  </thead>\n  <tbody>\n    <tr>\n      <th>0</th>\n      <td>강남구</td>\n      <td>5221</td>\n      <td>1944.0</td>\n      <td>195.0</td>\n      <td>316.0</td>\n      <td>430</td>\n      <td>546</td>\n      <td>765</td>\n      <td>577</td>\n      <td>448</td>\n    </tr>\n    <tr>\n      <th>1</th>\n      <td>강동구</td>\n      <td>1879</td>\n      <td>303.0</td>\n      <td>387.0</td>\n      <td>134.0</td>\n      <td>59</td>\n      <td>144</td>\n      <td>194</td>\n      <td>273</td>\n      <td>385</td>\n    </tr>\n    <tr>\n      <th>2</th>\n      <td>강북구</td>\n      <td>1265</td>\n      <td>243.0</td>\n      <td>88.0</td>\n      <td>141.0</td>\n      <td>74</td>\n      <td>145</td>\n      <td>254</td>\n      <td>1</td>\n      <td>319</td>\n    </tr>\n    <tr>\n      <th>3</th>\n      <td>강서구</td>\n      <td>1617</td>\n      <td>219.0</td>\n      <td>155.0</td>\n      <td>118.0</td>\n      <td>230</td>\n      <td>187</td>\n      <td>190</td>\n      <td>264</td>\n      <td>254</td>\n    </tr>\n    <tr>\n      <th>4</th>\n      <td>관악구</td>\n      <td>3985</td>\n      <td>430.0</td>\n      <td>56.0</td>\n      <td>419.0</td>\n      <td>487</td>\n      <td>609</td>\n      <td>619</td>\n      <td>694</td>\n      <td>671</td>\n    </tr>\n  </tbody>\n</table>\n</div>",
      "text/plain": "   기관명    소계  2011년 이전  2012년  2013년  2014년  2015년  2016년  2017년  2018년\n0  강남구  5221    1944.0  195.0  316.0    430    546    765    577    448\n1  강동구  1879     303.0  387.0  134.0     59    144    194    273    385\n2  강북구  1265     243.0   88.0  141.0     74    145    254      1    319\n3  강서구  1617     219.0  155.0  118.0    230    187    190    264    254\n4  관악구  3985     430.0   56.0  419.0    487    609    619    694    671"
     },
     "execution_count": 40,
     "metadata": {},
     "output_type": "execute_result"
    }
   ],
   "source": [
    "import pandas as pd\n",
    "\n",
    "cctv_seoul = pd.read_excel('/Users/nani/Desktop/GitHub/DataScience/01_Seoul_CCTV/CCTV_in_Seoul.xlsx')\n",
    "cctv_seoul.head()"
   ]
  },
  {
   "cell_type": "code",
   "execution_count": 41,
   "metadata": {},
   "outputs": [
    {
     "name": "stderr",
     "output_type": "stream",
     "text": "/Users/nani/anaconda3/lib/python3.7/site-packages/ipykernel_launcher.py:3: FutureWarning: the 'parse_cols' keyword is deprecated, use 'usecols' instead\n  This is separate from the ipykernel package so we can avoid doing imports until\n"
    },
    {
     "data": {
      "text/html": "<div>\n<style scoped>\n    .dataframe tbody tr th:only-of-type {\n        vertical-align: middle;\n    }\n\n    .dataframe tbody tr th {\n        vertical-align: top;\n    }\n\n    .dataframe thead th {\n        text-align: right;\n    }\n</style>\n<table border=\"1\" class=\"dataframe\">\n  <thead>\n    <tr style=\"text-align: right;\">\n      <th></th>\n      <th>자치구</th>\n      <th>계</th>\n      <th>계.1</th>\n      <th>계.2</th>\n      <th>65세이상고령자</th>\n    </tr>\n  </thead>\n  <tbody>\n    <tr>\n      <th>0</th>\n      <td>합계</td>\n      <td>10025927</td>\n      <td>9740398</td>\n      <td>285529</td>\n      <td>1468146</td>\n    </tr>\n    <tr>\n      <th>1</th>\n      <td>종로구</td>\n      <td>162860</td>\n      <td>151767</td>\n      <td>11093</td>\n      <td>27394</td>\n    </tr>\n    <tr>\n      <th>2</th>\n      <td>중구</td>\n      <td>136663</td>\n      <td>126409</td>\n      <td>10254</td>\n      <td>23025</td>\n    </tr>\n    <tr>\n      <th>3</th>\n      <td>용산구</td>\n      <td>244989</td>\n      <td>228830</td>\n      <td>16159</td>\n      <td>38531</td>\n    </tr>\n    <tr>\n      <th>4</th>\n      <td>성동구</td>\n      <td>311290</td>\n      <td>303158</td>\n      <td>8132</td>\n      <td>43662</td>\n    </tr>\n  </tbody>\n</table>\n</div>",
      "text/plain": "   자치구         계      계.1     계.2  65세이상고령자\n0   합계  10025927  9740398  285529   1468146\n1  종로구    162860   151767   11093     27394\n2   중구    136663   126409   10254     23025\n3  용산구    244989   228830   16159     38531\n4  성동구    311290   303158    8132     43662"
     },
     "execution_count": 41,
     "metadata": {},
     "output_type": "execute_result"
    }
   ],
   "source": [
    "#pop_seoul = pd.read_excel('/Users/nani/Desktop/GitHub/DataScience/01_Seoul_CCTV/population_in_Seoul.xls')\n",
    "pop_seoul = pd.read_excel('/Users/nani/Desktop/GitHub/DataScience/01_Seoul_CCTV/population_in_Seoul.xls',\n",
    "header=2, parse_cols='B,D,G,J,N')\n",
    "pop_seoul.head()"
   ]
  },
  {
   "cell_type": "code",
   "execution_count": 42,
   "metadata": {},
   "outputs": [
    {
     "data": {
      "text/plain": "Index(['기관명', '소계', '2011년 이전', '2012년', '2013년', '2014년', '2015년', '2016년',\n       '2017년', '2018년'],\n      dtype='object')"
     },
     "execution_count": 42,
     "metadata": {},
     "output_type": "execute_result"
    }
   ],
   "source": [
    "cctv_seoul.columns"
   ]
  },
  {
   "cell_type": "code",
   "execution_count": 43,
   "metadata": {},
   "outputs": [
    {
     "data": {
      "text/plain": "Index(['자치구', '계', '계.1', '계.2', '65세이상고령자'], dtype='object')"
     },
     "execution_count": 43,
     "metadata": {},
     "output_type": "execute_result"
    }
   ],
   "source": [
    "pop_seoul.columns"
   ]
  },
  {
   "cell_type": "code",
   "execution_count": 44,
   "metadata": {},
   "outputs": [
    {
     "data": {
      "text/html": "<div>\n<style scoped>\n    .dataframe tbody tr th:only-of-type {\n        vertical-align: middle;\n    }\n\n    .dataframe tbody tr th {\n        vertical-align: top;\n    }\n\n    .dataframe thead th {\n        text-align: right;\n    }\n</style>\n<table border=\"1\" class=\"dataframe\">\n  <thead>\n    <tr style=\"text-align: right;\">\n      <th></th>\n      <th>구별</th>\n      <th>소계</th>\n      <th>2011년 이전</th>\n      <th>2012년</th>\n      <th>2013년</th>\n      <th>2014년</th>\n      <th>2015년</th>\n      <th>2016년</th>\n      <th>2017년</th>\n      <th>2018년</th>\n    </tr>\n  </thead>\n  <tbody>\n    <tr>\n      <th>0</th>\n      <td>강남구</td>\n      <td>5221</td>\n      <td>1944.0</td>\n      <td>195.0</td>\n      <td>316.0</td>\n      <td>430</td>\n      <td>546</td>\n      <td>765</td>\n      <td>577</td>\n      <td>448</td>\n    </tr>\n    <tr>\n      <th>1</th>\n      <td>강동구</td>\n      <td>1879</td>\n      <td>303.0</td>\n      <td>387.0</td>\n      <td>134.0</td>\n      <td>59</td>\n      <td>144</td>\n      <td>194</td>\n      <td>273</td>\n      <td>385</td>\n    </tr>\n    <tr>\n      <th>2</th>\n      <td>강북구</td>\n      <td>1265</td>\n      <td>243.0</td>\n      <td>88.0</td>\n      <td>141.0</td>\n      <td>74</td>\n      <td>145</td>\n      <td>254</td>\n      <td>1</td>\n      <td>319</td>\n    </tr>\n    <tr>\n      <th>3</th>\n      <td>강서구</td>\n      <td>1617</td>\n      <td>219.0</td>\n      <td>155.0</td>\n      <td>118.0</td>\n      <td>230</td>\n      <td>187</td>\n      <td>190</td>\n      <td>264</td>\n      <td>254</td>\n    </tr>\n    <tr>\n      <th>4</th>\n      <td>관악구</td>\n      <td>3985</td>\n      <td>430.0</td>\n      <td>56.0</td>\n      <td>419.0</td>\n      <td>487</td>\n      <td>609</td>\n      <td>619</td>\n      <td>694</td>\n      <td>671</td>\n    </tr>\n  </tbody>\n</table>\n</div>",
      "text/plain": "    구별    소계  2011년 이전  2012년  2013년  2014년  2015년  2016년  2017년  2018년\n0  강남구  5221    1944.0  195.0  316.0    430    546    765    577    448\n1  강동구  1879     303.0  387.0  134.0     59    144    194    273    385\n2  강북구  1265     243.0   88.0  141.0     74    145    254      1    319\n3  강서구  1617     219.0  155.0  118.0    230    187    190    264    254\n4  관악구  3985     430.0   56.0  419.0    487    609    619    694    671"
     },
     "execution_count": 44,
     "metadata": {},
     "output_type": "execute_result"
    }
   ],
   "source": [
    "cctv_seoul.rename(columns={cctv_seoul.columns[0] : '구별'}, inplace=True)\n",
    "cctv_seoul.head()"
   ]
  },
  {
   "cell_type": "code",
   "execution_count": 45,
   "metadata": {},
   "outputs": [
    {
     "data": {
      "text/html": "<div>\n<style scoped>\n    .dataframe tbody tr th:only-of-type {\n        vertical-align: middle;\n    }\n\n    .dataframe tbody tr th {\n        vertical-align: top;\n    }\n\n    .dataframe thead th {\n        text-align: right;\n    }\n</style>\n<table border=\"1\" class=\"dataframe\">\n  <thead>\n    <tr style=\"text-align: right;\">\n      <th></th>\n      <th>구별</th>\n      <th>인구수</th>\n      <th>한국인</th>\n      <th>외국인</th>\n      <th>고령자</th>\n    </tr>\n  </thead>\n  <tbody>\n    <tr>\n      <th>0</th>\n      <td>합계</td>\n      <td>10025927</td>\n      <td>9740398</td>\n      <td>285529</td>\n      <td>1468146</td>\n    </tr>\n    <tr>\n      <th>1</th>\n      <td>종로구</td>\n      <td>162860</td>\n      <td>151767</td>\n      <td>11093</td>\n      <td>27394</td>\n    </tr>\n    <tr>\n      <th>2</th>\n      <td>중구</td>\n      <td>136663</td>\n      <td>126409</td>\n      <td>10254</td>\n      <td>23025</td>\n    </tr>\n    <tr>\n      <th>3</th>\n      <td>용산구</td>\n      <td>244989</td>\n      <td>228830</td>\n      <td>16159</td>\n      <td>38531</td>\n    </tr>\n    <tr>\n      <th>4</th>\n      <td>성동구</td>\n      <td>311290</td>\n      <td>303158</td>\n      <td>8132</td>\n      <td>43662</td>\n    </tr>\n  </tbody>\n</table>\n</div>",
      "text/plain": "    구별       인구수      한국인     외국인      고령자\n0   합계  10025927  9740398  285529  1468146\n1  종로구    162860   151767   11093    27394\n2   중구    136663   126409   10254    23025\n3  용산구    244989   228830   16159    38531\n4  성동구    311290   303158    8132    43662"
     },
     "execution_count": 45,
     "metadata": {},
     "output_type": "execute_result"
    }
   ],
   "source": [
    "pop_seoul.rename(columns={pop_seoul.columns[0] : '구별',\n",
    "pop_seoul.columns[1] : '인구수',\n",
    "pop_seoul.columns[2] : '한국인',\n",
    "pop_seoul.columns[3] : '외국인',\n",
    "pop_seoul.columns[4] : '고령자'}, inplace=True)\n",
    "pop_seoul.head()"
   ]
  },
  {
   "cell_type": "markdown",
   "execution_count": null,
   "metadata": {},
   "outputs": [],
   "source": [
    "## 2. CCTV와 인구 현황 데이터 파악하기"
   ]
  },
  {
   "cell_type": "code",
   "execution_count": 46,
   "metadata": {},
   "outputs": [
    {
     "data": {
      "text/html": "<div>\n<style scoped>\n    .dataframe tbody tr th:only-of-type {\n        vertical-align: middle;\n    }\n\n    .dataframe tbody tr th {\n        vertical-align: top;\n    }\n\n    .dataframe thead th {\n        text-align: right;\n    }\n</style>\n<table border=\"1\" class=\"dataframe\">\n  <thead>\n    <tr style=\"text-align: right;\">\n      <th></th>\n      <th>구별</th>\n      <th>소계</th>\n      <th>2011년 이전</th>\n      <th>2012년</th>\n      <th>2013년</th>\n      <th>2014년</th>\n      <th>2015년</th>\n      <th>2016년</th>\n      <th>2017년</th>\n      <th>2018년</th>\n    </tr>\n  </thead>\n  <tbody>\n    <tr>\n      <th>0</th>\n      <td>강남구</td>\n      <td>5221</td>\n      <td>1944.0</td>\n      <td>195.0</td>\n      <td>316.0</td>\n      <td>430</td>\n      <td>546</td>\n      <td>765</td>\n      <td>577</td>\n      <td>448</td>\n    </tr>\n    <tr>\n      <th>1</th>\n      <td>강동구</td>\n      <td>1879</td>\n      <td>303.0</td>\n      <td>387.0</td>\n      <td>134.0</td>\n      <td>59</td>\n      <td>144</td>\n      <td>194</td>\n      <td>273</td>\n      <td>385</td>\n    </tr>\n    <tr>\n      <th>2</th>\n      <td>강북구</td>\n      <td>1265</td>\n      <td>243.0</td>\n      <td>88.0</td>\n      <td>141.0</td>\n      <td>74</td>\n      <td>145</td>\n      <td>254</td>\n      <td>1</td>\n      <td>319</td>\n    </tr>\n    <tr>\n      <th>3</th>\n      <td>강서구</td>\n      <td>1617</td>\n      <td>219.0</td>\n      <td>155.0</td>\n      <td>118.0</td>\n      <td>230</td>\n      <td>187</td>\n      <td>190</td>\n      <td>264</td>\n      <td>254</td>\n    </tr>\n    <tr>\n      <th>4</th>\n      <td>관악구</td>\n      <td>3985</td>\n      <td>430.0</td>\n      <td>56.0</td>\n      <td>419.0</td>\n      <td>487</td>\n      <td>609</td>\n      <td>619</td>\n      <td>694</td>\n      <td>671</td>\n    </tr>\n  </tbody>\n</table>\n</div>",
      "text/plain": "    구별    소계  2011년 이전  2012년  2013년  2014년  2015년  2016년  2017년  2018년\n0  강남구  5221    1944.0  195.0  316.0    430    546    765    577    448\n1  강동구  1879     303.0  387.0  134.0     59    144    194    273    385\n2  강북구  1265     243.0   88.0  141.0     74    145    254      1    319\n3  강서구  1617     219.0  155.0  118.0    230    187    190    264    254\n4  관악구  3985     430.0   56.0  419.0    487    609    619    694    671"
     },
     "execution_count": 46,
     "metadata": {},
     "output_type": "execute_result"
    }
   ],
   "source": [
    "# 구별 CCTV 현황 정리\n",
    "cctv_seoul.head()"
   ]
  },
  {
   "cell_type": "code",
   "execution_count": 47,
   "metadata": {},
   "outputs": [
    {
     "data": {
      "text/html": "<div>\n<style scoped>\n    .dataframe tbody tr th:only-of-type {\n        vertical-align: middle;\n    }\n\n    .dataframe tbody tr th {\n        vertical-align: top;\n    }\n\n    .dataframe thead th {\n        text-align: right;\n    }\n</style>\n<table border=\"1\" class=\"dataframe\">\n  <thead>\n    <tr style=\"text-align: right;\">\n      <th></th>\n      <th>구별</th>\n      <th>소계</th>\n      <th>2011년 이전</th>\n      <th>2012년</th>\n      <th>2013년</th>\n      <th>2014년</th>\n      <th>2015년</th>\n      <th>2016년</th>\n      <th>2017년</th>\n      <th>2018년</th>\n    </tr>\n  </thead>\n  <tbody>\n    <tr>\n      <th>9</th>\n      <td>도봉구</td>\n      <td>858</td>\n      <td>197.0</td>\n      <td>66.0</td>\n      <td>8.0</td>\n      <td>185</td>\n      <td>59</td>\n      <td>155</td>\n      <td>117</td>\n      <td>71</td>\n    </tr>\n    <tr>\n      <th>24</th>\n      <td>중랑구</td>\n      <td>1068</td>\n      <td>NaN</td>\n      <td>NaN</td>\n      <td>NaN</td>\n      <td>770</td>\n      <td>102</td>\n      <td>121</td>\n      <td>66</td>\n      <td>9</td>\n    </tr>\n    <tr>\n      <th>2</th>\n      <td>강북구</td>\n      <td>1265</td>\n      <td>243.0</td>\n      <td>88.0</td>\n      <td>141.0</td>\n      <td>74</td>\n      <td>145</td>\n      <td>254</td>\n      <td>1</td>\n      <td>319</td>\n    </tr>\n    <tr>\n      <th>22</th>\n      <td>종로구</td>\n      <td>1471</td>\n      <td>8.0</td>\n      <td>7.0</td>\n      <td>599.0</td>\n      <td>132</td>\n      <td>195</td>\n      <td>148</td>\n      <td>281</td>\n      <td>101</td>\n    </tr>\n    <tr>\n      <th>23</th>\n      <td>중구</td>\n      <td>1544</td>\n      <td>25.0</td>\n      <td>165.0</td>\n      <td>114.0</td>\n      <td>80</td>\n      <td>245</td>\n      <td>270</td>\n      <td>317</td>\n      <td>328</td>\n    </tr>\n  </tbody>\n</table>\n</div>",
      "text/plain": "     구별    소계  2011년 이전  2012년  2013년  2014년  2015년  2016년  2017년  2018년\n9   도봉구   858     197.0   66.0    8.0    185     59    155    117     71\n24  중랑구  1068       NaN    NaN    NaN    770    102    121     66      9\n2   강북구  1265     243.0   88.0  141.0     74    145    254      1    319\n22  종로구  1471       8.0    7.0  599.0    132    195    148    281    101\n23   중구  1544      25.0  165.0  114.0     80    245    270    317    328"
     },
     "execution_count": 47,
     "metadata": {},
     "output_type": "execute_result"
    }
   ],
   "source": [
    "cctv_seoul.sort_values(by='소계', ascending=True).head(5)"
   ]
  },
  {
   "cell_type": "code",
   "execution_count": 48,
   "metadata": {},
   "outputs": [
    {
     "data": {
      "text/html": "<div>\n<style scoped>\n    .dataframe tbody tr th:only-of-type {\n        vertical-align: middle;\n    }\n\n    .dataframe tbody tr th {\n        vertical-align: top;\n    }\n\n    .dataframe thead th {\n        text-align: right;\n    }\n</style>\n<table border=\"1\" class=\"dataframe\">\n  <thead>\n    <tr style=\"text-align: right;\">\n      <th></th>\n      <th>구별</th>\n      <th>소계</th>\n      <th>2011년 이전</th>\n      <th>2012년</th>\n      <th>2013년</th>\n      <th>2014년</th>\n      <th>2015년</th>\n      <th>2016년</th>\n      <th>2017년</th>\n      <th>2018년</th>\n    </tr>\n  </thead>\n  <tbody>\n    <tr>\n      <th>0</th>\n      <td>강남구</td>\n      <td>5221</td>\n      <td>1944.0</td>\n      <td>195.0</td>\n      <td>316.0</td>\n      <td>430</td>\n      <td>546</td>\n      <td>765</td>\n      <td>577</td>\n      <td>448</td>\n    </tr>\n    <tr>\n      <th>4</th>\n      <td>관악구</td>\n      <td>3985</td>\n      <td>430.0</td>\n      <td>56.0</td>\n      <td>419.0</td>\n      <td>487</td>\n      <td>609</td>\n      <td>619</td>\n      <td>694</td>\n      <td>671</td>\n    </tr>\n    <tr>\n      <th>6</th>\n      <td>구로구</td>\n      <td>3227</td>\n      <td>852.0</td>\n      <td>219.0</td>\n      <td>349.0</td>\n      <td>187</td>\n      <td>268</td>\n      <td>326</td>\n      <td>540</td>\n      <td>486</td>\n    </tr>\n    <tr>\n      <th>16</th>\n      <td>성북구</td>\n      <td>3003</td>\n      <td>779.0</td>\n      <td>84.0</td>\n      <td>304.0</td>\n      <td>241</td>\n      <td>279</td>\n      <td>388</td>\n      <td>285</td>\n      <td>643</td>\n    </tr>\n    <tr>\n      <th>21</th>\n      <td>은평구</td>\n      <td>2962</td>\n      <td>1365.0</td>\n      <td>83.0</td>\n      <td>99.0</td>\n      <td>343</td>\n      <td>180</td>\n      <td>296</td>\n      <td>229</td>\n      <td>367</td>\n    </tr>\n  </tbody>\n</table>\n</div>",
      "text/plain": "     구별    소계  2011년 이전  2012년  2013년  2014년  2015년  2016년  2017년  2018년\n0   강남구  5221    1944.0  195.0  316.0    430    546    765    577    448\n4   관악구  3985     430.0   56.0  419.0    487    609    619    694    671\n6   구로구  3227     852.0  219.0  349.0    187    268    326    540    486\n16  성북구  3003     779.0   84.0  304.0    241    279    388    285    643\n21  은평구  2962    1365.0   83.0   99.0    343    180    296    229    367"
     },
     "execution_count": 48,
     "metadata": {},
     "output_type": "execute_result"
    }
   ],
   "source": [
    "cctv_seoul.sort_values(by='소계', ascending=False).head(5)"
   ]
  },
  {
   "cell_type": "code",
   "execution_count": 49,
   "metadata": {},
   "outputs": [
    {
     "data": {
      "text/html": "<div>\n<style scoped>\n    .dataframe tbody tr th:only-of-type {\n        vertical-align: middle;\n    }\n\n    .dataframe tbody tr th {\n        vertical-align: top;\n    }\n\n    .dataframe thead th {\n        text-align: right;\n    }\n</style>\n<table border=\"1\" class=\"dataframe\">\n  <thead>\n    <tr style=\"text-align: right;\">\n      <th></th>\n      <th>구별</th>\n      <th>소계</th>\n      <th>2011년 이전</th>\n      <th>2012년</th>\n      <th>2013년</th>\n      <th>2014년</th>\n      <th>2015년</th>\n      <th>2016년</th>\n      <th>2017년</th>\n      <th>2018년</th>\n      <th>최근증가율</th>\n    </tr>\n  </thead>\n  <tbody>\n    <tr>\n      <th>23</th>\n      <td>중구</td>\n      <td>1544</td>\n      <td>25.0</td>\n      <td>165.0</td>\n      <td>114.0</td>\n      <td>80</td>\n      <td>245</td>\n      <td>270</td>\n      <td>317</td>\n      <td>328</td>\n      <td>145.468998</td>\n    </tr>\n    <tr>\n      <th>19</th>\n      <td>영등포구</td>\n      <td>2495</td>\n      <td>132.0</td>\n      <td>121.0</td>\n      <td>206.0</td>\n      <td>217</td>\n      <td>366</td>\n      <td>289</td>\n      <td>371</td>\n      <td>793</td>\n      <td>139.443378</td>\n    </tr>\n    <tr>\n      <th>15</th>\n      <td>성동구</td>\n      <td>2679</td>\n      <td>665.0</td>\n      <td>109.0</td>\n      <td>118.0</td>\n      <td>101</td>\n      <td>258</td>\n      <td>201</td>\n      <td>933</td>\n      <td>294</td>\n      <td>114.148681</td>\n    </tr>\n    <tr>\n      <th>7</th>\n      <td>금천구</td>\n      <td>1634</td>\n      <td>27.0</td>\n      <td>17.0</td>\n      <td>242.0</td>\n      <td>101</td>\n      <td>382</td>\n      <td>136</td>\n      <td>199</td>\n      <td>530</td>\n      <td>112.483745</td>\n    </tr>\n    <tr>\n      <th>5</th>\n      <td>광진구</td>\n      <td>1581</td>\n      <td>470.0</td>\n      <td>42.0</td>\n      <td>83.0</td>\n      <td>87</td>\n      <td>64</td>\n      <td>21</td>\n      <td>468</td>\n      <td>346</td>\n      <td>111.930295</td>\n    </tr>\n    <tr>\n      <th>4</th>\n      <td>관악구</td>\n      <td>3985</td>\n      <td>430.0</td>\n      <td>56.0</td>\n      <td>419.0</td>\n      <td>487</td>\n      <td>609</td>\n      <td>619</td>\n      <td>694</td>\n      <td>671</td>\n      <td>99.150425</td>\n    </tr>\n    <tr>\n      <th>12</th>\n      <td>마포구</td>\n      <td>1935</td>\n      <td>585.0</td>\n      <td>108.0</td>\n      <td>69.0</td>\n      <td>70</td>\n      <td>177</td>\n      <td>359</td>\n      <td>372</td>\n      <td>195</td>\n      <td>91.774034</td>\n    </tr>\n    <tr>\n      <th>18</th>\n      <td>양천구</td>\n      <td>2775</td>\n      <td>772.0</td>\n      <td>161.0</td>\n      <td>185.0</td>\n      <td>169</td>\n      <td>172</td>\n      <td>349</td>\n      <td>137</td>\n      <td>830</td>\n      <td>90.198766</td>\n    </tr>\n    <tr>\n      <th>2</th>\n      <td>강북구</td>\n      <td>1265</td>\n      <td>243.0</td>\n      <td>88.0</td>\n      <td>141.0</td>\n      <td>74</td>\n      <td>145</td>\n      <td>254</td>\n      <td>1</td>\n      <td>319</td>\n      <td>83.068017</td>\n    </tr>\n    <tr>\n      <th>1</th>\n      <td>강동구</td>\n      <td>1879</td>\n      <td>303.0</td>\n      <td>387.0</td>\n      <td>134.0</td>\n      <td>59</td>\n      <td>144</td>\n      <td>194</td>\n      <td>273</td>\n      <td>385</td>\n      <td>82.960078</td>\n    </tr>\n    <tr>\n      <th>11</th>\n      <td>동작구</td>\n      <td>1780</td>\n      <td>238.0</td>\n      <td>93.0</td>\n      <td>29.0</td>\n      <td>503</td>\n      <td>130</td>\n      <td>254</td>\n      <td>278</td>\n      <td>255</td>\n      <td>79.254783</td>\n    </tr>\n    <tr>\n      <th>16</th>\n      <td>성북구</td>\n      <td>3003</td>\n      <td>779.0</td>\n      <td>84.0</td>\n      <td>304.0</td>\n      <td>241</td>\n      <td>279</td>\n      <td>388</td>\n      <td>285</td>\n      <td>643</td>\n      <td>78.008299</td>\n    </tr>\n    <tr>\n      <th>3</th>\n      <td>강서구</td>\n      <td>1617</td>\n      <td>219.0</td>\n      <td>155.0</td>\n      <td>118.0</td>\n      <td>230</td>\n      <td>187</td>\n      <td>190</td>\n      <td>264</td>\n      <td>254</td>\n      <td>77.887789</td>\n    </tr>\n    <tr>\n      <th>6</th>\n      <td>구로구</td>\n      <td>3227</td>\n      <td>852.0</td>\n      <td>219.0</td>\n      <td>349.0</td>\n      <td>187</td>\n      <td>268</td>\n      <td>326</td>\n      <td>540</td>\n      <td>486</td>\n      <td>72.106667</td>\n    </tr>\n    <tr>\n      <th>13</th>\n      <td>서대문구</td>\n      <td>2121</td>\n      <td>565.0</td>\n      <td>233.0</td>\n      <td>214.0</td>\n      <td>114</td>\n      <td>109</td>\n      <td>277</td>\n      <td>415</td>\n      <td>194</td>\n      <td>71.740891</td>\n    </tr>\n    <tr>\n      <th>9</th>\n      <td>도봉구</td>\n      <td>858</td>\n      <td>197.0</td>\n      <td>66.0</td>\n      <td>8.0</td>\n      <td>185</td>\n      <td>59</td>\n      <td>155</td>\n      <td>117</td>\n      <td>71</td>\n      <td>66.601942</td>\n    </tr>\n    <tr>\n      <th>17</th>\n      <td>송파구</td>\n      <td>1586</td>\n      <td>600.0</td>\n      <td>99.0</td>\n      <td>88.0</td>\n      <td>21</td>\n      <td>166</td>\n      <td>100</td>\n      <td>116</td>\n      <td>396</td>\n      <td>62.833676</td>\n    </tr>\n    <tr>\n      <th>22</th>\n      <td>종로구</td>\n      <td>1471</td>\n      <td>8.0</td>\n      <td>7.0</td>\n      <td>599.0</td>\n      <td>132</td>\n      <td>195</td>\n      <td>148</td>\n      <td>281</td>\n      <td>101</td>\n      <td>56.323061</td>\n    </tr>\n    <tr>\n      <th>14</th>\n      <td>서초구</td>\n      <td>2835</td>\n      <td>1172.0</td>\n      <td>91.0</td>\n      <td>228.0</td>\n      <td>134</td>\n      <td>215</td>\n      <td>352</td>\n      <td>247</td>\n      <td>396</td>\n      <td>54.076087</td>\n    </tr>\n    <tr>\n      <th>0</th>\n      <td>강남구</td>\n      <td>5221</td>\n      <td>1944.0</td>\n      <td>195.0</td>\n      <td>316.0</td>\n      <td>430</td>\n      <td>546</td>\n      <td>765</td>\n      <td>577</td>\n      <td>448</td>\n      <td>52.171379</td>\n    </tr>\n    <tr>\n      <th>21</th>\n      <td>은평구</td>\n      <td>2962</td>\n      <td>1365.0</td>\n      <td>83.0</td>\n      <td>99.0</td>\n      <td>343</td>\n      <td>180</td>\n      <td>296</td>\n      <td>229</td>\n      <td>367</td>\n      <td>43.091787</td>\n    </tr>\n    <tr>\n      <th>8</th>\n      <td>노원구</td>\n      <td>1906</td>\n      <td>481.0</td>\n      <td>117.0</td>\n      <td>203.0</td>\n      <td>80</td>\n      <td>461</td>\n      <td>298</td>\n      <td>110</td>\n      <td>156</td>\n      <td>42.026826</td>\n    </tr>\n    <tr>\n      <th>20</th>\n      <td>용산구</td>\n      <td>2063</td>\n      <td>1279.0</td>\n      <td>152.0</td>\n      <td>201.0</td>\n      <td>107</td>\n      <td>102</td>\n      <td>89</td>\n      <td>60</td>\n      <td>73</td>\n      <td>12.058664</td>\n    </tr>\n    <tr>\n      <th>10</th>\n      <td>동대문구</td>\n      <td>2003</td>\n      <td>NaN</td>\n      <td>NaN</td>\n      <td>NaN</td>\n      <td>1326</td>\n      <td>111</td>\n      <td>233</td>\n      <td>136</td>\n      <td>197</td>\n      <td>NaN</td>\n    </tr>\n    <tr>\n      <th>24</th>\n      <td>중랑구</td>\n      <td>1068</td>\n      <td>NaN</td>\n      <td>NaN</td>\n      <td>NaN</td>\n      <td>770</td>\n      <td>102</td>\n      <td>121</td>\n      <td>66</td>\n      <td>9</td>\n      <td>NaN</td>\n    </tr>\n  </tbody>\n</table>\n</div>",
      "text/plain": "      구별    소계  2011년 이전  2012년  2013년  2014년  2015년  2016년  2017년  2018년  \\\n23    중구  1544      25.0  165.0  114.0     80    245    270    317    328   \n19  영등포구  2495     132.0  121.0  206.0    217    366    289    371    793   \n15   성동구  2679     665.0  109.0  118.0    101    258    201    933    294   \n7    금천구  1634      27.0   17.0  242.0    101    382    136    199    530   \n5    광진구  1581     470.0   42.0   83.0     87     64     21    468    346   \n4    관악구  3985     430.0   56.0  419.0    487    609    619    694    671   \n12   마포구  1935     585.0  108.0   69.0     70    177    359    372    195   \n18   양천구  2775     772.0  161.0  185.0    169    172    349    137    830   \n2    강북구  1265     243.0   88.0  141.0     74    145    254      1    319   \n1    강동구  1879     303.0  387.0  134.0     59    144    194    273    385   \n11   동작구  1780     238.0   93.0   29.0    503    130    254    278    255   \n16   성북구  3003     779.0   84.0  304.0    241    279    388    285    643   \n3    강서구  1617     219.0  155.0  118.0    230    187    190    264    254   \n6    구로구  3227     852.0  219.0  349.0    187    268    326    540    486   \n13  서대문구  2121     565.0  233.0  214.0    114    109    277    415    194   \n9    도봉구   858     197.0   66.0    8.0    185     59    155    117     71   \n17   송파구  1586     600.0   99.0   88.0     21    166    100    116    396   \n22   종로구  1471       8.0    7.0  599.0    132    195    148    281    101   \n14   서초구  2835    1172.0   91.0  228.0    134    215    352    247    396   \n0    강남구  5221    1944.0  195.0  316.0    430    546    765    577    448   \n21   은평구  2962    1365.0   83.0   99.0    343    180    296    229    367   \n8    노원구  1906     481.0  117.0  203.0     80    461    298    110    156   \n20   용산구  2063    1279.0  152.0  201.0    107    102     89     60     73   \n10  동대문구  2003       NaN    NaN    NaN   1326    111    233    136    197   \n24   중랑구  1068       NaN    NaN    NaN    770    102    121     66      9   \n\n         최근증가율  \n23  145.468998  \n19  139.443378  \n15  114.148681  \n7   112.483745  \n5   111.930295  \n4    99.150425  \n12   91.774034  \n18   90.198766  \n2    83.068017  \n1    82.960078  \n11   79.254783  \n16   78.008299  \n3    77.887789  \n6    72.106667  \n13   71.740891  \n9    66.601942  \n17   62.833676  \n22   56.323061  \n14   54.076087  \n0    52.171379  \n21   43.091787  \n8    42.026826  \n20   12.058664  \n10         NaN  \n24         NaN  "
     },
     "execution_count": 49,
     "metadata": {},
     "output_type": "execute_result"
    }
   ],
   "source": [
    "cctv_seoul['최근증가율'] = (cctv_seoul['2018년'] + cctv_seoul['2017년'] +\n",
    "cctv_seoul['2016년']) / (cctv_seoul['2015년'] + cctv_seoul['2014년'] + \n",
    "cctv_seoul['2013년'] + cctv_seoul['2012년'] + cctv_seoul['2011년 이전']) * 100\n",
    "cctv_seoul.sort_values(by='최근증가율', ascending=False)\n",
    "\n",
    "# 최근 3년간(2016~2018) CCTV가 그 이전 대비 많이 증가한 구는\n",
    "# 중구, 영등포구, 성동구, 금천구, 광진구"
   ]
  },
  {
   "cell_type": "code",
   "execution_count": 50,
   "metadata": {},
   "outputs": [
    {
     "data": {
      "text/html": "<div>\n<style scoped>\n    .dataframe tbody tr th:only-of-type {\n        vertical-align: middle;\n    }\n\n    .dataframe tbody tr th {\n        vertical-align: top;\n    }\n\n    .dataframe thead th {\n        text-align: right;\n    }\n</style>\n<table border=\"1\" class=\"dataframe\">\n  <thead>\n    <tr style=\"text-align: right;\">\n      <th></th>\n      <th>구별</th>\n      <th>인구수</th>\n      <th>한국인</th>\n      <th>외국인</th>\n      <th>고령자</th>\n    </tr>\n  </thead>\n  <tbody>\n    <tr>\n      <th>0</th>\n      <td>합계</td>\n      <td>10025927</td>\n      <td>9740398</td>\n      <td>285529</td>\n      <td>1468146</td>\n    </tr>\n    <tr>\n      <th>1</th>\n      <td>종로구</td>\n      <td>162860</td>\n      <td>151767</td>\n      <td>11093</td>\n      <td>27394</td>\n    </tr>\n    <tr>\n      <th>2</th>\n      <td>중구</td>\n      <td>136663</td>\n      <td>126409</td>\n      <td>10254</td>\n      <td>23025</td>\n    </tr>\n    <tr>\n      <th>3</th>\n      <td>용산구</td>\n      <td>244989</td>\n      <td>228830</td>\n      <td>16159</td>\n      <td>38531</td>\n    </tr>\n    <tr>\n      <th>4</th>\n      <td>성동구</td>\n      <td>311290</td>\n      <td>303158</td>\n      <td>8132</td>\n      <td>43662</td>\n    </tr>\n  </tbody>\n</table>\n</div>",
      "text/plain": "    구별       인구수      한국인     외국인      고령자\n0   합계  10025927  9740398  285529  1468146\n1  종로구    162860   151767   11093    27394\n2   중구    136663   126409   10254    23025\n3  용산구    244989   228830   16159    38531\n4  성동구    311290   303158    8132    43662"
     },
     "execution_count": 50,
     "metadata": {},
     "output_type": "execute_result"
    }
   ],
   "source": [
    "# 서울시 인구 현황 정리\n",
    "pop_seoul.head()"
   ]
  },
  {
   "cell_type": "code",
   "execution_count": 51,
   "metadata": {},
   "outputs": [
    {
     "data": {
      "text/html": "<div>\n<style scoped>\n    .dataframe tbody tr th:only-of-type {\n        vertical-align: middle;\n    }\n\n    .dataframe tbody tr th {\n        vertical-align: top;\n    }\n\n    .dataframe thead th {\n        text-align: right;\n    }\n</style>\n<table border=\"1\" class=\"dataframe\">\n  <thead>\n    <tr style=\"text-align: right;\">\n      <th></th>\n      <th>구별</th>\n      <th>인구수</th>\n      <th>한국인</th>\n      <th>외국인</th>\n      <th>고령자</th>\n    </tr>\n  </thead>\n  <tbody>\n    <tr>\n      <th>1</th>\n      <td>종로구</td>\n      <td>162860</td>\n      <td>151767</td>\n      <td>11093</td>\n      <td>27394</td>\n    </tr>\n    <tr>\n      <th>2</th>\n      <td>중구</td>\n      <td>136663</td>\n      <td>126409</td>\n      <td>10254</td>\n      <td>23025</td>\n    </tr>\n    <tr>\n      <th>3</th>\n      <td>용산구</td>\n      <td>244989</td>\n      <td>228830</td>\n      <td>16159</td>\n      <td>38531</td>\n    </tr>\n    <tr>\n      <th>4</th>\n      <td>성동구</td>\n      <td>311290</td>\n      <td>303158</td>\n      <td>8132</td>\n      <td>43662</td>\n    </tr>\n    <tr>\n      <th>5</th>\n      <td>광진구</td>\n      <td>368337</td>\n      <td>352692</td>\n      <td>15645</td>\n      <td>47347</td>\n    </tr>\n  </tbody>\n</table>\n</div>",
      "text/plain": "    구별     인구수     한국인    외국인    고령자\n1  종로구  162860  151767  11093  27394\n2   중구  136663  126409  10254  23025\n3  용산구  244989  228830  16159  38531\n4  성동구  311290  303158   8132  43662\n5  광진구  368337  352692  15645  47347"
     },
     "execution_count": 51,
     "metadata": {},
     "output_type": "execute_result"
    }
   ],
   "source": [
    "# 0행에 있는 합계 지우기\n",
    "pop_seoul.drop([0], inplace=True)\n",
    "pop_seoul.head()"
   ]
  },
  {
   "cell_type": "code",
   "execution_count": 52,
   "metadata": {},
   "outputs": [
    {
     "data": {
      "text/plain": "array(['종로구', '중구', '용산구', '성동구', '광진구', '동대문구', '중랑구', '성북구', '강북구',\n       '도봉구', '노원구', '은평구', '서대문구', '마포구', '양천구', '강서구', '구로구', '금천구',\n       '영등포구', '동작구', '관악구', '서초구', '강남구', '송파구', '강동구'], dtype=object)"
     },
     "execution_count": 52,
     "metadata": {},
     "output_type": "execute_result"
    }
   ],
   "source": [
    "# unique : 반복된 데이터는 하나로 나타내서 한 번 이상 나타난 데이터 확인\n",
    "pop_seoul['구별'].unique()"
   ]
  },
  {
   "cell_type": "code",
   "execution_count": 53,
   "metadata": {},
   "outputs": [
    {
     "data": {
      "text/html": "<div>\n<style scoped>\n    .dataframe tbody tr th:only-of-type {\n        vertical-align: middle;\n    }\n\n    .dataframe tbody tr th {\n        vertical-align: top;\n    }\n\n    .dataframe thead th {\n        text-align: right;\n    }\n</style>\n<table border=\"1\" class=\"dataframe\">\n  <thead>\n    <tr style=\"text-align: right;\">\n      <th></th>\n      <th>구별</th>\n      <th>인구수</th>\n      <th>한국인</th>\n      <th>외국인</th>\n      <th>고령자</th>\n    </tr>\n  </thead>\n  <tbody>\n  </tbody>\n</table>\n</div>",
      "text/plain": "Empty DataFrame\nColumns: [구별, 인구수, 한국인, 외국인, 고령자]\nIndex: []"
     },
     "execution_count": 53,
     "metadata": {},
     "output_type": "execute_result"
    }
   ],
   "source": [
    "# NaN 데이터 있는지, 어디 있는지 확인\n",
    "pop_seoul[pop_seoul['구별'].isnull()]"
   ]
  },
  {
   "cell_type": "code",
   "execution_count": 54,
   "metadata": {},
   "outputs": [],
   "source": [
    "# drop 명령으로 NaN이 있던 행 삭제(예: 26행에 있다면)\n",
    "# pop_seoul.drop([26], inplace=True)\n",
    "# pop_seoul.head()"
   ]
  },
  {
   "cell_type": "code",
   "execution_count": 55,
   "metadata": {},
   "outputs": [
    {
     "data": {
      "text/html": "<div>\n<style scoped>\n    .dataframe tbody tr th:only-of-type {\n        vertical-align: middle;\n    }\n\n    .dataframe tbody tr th {\n        vertical-align: top;\n    }\n\n    .dataframe thead th {\n        text-align: right;\n    }\n</style>\n<table border=\"1\" class=\"dataframe\">\n  <thead>\n    <tr style=\"text-align: right;\">\n      <th></th>\n      <th>구별</th>\n      <th>인구수</th>\n      <th>한국인</th>\n      <th>외국인</th>\n      <th>고령자</th>\n      <th>외국인비율</th>\n      <th>고령자비율</th>\n    </tr>\n  </thead>\n  <tbody>\n    <tr>\n      <th>1</th>\n      <td>종로구</td>\n      <td>162860</td>\n      <td>151767</td>\n      <td>11093</td>\n      <td>27394</td>\n      <td>6.811372</td>\n      <td>16.820582</td>\n    </tr>\n    <tr>\n      <th>2</th>\n      <td>중구</td>\n      <td>136663</td>\n      <td>126409</td>\n      <td>10254</td>\n      <td>23025</td>\n      <td>7.503128</td>\n      <td>16.848013</td>\n    </tr>\n    <tr>\n      <th>3</th>\n      <td>용산구</td>\n      <td>244989</td>\n      <td>228830</td>\n      <td>16159</td>\n      <td>38531</td>\n      <td>6.595806</td>\n      <td>15.727645</td>\n    </tr>\n    <tr>\n      <th>4</th>\n      <td>성동구</td>\n      <td>311290</td>\n      <td>303158</td>\n      <td>8132</td>\n      <td>43662</td>\n      <td>2.612355</td>\n      <td>14.026149</td>\n    </tr>\n    <tr>\n      <th>5</th>\n      <td>광진구</td>\n      <td>368337</td>\n      <td>352692</td>\n      <td>15645</td>\n      <td>47347</td>\n      <td>4.247469</td>\n      <td>12.854261</td>\n    </tr>\n  </tbody>\n</table>\n</div>",
      "text/plain": "    구별     인구수     한국인    외국인    고령자     외국인비율      고령자비율\n1  종로구  162860  151767  11093  27394  6.811372  16.820582\n2   중구  136663  126409  10254  23025  7.503128  16.848013\n3  용산구  244989  228830  16159  38531  6.595806  15.727645\n4  성동구  311290  303158   8132  43662  2.612355  14.026149\n5  광진구  368337  352692  15645  47347  4.247469  12.854261"
     },
     "execution_count": 55,
     "metadata": {},
     "output_type": "execute_result"
    }
   ],
   "source": [
    "pop_seoul['외국인비율'] = pop_seoul['외국인'] / pop_seoul['인구수'] * 100\n",
    "pop_seoul['고령자비율'] = pop_seoul['고령자'] / pop_seoul['인구수'] * 100\n",
    "pop_seoul.head()"
   ]
  },
  {
   "cell_type": "code",
   "execution_count": 56,
   "metadata": {},
   "outputs": [
    {
     "data": {
      "text/html": "<div>\n<style scoped>\n    .dataframe tbody tr th:only-of-type {\n        vertical-align: middle;\n    }\n\n    .dataframe tbody tr th {\n        vertical-align: top;\n    }\n\n    .dataframe thead th {\n        text-align: right;\n    }\n</style>\n<table border=\"1\" class=\"dataframe\">\n  <thead>\n    <tr style=\"text-align: right;\">\n      <th></th>\n      <th>구별</th>\n      <th>인구수</th>\n      <th>한국인</th>\n      <th>외국인</th>\n      <th>고령자</th>\n      <th>외국인비율</th>\n      <th>고령자비율</th>\n    </tr>\n  </thead>\n  <tbody>\n    <tr>\n      <th>24</th>\n      <td>송파구</td>\n      <td>684338</td>\n      <td>677489</td>\n      <td>6849</td>\n      <td>86062</td>\n      <td>1.000821</td>\n      <td>12.575949</td>\n    </tr>\n    <tr>\n      <th>16</th>\n      <td>강서구</td>\n      <td>600240</td>\n      <td>593708</td>\n      <td>6532</td>\n      <td>82937</td>\n      <td>1.088231</td>\n      <td>13.817306</td>\n    </tr>\n    <tr>\n      <th>23</th>\n      <td>강남구</td>\n      <td>549043</td>\n      <td>544028</td>\n      <td>5015</td>\n      <td>70029</td>\n      <td>0.913408</td>\n      <td>12.754739</td>\n    </tr>\n    <tr>\n      <th>11</th>\n      <td>노원구</td>\n      <td>539829</td>\n      <td>535282</td>\n      <td>4547</td>\n      <td>79968</td>\n      <td>0.842304</td>\n      <td>14.813580</td>\n    </tr>\n    <tr>\n      <th>21</th>\n      <td>관악구</td>\n      <td>519953</td>\n      <td>502117</td>\n      <td>17836</td>\n      <td>74518</td>\n      <td>3.430310</td>\n      <td>14.331680</td>\n    </tr>\n  </tbody>\n</table>\n</div>",
      "text/plain": "     구별     인구수     한국인    외국인    고령자     외국인비율      고령자비율\n24  송파구  684338  677489   6849  86062  1.000821  12.575949\n16  강서구  600240  593708   6532  82937  1.088231  13.817306\n23  강남구  549043  544028   5015  70029  0.913408  12.754739\n11  노원구  539829  535282   4547  79968  0.842304  14.813580\n21  관악구  519953  502117  17836  74518  3.430310  14.331680"
     },
     "execution_count": 56,
     "metadata": {},
     "output_type": "execute_result"
    }
   ],
   "source": [
    "pop_seoul.sort_values(by='인구수', ascending=False).head()"
   ]
  },
  {
   "cell_type": "code",
   "execution_count": 57,
   "metadata": {},
   "outputs": [
    {
     "data": {
      "text/html": "<div>\n<style scoped>\n    .dataframe tbody tr th:only-of-type {\n        vertical-align: middle;\n    }\n\n    .dataframe tbody tr th {\n        vertical-align: top;\n    }\n\n    .dataframe thead th {\n        text-align: right;\n    }\n</style>\n<table border=\"1\" class=\"dataframe\">\n  <thead>\n    <tr style=\"text-align: right;\">\n      <th></th>\n      <th>구별</th>\n      <th>인구수</th>\n      <th>한국인</th>\n      <th>외국인</th>\n      <th>고령자</th>\n      <th>외국인비율</th>\n      <th>고령자비율</th>\n    </tr>\n  </thead>\n  <tbody>\n    <tr>\n      <th>19</th>\n      <td>영등포구</td>\n      <td>402478</td>\n      <td>368402</td>\n      <td>34076</td>\n      <td>57350</td>\n      <td>8.466550</td>\n      <td>14.249226</td>\n    </tr>\n    <tr>\n      <th>17</th>\n      <td>구로구</td>\n      <td>439850</td>\n      <td>406748</td>\n      <td>33102</td>\n      <td>64952</td>\n      <td>7.525747</td>\n      <td>14.766852</td>\n    </tr>\n    <tr>\n      <th>18</th>\n      <td>금천구</td>\n      <td>252868</td>\n      <td>233371</td>\n      <td>19497</td>\n      <td>37191</td>\n      <td>7.710347</td>\n      <td>14.707674</td>\n    </tr>\n    <tr>\n      <th>21</th>\n      <td>관악구</td>\n      <td>519953</td>\n      <td>502117</td>\n      <td>17836</td>\n      <td>74518</td>\n      <td>3.430310</td>\n      <td>14.331680</td>\n    </tr>\n    <tr>\n      <th>6</th>\n      <td>동대문구</td>\n      <td>363779</td>\n      <td>346551</td>\n      <td>17228</td>\n      <td>58764</td>\n      <td>4.735842</td>\n      <td>16.153764</td>\n    </tr>\n  </tbody>\n</table>\n</div>",
      "text/plain": "      구별     인구수     한국인    외국인    고령자     외국인비율      고령자비율\n19  영등포구  402478  368402  34076  57350  8.466550  14.249226\n17   구로구  439850  406748  33102  64952  7.525747  14.766852\n18   금천구  252868  233371  19497  37191  7.710347  14.707674\n21   관악구  519953  502117  17836  74518  3.430310  14.331680\n6   동대문구  363779  346551  17228  58764  4.735842  16.153764"
     },
     "execution_count": 57,
     "metadata": {},
     "output_type": "execute_result"
    }
   ],
   "source": [
    "pop_seoul.sort_values(by='외국인', ascending=False).head()"
   ]
  },
  {
   "cell_type": "code",
   "execution_count": 58,
   "metadata": {},
   "outputs": [
    {
     "data": {
      "text/html": "<div>\n<style scoped>\n    .dataframe tbody tr th:only-of-type {\n        vertical-align: middle;\n    }\n\n    .dataframe tbody tr th {\n        vertical-align: top;\n    }\n\n    .dataframe thead th {\n        text-align: right;\n    }\n</style>\n<table border=\"1\" class=\"dataframe\">\n  <thead>\n    <tr style=\"text-align: right;\">\n      <th></th>\n      <th>구별</th>\n      <th>인구수</th>\n      <th>한국인</th>\n      <th>외국인</th>\n      <th>고령자</th>\n      <th>외국인비율</th>\n      <th>고령자비율</th>\n    </tr>\n  </thead>\n  <tbody>\n    <tr>\n      <th>19</th>\n      <td>영등포구</td>\n      <td>402478</td>\n      <td>368402</td>\n      <td>34076</td>\n      <td>57350</td>\n      <td>8.466550</td>\n      <td>14.249226</td>\n    </tr>\n    <tr>\n      <th>18</th>\n      <td>금천구</td>\n      <td>252868</td>\n      <td>233371</td>\n      <td>19497</td>\n      <td>37191</td>\n      <td>7.710347</td>\n      <td>14.707674</td>\n    </tr>\n    <tr>\n      <th>17</th>\n      <td>구로구</td>\n      <td>439850</td>\n      <td>406748</td>\n      <td>33102</td>\n      <td>64952</td>\n      <td>7.525747</td>\n      <td>14.766852</td>\n    </tr>\n    <tr>\n      <th>2</th>\n      <td>중구</td>\n      <td>136663</td>\n      <td>126409</td>\n      <td>10254</td>\n      <td>23025</td>\n      <td>7.503128</td>\n      <td>16.848013</td>\n    </tr>\n    <tr>\n      <th>1</th>\n      <td>종로구</td>\n      <td>162860</td>\n      <td>151767</td>\n      <td>11093</td>\n      <td>27394</td>\n      <td>6.811372</td>\n      <td>16.820582</td>\n    </tr>\n  </tbody>\n</table>\n</div>",
      "text/plain": "      구별     인구수     한국인    외국인    고령자     외국인비율      고령자비율\n19  영등포구  402478  368402  34076  57350  8.466550  14.249226\n18   금천구  252868  233371  19497  37191  7.710347  14.707674\n17   구로구  439850  406748  33102  64952  7.525747  14.766852\n2     중구  136663  126409  10254  23025  7.503128  16.848013\n1    종로구  162860  151767  11093  27394  6.811372  16.820582"
     },
     "execution_count": 58,
     "metadata": {},
     "output_type": "execute_result"
    }
   ],
   "source": [
    "pop_seoul.sort_values(by='외국인비율', ascending=False).head()"
   ]
  },
  {
   "cell_type": "code",
   "execution_count": 59,
   "metadata": {},
   "outputs": [
    {
     "data": {
      "text/html": "<div>\n<style scoped>\n    .dataframe tbody tr th:only-of-type {\n        vertical-align: middle;\n    }\n\n    .dataframe tbody tr th {\n        vertical-align: top;\n    }\n\n    .dataframe thead th {\n        text-align: right;\n    }\n</style>\n<table border=\"1\" class=\"dataframe\">\n  <thead>\n    <tr style=\"text-align: right;\">\n      <th></th>\n      <th>구별</th>\n      <th>인구수</th>\n      <th>한국인</th>\n      <th>외국인</th>\n      <th>고령자</th>\n      <th>외국인비율</th>\n      <th>고령자비율</th>\n    </tr>\n  </thead>\n  <tbody>\n    <tr>\n      <th>24</th>\n      <td>송파구</td>\n      <td>684338</td>\n      <td>677489</td>\n      <td>6849</td>\n      <td>86062</td>\n      <td>1.000821</td>\n      <td>12.575949</td>\n    </tr>\n    <tr>\n      <th>16</th>\n      <td>강서구</td>\n      <td>600240</td>\n      <td>593708</td>\n      <td>6532</td>\n      <td>82937</td>\n      <td>1.088231</td>\n      <td>13.817306</td>\n    </tr>\n    <tr>\n      <th>11</th>\n      <td>노원구</td>\n      <td>539829</td>\n      <td>535282</td>\n      <td>4547</td>\n      <td>79968</td>\n      <td>0.842304</td>\n      <td>14.813580</td>\n    </tr>\n    <tr>\n      <th>12</th>\n      <td>은평구</td>\n      <td>486159</td>\n      <td>481663</td>\n      <td>4496</td>\n      <td>79957</td>\n      <td>0.924800</td>\n      <td>16.446677</td>\n    </tr>\n    <tr>\n      <th>21</th>\n      <td>관악구</td>\n      <td>519953</td>\n      <td>502117</td>\n      <td>17836</td>\n      <td>74518</td>\n      <td>3.430310</td>\n      <td>14.331680</td>\n    </tr>\n  </tbody>\n</table>\n</div>",
      "text/plain": "     구별     인구수     한국인    외국인    고령자     외국인비율      고령자비율\n24  송파구  684338  677489   6849  86062  1.000821  12.575949\n16  강서구  600240  593708   6532  82937  1.088231  13.817306\n11  노원구  539829  535282   4547  79968  0.842304  14.813580\n12  은평구  486159  481663   4496  79957  0.924800  16.446677\n21  관악구  519953  502117  17836  74518  3.430310  14.331680"
     },
     "execution_count": 59,
     "metadata": {},
     "output_type": "execute_result"
    }
   ],
   "source": [
    "pop_seoul.sort_values(by='고령자', ascending=False).head()"
   ]
  },
  {
   "cell_type": "code",
   "execution_count": 60,
   "metadata": {},
   "outputs": [
    {
     "data": {
      "text/html": "<div>\n<style scoped>\n    .dataframe tbody tr th:only-of-type {\n        vertical-align: middle;\n    }\n\n    .dataframe tbody tr th {\n        vertical-align: top;\n    }\n\n    .dataframe thead th {\n        text-align: right;\n    }\n</style>\n<table border=\"1\" class=\"dataframe\">\n  <thead>\n    <tr style=\"text-align: right;\">\n      <th></th>\n      <th>구별</th>\n      <th>인구수</th>\n      <th>한국인</th>\n      <th>외국인</th>\n      <th>고령자</th>\n      <th>외국인비율</th>\n      <th>고령자비율</th>\n    </tr>\n  </thead>\n  <tbody>\n    <tr>\n      <th>9</th>\n      <td>강북구</td>\n      <td>317875</td>\n      <td>314090</td>\n      <td>3785</td>\n      <td>59808</td>\n      <td>1.190720</td>\n      <td>18.814943</td>\n    </tr>\n    <tr>\n      <th>10</th>\n      <td>도봉구</td>\n      <td>337594</td>\n      <td>335280</td>\n      <td>2314</td>\n      <td>58070</td>\n      <td>0.685439</td>\n      <td>17.201135</td>\n    </tr>\n    <tr>\n      <th>2</th>\n      <td>중구</td>\n      <td>136663</td>\n      <td>126409</td>\n      <td>10254</td>\n      <td>23025</td>\n      <td>7.503128</td>\n      <td>16.848013</td>\n    </tr>\n    <tr>\n      <th>1</th>\n      <td>종로구</td>\n      <td>162860</td>\n      <td>151767</td>\n      <td>11093</td>\n      <td>27394</td>\n      <td>6.811372</td>\n      <td>16.820582</td>\n    </tr>\n    <tr>\n      <th>12</th>\n      <td>은평구</td>\n      <td>486159</td>\n      <td>481663</td>\n      <td>4496</td>\n      <td>79957</td>\n      <td>0.924800</td>\n      <td>16.446677</td>\n    </tr>\n    <tr>\n      <th>6</th>\n      <td>동대문구</td>\n      <td>363779</td>\n      <td>346551</td>\n      <td>17228</td>\n      <td>58764</td>\n      <td>4.735842</td>\n      <td>16.153764</td>\n    </tr>\n    <tr>\n      <th>7</th>\n      <td>중랑구</td>\n      <td>403776</td>\n      <td>398812</td>\n      <td>4964</td>\n      <td>64449</td>\n      <td>1.229395</td>\n      <td>15.961573</td>\n    </tr>\n    <tr>\n      <th>13</th>\n      <td>서대문구</td>\n      <td>324089</td>\n      <td>310069</td>\n      <td>14020</td>\n      <td>51708</td>\n      <td>4.325972</td>\n      <td>15.954877</td>\n    </tr>\n    <tr>\n      <th>3</th>\n      <td>용산구</td>\n      <td>244989</td>\n      <td>228830</td>\n      <td>16159</td>\n      <td>38531</td>\n      <td>6.595806</td>\n      <td>15.727645</td>\n    </tr>\n    <tr>\n      <th>8</th>\n      <td>성북구</td>\n      <td>454114</td>\n      <td>441590</td>\n      <td>12524</td>\n      <td>70204</td>\n      <td>2.757898</td>\n      <td>15.459554</td>\n    </tr>\n    <tr>\n      <th>20</th>\n      <td>동작구</td>\n      <td>410487</td>\n      <td>397618</td>\n      <td>12869</td>\n      <td>61607</td>\n      <td>3.135057</td>\n      <td>15.008271</td>\n    </tr>\n    <tr>\n      <th>11</th>\n      <td>노원구</td>\n      <td>539829</td>\n      <td>535282</td>\n      <td>4547</td>\n      <td>79968</td>\n      <td>0.842304</td>\n      <td>14.813580</td>\n    </tr>\n    <tr>\n      <th>17</th>\n      <td>구로구</td>\n      <td>439850</td>\n      <td>406748</td>\n      <td>33102</td>\n      <td>64952</td>\n      <td>7.525747</td>\n      <td>14.766852</td>\n    </tr>\n    <tr>\n      <th>18</th>\n      <td>금천구</td>\n      <td>252868</td>\n      <td>233371</td>\n      <td>19497</td>\n      <td>37191</td>\n      <td>7.710347</td>\n      <td>14.707674</td>\n    </tr>\n    <tr>\n      <th>25</th>\n      <td>강동구</td>\n      <td>430522</td>\n      <td>426219</td>\n      <td>4303</td>\n      <td>61710</td>\n      <td>0.999484</td>\n      <td>14.333762</td>\n    </tr>\n    <tr>\n      <th>21</th>\n      <td>관악구</td>\n      <td>519953</td>\n      <td>502117</td>\n      <td>17836</td>\n      <td>74518</td>\n      <td>3.430310</td>\n      <td>14.331680</td>\n    </tr>\n    <tr>\n      <th>19</th>\n      <td>영등포구</td>\n      <td>402478</td>\n      <td>368402</td>\n      <td>34076</td>\n      <td>57350</td>\n      <td>8.466550</td>\n      <td>14.249226</td>\n    </tr>\n    <tr>\n      <th>4</th>\n      <td>성동구</td>\n      <td>311290</td>\n      <td>303158</td>\n      <td>8132</td>\n      <td>43662</td>\n      <td>2.612355</td>\n      <td>14.026149</td>\n    </tr>\n    <tr>\n      <th>16</th>\n      <td>강서구</td>\n      <td>600240</td>\n      <td>593708</td>\n      <td>6532</td>\n      <td>82937</td>\n      <td>1.088231</td>\n      <td>13.817306</td>\n    </tr>\n    <tr>\n      <th>14</th>\n      <td>마포구</td>\n      <td>385605</td>\n      <td>373629</td>\n      <td>11976</td>\n      <td>51961</td>\n      <td>3.105769</td>\n      <td>13.475188</td>\n    </tr>\n    <tr>\n      <th>15</th>\n      <td>양천구</td>\n      <td>463931</td>\n      <td>459849</td>\n      <td>4082</td>\n      <td>60487</td>\n      <td>0.879872</td>\n      <td>13.037930</td>\n    </tr>\n    <tr>\n      <th>22</th>\n      <td>서초구</td>\n      <td>435258</td>\n      <td>431027</td>\n      <td>4231</td>\n      <td>56455</td>\n      <td>0.972067</td>\n      <td>12.970468</td>\n    </tr>\n    <tr>\n      <th>5</th>\n      <td>광진구</td>\n      <td>368337</td>\n      <td>352692</td>\n      <td>15645</td>\n      <td>47347</td>\n      <td>4.247469</td>\n      <td>12.854261</td>\n    </tr>\n    <tr>\n      <th>23</th>\n      <td>강남구</td>\n      <td>549043</td>\n      <td>544028</td>\n      <td>5015</td>\n      <td>70029</td>\n      <td>0.913408</td>\n      <td>12.754739</td>\n    </tr>\n    <tr>\n      <th>24</th>\n      <td>송파구</td>\n      <td>684338</td>\n      <td>677489</td>\n      <td>6849</td>\n      <td>86062</td>\n      <td>1.000821</td>\n      <td>12.575949</td>\n    </tr>\n  </tbody>\n</table>\n</div>",
      "text/plain": "      구별     인구수     한국인    외국인    고령자     외국인비율      고령자비율\n9    강북구  317875  314090   3785  59808  1.190720  18.814943\n10   도봉구  337594  335280   2314  58070  0.685439  17.201135\n2     중구  136663  126409  10254  23025  7.503128  16.848013\n1    종로구  162860  151767  11093  27394  6.811372  16.820582\n12   은평구  486159  481663   4496  79957  0.924800  16.446677\n6   동대문구  363779  346551  17228  58764  4.735842  16.153764\n7    중랑구  403776  398812   4964  64449  1.229395  15.961573\n13  서대문구  324089  310069  14020  51708  4.325972  15.954877\n3    용산구  244989  228830  16159  38531  6.595806  15.727645\n8    성북구  454114  441590  12524  70204  2.757898  15.459554\n20   동작구  410487  397618  12869  61607  3.135057  15.008271\n11   노원구  539829  535282   4547  79968  0.842304  14.813580\n17   구로구  439850  406748  33102  64952  7.525747  14.766852\n18   금천구  252868  233371  19497  37191  7.710347  14.707674\n25   강동구  430522  426219   4303  61710  0.999484  14.333762\n21   관악구  519953  502117  17836  74518  3.430310  14.331680\n19  영등포구  402478  368402  34076  57350  8.466550  14.249226\n4    성동구  311290  303158   8132  43662  2.612355  14.026149\n16   강서구  600240  593708   6532  82937  1.088231  13.817306\n14   마포구  385605  373629  11976  51961  3.105769  13.475188\n15   양천구  463931  459849   4082  60487  0.879872  13.037930\n22   서초구  435258  431027   4231  56455  0.972067  12.970468\n5    광진구  368337  352692  15645  47347  4.247469  12.854261\n23   강남구  549043  544028   5015  70029  0.913408  12.754739\n24   송파구  684338  677489   6849  86062  1.000821  12.575949"
     },
     "execution_count": 60,
     "metadata": {},
     "output_type": "execute_result"
    }
   ],
   "source": [
    "pop_seoul.sort_values(by='고령자비율', ascending=False)"
   ]
  },
  {
   "cell_type": "markdown",
   "execution_count": null,
   "metadata": {},
   "outputs": [],
   "source": [
    "## 3. CCTV 데이터와 인구 현황 데이터를 합치고 분석하기"
   ]
  },
  {
   "cell_type": "code",
   "execution_count": 65,
   "metadata": {},
   "outputs": [
    {
     "data": {
      "text/html": "<div>\n<style scoped>\n    .dataframe tbody tr th:only-of-type {\n        vertical-align: middle;\n    }\n\n    .dataframe tbody tr th {\n        vertical-align: top;\n    }\n\n    .dataframe thead th {\n        text-align: right;\n    }\n</style>\n<table border=\"1\" class=\"dataframe\">\n  <thead>\n    <tr style=\"text-align: right;\">\n      <th></th>\n      <th>구별</th>\n      <th>소계</th>\n      <th>2011년 이전</th>\n      <th>2012년</th>\n      <th>2013년</th>\n      <th>2014년</th>\n      <th>2015년</th>\n      <th>2016년</th>\n      <th>2017년</th>\n      <th>2018년</th>\n      <th>최근증가율</th>\n      <th>인구수</th>\n      <th>한국인</th>\n      <th>외국인</th>\n      <th>고령자</th>\n      <th>외국인비율</th>\n      <th>고령자비율</th>\n    </tr>\n  </thead>\n  <tbody>\n    <tr>\n      <th>0</th>\n      <td>강남구</td>\n      <td>5221</td>\n      <td>1944.0</td>\n      <td>195.0</td>\n      <td>316.0</td>\n      <td>430</td>\n      <td>546</td>\n      <td>765</td>\n      <td>577</td>\n      <td>448</td>\n      <td>52.171379</td>\n      <td>549043</td>\n      <td>544028</td>\n      <td>5015</td>\n      <td>70029</td>\n      <td>0.913408</td>\n      <td>12.754739</td>\n    </tr>\n    <tr>\n      <th>1</th>\n      <td>강동구</td>\n      <td>1879</td>\n      <td>303.0</td>\n      <td>387.0</td>\n      <td>134.0</td>\n      <td>59</td>\n      <td>144</td>\n      <td>194</td>\n      <td>273</td>\n      <td>385</td>\n      <td>82.960078</td>\n      <td>430522</td>\n      <td>426219</td>\n      <td>4303</td>\n      <td>61710</td>\n      <td>0.999484</td>\n      <td>14.333762</td>\n    </tr>\n    <tr>\n      <th>2</th>\n      <td>강북구</td>\n      <td>1265</td>\n      <td>243.0</td>\n      <td>88.0</td>\n      <td>141.0</td>\n      <td>74</td>\n      <td>145</td>\n      <td>254</td>\n      <td>1</td>\n      <td>319</td>\n      <td>83.068017</td>\n      <td>317875</td>\n      <td>314090</td>\n      <td>3785</td>\n      <td>59808</td>\n      <td>1.190720</td>\n      <td>18.814943</td>\n    </tr>\n    <tr>\n      <th>3</th>\n      <td>강서구</td>\n      <td>1617</td>\n      <td>219.0</td>\n      <td>155.0</td>\n      <td>118.0</td>\n      <td>230</td>\n      <td>187</td>\n      <td>190</td>\n      <td>264</td>\n      <td>254</td>\n      <td>77.887789</td>\n      <td>600240</td>\n      <td>593708</td>\n      <td>6532</td>\n      <td>82937</td>\n      <td>1.088231</td>\n      <td>13.817306</td>\n    </tr>\n    <tr>\n      <th>4</th>\n      <td>관악구</td>\n      <td>3985</td>\n      <td>430.0</td>\n      <td>56.0</td>\n      <td>419.0</td>\n      <td>487</td>\n      <td>609</td>\n      <td>619</td>\n      <td>694</td>\n      <td>671</td>\n      <td>99.150425</td>\n      <td>519953</td>\n      <td>502117</td>\n      <td>17836</td>\n      <td>74518</td>\n      <td>3.430310</td>\n      <td>14.331680</td>\n    </tr>\n    <tr>\n      <th>5</th>\n      <td>광진구</td>\n      <td>1581</td>\n      <td>470.0</td>\n      <td>42.0</td>\n      <td>83.0</td>\n      <td>87</td>\n      <td>64</td>\n      <td>21</td>\n      <td>468</td>\n      <td>346</td>\n      <td>111.930295</td>\n      <td>368337</td>\n      <td>352692</td>\n      <td>15645</td>\n      <td>47347</td>\n      <td>4.247469</td>\n      <td>12.854261</td>\n    </tr>\n    <tr>\n      <th>6</th>\n      <td>구로구</td>\n      <td>3227</td>\n      <td>852.0</td>\n      <td>219.0</td>\n      <td>349.0</td>\n      <td>187</td>\n      <td>268</td>\n      <td>326</td>\n      <td>540</td>\n      <td>486</td>\n      <td>72.106667</td>\n      <td>439850</td>\n      <td>406748</td>\n      <td>33102</td>\n      <td>64952</td>\n      <td>7.525747</td>\n      <td>14.766852</td>\n    </tr>\n    <tr>\n      <th>7</th>\n      <td>금천구</td>\n      <td>1634</td>\n      <td>27.0</td>\n      <td>17.0</td>\n      <td>242.0</td>\n      <td>101</td>\n      <td>382</td>\n      <td>136</td>\n      <td>199</td>\n      <td>530</td>\n      <td>112.483745</td>\n      <td>252868</td>\n      <td>233371</td>\n      <td>19497</td>\n      <td>37191</td>\n      <td>7.710347</td>\n      <td>14.707674</td>\n    </tr>\n    <tr>\n      <th>8</th>\n      <td>노원구</td>\n      <td>1906</td>\n      <td>481.0</td>\n      <td>117.0</td>\n      <td>203.0</td>\n      <td>80</td>\n      <td>461</td>\n      <td>298</td>\n      <td>110</td>\n      <td>156</td>\n      <td>42.026826</td>\n      <td>539829</td>\n      <td>535282</td>\n      <td>4547</td>\n      <td>79968</td>\n      <td>0.842304</td>\n      <td>14.813580</td>\n    </tr>\n    <tr>\n      <th>9</th>\n      <td>도봉구</td>\n      <td>858</td>\n      <td>197.0</td>\n      <td>66.0</td>\n      <td>8.0</td>\n      <td>185</td>\n      <td>59</td>\n      <td>155</td>\n      <td>117</td>\n      <td>71</td>\n      <td>66.601942</td>\n      <td>337594</td>\n      <td>335280</td>\n      <td>2314</td>\n      <td>58070</td>\n      <td>0.685439</td>\n      <td>17.201135</td>\n    </tr>\n    <tr>\n      <th>10</th>\n      <td>동대문구</td>\n      <td>2003</td>\n      <td>NaN</td>\n      <td>NaN</td>\n      <td>NaN</td>\n      <td>1326</td>\n      <td>111</td>\n      <td>233</td>\n      <td>136</td>\n      <td>197</td>\n      <td>NaN</td>\n      <td>363779</td>\n      <td>346551</td>\n      <td>17228</td>\n      <td>58764</td>\n      <td>4.735842</td>\n      <td>16.153764</td>\n    </tr>\n    <tr>\n      <th>11</th>\n      <td>동작구</td>\n      <td>1780</td>\n      <td>238.0</td>\n      <td>93.0</td>\n      <td>29.0</td>\n      <td>503</td>\n      <td>130</td>\n      <td>254</td>\n      <td>278</td>\n      <td>255</td>\n      <td>79.254783</td>\n      <td>410487</td>\n      <td>397618</td>\n      <td>12869</td>\n      <td>61607</td>\n      <td>3.135057</td>\n      <td>15.008271</td>\n    </tr>\n    <tr>\n      <th>12</th>\n      <td>마포구</td>\n      <td>1935</td>\n      <td>585.0</td>\n      <td>108.0</td>\n      <td>69.0</td>\n      <td>70</td>\n      <td>177</td>\n      <td>359</td>\n      <td>372</td>\n      <td>195</td>\n      <td>91.774034</td>\n      <td>385605</td>\n      <td>373629</td>\n      <td>11976</td>\n      <td>51961</td>\n      <td>3.105769</td>\n      <td>13.475188</td>\n    </tr>\n    <tr>\n      <th>13</th>\n      <td>서대문구</td>\n      <td>2121</td>\n      <td>565.0</td>\n      <td>233.0</td>\n      <td>214.0</td>\n      <td>114</td>\n      <td>109</td>\n      <td>277</td>\n      <td>415</td>\n      <td>194</td>\n      <td>71.740891</td>\n      <td>324089</td>\n      <td>310069</td>\n      <td>14020</td>\n      <td>51708</td>\n      <td>4.325972</td>\n      <td>15.954877</td>\n    </tr>\n    <tr>\n      <th>14</th>\n      <td>서초구</td>\n      <td>2835</td>\n      <td>1172.0</td>\n      <td>91.0</td>\n      <td>228.0</td>\n      <td>134</td>\n      <td>215</td>\n      <td>352</td>\n      <td>247</td>\n      <td>396</td>\n      <td>54.076087</td>\n      <td>435258</td>\n      <td>431027</td>\n      <td>4231</td>\n      <td>56455</td>\n      <td>0.972067</td>\n      <td>12.970468</td>\n    </tr>\n    <tr>\n      <th>15</th>\n      <td>성동구</td>\n      <td>2679</td>\n      <td>665.0</td>\n      <td>109.0</td>\n      <td>118.0</td>\n      <td>101</td>\n      <td>258</td>\n      <td>201</td>\n      <td>933</td>\n      <td>294</td>\n      <td>114.148681</td>\n      <td>311290</td>\n      <td>303158</td>\n      <td>8132</td>\n      <td>43662</td>\n      <td>2.612355</td>\n      <td>14.026149</td>\n    </tr>\n    <tr>\n      <th>16</th>\n      <td>성북구</td>\n      <td>3003</td>\n      <td>779.0</td>\n      <td>84.0</td>\n      <td>304.0</td>\n      <td>241</td>\n      <td>279</td>\n      <td>388</td>\n      <td>285</td>\n      <td>643</td>\n      <td>78.008299</td>\n      <td>454114</td>\n      <td>441590</td>\n      <td>12524</td>\n      <td>70204</td>\n      <td>2.757898</td>\n      <td>15.459554</td>\n    </tr>\n    <tr>\n      <th>17</th>\n      <td>송파구</td>\n      <td>1586</td>\n      <td>600.0</td>\n      <td>99.0</td>\n      <td>88.0</td>\n      <td>21</td>\n      <td>166</td>\n      <td>100</td>\n      <td>116</td>\n      <td>396</td>\n      <td>62.833676</td>\n      <td>684338</td>\n      <td>677489</td>\n      <td>6849</td>\n      <td>86062</td>\n      <td>1.000821</td>\n      <td>12.575949</td>\n    </tr>\n    <tr>\n      <th>18</th>\n      <td>양천구</td>\n      <td>2775</td>\n      <td>772.0</td>\n      <td>161.0</td>\n      <td>185.0</td>\n      <td>169</td>\n      <td>172</td>\n      <td>349</td>\n      <td>137</td>\n      <td>830</td>\n      <td>90.198766</td>\n      <td>463931</td>\n      <td>459849</td>\n      <td>4082</td>\n      <td>60487</td>\n      <td>0.879872</td>\n      <td>13.037930</td>\n    </tr>\n    <tr>\n      <th>19</th>\n      <td>영등포구</td>\n      <td>2495</td>\n      <td>132.0</td>\n      <td>121.0</td>\n      <td>206.0</td>\n      <td>217</td>\n      <td>366</td>\n      <td>289</td>\n      <td>371</td>\n      <td>793</td>\n      <td>139.443378</td>\n      <td>402478</td>\n      <td>368402</td>\n      <td>34076</td>\n      <td>57350</td>\n      <td>8.466550</td>\n      <td>14.249226</td>\n    </tr>\n    <tr>\n      <th>20</th>\n      <td>용산구</td>\n      <td>2063</td>\n      <td>1279.0</td>\n      <td>152.0</td>\n      <td>201.0</td>\n      <td>107</td>\n      <td>102</td>\n      <td>89</td>\n      <td>60</td>\n      <td>73</td>\n      <td>12.058664</td>\n      <td>244989</td>\n      <td>228830</td>\n      <td>16159</td>\n      <td>38531</td>\n      <td>6.595806</td>\n      <td>15.727645</td>\n    </tr>\n    <tr>\n      <th>21</th>\n      <td>은평구</td>\n      <td>2962</td>\n      <td>1365.0</td>\n      <td>83.0</td>\n      <td>99.0</td>\n      <td>343</td>\n      <td>180</td>\n      <td>296</td>\n      <td>229</td>\n      <td>367</td>\n      <td>43.091787</td>\n      <td>486159</td>\n      <td>481663</td>\n      <td>4496</td>\n      <td>79957</td>\n      <td>0.924800</td>\n      <td>16.446677</td>\n    </tr>\n    <tr>\n      <th>22</th>\n      <td>종로구</td>\n      <td>1471</td>\n      <td>8.0</td>\n      <td>7.0</td>\n      <td>599.0</td>\n      <td>132</td>\n      <td>195</td>\n      <td>148</td>\n      <td>281</td>\n      <td>101</td>\n      <td>56.323061</td>\n      <td>162860</td>\n      <td>151767</td>\n      <td>11093</td>\n      <td>27394</td>\n      <td>6.811372</td>\n      <td>16.820582</td>\n    </tr>\n    <tr>\n      <th>23</th>\n      <td>중구</td>\n      <td>1544</td>\n      <td>25.0</td>\n      <td>165.0</td>\n      <td>114.0</td>\n      <td>80</td>\n      <td>245</td>\n      <td>270</td>\n      <td>317</td>\n      <td>328</td>\n      <td>145.468998</td>\n      <td>136663</td>\n      <td>126409</td>\n      <td>10254</td>\n      <td>23025</td>\n      <td>7.503128</td>\n      <td>16.848013</td>\n    </tr>\n    <tr>\n      <th>24</th>\n      <td>중랑구</td>\n      <td>1068</td>\n      <td>NaN</td>\n      <td>NaN</td>\n      <td>NaN</td>\n      <td>770</td>\n      <td>102</td>\n      <td>121</td>\n      <td>66</td>\n      <td>9</td>\n      <td>NaN</td>\n      <td>403776</td>\n      <td>398812</td>\n      <td>4964</td>\n      <td>64449</td>\n      <td>1.229395</td>\n      <td>15.961573</td>\n    </tr>\n  </tbody>\n</table>\n</div>",
      "text/plain": "      구별    소계  2011년 이전  2012년  2013년  2014년  2015년  2016년  2017년  2018년  \\\n0    강남구  5221    1944.0  195.0  316.0    430    546    765    577    448   \n1    강동구  1879     303.0  387.0  134.0     59    144    194    273    385   \n2    강북구  1265     243.0   88.0  141.0     74    145    254      1    319   \n3    강서구  1617     219.0  155.0  118.0    230    187    190    264    254   \n4    관악구  3985     430.0   56.0  419.0    487    609    619    694    671   \n5    광진구  1581     470.0   42.0   83.0     87     64     21    468    346   \n6    구로구  3227     852.0  219.0  349.0    187    268    326    540    486   \n7    금천구  1634      27.0   17.0  242.0    101    382    136    199    530   \n8    노원구  1906     481.0  117.0  203.0     80    461    298    110    156   \n9    도봉구   858     197.0   66.0    8.0    185     59    155    117     71   \n10  동대문구  2003       NaN    NaN    NaN   1326    111    233    136    197   \n11   동작구  1780     238.0   93.0   29.0    503    130    254    278    255   \n12   마포구  1935     585.0  108.0   69.0     70    177    359    372    195   \n13  서대문구  2121     565.0  233.0  214.0    114    109    277    415    194   \n14   서초구  2835    1172.0   91.0  228.0    134    215    352    247    396   \n15   성동구  2679     665.0  109.0  118.0    101    258    201    933    294   \n16   성북구  3003     779.0   84.0  304.0    241    279    388    285    643   \n17   송파구  1586     600.0   99.0   88.0     21    166    100    116    396   \n18   양천구  2775     772.0  161.0  185.0    169    172    349    137    830   \n19  영등포구  2495     132.0  121.0  206.0    217    366    289    371    793   \n20   용산구  2063    1279.0  152.0  201.0    107    102     89     60     73   \n21   은평구  2962    1365.0   83.0   99.0    343    180    296    229    367   \n22   종로구  1471       8.0    7.0  599.0    132    195    148    281    101   \n23    중구  1544      25.0  165.0  114.0     80    245    270    317    328   \n24   중랑구  1068       NaN    NaN    NaN    770    102    121     66      9   \n\n         최근증가율     인구수     한국인    외국인    고령자     외국인비율      고령자비율  \n0    52.171379  549043  544028   5015  70029  0.913408  12.754739  \n1    82.960078  430522  426219   4303  61710  0.999484  14.333762  \n2    83.068017  317875  314090   3785  59808  1.190720  18.814943  \n3    77.887789  600240  593708   6532  82937  1.088231  13.817306  \n4    99.150425  519953  502117  17836  74518  3.430310  14.331680  \n5   111.930295  368337  352692  15645  47347  4.247469  12.854261  \n6    72.106667  439850  406748  33102  64952  7.525747  14.766852  \n7   112.483745  252868  233371  19497  37191  7.710347  14.707674  \n8    42.026826  539829  535282   4547  79968  0.842304  14.813580  \n9    66.601942  337594  335280   2314  58070  0.685439  17.201135  \n10         NaN  363779  346551  17228  58764  4.735842  16.153764  \n11   79.254783  410487  397618  12869  61607  3.135057  15.008271  \n12   91.774034  385605  373629  11976  51961  3.105769  13.475188  \n13   71.740891  324089  310069  14020  51708  4.325972  15.954877  \n14   54.076087  435258  431027   4231  56455  0.972067  12.970468  \n15  114.148681  311290  303158   8132  43662  2.612355  14.026149  \n16   78.008299  454114  441590  12524  70204  2.757898  15.459554  \n17   62.833676  684338  677489   6849  86062  1.000821  12.575949  \n18   90.198766  463931  459849   4082  60487  0.879872  13.037930  \n19  139.443378  402478  368402  34076  57350  8.466550  14.249226  \n20   12.058664  244989  228830  16159  38531  6.595806  15.727645  \n21   43.091787  486159  481663   4496  79957  0.924800  16.446677  \n22   56.323061  162860  151767  11093  27394  6.811372  16.820582  \n23  145.468998  136663  126409  10254  23025  7.503128  16.848013  \n24         NaN  403776  398812   4964  64449  1.229395  15.961573  "
     },
     "execution_count": 65,
     "metadata": {},
     "output_type": "execute_result"
    }
   ],
   "source": [
    "data_result = pd.merge(cctv_seoul, pop_seoul, on='구별')\n",
    "data_result"
   ]
  },
  {
   "cell_type": "code",
   "execution_count": 66,
   "metadata": {},
   "outputs": [
    {
     "data": {
      "text/html": "<div>\n<style scoped>\n    .dataframe tbody tr th:only-of-type {\n        vertical-align: middle;\n    }\n\n    .dataframe tbody tr th {\n        vertical-align: top;\n    }\n\n    .dataframe thead th {\n        text-align: right;\n    }\n</style>\n<table border=\"1\" class=\"dataframe\">\n  <thead>\n    <tr style=\"text-align: right;\">\n      <th></th>\n      <th>구별</th>\n      <th>소계</th>\n      <th>최근증가율</th>\n      <th>인구수</th>\n      <th>한국인</th>\n      <th>외국인</th>\n      <th>고령자</th>\n      <th>외국인비율</th>\n      <th>고령자비율</th>\n    </tr>\n  </thead>\n  <tbody>\n    <tr>\n      <th>0</th>\n      <td>강남구</td>\n      <td>5221</td>\n      <td>52.171379</td>\n      <td>549043</td>\n      <td>544028</td>\n      <td>5015</td>\n      <td>70029</td>\n      <td>0.913408</td>\n      <td>12.754739</td>\n    </tr>\n    <tr>\n      <th>1</th>\n      <td>강동구</td>\n      <td>1879</td>\n      <td>82.960078</td>\n      <td>430522</td>\n      <td>426219</td>\n      <td>4303</td>\n      <td>61710</td>\n      <td>0.999484</td>\n      <td>14.333762</td>\n    </tr>\n    <tr>\n      <th>2</th>\n      <td>강북구</td>\n      <td>1265</td>\n      <td>83.068017</td>\n      <td>317875</td>\n      <td>314090</td>\n      <td>3785</td>\n      <td>59808</td>\n      <td>1.190720</td>\n      <td>18.814943</td>\n    </tr>\n    <tr>\n      <th>3</th>\n      <td>강서구</td>\n      <td>1617</td>\n      <td>77.887789</td>\n      <td>600240</td>\n      <td>593708</td>\n      <td>6532</td>\n      <td>82937</td>\n      <td>1.088231</td>\n      <td>13.817306</td>\n    </tr>\n    <tr>\n      <th>4</th>\n      <td>관악구</td>\n      <td>3985</td>\n      <td>99.150425</td>\n      <td>519953</td>\n      <td>502117</td>\n      <td>17836</td>\n      <td>74518</td>\n      <td>3.430310</td>\n      <td>14.331680</td>\n    </tr>\n  </tbody>\n</table>\n</div>",
      "text/plain": "    구별    소계      최근증가율     인구수     한국인    외국인    고령자     외국인비율      고령자비율\n0  강남구  5221  52.171379  549043  544028   5015  70029  0.913408  12.754739\n1  강동구  1879  82.960078  430522  426219   4303  61710  0.999484  14.333762\n2  강북구  1265  83.068017  317875  314090   3785  59808  1.190720  18.814943\n3  강서구  1617  77.887789  600240  593708   6532  82937  1.088231  13.817306\n4  관악구  3985  99.150425  519953  502117  17836  74518  3.430310  14.331680"
     },
     "execution_count": 66,
     "metadata": {},
     "output_type": "execute_result"
    }
   ],
   "source": [
    "# 의미없는 컬럼 지우기\n",
    "# 행 방향으로 삭제하는 것은 drop이고, 열을 삭제하는 것은 del\n",
    "del data_result['2011년 이전']\n",
    "del data_result['2012년']\n",
    "del data_result['2013년']\n",
    "del data_result['2014년']\n",
    "del data_result['2015년']\n",
    "del data_result['2016년']\n",
    "del data_result['2017년']\n",
    "del data_result['2018년']\n",
    "data_result.head()"
   ]
  },
  {
   "cell_type": "code",
   "execution_count": 67,
   "metadata": {},
   "outputs": [
    {
     "data": {
      "text/html": "<div>\n<style scoped>\n    .dataframe tbody tr th:only-of-type {\n        vertical-align: middle;\n    }\n\n    .dataframe tbody tr th {\n        vertical-align: top;\n    }\n\n    .dataframe thead th {\n        text-align: right;\n    }\n</style>\n<table border=\"1\" class=\"dataframe\">\n  <thead>\n    <tr style=\"text-align: right;\">\n      <th></th>\n      <th>구별</th>\n      <th>소계</th>\n      <th>최근증가율</th>\n      <th>인구수</th>\n      <th>한국인</th>\n      <th>외국인</th>\n      <th>고령자</th>\n      <th>외국인비율</th>\n      <th>고령자비율</th>\n    </tr>\n  </thead>\n  <tbody>\n    <tr>\n      <th>0</th>\n      <td>강남구</td>\n      <td>5221</td>\n      <td>52.171379</td>\n      <td>549043</td>\n      <td>544028</td>\n      <td>5015</td>\n      <td>70029</td>\n      <td>0.913408</td>\n      <td>12.754739</td>\n    </tr>\n    <tr>\n      <th>1</th>\n      <td>강동구</td>\n      <td>1879</td>\n      <td>82.960078</td>\n      <td>430522</td>\n      <td>426219</td>\n      <td>4303</td>\n      <td>61710</td>\n      <td>0.999484</td>\n      <td>14.333762</td>\n    </tr>\n    <tr>\n      <th>2</th>\n      <td>강북구</td>\n      <td>1265</td>\n      <td>83.068017</td>\n      <td>317875</td>\n      <td>314090</td>\n      <td>3785</td>\n      <td>59808</td>\n      <td>1.190720</td>\n      <td>18.814943</td>\n    </tr>\n    <tr>\n      <th>3</th>\n      <td>강서구</td>\n      <td>1617</td>\n      <td>77.887789</td>\n      <td>600240</td>\n      <td>593708</td>\n      <td>6532</td>\n      <td>82937</td>\n      <td>1.088231</td>\n      <td>13.817306</td>\n    </tr>\n    <tr>\n      <th>4</th>\n      <td>관악구</td>\n      <td>3985</td>\n      <td>99.150425</td>\n      <td>519953</td>\n      <td>502117</td>\n      <td>17836</td>\n      <td>74518</td>\n      <td>3.430310</td>\n      <td>14.331680</td>\n    </tr>\n    <tr>\n      <th>5</th>\n      <td>광진구</td>\n      <td>1581</td>\n      <td>111.930295</td>\n      <td>368337</td>\n      <td>352692</td>\n      <td>15645</td>\n      <td>47347</td>\n      <td>4.247469</td>\n      <td>12.854261</td>\n    </tr>\n    <tr>\n      <th>6</th>\n      <td>구로구</td>\n      <td>3227</td>\n      <td>72.106667</td>\n      <td>439850</td>\n      <td>406748</td>\n      <td>33102</td>\n      <td>64952</td>\n      <td>7.525747</td>\n      <td>14.766852</td>\n    </tr>\n    <tr>\n      <th>7</th>\n      <td>금천구</td>\n      <td>1634</td>\n      <td>112.483745</td>\n      <td>252868</td>\n      <td>233371</td>\n      <td>19497</td>\n      <td>37191</td>\n      <td>7.710347</td>\n      <td>14.707674</td>\n    </tr>\n    <tr>\n      <th>8</th>\n      <td>노원구</td>\n      <td>1906</td>\n      <td>42.026826</td>\n      <td>539829</td>\n      <td>535282</td>\n      <td>4547</td>\n      <td>79968</td>\n      <td>0.842304</td>\n      <td>14.813580</td>\n    </tr>\n    <tr>\n      <th>9</th>\n      <td>도봉구</td>\n      <td>858</td>\n      <td>66.601942</td>\n      <td>337594</td>\n      <td>335280</td>\n      <td>2314</td>\n      <td>58070</td>\n      <td>0.685439</td>\n      <td>17.201135</td>\n    </tr>\n    <tr>\n      <th>10</th>\n      <td>동대문구</td>\n      <td>2003</td>\n      <td>NaN</td>\n      <td>363779</td>\n      <td>346551</td>\n      <td>17228</td>\n      <td>58764</td>\n      <td>4.735842</td>\n      <td>16.153764</td>\n    </tr>\n    <tr>\n      <th>11</th>\n      <td>동작구</td>\n      <td>1780</td>\n      <td>79.254783</td>\n      <td>410487</td>\n      <td>397618</td>\n      <td>12869</td>\n      <td>61607</td>\n      <td>3.135057</td>\n      <td>15.008271</td>\n    </tr>\n    <tr>\n      <th>12</th>\n      <td>마포구</td>\n      <td>1935</td>\n      <td>91.774034</td>\n      <td>385605</td>\n      <td>373629</td>\n      <td>11976</td>\n      <td>51961</td>\n      <td>3.105769</td>\n      <td>13.475188</td>\n    </tr>\n    <tr>\n      <th>13</th>\n      <td>서대문구</td>\n      <td>2121</td>\n      <td>71.740891</td>\n      <td>324089</td>\n      <td>310069</td>\n      <td>14020</td>\n      <td>51708</td>\n      <td>4.325972</td>\n      <td>15.954877</td>\n    </tr>\n    <tr>\n      <th>14</th>\n      <td>서초구</td>\n      <td>2835</td>\n      <td>54.076087</td>\n      <td>435258</td>\n      <td>431027</td>\n      <td>4231</td>\n      <td>56455</td>\n      <td>0.972067</td>\n      <td>12.970468</td>\n    </tr>\n    <tr>\n      <th>15</th>\n      <td>성동구</td>\n      <td>2679</td>\n      <td>114.148681</td>\n      <td>311290</td>\n      <td>303158</td>\n      <td>8132</td>\n      <td>43662</td>\n      <td>2.612355</td>\n      <td>14.026149</td>\n    </tr>\n    <tr>\n      <th>16</th>\n      <td>성북구</td>\n      <td>3003</td>\n      <td>78.008299</td>\n      <td>454114</td>\n      <td>441590</td>\n      <td>12524</td>\n      <td>70204</td>\n      <td>2.757898</td>\n      <td>15.459554</td>\n    </tr>\n    <tr>\n      <th>17</th>\n      <td>송파구</td>\n      <td>1586</td>\n      <td>62.833676</td>\n      <td>684338</td>\n      <td>677489</td>\n      <td>6849</td>\n      <td>86062</td>\n      <td>1.000821</td>\n      <td>12.575949</td>\n    </tr>\n    <tr>\n      <th>18</th>\n      <td>양천구</td>\n      <td>2775</td>\n      <td>90.198766</td>\n      <td>463931</td>\n      <td>459849</td>\n      <td>4082</td>\n      <td>60487</td>\n      <td>0.879872</td>\n      <td>13.037930</td>\n    </tr>\n    <tr>\n      <th>19</th>\n      <td>영등포구</td>\n      <td>2495</td>\n      <td>139.443378</td>\n      <td>402478</td>\n      <td>368402</td>\n      <td>34076</td>\n      <td>57350</td>\n      <td>8.466550</td>\n      <td>14.249226</td>\n    </tr>\n    <tr>\n      <th>20</th>\n      <td>용산구</td>\n      <td>2063</td>\n      <td>12.058664</td>\n      <td>244989</td>\n      <td>228830</td>\n      <td>16159</td>\n      <td>38531</td>\n      <td>6.595806</td>\n      <td>15.727645</td>\n    </tr>\n    <tr>\n      <th>21</th>\n      <td>은평구</td>\n      <td>2962</td>\n      <td>43.091787</td>\n      <td>486159</td>\n      <td>481663</td>\n      <td>4496</td>\n      <td>79957</td>\n      <td>0.924800</td>\n      <td>16.446677</td>\n    </tr>\n    <tr>\n      <th>22</th>\n      <td>종로구</td>\n      <td>1471</td>\n      <td>56.323061</td>\n      <td>162860</td>\n      <td>151767</td>\n      <td>11093</td>\n      <td>27394</td>\n      <td>6.811372</td>\n      <td>16.820582</td>\n    </tr>\n    <tr>\n      <th>23</th>\n      <td>중구</td>\n      <td>1544</td>\n      <td>145.468998</td>\n      <td>136663</td>\n      <td>126409</td>\n      <td>10254</td>\n      <td>23025</td>\n      <td>7.503128</td>\n      <td>16.848013</td>\n    </tr>\n    <tr>\n      <th>24</th>\n      <td>중랑구</td>\n      <td>1068</td>\n      <td>NaN</td>\n      <td>403776</td>\n      <td>398812</td>\n      <td>4964</td>\n      <td>64449</td>\n      <td>1.229395</td>\n      <td>15.961573</td>\n    </tr>\n  </tbody>\n</table>\n</div>",
      "text/plain": "      구별    소계       최근증가율     인구수     한국인    외국인    고령자     외국인비율      고령자비율\n0    강남구  5221   52.171379  549043  544028   5015  70029  0.913408  12.754739\n1    강동구  1879   82.960078  430522  426219   4303  61710  0.999484  14.333762\n2    강북구  1265   83.068017  317875  314090   3785  59808  1.190720  18.814943\n3    강서구  1617   77.887789  600240  593708   6532  82937  1.088231  13.817306\n4    관악구  3985   99.150425  519953  502117  17836  74518  3.430310  14.331680\n5    광진구  1581  111.930295  368337  352692  15645  47347  4.247469  12.854261\n6    구로구  3227   72.106667  439850  406748  33102  64952  7.525747  14.766852\n7    금천구  1634  112.483745  252868  233371  19497  37191  7.710347  14.707674\n8    노원구  1906   42.026826  539829  535282   4547  79968  0.842304  14.813580\n9    도봉구   858   66.601942  337594  335280   2314  58070  0.685439  17.201135\n10  동대문구  2003         NaN  363779  346551  17228  58764  4.735842  16.153764\n11   동작구  1780   79.254783  410487  397618  12869  61607  3.135057  15.008271\n12   마포구  1935   91.774034  385605  373629  11976  51961  3.105769  13.475188\n13  서대문구  2121   71.740891  324089  310069  14020  51708  4.325972  15.954877\n14   서초구  2835   54.076087  435258  431027   4231  56455  0.972067  12.970468\n15   성동구  2679  114.148681  311290  303158   8132  43662  2.612355  14.026149\n16   성북구  3003   78.008299  454114  441590  12524  70204  2.757898  15.459554\n17   송파구  1586   62.833676  684338  677489   6849  86062  1.000821  12.575949\n18   양천구  2775   90.198766  463931  459849   4082  60487  0.879872  13.037930\n19  영등포구  2495  139.443378  402478  368402  34076  57350  8.466550  14.249226\n20   용산구  2063   12.058664  244989  228830  16159  38531  6.595806  15.727645\n21   은평구  2962   43.091787  486159  481663   4496  79957  0.924800  16.446677\n22   종로구  1471   56.323061  162860  151767  11093  27394  6.811372  16.820582\n23    중구  1544  145.468998  136663  126409  10254  23025  7.503128  16.848013\n24   중랑구  1068         NaN  403776  398812   4964  64449  1.229395  15.961573"
     },
     "execution_count": 67,
     "metadata": {},
     "output_type": "execute_result"
    }
   ],
   "source": [
    "data_result"
   ]
  },
  {
   "cell_type": "code",
   "execution_count": 68,
   "metadata": {},
   "outputs": [
    {
     "data": {
      "text/html": "<div>\n<style scoped>\n    .dataframe tbody tr th:only-of-type {\n        vertical-align: middle;\n    }\n\n    .dataframe tbody tr th {\n        vertical-align: top;\n    }\n\n    .dataframe thead th {\n        text-align: right;\n    }\n</style>\n<table border=\"1\" class=\"dataframe\">\n  <thead>\n    <tr style=\"text-align: right;\">\n      <th></th>\n      <th>소계</th>\n      <th>최근증가율</th>\n      <th>인구수</th>\n      <th>한국인</th>\n      <th>외국인</th>\n      <th>고령자</th>\n      <th>외국인비율</th>\n      <th>고령자비율</th>\n    </tr>\n    <tr>\n      <th>구별</th>\n      <th></th>\n      <th></th>\n      <th></th>\n      <th></th>\n      <th></th>\n      <th></th>\n      <th></th>\n      <th></th>\n    </tr>\n  </thead>\n  <tbody>\n    <tr>\n      <th>강남구</th>\n      <td>5221</td>\n      <td>52.171379</td>\n      <td>549043</td>\n      <td>544028</td>\n      <td>5015</td>\n      <td>70029</td>\n      <td>0.913408</td>\n      <td>12.754739</td>\n    </tr>\n    <tr>\n      <th>강동구</th>\n      <td>1879</td>\n      <td>82.960078</td>\n      <td>430522</td>\n      <td>426219</td>\n      <td>4303</td>\n      <td>61710</td>\n      <td>0.999484</td>\n      <td>14.333762</td>\n    </tr>\n    <tr>\n      <th>강북구</th>\n      <td>1265</td>\n      <td>83.068017</td>\n      <td>317875</td>\n      <td>314090</td>\n      <td>3785</td>\n      <td>59808</td>\n      <td>1.190720</td>\n      <td>18.814943</td>\n    </tr>\n    <tr>\n      <th>강서구</th>\n      <td>1617</td>\n      <td>77.887789</td>\n      <td>600240</td>\n      <td>593708</td>\n      <td>6532</td>\n      <td>82937</td>\n      <td>1.088231</td>\n      <td>13.817306</td>\n    </tr>\n    <tr>\n      <th>관악구</th>\n      <td>3985</td>\n      <td>99.150425</td>\n      <td>519953</td>\n      <td>502117</td>\n      <td>17836</td>\n      <td>74518</td>\n      <td>3.430310</td>\n      <td>14.331680</td>\n    </tr>\n  </tbody>\n</table>\n</div>",
      "text/plain": "       소계      최근증가율     인구수     한국인    외국인    고령자     외국인비율      고령자비율\n구별                                                                     \n강남구  5221  52.171379  549043  544028   5015  70029  0.913408  12.754739\n강동구  1879  82.960078  430522  426219   4303  61710  0.999484  14.333762\n강북구  1265  83.068017  317875  314090   3785  59808  1.190720  18.814943\n강서구  1617  77.887789  600240  593708   6532  82937  1.088231  13.817306\n관악구  3985  99.150425  519953  502117  17836  74518  3.430310  14.331680"
     },
     "execution_count": 68,
     "metadata": {},
     "output_type": "execute_result"
    }
   ],
   "source": [
    "# index 이름이 구 이름이 되도록 설정 : set_index\n",
    "data_result.set_index('구별', inplace=True)\n",
    "data_result.head()"
   ]
  },
  {
   "cell_type": "code",
   "execution_count": 69,
   "metadata": {},
   "outputs": [
    {
     "data": {
      "text/plain": "array([[ 1.        , -0.43001097],\n       [-0.43001097,  1.        ]])"
     },
     "execution_count": 69,
     "metadata": {},
     "output_type": "execute_result"
    }
   ],
   "source": [
    "# 상관계수 : numpy에 있는 corrcoef\n",
    "# 상관계수의 절대값이 클수록 두 데이터는 관계가 있다고 볼 수 있다.\n",
    "# 상관계수의 절대값이 0.1 이하면 거의 무시, 0.3 이하면 약한 상관관계, 0.7 이하면 뚜렷한 상관관계\n",
    "\n",
    "import numpy as np\n",
    "np.corrcoef(data_result['고령자비율'], data_result['소계'])\n",
    "\n",
    "# cctv 개수와 고령자비율은 약한 음의 상관계수"
   ]
  },
  {
   "cell_type": "code",
   "execution_count": 70,
   "metadata": {},
   "outputs": [
    {
     "data": {
      "text/plain": "array([[ 1.        , -0.05979119],\n       [-0.05979119,  1.        ]])"
     },
     "execution_count": 70,
     "metadata": {},
     "output_type": "execute_result"
    }
   ],
   "source": [
    "np.corrcoef(data_result['외국인비율'], data_result['소계'])\n",
    "\n",
    "# cctv 개수와 외국인비율은 큰 의미가 없다."
   ]
  },
  {
   "cell_type": "code",
   "execution_count": 71,
   "metadata": {},
   "outputs": [
    {
     "data": {
      "text/plain": "array([[1.      , 0.379213],\n       [0.379213, 1.      ]])"
     },
     "execution_count": 71,
     "metadata": {},
     "output_type": "execute_result"
    }
   ],
   "source": [
    "np.corrcoef(data_result['인구수'], data_result['소계'])\n",
    "\n",
    "# cctv 개수와 인구수는 약한 상관관계**"
   ]
  },
  {
   "cell_type": "code",
   "execution_count": 72,
   "metadata": {},
   "outputs": [
    {
     "data": {
      "text/html": "<div>\n<style scoped>\n    .dataframe tbody tr th:only-of-type {\n        vertical-align: middle;\n    }\n\n    .dataframe tbody tr th {\n        vertical-align: top;\n    }\n\n    .dataframe thead th {\n        text-align: right;\n    }\n</style>\n<table border=\"1\" class=\"dataframe\">\n  <thead>\n    <tr style=\"text-align: right;\">\n      <th></th>\n      <th>소계</th>\n      <th>최근증가율</th>\n      <th>인구수</th>\n      <th>한국인</th>\n      <th>외국인</th>\n      <th>고령자</th>\n      <th>외국인비율</th>\n      <th>고령자비율</th>\n    </tr>\n    <tr>\n      <th>구별</th>\n      <th></th>\n      <th></th>\n      <th></th>\n      <th></th>\n      <th></th>\n      <th></th>\n      <th></th>\n      <th></th>\n    </tr>\n  </thead>\n  <tbody>\n    <tr>\n      <th>강남구</th>\n      <td>5221</td>\n      <td>52.171379</td>\n      <td>549043</td>\n      <td>544028</td>\n      <td>5015</td>\n      <td>70029</td>\n      <td>0.913408</td>\n      <td>12.754739</td>\n    </tr>\n    <tr>\n      <th>관악구</th>\n      <td>3985</td>\n      <td>99.150425</td>\n      <td>519953</td>\n      <td>502117</td>\n      <td>17836</td>\n      <td>74518</td>\n      <td>3.430310</td>\n      <td>14.331680</td>\n    </tr>\n    <tr>\n      <th>구로구</th>\n      <td>3227</td>\n      <td>72.106667</td>\n      <td>439850</td>\n      <td>406748</td>\n      <td>33102</td>\n      <td>64952</td>\n      <td>7.525747</td>\n      <td>14.766852</td>\n    </tr>\n    <tr>\n      <th>성북구</th>\n      <td>3003</td>\n      <td>78.008299</td>\n      <td>454114</td>\n      <td>441590</td>\n      <td>12524</td>\n      <td>70204</td>\n      <td>2.757898</td>\n      <td>15.459554</td>\n    </tr>\n    <tr>\n      <th>은평구</th>\n      <td>2962</td>\n      <td>43.091787</td>\n      <td>486159</td>\n      <td>481663</td>\n      <td>4496</td>\n      <td>79957</td>\n      <td>0.924800</td>\n      <td>16.446677</td>\n    </tr>\n  </tbody>\n</table>\n</div>",
      "text/plain": "       소계      최근증가율     인구수     한국인    외국인    고령자     외국인비율      고령자비율\n구별                                                                     \n강남구  5221  52.171379  549043  544028   5015  70029  0.913408  12.754739\n관악구  3985  99.150425  519953  502117  17836  74518  3.430310  14.331680\n구로구  3227  72.106667  439850  406748  33102  64952  7.525747  14.766852\n성북구  3003  78.008299  454114  441590  12524  70204  2.757898  15.459554\n은평구  2962  43.091787  486159  481663   4496  79957  0.924800  16.446677"
     },
     "execution_count": 72,
     "metadata": {},
     "output_type": "execute_result"
    }
   ],
   "source": [
    "# cctv가 많이 설치된 구\n",
    "data_result.sort_values(by='소계', ascending=False).head()"
   ]
  },
  {
   "cell_type": "code",
   "execution_count": 73,
   "metadata": {},
   "outputs": [
    {
     "data": {
      "text/html": "<div>\n<style scoped>\n    .dataframe tbody tr th:only-of-type {\n        vertical-align: middle;\n    }\n\n    .dataframe tbody tr th {\n        vertical-align: top;\n    }\n\n    .dataframe thead th {\n        text-align: right;\n    }\n</style>\n<table border=\"1\" class=\"dataframe\">\n  <thead>\n    <tr style=\"text-align: right;\">\n      <th></th>\n      <th>소계</th>\n      <th>최근증가율</th>\n      <th>인구수</th>\n      <th>한국인</th>\n      <th>외국인</th>\n      <th>고령자</th>\n      <th>외국인비율</th>\n      <th>고령자비율</th>\n    </tr>\n    <tr>\n      <th>구별</th>\n      <th></th>\n      <th></th>\n      <th></th>\n      <th></th>\n      <th></th>\n      <th></th>\n      <th></th>\n      <th></th>\n    </tr>\n  </thead>\n  <tbody>\n    <tr>\n      <th>송파구</th>\n      <td>1586</td>\n      <td>62.833676</td>\n      <td>684338</td>\n      <td>677489</td>\n      <td>6849</td>\n      <td>86062</td>\n      <td>1.000821</td>\n      <td>12.575949</td>\n    </tr>\n    <tr>\n      <th>강서구</th>\n      <td>1617</td>\n      <td>77.887789</td>\n      <td>600240</td>\n      <td>593708</td>\n      <td>6532</td>\n      <td>82937</td>\n      <td>1.088231</td>\n      <td>13.817306</td>\n    </tr>\n    <tr>\n      <th>강남구</th>\n      <td>5221</td>\n      <td>52.171379</td>\n      <td>549043</td>\n      <td>544028</td>\n      <td>5015</td>\n      <td>70029</td>\n      <td>0.913408</td>\n      <td>12.754739</td>\n    </tr>\n    <tr>\n      <th>노원구</th>\n      <td>1906</td>\n      <td>42.026826</td>\n      <td>539829</td>\n      <td>535282</td>\n      <td>4547</td>\n      <td>79968</td>\n      <td>0.842304</td>\n      <td>14.813580</td>\n    </tr>\n    <tr>\n      <th>관악구</th>\n      <td>3985</td>\n      <td>99.150425</td>\n      <td>519953</td>\n      <td>502117</td>\n      <td>17836</td>\n      <td>74518</td>\n      <td>3.430310</td>\n      <td>14.331680</td>\n    </tr>\n  </tbody>\n</table>\n</div>",
      "text/plain": "       소계      최근증가율     인구수     한국인    외국인    고령자     외국인비율      고령자비율\n구별                                                                     \n송파구  1586  62.833676  684338  677489   6849  86062  1.000821  12.575949\n강서구  1617  77.887789  600240  593708   6532  82937  1.088231  13.817306\n강남구  5221  52.171379  549043  544028   5015  70029  0.913408  12.754739\n노원구  1906  42.026826  539829  535282   4547  79968  0.842304  14.813580\n관악구  3985  99.150425  519953  502117  17836  74518  3.430310  14.331680"
     },
     "execution_count": 73,
     "metadata": {},
     "output_type": "execute_result"
    }
   ],
   "source": [
    "# 인구수가 많은 구\n",
    "data_result.sort_values(by='인구수', ascending=False).head()"
   ]
  },
  {
   "cell_type": "markdown",
   "execution_count": null,
   "metadata": {},
   "outputs": [],
   "source": [
    "## 4. CCTV 현황 그래프로 분석하기"
   ]
  },
  {
   "cell_type": "code",
   "execution_count": null,
   "metadata": {},
   "outputs": [],
   "source": []
  },
  {
   "cell_type": "code",
   "execution_count": null,
   "metadata": {},
   "outputs": [],
   "source": []
  },
  {
   "cell_type": "code",
   "execution_count": null,
   "metadata": {},
   "outputs": [],
   "source": []
  },
  {
   "cell_type": "code",
   "execution_count": null,
   "metadata": {},
   "outputs": [],
   "source": []
  },
  {
   "cell_type": "code",
   "execution_count": null,
   "metadata": {},
   "outputs": [],
   "source": []
  },
  {
   "cell_type": "code",
   "execution_count": null,
   "metadata": {},
   "outputs": [],
   "source": []
  },
  {
   "cell_type": "code",
   "execution_count": null,
   "metadata": {},
   "outputs": [],
   "source": []
  },
  {
   "cell_type": "code",
   "execution_count": null,
   "metadata": {},
   "outputs": [],
   "source": []
  },
  {
   "cell_type": "code",
   "execution_count": null,
   "metadata": {},
   "outputs": [],
   "source": []
  },
  {
   "cell_type": "code",
   "execution_count": null,
   "metadata": {},
   "outputs": [],
   "source": []
  },
  {
   "cell_type": "code",
   "execution_count": null,
   "metadata": {},
   "outputs": [],
   "source": []
  },
  {
   "cell_type": "code",
   "execution_count": null,
   "metadata": {},
   "outputs": [],
   "source": []
  }
 ]
}