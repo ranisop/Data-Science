{
 "nbformat": 4,
 "nbformat_minor": 2,
 "metadata": {
  "language_info": {
   "name": "python",
   "codemirror_mode": {
    "name": "ipython",
    "version": 3
   },
   "version": "3.7.3-final"
  },
  "orig_nbformat": 2,
  "file_extension": ".py",
  "mimetype": "text/x-python",
  "name": "python",
  "npconvert_exporter": "python",
  "pygments_lexer": "ipython3",
  "version": 3,
  "kernelspec": {
   "name": "python37364bitbaseconda3a3cc25609b14e9b8eb568e130baf197",
   "display_name": "Python 3.7.3 64-bit ('base': conda)"
  }
 },
 "cells": [
  {
   "cell_type": "markdown",
   "metadata": {},
   "source": [
    "# 6. 19대 대선 결과 분석"
   ]
  },
  {
   "cell_type": "markdown",
   "metadata": {},
   "source": [
    "## 1. Selenium과 Beautiful Soup을 이용한 데이터 획득 준비 작업"
   ]
  },
  {
   "cell_type": "code",
   "execution_count": 17,
   "metadata": {},
   "outputs": [],
   "source": [
    "import pandas as pd\n",
    "import numpy as np\n",
    "import platform\n",
    "import matplotlib.pyplot as plt \n",
    "%matplotlib inline"
   ]
  },
  {
   "cell_type": "code",
   "execution_count": 18,
   "metadata": {},
   "outputs": [],
   "source": [
    "import platform\n",
    "from matplotlib import font_manager, rc\n",
    "\n",
    "plt.rcParams['axes.unicode_minus'] = False\n",
    "\n",
    "if platform.system() == 'Darwin':\n",
    "    rc('font', family='AppleGothic')\n",
    "else:\n",
    "    print('Unknown System..')"
   ]
  },
  {
   "cell_type": "code",
   "execution_count": 19,
   "metadata": {},
   "outputs": [],
   "source": [
    "from selenium import webdriver\n",
    "import time"
   ]
  },
  {
   "cell_type": "code",
   "execution_count": 20,
   "metadata": {},
   "outputs": [],
   "source": [
    "driver = webdriver.Chrome('../driver/chromedriver')\n",
    "driver.get(\"http://info.nec.go.kr/main/showDocument.xhtml?electionId=0000000000&topMenuId=VC&secondMenuId=VCCP09\")"
   ]
  },
  {
   "cell_type": "code",
   "execution_count": 21,
   "metadata": {},
   "outputs": [],
   "source": [
    "driver.find_element_by_id('electionType1').click()"
   ]
  },
  {
   "cell_type": "code",
   "execution_count": 22,
   "metadata": {},
   "outputs": [],
   "source": [
    "driver.find_element_by_id('electionName').send_keys('제19대')"
   ]
  },
  {
   "cell_type": "code",
   "execution_count": 23,
   "metadata": {},
   "outputs": [],
   "source": [
    "driver.find_element_by_id('electionCode').send_keys('대통령선거')"
   ]
  },
  {
   "cell_type": "code",
   "execution_count": 31,
   "metadata": {},
   "outputs": [
    {
     "output_type": "execute_result",
     "data": {
      "text/plain": "['서울특별시',\n '부산광역시',\n '대구광역시',\n '인천광역시',\n '광주광역시',\n '대전광역시',\n '울산광역시',\n '세종특별자치시',\n '경기도',\n '강원도',\n '충청북도',\n '충청남도',\n '전라북도',\n '전라남도',\n '경상북도',\n '경상남도',\n '제주특별자치도']"
     },
     "metadata": {},
     "execution_count": 31
    }
   ],
   "source": [
    "sido_list_raw = driver.find_element_by_xpath(\"\"\"//*[@id=\"cityCode\"]\"\"\")\n",
    "sido_list = sido_list_raw.find_elements_by_tag_name('option')\n",
    "sido_names_values = [option.text for option in sido_list]\n",
    "sido_names_values = sido_names_values[2:]\n",
    "sido_names_values"
   ]
  },
  {
   "cell_type": "markdown",
   "metadata": {},
   "source": [
    "## 2. 19대 대선 개표 결과 데이터 획득하기"
   ]
  },
  {
   "cell_type": "code",
   "execution_count": 32,
   "metadata": {},
   "outputs": [],
   "source": [
    "# '득표수(득표율)'에서 '(' 기준으로 왼쪽 숫자만 얻어서 콤마 제거하고 float형으로 변경하는 함수\n",
    "import re\n",
    "def get_num(tmp):\n",
    "    return float(re.split('\\(', tmp)[0].replace(',',''))"
   ]
  },
  {
   "cell_type": "code",
   "execution_count": 33,
   "metadata": {},
   "outputs": [],
   "source": [
    "from selenium.webdriver.common.by import By\n",
    "from selenium.webdriver.support.ui import WebDriverWait\n",
    "from selenium.webdriver.support import expected_conditions as EC \n",
    "\n",
    "wait = WebDriverWait(driver, 10)\n",
    "\n",
    "# move_sido 함수는 광역시도 이름을 리스트에 전송하고 검색 버튼을 누르는 역할\n",
    "def move_sido(name):\n",
    "    element = driver.find_element_by_id('cityCode')\n",
    "    element.send_keys(name)\n",
    "    make_xpath = \"\"\"//*[@id=\"searchBtn\"]\"\"\"\n",
    "    wait.until(EC.element_to_be_clickable((By.XPATH, make_xpath)))\n",
    "    driver.find_element_by_xpath(make_xpath).click()"
   ]
  },
  {
   "cell_type": "code",
   "execution_count": 41,
   "metadata": {},
   "outputs": [],
   "source": [
    "# append_data 함수는 빈 내용을 미리 준비한 DataFrame에 append 명령으로 읽은 데이터를 하나씩 추가하는 기능\n",
    "def append_data(df, sido_name, data):\n",
    "    for each in df[0].values[1:]:\n",
    "        data['광역시도'].append(sido_name)\n",
    "        data['시군'].append(each[0])\n",
    "        data['pop'].append(each[2])\n",
    "        data['moon'].append(get_num(each[3]))\n",
    "        data['hong'].append(get_num(each[4]))\n",
    "        data['ahn'].append(get_num(each[5]))"
   ]
  },
  {
   "cell_type": "code",
   "execution_count": 44,
   "metadata": {},
   "outputs": [],
   "source": [
    "# 미리 변수를 하나 만든다\n",
    "election_result_raw = {\n",
    "    '광역시도' : [],\n",
    "    '시군' : [],\n",
    "    'pop' : [],\n",
    "    'moon' : [],\n",
    "    'hong' : [],\n",
    "    'ahn' : []\n",
    "}"
   ]
  },
  {
   "cell_type": "code",
   "execution_count": 45,
   "metadata": {},
   "outputs": [],
   "source": [
    "# html 태그 중 table로 되어 있는 부분을 Beautiful Soup으로 읽어서 pandas의 read_html로 읽는다.\n",
    "from bs4 import BeautifulSoup\n",
    "\n",
    "for each_sido in sido_names_values:\n",
    "    move_sido(each_sido)\n",
    "    html = driver.page_source\n",
    "    soup = BeautifulSoup(html, 'html.parser')\n",
    "    table = soup.find('table')\n",
    "    df = pd.read_html(str(table))\n",
    "    append_data(df, each_sido, election_result_raw)"
   ]
  },
  {
   "cell_type": "code",
   "execution_count": 46,
   "metadata": {},
   "outputs": [
    {
     "output_type": "execute_result",
     "data": {
      "text/plain": "        광역시도    시군     pop      moon     hong      ahn\n0      서울특별시   종로구  102566   42512.0  22325.0  22313.0\n1      서울특별시    중구   82852   34062.0  17901.0  19372.0\n2      서울특별시   용산구  148157   58081.0  35230.0  32109.0\n3      서울특별시   성동구  203175   86686.0  40566.0  45674.0\n4      서울특별시   광진구  240030  105512.0  46368.0  52824.0\n5      서울특별시  동대문구  236092   98958.0  51631.0  53359.0\n6      서울특별시   중랑구  265706  111450.0  56545.0  62778.0\n7      서울특별시   성북구  295866  129263.0  57584.0  66518.0\n8      서울특별시   강북구  210614   89645.0  42268.0  51669.0\n9      서울특별시   도봉구  229233   94898.0  47461.0  55600.0\n10     서울특별시   노원구  374213  158167.0  67590.0  96325.0\n11     서울특별시   은평구  317275  140180.0  60109.0  72582.0\n12     서울특별시  서대문구  212076   93768.0  40513.0  46237.0\n13     서울특별시   마포구  256992  117336.0  46547.0  52545.0\n14     서울특별시   양천구  310886  133853.0  60814.0  71816.0\n15     서울특별시   강서구  397108  175882.0  76601.0  88128.0\n16     서울특별시   구로구  278805  121077.0  59194.0  61734.0\n17     서울특별시   금천구  155010   67423.0  31106.0  36695.0\n18     서울특별시  영등포구  248833  105834.0  53615.0  53994.0\n19     서울특별시   동작구  276685  121722.0  54431.0  60305.0\n20     서울특별시   관악구  351240  159854.0  59914.0  79495.0\n21     서울특별시   서초구  292916  106416.0  74891.0  63977.0\n22     서울특별시   강남구  365642  128927.0  97639.0  80201.0\n23     서울특별시   송파구  441198  177328.0  98549.0  99018.0\n24     서울특별시   강동구  297476  122511.0  65893.0  67499.0\n25     부산광역시   종로구  102566   42512.0  22325.0  22313.0\n26     부산광역시    중구   82852   34062.0  17901.0  19372.0\n27     부산광역시   용산구  148157   58081.0  35230.0  32109.0\n28     부산광역시   성동구  203175   86686.0  40566.0  45674.0\n29     부산광역시   광진구  240030  105512.0  46368.0  52824.0\n..       ...   ...     ...       ...      ...      ...\n395     경상남도   관악구  351240  159854.0  59914.0  79495.0\n396     경상남도   서초구  292916  106416.0  74891.0  63977.0\n397     경상남도   강남구  365642  128927.0  97639.0  80201.0\n398     경상남도   송파구  441198  177328.0  98549.0  99018.0\n399     경상남도   강동구  297476  122511.0  65893.0  67499.0\n400  제주특별자치도   종로구  102566   42512.0  22325.0  22313.0\n401  제주특별자치도    중구   82852   34062.0  17901.0  19372.0\n402  제주특별자치도   용산구  148157   58081.0  35230.0  32109.0\n403  제주특별자치도   성동구  203175   86686.0  40566.0  45674.0\n404  제주특별자치도   광진구  240030  105512.0  46368.0  52824.0\n405  제주특별자치도  동대문구  236092   98958.0  51631.0  53359.0\n406  제주특별자치도   중랑구  265706  111450.0  56545.0  62778.0\n407  제주특별자치도   성북구  295866  129263.0  57584.0  66518.0\n408  제주특별자치도   강북구  210614   89645.0  42268.0  51669.0\n409  제주특별자치도   도봉구  229233   94898.0  47461.0  55600.0\n410  제주특별자치도   노원구  374213  158167.0  67590.0  96325.0\n411  제주특별자치도   은평구  317275  140180.0  60109.0  72582.0\n412  제주특별자치도  서대문구  212076   93768.0  40513.0  46237.0\n413  제주특별자치도   마포구  256992  117336.0  46547.0  52545.0\n414  제주특별자치도   양천구  310886  133853.0  60814.0  71816.0\n415  제주특별자치도   강서구  397108  175882.0  76601.0  88128.0\n416  제주특별자치도   구로구  278805  121077.0  59194.0  61734.0\n417  제주특별자치도   금천구  155010   67423.0  31106.0  36695.0\n418  제주특별자치도  영등포구  248833  105834.0  53615.0  53994.0\n419  제주특별자치도   동작구  276685  121722.0  54431.0  60305.0\n420  제주특별자치도   관악구  351240  159854.0  59914.0  79495.0\n421  제주특별자치도   서초구  292916  106416.0  74891.0  63977.0\n422  제주특별자치도   강남구  365642  128927.0  97639.0  80201.0\n423  제주특별자치도   송파구  441198  177328.0  98549.0  99018.0\n424  제주특별자치도   강동구  297476  122511.0  65893.0  67499.0\n\n[425 rows x 6 columns]",
      "text/html": "<div>\n<style scoped>\n    .dataframe tbody tr th:only-of-type {\n        vertical-align: middle;\n    }\n\n    .dataframe tbody tr th {\n        vertical-align: top;\n    }\n\n    .dataframe thead th {\n        text-align: right;\n    }\n</style>\n<table border=\"1\" class=\"dataframe\">\n  <thead>\n    <tr style=\"text-align: right;\">\n      <th></th>\n      <th>광역시도</th>\n      <th>시군</th>\n      <th>pop</th>\n      <th>moon</th>\n      <th>hong</th>\n      <th>ahn</th>\n    </tr>\n  </thead>\n  <tbody>\n    <tr>\n      <th>0</th>\n      <td>서울특별시</td>\n      <td>종로구</td>\n      <td>102566</td>\n      <td>42512.0</td>\n      <td>22325.0</td>\n      <td>22313.0</td>\n    </tr>\n    <tr>\n      <th>1</th>\n      <td>서울특별시</td>\n      <td>중구</td>\n      <td>82852</td>\n      <td>34062.0</td>\n      <td>17901.0</td>\n      <td>19372.0</td>\n    </tr>\n    <tr>\n      <th>2</th>\n      <td>서울특별시</td>\n      <td>용산구</td>\n      <td>148157</td>\n      <td>58081.0</td>\n      <td>35230.0</td>\n      <td>32109.0</td>\n    </tr>\n    <tr>\n      <th>3</th>\n      <td>서울특별시</td>\n      <td>성동구</td>\n      <td>203175</td>\n      <td>86686.0</td>\n      <td>40566.0</td>\n      <td>45674.0</td>\n    </tr>\n    <tr>\n      <th>4</th>\n      <td>서울특별시</td>\n      <td>광진구</td>\n      <td>240030</td>\n      <td>105512.0</td>\n      <td>46368.0</td>\n      <td>52824.0</td>\n    </tr>\n    <tr>\n      <th>5</th>\n      <td>서울특별시</td>\n      <td>동대문구</td>\n      <td>236092</td>\n      <td>98958.0</td>\n      <td>51631.0</td>\n      <td>53359.0</td>\n    </tr>\n    <tr>\n      <th>6</th>\n      <td>서울특별시</td>\n      <td>중랑구</td>\n      <td>265706</td>\n      <td>111450.0</td>\n      <td>56545.0</td>\n      <td>62778.0</td>\n    </tr>\n    <tr>\n      <th>7</th>\n      <td>서울특별시</td>\n      <td>성북구</td>\n      <td>295866</td>\n      <td>129263.0</td>\n      <td>57584.0</td>\n      <td>66518.0</td>\n    </tr>\n    <tr>\n      <th>8</th>\n      <td>서울특별시</td>\n      <td>강북구</td>\n      <td>210614</td>\n      <td>89645.0</td>\n      <td>42268.0</td>\n      <td>51669.0</td>\n    </tr>\n    <tr>\n      <th>9</th>\n      <td>서울특별시</td>\n      <td>도봉구</td>\n      <td>229233</td>\n      <td>94898.0</td>\n      <td>47461.0</td>\n      <td>55600.0</td>\n    </tr>\n    <tr>\n      <th>10</th>\n      <td>서울특별시</td>\n      <td>노원구</td>\n      <td>374213</td>\n      <td>158167.0</td>\n      <td>67590.0</td>\n      <td>96325.0</td>\n    </tr>\n    <tr>\n      <th>11</th>\n      <td>서울특별시</td>\n      <td>은평구</td>\n      <td>317275</td>\n      <td>140180.0</td>\n      <td>60109.0</td>\n      <td>72582.0</td>\n    </tr>\n    <tr>\n      <th>12</th>\n      <td>서울특별시</td>\n      <td>서대문구</td>\n      <td>212076</td>\n      <td>93768.0</td>\n      <td>40513.0</td>\n      <td>46237.0</td>\n    </tr>\n    <tr>\n      <th>13</th>\n      <td>서울특별시</td>\n      <td>마포구</td>\n      <td>256992</td>\n      <td>117336.0</td>\n      <td>46547.0</td>\n      <td>52545.0</td>\n    </tr>\n    <tr>\n      <th>14</th>\n      <td>서울특별시</td>\n      <td>양천구</td>\n      <td>310886</td>\n      <td>133853.0</td>\n      <td>60814.0</td>\n      <td>71816.0</td>\n    </tr>\n    <tr>\n      <th>15</th>\n      <td>서울특별시</td>\n      <td>강서구</td>\n      <td>397108</td>\n      <td>175882.0</td>\n      <td>76601.0</td>\n      <td>88128.0</td>\n    </tr>\n    <tr>\n      <th>16</th>\n      <td>서울특별시</td>\n      <td>구로구</td>\n      <td>278805</td>\n      <td>121077.0</td>\n      <td>59194.0</td>\n      <td>61734.0</td>\n    </tr>\n    <tr>\n      <th>17</th>\n      <td>서울특별시</td>\n      <td>금천구</td>\n      <td>155010</td>\n      <td>67423.0</td>\n      <td>31106.0</td>\n      <td>36695.0</td>\n    </tr>\n    <tr>\n      <th>18</th>\n      <td>서울특별시</td>\n      <td>영등포구</td>\n      <td>248833</td>\n      <td>105834.0</td>\n      <td>53615.0</td>\n      <td>53994.0</td>\n    </tr>\n    <tr>\n      <th>19</th>\n      <td>서울특별시</td>\n      <td>동작구</td>\n      <td>276685</td>\n      <td>121722.0</td>\n      <td>54431.0</td>\n      <td>60305.0</td>\n    </tr>\n    <tr>\n      <th>20</th>\n      <td>서울특별시</td>\n      <td>관악구</td>\n      <td>351240</td>\n      <td>159854.0</td>\n      <td>59914.0</td>\n      <td>79495.0</td>\n    </tr>\n    <tr>\n      <th>21</th>\n      <td>서울특별시</td>\n      <td>서초구</td>\n      <td>292916</td>\n      <td>106416.0</td>\n      <td>74891.0</td>\n      <td>63977.0</td>\n    </tr>\n    <tr>\n      <th>22</th>\n      <td>서울특별시</td>\n      <td>강남구</td>\n      <td>365642</td>\n      <td>128927.0</td>\n      <td>97639.0</td>\n      <td>80201.0</td>\n    </tr>\n    <tr>\n      <th>23</th>\n      <td>서울특별시</td>\n      <td>송파구</td>\n      <td>441198</td>\n      <td>177328.0</td>\n      <td>98549.0</td>\n      <td>99018.0</td>\n    </tr>\n    <tr>\n      <th>24</th>\n      <td>서울특별시</td>\n      <td>강동구</td>\n      <td>297476</td>\n      <td>122511.0</td>\n      <td>65893.0</td>\n      <td>67499.0</td>\n    </tr>\n    <tr>\n      <th>25</th>\n      <td>부산광역시</td>\n      <td>종로구</td>\n      <td>102566</td>\n      <td>42512.0</td>\n      <td>22325.0</td>\n      <td>22313.0</td>\n    </tr>\n    <tr>\n      <th>26</th>\n      <td>부산광역시</td>\n      <td>중구</td>\n      <td>82852</td>\n      <td>34062.0</td>\n      <td>17901.0</td>\n      <td>19372.0</td>\n    </tr>\n    <tr>\n      <th>27</th>\n      <td>부산광역시</td>\n      <td>용산구</td>\n      <td>148157</td>\n      <td>58081.0</td>\n      <td>35230.0</td>\n      <td>32109.0</td>\n    </tr>\n    <tr>\n      <th>28</th>\n      <td>부산광역시</td>\n      <td>성동구</td>\n      <td>203175</td>\n      <td>86686.0</td>\n      <td>40566.0</td>\n      <td>45674.0</td>\n    </tr>\n    <tr>\n      <th>29</th>\n      <td>부산광역시</td>\n      <td>광진구</td>\n      <td>240030</td>\n      <td>105512.0</td>\n      <td>46368.0</td>\n      <td>52824.0</td>\n    </tr>\n    <tr>\n      <th>...</th>\n      <td>...</td>\n      <td>...</td>\n      <td>...</td>\n      <td>...</td>\n      <td>...</td>\n      <td>...</td>\n    </tr>\n    <tr>\n      <th>395</th>\n      <td>경상남도</td>\n      <td>관악구</td>\n      <td>351240</td>\n      <td>159854.0</td>\n      <td>59914.0</td>\n      <td>79495.0</td>\n    </tr>\n    <tr>\n      <th>396</th>\n      <td>경상남도</td>\n      <td>서초구</td>\n      <td>292916</td>\n      <td>106416.0</td>\n      <td>74891.0</td>\n      <td>63977.0</td>\n    </tr>\n    <tr>\n      <th>397</th>\n      <td>경상남도</td>\n      <td>강남구</td>\n      <td>365642</td>\n      <td>128927.0</td>\n      <td>97639.0</td>\n      <td>80201.0</td>\n    </tr>\n    <tr>\n      <th>398</th>\n      <td>경상남도</td>\n      <td>송파구</td>\n      <td>441198</td>\n      <td>177328.0</td>\n      <td>98549.0</td>\n      <td>99018.0</td>\n    </tr>\n    <tr>\n      <th>399</th>\n      <td>경상남도</td>\n      <td>강동구</td>\n      <td>297476</td>\n      <td>122511.0</td>\n      <td>65893.0</td>\n      <td>67499.0</td>\n    </tr>\n    <tr>\n      <th>400</th>\n      <td>제주특별자치도</td>\n      <td>종로구</td>\n      <td>102566</td>\n      <td>42512.0</td>\n      <td>22325.0</td>\n      <td>22313.0</td>\n    </tr>\n    <tr>\n      <th>401</th>\n      <td>제주특별자치도</td>\n      <td>중구</td>\n      <td>82852</td>\n      <td>34062.0</td>\n      <td>17901.0</td>\n      <td>19372.0</td>\n    </tr>\n    <tr>\n      <th>402</th>\n      <td>제주특별자치도</td>\n      <td>용산구</td>\n      <td>148157</td>\n      <td>58081.0</td>\n      <td>35230.0</td>\n      <td>32109.0</td>\n    </tr>\n    <tr>\n      <th>403</th>\n      <td>제주특별자치도</td>\n      <td>성동구</td>\n      <td>203175</td>\n      <td>86686.0</td>\n      <td>40566.0</td>\n      <td>45674.0</td>\n    </tr>\n    <tr>\n      <th>404</th>\n      <td>제주특별자치도</td>\n      <td>광진구</td>\n      <td>240030</td>\n      <td>105512.0</td>\n      <td>46368.0</td>\n      <td>52824.0</td>\n    </tr>\n    <tr>\n      <th>405</th>\n      <td>제주특별자치도</td>\n      <td>동대문구</td>\n      <td>236092</td>\n      <td>98958.0</td>\n      <td>51631.0</td>\n      <td>53359.0</td>\n    </tr>\n    <tr>\n      <th>406</th>\n      <td>제주특별자치도</td>\n      <td>중랑구</td>\n      <td>265706</td>\n      <td>111450.0</td>\n      <td>56545.0</td>\n      <td>62778.0</td>\n    </tr>\n    <tr>\n      <th>407</th>\n      <td>제주특별자치도</td>\n      <td>성북구</td>\n      <td>295866</td>\n      <td>129263.0</td>\n      <td>57584.0</td>\n      <td>66518.0</td>\n    </tr>\n    <tr>\n      <th>408</th>\n      <td>제주특별자치도</td>\n      <td>강북구</td>\n      <td>210614</td>\n      <td>89645.0</td>\n      <td>42268.0</td>\n      <td>51669.0</td>\n    </tr>\n    <tr>\n      <th>409</th>\n      <td>제주특별자치도</td>\n      <td>도봉구</td>\n      <td>229233</td>\n      <td>94898.0</td>\n      <td>47461.0</td>\n      <td>55600.0</td>\n    </tr>\n    <tr>\n      <th>410</th>\n      <td>제주특별자치도</td>\n      <td>노원구</td>\n      <td>374213</td>\n      <td>158167.0</td>\n      <td>67590.0</td>\n      <td>96325.0</td>\n    </tr>\n    <tr>\n      <th>411</th>\n      <td>제주특별자치도</td>\n      <td>은평구</td>\n      <td>317275</td>\n      <td>140180.0</td>\n      <td>60109.0</td>\n      <td>72582.0</td>\n    </tr>\n    <tr>\n      <th>412</th>\n      <td>제주특별자치도</td>\n      <td>서대문구</td>\n      <td>212076</td>\n      <td>93768.0</td>\n      <td>40513.0</td>\n      <td>46237.0</td>\n    </tr>\n    <tr>\n      <th>413</th>\n      <td>제주특별자치도</td>\n      <td>마포구</td>\n      <td>256992</td>\n      <td>117336.0</td>\n      <td>46547.0</td>\n      <td>52545.0</td>\n    </tr>\n    <tr>\n      <th>414</th>\n      <td>제주특별자치도</td>\n      <td>양천구</td>\n      <td>310886</td>\n      <td>133853.0</td>\n      <td>60814.0</td>\n      <td>71816.0</td>\n    </tr>\n    <tr>\n      <th>415</th>\n      <td>제주특별자치도</td>\n      <td>강서구</td>\n      <td>397108</td>\n      <td>175882.0</td>\n      <td>76601.0</td>\n      <td>88128.0</td>\n    </tr>\n    <tr>\n      <th>416</th>\n      <td>제주특별자치도</td>\n      <td>구로구</td>\n      <td>278805</td>\n      <td>121077.0</td>\n      <td>59194.0</td>\n      <td>61734.0</td>\n    </tr>\n    <tr>\n      <th>417</th>\n      <td>제주특별자치도</td>\n      <td>금천구</td>\n      <td>155010</td>\n      <td>67423.0</td>\n      <td>31106.0</td>\n      <td>36695.0</td>\n    </tr>\n    <tr>\n      <th>418</th>\n      <td>제주특별자치도</td>\n      <td>영등포구</td>\n      <td>248833</td>\n      <td>105834.0</td>\n      <td>53615.0</td>\n      <td>53994.0</td>\n    </tr>\n    <tr>\n      <th>419</th>\n      <td>제주특별자치도</td>\n      <td>동작구</td>\n      <td>276685</td>\n      <td>121722.0</td>\n      <td>54431.0</td>\n      <td>60305.0</td>\n    </tr>\n    <tr>\n      <th>420</th>\n      <td>제주특별자치도</td>\n      <td>관악구</td>\n      <td>351240</td>\n      <td>159854.0</td>\n      <td>59914.0</td>\n      <td>79495.0</td>\n    </tr>\n    <tr>\n      <th>421</th>\n      <td>제주특별자치도</td>\n      <td>서초구</td>\n      <td>292916</td>\n      <td>106416.0</td>\n      <td>74891.0</td>\n      <td>63977.0</td>\n    </tr>\n    <tr>\n      <th>422</th>\n      <td>제주특별자치도</td>\n      <td>강남구</td>\n      <td>365642</td>\n      <td>128927.0</td>\n      <td>97639.0</td>\n      <td>80201.0</td>\n    </tr>\n    <tr>\n      <th>423</th>\n      <td>제주특별자치도</td>\n      <td>송파구</td>\n      <td>441198</td>\n      <td>177328.0</td>\n      <td>98549.0</td>\n      <td>99018.0</td>\n    </tr>\n    <tr>\n      <th>424</th>\n      <td>제주특별자치도</td>\n      <td>강동구</td>\n      <td>297476</td>\n      <td>122511.0</td>\n      <td>65893.0</td>\n      <td>67499.0</td>\n    </tr>\n  </tbody>\n</table>\n<p>425 rows × 6 columns</p>\n</div>"
     },
     "metadata": {},
     "execution_count": 46
    }
   ],
   "source": [
    "election_result = pd.DataFrame(election_result_raw, columns=['광역시도', '시군', 'pop', 'moon', 'hong', 'ahn'])\n",
    "election_result"
   ]
  },
  {
   "cell_type": "code",
   "execution_count": 47,
   "metadata": {},
   "outputs": [],
   "source": [
    "# 저장하기\n",
    "election_result.to_csv('../data/05. election_result.csv', sep=',')"
   ]
  },
  {
   "cell_type": "code",
   "execution_count": 48,
   "metadata": {},
   "outputs": [],
   "source": [
    "driver.close()"
   ]
  },
  {
   "cell_type": "markdown",
   "metadata": {},
   "source": [
    "## 3. 각 후보의 득표율과 지역 ID 정리하기"
   ]
  },
  {
   "cell_type": "code",
   "execution_count": null,
   "metadata": {},
   "outputs": [],
   "source": []
  },
  {
   "cell_type": "code",
   "execution_count": null,
   "metadata": {},
   "outputs": [],
   "source": []
  },
  {
   "cell_type": "code",
   "execution_count": null,
   "metadata": {},
   "outputs": [],
   "source": []
  },
  {
   "cell_type": "code",
   "execution_count": null,
   "metadata": {},
   "outputs": [],
   "source": []
  },
  {
   "cell_type": "code",
   "execution_count": null,
   "metadata": {},
   "outputs": [],
   "source": []
  },
  {
   "cell_type": "code",
   "execution_count": null,
   "metadata": {},
   "outputs": [],
   "source": []
  },
  {
   "cell_type": "code",
   "execution_count": null,
   "metadata": {},
   "outputs": [],
   "source": []
  },
  {
   "cell_type": "code",
   "execution_count": null,
   "metadata": {},
   "outputs": [],
   "source": []
  },
  {
   "cell_type": "code",
   "execution_count": null,
   "metadata": {},
   "outputs": [],
   "source": []
  },
  {
   "cell_type": "code",
   "execution_count": null,
   "metadata": {},
   "outputs": [],
   "source": []
  },
  {
   "cell_type": "code",
   "execution_count": null,
   "metadata": {},
   "outputs": [],
   "source": []
  }
 ]
}